{
 "cells": [
  {
   "cell_type": "code",
   "execution_count": null,
   "metadata": {},
   "outputs": [],
   "source": [
    "import os\n",
    "import numpy as np\n",
    "import seaborn as sns \n",
    "import matplotlib.pyplot as plt\n",
    "import pandas as pd\n",
    "import missingno as msno\n",
    "import sys\n",
    "curPath = os.path.abspath(os.path.dirname('__file__'))\n",
    "rootPath = os.path.split(curPath)[0]\n",
    "sys.path.append(os.path.split(rootPath)[0])\n",
    "# plt.rcParams['font.sans-serif'] = ['SimHei']  # 用来正常显示中文标签\n",
    "plt.rcParams['font.sans-serif'] = ['Arial Unicode MS'] # Mac下使用\n",
    "plt.rcParams['axes.unicode_minus'] = False  # 用来正常显示负号\n",
    "\n",
    "\n",
    "from loans_drop.config.path import data_path\n",
    "from loans_drop.config.feature import *\n",
    "from loans_drop.data_cleaning.decode_field import cat_replace\n",
    "from loans_drop.config.feature import continues_columns, category_columns\n",
    "\n",
    "sys.path"
   ]
  },
  {
   "cell_type": "code",
   "execution_count": null,
   "metadata": {
    "scrolled": true
   },
   "outputs": [],
   "source": [
    "df = pd.read_csv(data_path + 'total_data20190711.csv',encoding = 'utf-8')\n",
    "business_df = pd.read_csv(data_path + 'business_df.csv',encoding = 'utf-8')\n",
    "employee_df = pd.read_csv(data_path + 'employee_df.csv',encoding = 'utf-8')\n",
    "print(df.shape)\n",
    "print(df.info())\n",
    "df.head()"
   ]
  },
  {
   "cell_type": "code",
   "execution_count": null,
   "metadata": {},
   "outputs": [],
   "source": []
  },
  {
   "cell_type": "code",
   "execution_count": null,
   "metadata": {},
   "outputs": [],
   "source": [
    "\n"
   ]
  },
  {
   "cell_type": "code",
   "execution_count": null,
   "metadata": {},
   "outputs": [],
   "source": []
  },
  {
   "cell_type": "code",
   "execution_count": null,
   "metadata": {},
   "outputs": [],
   "source": []
  },
  {
   "cell_type": "code",
   "execution_count": null,
   "metadata": {},
   "outputs": [],
   "source": []
  },
  {
   "cell_type": "code",
   "execution_count": null,
   "metadata": {},
   "outputs": [],
   "source": []
  },
  {
   "cell_type": "code",
   "execution_count": null,
   "metadata": {},
   "outputs": [],
   "source": []
  },
  {
   "cell_type": "code",
   "execution_count": null,
   "metadata": {},
   "outputs": [],
   "source": [
    "ss = df.isnull().sum() / len(df)\n",
    "for i in range(len(ss)):   \n",
    "    \n",
    "    if ss[i] > 0.5:\n",
    "        print(ss.index[i],ss[i])"
   ]
  },
  {
   "cell_type": "code",
   "execution_count": null,
   "metadata": {
    "scrolled": true
   },
   "outputs": [],
   "source": [
    "def get_label(x):\n",
    "    if x >= 0:\n",
    "        return 1\n",
    "    else:\n",
    "        return 0\n",
    "    \n",
    "df['label']= df['product_amount'].apply(lambda x: get_label(x))\n",
    "print(df.shape)\n",
    "print(df.info())\n",
    "print(df['label'].value_counts())\n",
    "df.head()"
   ]
  },
  {
   "cell_type": "code",
   "execution_count": null,
   "metadata": {
    "scrolled": true
   },
   "outputs": [],
   "source": [
    "df['key'] = df['login_name'].map(str) + 'map' + df['customer_id'].map(str)\n",
    "df['key'].value_counts()"
   ]
  },
  {
   "cell_type": "code",
   "execution_count": null,
   "metadata": {},
   "outputs": [],
   "source": [
    "df = cat_replace(df)"
   ]
  },
  {
   "cell_type": "code",
   "execution_count": null,
   "metadata": {},
   "outputs": [],
   "source": [
    "print(df.shape)\n",
    "df['post'].value_counts()"
   ]
  },
  {
   "cell_type": "code",
   "execution_count": null,
   "metadata": {
    "scrolled": true
   },
   "outputs": [],
   "source": [
    "\n",
    "df = df[list(set(continues_columns+category_columns+['login_name','customer_id','label']))]\n",
    "print(df.shape)\n",
    "print(df.info())\n",
    "print(df['label'].value_counts())\n",
    "df.head()"
   ]
  },
  {
   "cell_type": "code",
   "execution_count": null,
   "metadata": {},
   "outputs": [],
   "source": [
    "for name in category_columns:\n",
    "    if name in df.columns:\n",
    "        print(name)\n",
    "        print(df[name].value_counts())\n",
    "        print()"
   ]
  },
  {
   "cell_type": "code",
   "execution_count": null,
   "metadata": {},
   "outputs": [],
   "source": [
    "describe = df['signBillRate'].describe()\n",
    "print(describe)\n",
    "print(describe[4], describe[6])"
   ]
  },
  {
   "cell_type": "code",
   "execution_count": null,
   "metadata": {},
   "outputs": [],
   "source": [
    "# 离散型变量,如果某一取值的数量超过了95%，则舍弃该变量\n",
    "remove = set()\n",
    "print('处理类别型变量')\n",
    "for name in category_columns:\n",
    "    counts = df[name].value_counts()\n",
    "    num = sum(counts)\n",
    "    for v in counts:\n",
    "        if v/num>=0.80:\n",
    "#             print(k)\n",
    "#             print(counts)\n",
    "            remove.add(name)\n",
    "    \n",
    "    \n",
    "print('处理连续型变量')\n",
    "for name in continues_columns:\n",
    "    describe = df[name].describe()\n",
    "    print(name, describe)\n",
    "    print()\n",
    "    if describe[4]==describe[6]:\n",
    "        remove.add(name)\n",
    "#         print(k,describe[4],describe[6])\n",
    "\n",
    "ss = df.isnull().sum() / len(df)\n",
    "for i in range(len(ss)):   \n",
    "    print(ss.index[i],ss[i])\n",
    "    if ss[i] > 0.5:\n",
    "        remove.add(ss.index[i])\n",
    "\n",
    "remove = list(remove)\n",
    "df.drop(columns = remove, axis = 1, inplace=True)\n",
    "print(df.shape)\n",
    "df.head()"
   ]
  },
  {
   "cell_type": "markdown",
   "metadata": {},
   "source": [
    "# 商务聚类分析"
   ]
  },
  {
   "cell_type": "code",
   "execution_count": null,
   "metadata": {},
   "outputs": [],
   "source": [
    "sample = []\n",
    "for name in df.columns:\n",
    "    if name in employee_df.columns:\n",
    "        sample.append(name)\n",
    "        \n",
    "sample = employee_df[sample]\n",
    "sample.drop(columns=['login_name'],inplace=True)\n",
    "sample.head()"
   ]
  },
  {
   "cell_type": "code",
   "execution_count": null,
   "metadata": {},
   "outputs": [],
   "source": [
    "for name in sample.columns.values.tolist():\n",
    "    if name in continues_columns:\n",
    "        sample[name].fillna(sample[name].median(), inplace=True)\n",
    "        sns.distplot(sample[name])\n",
    "    else:\n",
    "        sample[name].fillna(sample[name].mode()[0], inplace=True)\n",
    "        sns.distplot(sample[name])\n",
    "    \n",
    "        \n",
    "print(sample['sex'].value_counts())\n"
   ]
  },
  {
   "cell_type": "code",
   "execution_count": null,
   "metadata": {},
   "outputs": [],
   "source": [
    "def encode_category_feature(dataframe):\n",
    "    for name in category_columns:\n",
    "        if name not in dataframe.columns:\n",
    "            continue\n",
    "        if name == 'label':\n",
    "            print('不能把label当做特征进行编码')\n",
    "            continue \n",
    "        print(name)\n",
    "        values = list(set(sample[name].value_counts().index.values))\n",
    "        value_map = {values[i]:i+1 for i in range(len(values))}\n",
    "        print(values)\n",
    "        print(value_map)\n",
    "        dataframe[name] = dataframe[name].map(value_map)\n",
    "        print(sample[name].value_counts())"
   ]
  },
  {
   "cell_type": "code",
   "execution_count": null,
   "metadata": {},
   "outputs": [],
   "source": [
    "encode_category_feature(sample)\n",
    "sample.head()"
   ]
  },
  {
   "cell_type": "code",
   "execution_count": null,
   "metadata": {
    "scrolled": true
   },
   "outputs": [],
   "source": [
    "import numpy as np  # 数据结构\n",
    "import sklearn.cluster as skc  # 密度聚类\n",
    "from sklearn import metrics   # 评估模型\n",
    "import matplotlib.pyplot as plt  # 可视化绘图\n",
    "\n",
    "data=[\n",
    "    [-2.68420713,1.469732895],[-2.71539062,-0.763005825],[-2.88981954,-0.618055245],[-2.7464372,-1.40005944],[-2.72859298,1.50266052],\n",
    "    [-2.27989736,3.365022195],[-2.82089068,-0.369470295],[-2.62648199,0.766824075],[-2.88795857,-2.568591135],[-2.67384469,-0.48011265],\n",
    "    [-2.50652679,2.933707545],[-2.61314272,0.096842835],[-2.78743398,-1.024830855],[-3.22520045,-2.264759595],[-2.64354322,5.33787705],\n",
    "    [-2.38386932,6.05139453],[-2.6225262,3.681403515],[-2.64832273,1.436115015],[-2.19907796,3.956598405],[-2.58734619,2.34213138],\n",
    "    [1.28479459,3.084476355],[0.93241075,1.436391405],[1.46406132,2.268854235],[0.18096721,-3.71521773],[1.08713449,0.339256755],\n",
    "    [0.64043675,-1.87795566],[1.09522371,1.277510445],[-0.75146714,-4.504983795],[1.04329778,1.030306095],[-0.01019007,-3.242586915],\n",
    "    [-0.5110862,-5.681213775],[0.51109806,-0.460278495],[0.26233576,-2.46551985],[0.98404455,-0.55962189],[-0.174864,-1.133170065],\n",
    "    [0.92757294,2.107062945],[0.65959279,-1.583893305],[0.23454059,-1.493648235],[0.94236171,-2.43820017],[0.0432464,-2.616702525],\n",
    "    [4.53172698,-0.05329008],[3.41407223,-2.58716277],[4.61648461,1.538708805],[3.97081495,-0.815065605],[4.34975798,-0.188471475],\n",
    "    [5.39687992,2.462256225],[2.51938325,-5.361082605],[4.9320051,1.585696545],[4.31967279,-1.104966765],[4.91813423,3.511712835],\n",
    "    [3.66193495,1.0891728],[3.80234045,-0.972695745],[4.16537886,0.96876126],[3.34459422,-3.493869435],[3.5852673,-2.426881725],\n",
    "    [3.90474358,0.534685455],[3.94924878,0.18328617],[5.48876538,5.27195043],[5.79468686,1.139695065],[3.29832982,-3.42456273]\n",
    "]\n",
    "# sample=sample[['sex', 'work_age', 'toDoorRate']]\n",
    "data=sample.values\n",
    "X = np.array(data)\n",
    "X"
   ]
  },
  {
   "cell_type": "code",
   "execution_count": null,
   "metadata": {},
   "outputs": [],
   "source": [
    "db = skc.DBSCAN(eps=1.5, min_samples=3).fit(X) #DBSCAN聚类方法 还有参数，matric = \"\"距离计算方法\n",
    "labels = db.labels_  #和X同一个维度，labels对应索引序号的值 为她所在簇的序号。若簇编号为-1，表示为噪声\n",
    "\n",
    "print('每个样本的簇标号:')\n",
    "print(labels)\n",
    "\n",
    "raito = len(labels[labels[:] == -1]) / len(labels)  #计算噪声点个数占总数的比例\n",
    "print('噪声比:', format(raito, '.2%'))\n",
    "\n",
    "n_clusters_ = len(set(labels)) - (1 if -1 in labels else 0)  # 获取分簇的数目\n",
    "\n",
    "print('分簇的数目: %d' % n_clusters_)\n",
    "print(\"轮廓系数: %0.3f\" % metrics.silhouette_score(X, labels)) #轮廓系数评价聚类的好坏"
   ]
  },
  {
   "cell_type": "code",
   "execution_count": null,
   "metadata": {
    "scrolled": true
   },
   "outputs": [],
   "source": [
    "for i in range(n_clusters_):\n",
    "    print('簇 ', i, '的所有样本:')\n",
    "    one_cluster = X[labels == i]\n",
    "    print(one_cluster)\n",
    "    plt.plot(one_cluster[:,0],one_cluster[:,1],'o')\n",
    "\n",
    "plt.show()"
   ]
  },
  {
   "cell_type": "code",
   "execution_count": null,
   "metadata": {},
   "outputs": [],
   "source": [
    "import missingno as msno\n",
    "msno.matrix(df, labels=True)"
   ]
  },
  {
   "cell_type": "code",
   "execution_count": null,
   "metadata": {},
   "outputs": [],
   "source": [
    "from dgg_recommend_push.feature_engineering.feature_select import *\n",
    "coloumns = missing_ratio(df, rate=50)\n",
    "df = df[coloumns]\n",
    "print(df.shape)\n",
    "df.head()"
   ]
  },
  {
   "cell_type": "code",
   "execution_count": null,
   "metadata": {},
   "outputs": [],
   "source": [
    "ax = sns.heatmap(df[['label', 'sex']].values)"
   ]
  },
  {
   "cell_type": "code",
   "execution_count": null,
   "metadata": {},
   "outputs": [],
   "source": [
    "def draw_value_counts(ylabel='label'):\n",
    "    MIDSIZE = (8, 4)\n",
    "    fig, ax = plt.subplots(figsize=MIDSIZE)\n",
    "    df[ylabel].value_counts(dropna=False, ascending=True).plot(kind='barh', ax=ax)\n",
    "    ax.set_ylabel(ylabel)\n",
    "    ax.set_xlabel(\"Counts\")\n",
    "    fig.tight_layout()\n",
    "    print()\n",
    "\n",
    "print(df['sex'].value_counts())\n",
    "print(df['label'].value_counts())\n",
    "draw_value_counts('label')"
   ]
  },
  {
   "cell_type": "code",
   "execution_count": null,
   "metadata": {},
   "outputs": [],
   "source": [
    "# https://www.cnblogs.com/hgz-dm/p/10886309.html\n",
    "for name in category_columns:\n",
    "    if name in df.columns and name != 'sex':\n",
    "        print(name)\n",
    "        sns.catplot(x=\"sex\", y=\"label\", errcolor='red', hue=name, kind=\"bar\", data=df);"
   ]
  },
  {
   "cell_type": "code",
   "execution_count": null,
   "metadata": {},
   "outputs": [],
   "source": [
    "for name in category_columns:\n",
    "    if name in df.columns and name != 'sex':\n",
    "        print('=========特征名字：', name, '=============')\n",
    "        sample = df[[name,'label']]\n",
    "        ss = sample[name].value_counts()\n",
    "        draw_value_counts(name)\n",
    "        print(ss)\n",
    "        for i in range(len(ss)):   \n",
    "            print(ss.index[i])\n",
    "            sample2 = sample.loc[sample[name]==ss.index[i]]\n",
    "            print(sample2.label.value_counts())\n",
    "            \n",
    "            print()"
   ]
  },
  {
   "cell_type": "code",
   "execution_count": null,
   "metadata": {},
   "outputs": [],
   "source": [
    "for name in df.columns.values.tolist():\n",
    "    if name in continues_columns:\n",
    "        df[name].fillna(df[name].median(), inplace=True)\n",
    "    else:\n",
    "        df[name].fillna(df[name].mode()[0], inplace=True)\n",
    "msno.matrix(df, labels=True)"
   ]
  },
  {
   "cell_type": "markdown",
   "metadata": {},
   "source": [
    "# 贡献度分析--帕累托分析"
   ]
  },
  {
   "cell_type": "code",
   "execution_count": null,
   "metadata": {},
   "outputs": [],
   "source": [
    "for name in continues_columns:\n",
    "    if name in employee_df.columns:\n",
    "        print(name)\n",
    "        \n",
    "performance_amount = employee_df.groupby(['average_performance_amount']).agg({'avgWorkHour':np.mean}).reset_index()\n",
    "print(performance_amount.shape)\n",
    "performance_amount.head()"
   ]
  },
  {
   "cell_type": "code",
   "execution_count": null,
   "metadata": {},
   "outputs": [],
   "source": []
  },
  {
   "cell_type": "code",
   "execution_count": null,
   "metadata": {},
   "outputs": [],
   "source": [
    "performance_amount.set_index('avgWorkHour',inplace=True)\n",
    "performance_amount = performance_amount[u'average_performance_amount'].copy()\n",
    "performance_amount.sort_values(ascending=False,inplace=True)\n",
    "\n",
    "plt.figure(figsize=(90,45))\n",
    "performance_amount.plot(kind='bar')\n",
    "plt.ylabel(u'业绩（元）')\n",
    "# https://blog.csdn.net/qq_22238533/article/details/72900634\n",
    "p = 1.0 * performance_amount.cumsum() / performance_amount.sum()\n",
    "print(type(p))\n",
    "print('===============计算P==================')\n",
    "print(p)\n",
    "# print(p[:20])\n",
    "p.plot(color='r', secondary_y=True, style='-o', linewidth=2)\n",
    "# https://blog.csdn.net/TeFuirnever/article/details/88946088\n",
    "plt.annotate(format(p[6], '.4%'), xy=(6, p[6]), xytext=(6 * 0.9, p[6] * 0.9), arrowprops=dict(\n",
    "    arrowstyle=\"->\", connectionstyle=\"arc3,rad=.2\"))  # 添加注释，即85%处的标记。这里包括了指定箭头样式。\n",
    "plt.ylabel(u'业绩（比例）')\n",
    "plt.show()"
   ]
  },
  {
   "cell_type": "code",
   "execution_count": null,
   "metadata": {},
   "outputs": [],
   "source": []
  },
  {
   "cell_type": "code",
   "execution_count": null,
   "metadata": {},
   "outputs": [],
   "source": []
  },
  {
   "cell_type": "code",
   "execution_count": null,
   "metadata": {},
   "outputs": [],
   "source": []
  },
  {
   "cell_type": "markdown",
   "metadata": {},
   "source": [
    "# 单变量分析 "
   ]
  },
  {
   "cell_type": "code",
   "execution_count": null,
   "metadata": {},
   "outputs": [],
   "source": [
    "for name in df.columns:\n",
    "    print(name)\n",
    "    sns.distplot(df[name])\n",
    "# sns.distplot(df.work_age,kde=False)"
   ]
  },
  {
   "cell_type": "code",
   "execution_count": null,
   "metadata": {},
   "outputs": [],
   "source": [
    "print(business_df.shape)\n",
    "business_df.dropna(inplace=True)\n",
    "print(business_df.shape)\n",
    "for name in business_df.columns:\n",
    "    MIDSIZE = (12, 8)\n",
    "    fig, ax = plt.subplots(figsize=MIDSIZE)\n",
    "    df[name].value_counts(dropna=False, ascending=True).plot(kind='barh', ax=ax)\n",
    "    ax.set_ylabel(name)\n",
    "    ax.set_xlabel(\"Counts\")\n",
    "    fig.tight_layout()"
   ]
  },
  {
   "cell_type": "code",
   "execution_count": null,
   "metadata": {},
   "outputs": [],
   "source": [
    "sns.catplot(y=\"remarkType\", hue=\"label\", kind=\"count\",\n",
    "            palette=\"pastel\", edgecolor=\".6\",\n",
    "            data=df);"
   ]
  },
  {
   "cell_type": "markdown",
   "metadata": {},
   "source": [
    "# 业务角度制作新特征、合并旧特征"
   ]
  },
  {
   "cell_type": "code",
   "execution_count": null,
   "metadata": {},
   "outputs": [],
   "source": [
    "# move_label = ['剔除审核超时掉库','离职移交超时掉库','移交超时跟进掉库','返无效驳回超期跟进掉库']\n",
    "# non_follow = ['未连跟掉库','未首电掉库','电销签单未跟掉库']\n",
    "# over_time = ['抢单超时掉库','指定天数未签单掉库','电销超时分配掉库','部门分配超时掉库']\n",
    "\n",
    "# df.loc[df['label'].isin(move_label),'new_label'] = 'move_label'\n",
    "# df.loc[df['label'].isin(non_follow),'new_label'] = 'non_follow'\n",
    "# df.loc[df['label'].isin(non_follow),'new_label'] = 'over_time'"
   ]
  },
  {
   "cell_type": "markdown",
   "metadata": {},
   "source": [
    "# 多变量之间的关系"
   ]
  },
  {
   "cell_type": "code",
   "execution_count": null,
   "metadata": {},
   "outputs": [],
   "source": []
  },
  {
   "cell_type": "code",
   "execution_count": null,
   "metadata": {},
   "outputs": [],
   "source": []
  },
  {
   "cell_type": "markdown",
   "metadata": {},
   "source": [
    "# 查看两变量之间的关系"
   ]
  },
  {
   "cell_type": "code",
   "execution_count": null,
   "metadata": {},
   "outputs": [],
   "source": [
    "sample = []\n",
    "for name in continues_columns:\n",
    "    if name in df.columns:\n",
    "        sample.append(name)\n",
    "        print(name)\n",
    "        print(df.corr()[name])\n",
    "\n",
    "df[sample].corr(method='pearson')"
   ]
  },
  {
   "cell_type": "code",
   "execution_count": null,
   "metadata": {
    "scrolled": true
   },
   "outputs": [],
   "source": [
    "print(df[u'近三个月平均收入'].corr(df[u'每月日均意向客户数']))\n"
   ]
  },
  {
   "cell_type": "code",
   "execution_count": null,
   "metadata": {},
   "outputs": [],
   "source": [
    "print(df.columns.tolist())"
   ]
  },
  {
   "cell_type": "code",
   "execution_count": null,
   "metadata": {},
   "outputs": [],
   "source": [
    "fig, ax = plt.subplots(figsize=MIDSIZE)\n",
    "sns.regplot('操行分','芝麻信用分',data=df,ax=ax)\n",
    "ax.set_ylabel('芝麻信用分')\n",
    "ax.set_xlabel('操行分')\n",
    "fig.tight_layout()"
   ]
  },
  {
   "cell_type": "markdown",
   "metadata": {},
   "source": [
    "# 连续值离散化"
   ]
  },
  {
   "cell_type": "code",
   "execution_count": null,
   "metadata": {},
   "outputs": [],
   "source": [
    "score_categories = ['vlow_score','low_score','mid_score','high_score','vhigh_score']\n",
    "# .qcut切分成len(score_categories)等份  自动计算区间\n",
    "df['score_company'] = pd.qcut(df['操行分'],len(score_categories),score_categories)\n",
    "df.head()"
   ]
  },
  {
   "cell_type": "markdown",
   "metadata": {},
   "source": [
    "# 数据简报"
   ]
  },
  {
   "cell_type": "code",
   "execution_count": null,
   "metadata": {
    "scrolled": false
   },
   "outputs": [],
   "source": [
    "import pandas_profiling\n",
    "import warnings\n",
    "warnings.filterwarnings('ignore')\n",
    "sns.set_context(\"poster\", font_scale=1.3)\n",
    "\n",
    "pandas_profiling.ProfileReport(df)"
   ]
  },
  {
   "cell_type": "code",
   "execution_count": null,
   "metadata": {
    "scrolled": true
   },
   "outputs": [],
   "source": [
    "# 记录时间有多久了\n",
    "df['create_time'] = pd.to_datetime(df.create_time, format='%Y-%m-%d')\n",
    "df['days_ago'] = ((pd.to_datetime(\"2019-04-15\") - df['create_time']).dt.days)#/365.25\n",
    "df['days_ago']"
   ]
  },
  {
   "cell_type": "code",
   "execution_count": null,
   "metadata": {},
   "outputs": [],
   "source": []
  }
 ],
 "metadata": {
  "kernelspec": {
   "display_name": "Python 3",
   "language": "python",
   "name": "python3"
  },
  "language_info": {
   "codemirror_mode": {
    "name": "ipython",
    "version": 3
   },
   "file_extension": ".py",
   "mimetype": "text/x-python",
   "name": "python",
   "nbconvert_exporter": "python",
   "pygments_lexer": "ipython3",
   "version": "3.6.8"
  },
  "toc": {
   "base_numbering": 1,
   "nav_menu": {},
   "number_sections": true,
   "sideBar": true,
   "skip_h1_title": false,
   "title_cell": "Table of Contents",
   "title_sidebar": "Contents",
   "toc_cell": false,
   "toc_position": {
    "height": "calc(100% - 180px)",
    "left": "10px",
    "top": "150px",
    "width": "384px"
   },
   "toc_section_display": true,
   "toc_window_display": true
  }
 },
 "nbformat": 4,
 "nbformat_minor": 2
}
