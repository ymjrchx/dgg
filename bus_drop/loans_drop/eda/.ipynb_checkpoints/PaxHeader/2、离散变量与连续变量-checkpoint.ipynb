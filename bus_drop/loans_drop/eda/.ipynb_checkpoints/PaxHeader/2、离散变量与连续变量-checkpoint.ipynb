91 path=loans_drop/eda/.ipynb_checkpoints/2、离散变量与连续变量-checkpoint.ipynb
20 ctime=1564113254
20 atime=1564113320
23 SCHILY.dev=16777221
23 SCHILY.ino=11854253
18 SCHILY.nlink=1
