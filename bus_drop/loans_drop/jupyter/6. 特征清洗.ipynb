{
 "cells": [
  {
   "cell_type": "code",
   "execution_count": 1,
   "metadata": {
    "ExecuteTime": {
     "end_time": "2019-05-05T01:45:32.177102Z",
     "start_time": "2019-05-05T01:45:31.950936Z"
    }
   },
   "outputs": [],
   "source": [
    "import pandas as pd\n",
    "import numpy as np"
   ]
  },
  {
   "cell_type": "code",
   "execution_count": 2,
   "metadata": {
    "ExecuteTime": {
     "end_time": "2019-05-05T02:56:33.667494Z",
     "start_time": "2019-05-05T02:56:33.523505Z"
    }
   },
   "outputs": [
    {
     "data": {
      "text/html": [
       "<div>\n",
       "<style scoped>\n",
       "    .dataframe tbody tr th:only-of-type {\n",
       "        vertical-align: middle;\n",
       "    }\n",
       "\n",
       "    .dataframe tbody tr th {\n",
       "        vertical-align: top;\n",
       "    }\n",
       "\n",
       "    .dataframe thead th {\n",
       "        text-align: right;\n",
       "    }\n",
       "</style>\n",
       "<table border=\"1\" class=\"dataframe\">\n",
       "  <thead>\n",
       "    <tr style=\"text-align: right;\">\n",
       "      <th></th>\n",
       "      <th>年龄</th>\n",
       "      <th>收入</th>\n",
       "      <th>孩子数量</th>\n",
       "      <th>是否违约</th>\n",
       "    </tr>\n",
       "  </thead>\n",
       "  <tbody>\n",
       "    <tr>\n",
       "      <th>0</th>\n",
       "      <td>46</td>\n",
       "      <td>0</td>\n",
       "      <td>0</td>\n",
       "      <td>0</td>\n",
       "    </tr>\n",
       "    <tr>\n",
       "      <th>1</th>\n",
       "      <td>34</td>\n",
       "      <td>3200</td>\n",
       "      <td>4</td>\n",
       "      <td>1</td>\n",
       "    </tr>\n",
       "    <tr>\n",
       "      <th>2</th>\n",
       "      <td>31</td>\n",
       "      <td>3300</td>\n",
       "      <td>3</td>\n",
       "      <td>1</td>\n",
       "    </tr>\n",
       "    <tr>\n",
       "      <th>3</th>\n",
       "      <td>39</td>\n",
       "      <td>1500</td>\n",
       "      <td>0</td>\n",
       "      <td>1</td>\n",
       "    </tr>\n",
       "    <tr>\n",
       "      <th>4</th>\n",
       "      <td>32</td>\n",
       "      <td>0</td>\n",
       "      <td>3</td>\n",
       "      <td>0</td>\n",
       "    </tr>\n",
       "  </tbody>\n",
       "</table>\n",
       "</div>"
      ],
      "text/plain": [
       "   年龄    收入  孩子数量  是否违约\n",
       "0  46     0     0     0\n",
       "1  34  3200     4     1\n",
       "2  31  3300     3     1\n",
       "3  39  1500     0     1\n",
       "4  32     0     3     0"
      ]
     },
     "execution_count": 2,
     "metadata": {},
     "output_type": "execute_result"
    }
   ],
   "source": [
    "import pandas as pd\n",
    "import numpy as np\n",
    "data = pd.read_excel(\"./bin_data.xlsx\")\n",
    "data.head()"
   ]
  },
  {
   "cell_type": "markdown",
   "metadata": {},
   "source": [
    "# 1. 变量初步筛选"
   ]
  },
  {
   "cell_type": "markdown",
   "metadata": {},
   "source": [
    "## 1.1 阈值筛选"
   ]
  },
  {
   "cell_type": "code",
   "execution_count": 18,
   "metadata": {
    "ExecuteTime": {
     "end_time": "2019-05-05T03:47:36.126508Z",
     "start_time": "2019-05-05T03:47:36.121196Z"
    }
   },
   "outputs": [],
   "source": [
    "def select_features(data,ratio_threshold):\n",
    "    \"\"\"函数作用：类似变量的方差筛选，可以与方差筛选结合使用\n",
    "    输入：\n",
    "    1. data,带筛选的数据框\n",
    "    2. ratio_threshold，设置的筛选变量的阈值\n",
    "    输出：\n",
    "    1. data,筛选后的数据框\n",
    "    2. homo_data，每个变量的最多取值比例\"\"\"\n",
    "    var_list = []\n",
    "    ratio_list = []\n",
    "    value_list =[]\n",
    "    for var in list(data.columns):\n",
    "        primaryvalue_ratio = round(data[var].value_counts().max()/len(data),2)  #变量取值最多的值所占样本数比例\n",
    "        primaryvalue = list(data[var].value_counts().index)[0]  #取值最多的值\n",
    "        var_list.append(var)\n",
    "        ratio_list.append(primaryvalue_ratio)\n",
    "        value_list.append(primaryvalue)\n",
    "\n",
    "    homo_data = pd.concat([pd.Series(var_list),pd.Series(ratio_list),pd.Series(value_list)],axis=1,\n",
    "                      keys=[\"var_list\",\"ratio_list\",\"value_list\"])\n",
    "    homo_drop_list = list(homo_data[homo_data[\"ratio_list\"] > ratio_threshold][\"var_list\"])\n",
    "    data = data.drop(homo_drop_list,axis = 1)\n",
    "    print(\"根据阈值【%.2f】删除的变量为 %s\" %(ratio_threshold,homo_drop_list))\n",
    "    return homo_data,data"
   ]
  },
  {
   "cell_type": "code",
   "execution_count": 20,
   "metadata": {
    "ExecuteTime": {
     "end_time": "2019-05-05T03:48:17.087360Z",
     "start_time": "2019-05-05T03:48:17.073119Z"
    }
   },
   "outputs": [
    {
     "name": "stdout",
     "output_type": "stream",
     "text": [
      "根据阈值【0.50】删除的变量为 ['孩子数量']\n"
     ]
    }
   ],
   "source": [
    "homo_data = select_features(data,0.5)"
   ]
  },
  {
   "cell_type": "markdown",
   "metadata": {},
   "source": [
    "## 1.2 相关性筛选\n",
    "1. "
   ]
  },
  {
   "cell_type": "code",
   "execution_count": 21,
   "metadata": {
    "ExecuteTime": {
     "end_time": "2019-05-05T05:58:30.972397Z",
     "start_time": "2019-05-05T05:58:30.969692Z"
    }
   },
   "outputs": [
    {
     "ename": "SyntaxError",
     "evalue": "unexpected EOF while parsing (<ipython-input-21-96f189c70884>, line 1)",
     "output_type": "error",
     "traceback": [
      "\u001b[0;36m  File \u001b[0;32m\"<ipython-input-21-96f189c70884>\"\u001b[0;36m, line \u001b[0;32m1\u001b[0m\n\u001b[0;31m    def var_rlelvance(data):\u001b[0m\n\u001b[0m                            ^\u001b[0m\n\u001b[0;31mSyntaxError\u001b[0m\u001b[0;31m:\u001b[0m unexpected EOF while parsing\n"
     ]
    }
   ],
   "source": [
    "def var_rlelvance(data):\n",
    "    from scipy.stats import pearsonr,spearmanr\n",
    "    "
   ]
  },
  {
   "cell_type": "code",
   "execution_count": 22,
   "metadata": {
    "ExecuteTime": {
     "end_time": "2019-05-05T06:01:16.006714Z",
     "start_time": "2019-05-05T06:01:15.994839Z"
    }
   },
   "outputs": [
    {
     "data": {
      "text/html": [
       "<div>\n",
       "<style scoped>\n",
       "    .dataframe tbody tr th:only-of-type {\n",
       "        vertical-align: middle;\n",
       "    }\n",
       "\n",
       "    .dataframe tbody tr th {\n",
       "        vertical-align: top;\n",
       "    }\n",
       "\n",
       "    .dataframe thead th {\n",
       "        text-align: right;\n",
       "    }\n",
       "</style>\n",
       "<table border=\"1\" class=\"dataframe\">\n",
       "  <thead>\n",
       "    <tr style=\"text-align: right;\">\n",
       "      <th></th>\n",
       "      <th>年龄</th>\n",
       "      <th>收入</th>\n",
       "      <th>孩子数量</th>\n",
       "      <th>是否违约</th>\n",
       "    </tr>\n",
       "  </thead>\n",
       "  <tbody>\n",
       "    <tr>\n",
       "      <th>年龄</th>\n",
       "      <td>1.000000</td>\n",
       "      <td>0.027921</td>\n",
       "      <td>0.106776</td>\n",
       "      <td>-0.275412</td>\n",
       "    </tr>\n",
       "    <tr>\n",
       "      <th>收入</th>\n",
       "      <td>0.027921</td>\n",
       "      <td>1.000000</td>\n",
       "      <td>0.104513</td>\n",
       "      <td>0.055821</td>\n",
       "    </tr>\n",
       "    <tr>\n",
       "      <th>孩子数量</th>\n",
       "      <td>0.106776</td>\n",
       "      <td>0.104513</td>\n",
       "      <td>1.000000</td>\n",
       "      <td>-0.078741</td>\n",
       "    </tr>\n",
       "    <tr>\n",
       "      <th>是否违约</th>\n",
       "      <td>-0.275412</td>\n",
       "      <td>0.055821</td>\n",
       "      <td>-0.078741</td>\n",
       "      <td>1.000000</td>\n",
       "    </tr>\n",
       "  </tbody>\n",
       "</table>\n",
       "</div>"
      ],
      "text/plain": [
       "            年龄        收入      孩子数量      是否违约\n",
       "年龄    1.000000  0.027921  0.106776 -0.275412\n",
       "收入    0.027921  1.000000  0.104513  0.055821\n",
       "孩子数量  0.106776  0.104513  1.000000 -0.078741\n",
       "是否违约 -0.275412  0.055821 -0.078741  1.000000"
      ]
     },
     "execution_count": 22,
     "metadata": {},
     "output_type": "execute_result"
    }
   ],
   "source": [
    "data.corr()"
   ]
  },
  {
   "cell_type": "markdown",
   "metadata": {},
   "source": [
    "# 2. 变量删除"
   ]
  },
  {
   "cell_type": "code",
   "execution_count": null,
   "metadata": {},
   "outputs": [],
   "source": [
    "def drop_features(data,method):\n",
    "    # 1. 删除缺失比例过高的变量\n",
    "    \n",
    "    # 2. 删除高度相关的变量\n",
    "    "
   ]
  }
 ],
 "metadata": {
  "kernelspec": {
   "display_name": "Python 3",
   "language": "python",
   "name": "python3"
  },
  "language_info": {
   "codemirror_mode": {
    "name": "ipython",
    "version": 3
   },
   "file_extension": ".py",
   "mimetype": "text/x-python",
   "name": "python",
   "nbconvert_exporter": "python",
   "pygments_lexer": "ipython3",
   "version": "3.6.8"
  },
  "toc": {
   "base_numbering": 1,
   "nav_menu": {},
   "number_sections": true,
   "sideBar": true,
   "skip_h1_title": false,
   "title_cell": "Table of Contents",
   "title_sidebar": "Contents",
   "toc_cell": false,
   "toc_position": {},
   "toc_section_display": true,
   "toc_window_display": false
  }
 },
 "nbformat": 4,
 "nbformat_minor": 2
}
