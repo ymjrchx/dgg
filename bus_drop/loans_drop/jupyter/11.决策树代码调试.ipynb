{
 "cells": [
  {
   "cell_type": "code",
   "execution_count": 1,
   "metadata": {
    "ExecuteTime": {
     "end_time": "2019-05-09T08:03:17.835281Z",
     "start_time": "2019-05-09T08:03:17.613694Z"
    }
   },
   "outputs": [],
   "source": [
    "import pandas as pd\n",
    "import numpy as np"
   ]
  },
  {
   "cell_type": "markdown",
   "metadata": {},
   "source": [
    "# 1.读取数据"
   ]
  },
  {
   "cell_type": "code",
   "execution_count": 2,
   "metadata": {
    "ExecuteTime": {
     "end_time": "2019-05-09T08:03:18.991136Z",
     "start_time": "2019-05-09T08:03:18.855520Z"
    }
   },
   "outputs": [
    {
     "data": {
      "text/html": [
       "<div>\n",
       "<style scoped>\n",
       "    .dataframe tbody tr th:only-of-type {\n",
       "        vertical-align: middle;\n",
       "    }\n",
       "\n",
       "    .dataframe tbody tr th {\n",
       "        vertical-align: top;\n",
       "    }\n",
       "\n",
       "    .dataframe thead th {\n",
       "        text-align: right;\n",
       "    }\n",
       "</style>\n",
       "<table border=\"1\" class=\"dataframe\">\n",
       "  <thead>\n",
       "    <tr style=\"text-align: right;\">\n",
       "      <th></th>\n",
       "      <th>年龄</th>\n",
       "      <th>收入</th>\n",
       "      <th>孩子数量</th>\n",
       "      <th>是否违约</th>\n",
       "    </tr>\n",
       "  </thead>\n",
       "  <tbody>\n",
       "    <tr>\n",
       "      <th>0</th>\n",
       "      <td>46</td>\n",
       "      <td>0</td>\n",
       "      <td>0</td>\n",
       "      <td>0</td>\n",
       "    </tr>\n",
       "    <tr>\n",
       "      <th>1</th>\n",
       "      <td>34</td>\n",
       "      <td>3200</td>\n",
       "      <td>4</td>\n",
       "      <td>1</td>\n",
       "    </tr>\n",
       "    <tr>\n",
       "      <th>2</th>\n",
       "      <td>31</td>\n",
       "      <td>3300</td>\n",
       "      <td>3</td>\n",
       "      <td>1</td>\n",
       "    </tr>\n",
       "    <tr>\n",
       "      <th>3</th>\n",
       "      <td>39</td>\n",
       "      <td>1500</td>\n",
       "      <td>0</td>\n",
       "      <td>1</td>\n",
       "    </tr>\n",
       "    <tr>\n",
       "      <th>4</th>\n",
       "      <td>32</td>\n",
       "      <td>0</td>\n",
       "      <td>3</td>\n",
       "      <td>0</td>\n",
       "    </tr>\n",
       "  </tbody>\n",
       "</table>\n",
       "</div>"
      ],
      "text/plain": [
       "   年龄    收入  孩子数量  是否违约\n",
       "0  46     0     0     0\n",
       "1  34  3200     4     1\n",
       "2  31  3300     3     1\n",
       "3  39  1500     0     1\n",
       "4  32     0     3     0"
      ]
     },
     "execution_count": 2,
     "metadata": {},
     "output_type": "execute_result"
    }
   ],
   "source": [
    "df = pd.read_excel(\"./bin_data.xlsx\")\n",
    "df.head()"
   ]
  },
  {
   "cell_type": "markdown",
   "metadata": {},
   "source": [
    "# 2.分割数据集"
   ]
  },
  {
   "cell_type": "code",
   "execution_count": 16,
   "metadata": {
    "ExecuteTime": {
     "end_time": "2019-05-09T01:15:18.194914Z",
     "start_time": "2019-05-09T01:15:18.191374Z"
    }
   },
   "outputs": [],
   "source": [
    "def split_data(dataframe,y_name,test_size):\n",
    "    from sklearn.model_selection import train_test_split\n",
    "    y = dataframe[y_name]\n",
    "    x = dataframe.drop(y_name,axis = 1)\n",
    "    x_train,x_test,y_train,y_test = train_test_split(x,y,test_size=test_size,random_state = 0)\n",
    "    return x_train,x_test,y_train,y_test"
   ]
  },
  {
   "cell_type": "code",
   "execution_count": 17,
   "metadata": {
    "ExecuteTime": {
     "end_time": "2019-05-09T01:15:18.964442Z",
     "start_time": "2019-05-09T01:15:18.957914Z"
    }
   },
   "outputs": [],
   "source": [
    "x_train,x_test,y_train,y_test = split_data(dataframe = df,y_name=\"是否违约\",test_size=0.3)"
   ]
  },
  {
   "cell_type": "markdown",
   "metadata": {},
   "source": [
    "# 3.构建决策树"
   ]
  },
  {
   "cell_type": "code",
   "execution_count": 31,
   "metadata": {
    "ExecuteTime": {
     "end_time": "2019-05-09T01:56:56.005491Z",
     "start_time": "2019-05-09T01:56:55.999223Z"
    }
   },
   "outputs": [
    {
     "data": {
      "text/plain": [
       "DecisionTreeClassifier(class_weight=None, criterion='gini', max_depth=None,\n",
       "            max_features=None, max_leaf_nodes=None,\n",
       "            min_impurity_decrease=0.0, min_impurity_split=None,\n",
       "            min_samples_leaf=1, min_samples_split=2,\n",
       "            min_weight_fraction_leaf=0.0, presort=False, random_state=None,\n",
       "            splitter='best')"
      ]
     },
     "execution_count": 31,
     "metadata": {},
     "output_type": "execute_result"
    }
   ],
   "source": [
    "from sklearn.tree import DecisionTreeClassifier\n",
    "dtc1 = DecisionTreeClassifier()\n",
    "dtc1.fit(np.array(x_train[\"年龄\"]).reshape((-1,1)),y_train)"
   ]
  },
  {
   "cell_type": "code",
   "execution_count": 32,
   "metadata": {
    "ExecuteTime": {
     "end_time": "2019-05-09T01:57:24.789096Z",
     "start_time": "2019-05-09T01:57:24.782516Z"
    }
   },
   "outputs": [
    {
     "data": {
      "text/plain": [
       "DecisionTreeClassifier(class_weight=None, criterion='gini', max_depth=None,\n",
       "            max_features=None, max_leaf_nodes=None,\n",
       "            min_impurity_decrease=0.0, min_impurity_split=None,\n",
       "            min_samples_leaf=1, min_samples_split=2,\n",
       "            min_weight_fraction_leaf=0.0, presort=False, random_state=None,\n",
       "            splitter='best')"
      ]
     },
     "execution_count": 32,
     "metadata": {},
     "output_type": "execute_result"
    }
   ],
   "source": [
    "dtc2 = DecisionTreeClassifier()\n",
    "dtc2.fit(x_train,y_train)"
   ]
  },
  {
   "cell_type": "code",
   "execution_count": 112,
   "metadata": {
    "ExecuteTime": {
     "end_time": "2019-05-09T06:56:04.370372Z",
     "start_time": "2019-05-09T06:56:04.366239Z"
    }
   },
   "outputs": [],
   "source": [
    "# dtc1.predict(np.array(x_train[\"年龄\"]).reshape((-1,1)))\n",
    "# dtc1.predict(np.array(x_test[\"年龄\"]).reshape((-1,1)))"
   ]
  },
  {
   "cell_type": "markdown",
   "metadata": {},
   "source": [
    "## 3.1决策树estimator的参数\n",
    "1. criterion: 子节点分裂用哪一种衡量标准，有“gini\"-->基尼系数；”entropy\"--->信息增益\n",
    "2. splitter: 每个节点处选择拆分的策略，有根据criterion得出的“best\"或者随机拆分”random\"---->一般不使用这个参数\n",
    "3. max_depth:树的最大深度。int/None,默认未进行设置---》**常用**\n",
    "4. min_samples_split:子节点分裂需要的最小样本数，默认等于2\n",
    "5. min_samples_leaf:叶子节点最少样本数,默认等于1---》**常用**\n",
    "6. min_weight_fraction_leaf:\n",
    "7. max_features:类似于随机森林的最大特征数量，默认等于总特征数-----》一般不使用这个参数\n",
    "8. random_state:默认等于None.比较每个特征时，特征排列顺序是随机的---》**必须确定**\n",
    "9. max_leaf_nodes:最大叶子节点数量\n",
    "10. min_inpurity_descrease:最小不纯度减少的值.如果分裂后的不纯度减少程度大于等于当前不纯度减少程度，则分裂。默认等于0，也就是有减少就分裂\n",
    "11. min_inpurity_split:当前子节点的不纯度大于阈值，就继续分裂。默认=1e-7\n",
    "12. class_weight:默认None，可选“balanced\"或自己给定\n",
    "> 1. 如果是二分类，如果不给，那么默认类别权重1:1\n",
    "> 2. 如果是多分类，那么不是写成 [{1:1}, {2:5}, {3:1}, {4:1}].而是多分类转成二分类， [{0: 1, 1: 1}, {0: 1, 1: 5}, {0: 1, 1: 1}, {0: 1, 1: 1}] \n",
    "> 3. ”balanced\"表示根据不同类别样本数量自动调整权重\n",
    "13. presort:是否对数据进行预排序，加快fit时最佳分割点的寻找。默认为False，改为True可提速"
   ]
  },
  {
   "cell_type": "markdown",
   "metadata": {},
   "source": [
    "## 3.2 决策树fit好的模型拥有的属性\n",
    "1. classes_: 模型预测的类的标签\n",
    "2. feature_importances_:对应列名给出每个特征的重要性值\n",
    "3. max_features_:fit模型用到的最大特征数，默认等于总特征数\n",
    "4. n_classes:预测的类别个数\n",
    "5. n_features:fit模型的总特征数\n",
    "6. tree_:树对象\n",
    "> 1. node_count:决策树的节点计数，内部+叶节点---等同于capacity\n",
    "> 2. "
   ]
  },
  {
   "cell_type": "markdown",
   "metadata": {},
   "source": [
    "## 3.3 决策树模型拥有的方法\n",
    "1.  estimator.apply(x_test)---返回每个样本被预测所在的叶子节点的节点索引\n",
    "2.  estimator.decision_path(x_test)---返回在决策树中的决策路径\n",
    "3.  estimator.fit()拟合数据\n",
    "4.  estimator.get_params()---返回决策树内部参数\n",
    "5.  estimator.predict()----预测数据集\n",
    "6.  estimator.predict_proba()----预测样本的概率\n",
    "7.  estimator.score()返回评价准确率\n",
    "8. estimator.set_params()----设置决策树内部参数"
   ]
  },
  {
   "cell_type": "code",
   "execution_count": 98,
   "metadata": {
    "ExecuteTime": {
     "end_time": "2019-05-09T03:42:34.561986Z",
     "start_time": "2019-05-09T03:42:34.557200Z"
    }
   },
   "outputs": [
    {
     "data": {
      "text/plain": [
       "DecisionTreeClassifier(class_weight=None, criterion='gini', max_depth=10,\n",
       "            max_features=None, max_leaf_nodes=None,\n",
       "            min_impurity_decrease=0.0, min_impurity_split=None,\n",
       "            min_samples_leaf=1, min_samples_split=2,\n",
       "            min_weight_fraction_leaf=0.0, presort=False, random_state=None,\n",
       "            splitter='best')"
      ]
     },
     "execution_count": 98,
     "metadata": {},
     "output_type": "execute_result"
    }
   ],
   "source": [
    "dtc1.set_params(max_depth = 10)\n",
    "dtc1.fit(np.array(x_train[\"年龄\"]).reshape((-1,1)),y_train)"
   ]
  },
  {
   "cell_type": "markdown",
   "metadata": {},
   "source": [
    "# 4.交叉验证"
   ]
  },
  {
   "cell_type": "code",
   "execution_count": 100,
   "metadata": {
    "ExecuteTime": {
     "end_time": "2019-05-09T05:54:15.779965Z",
     "start_time": "2019-05-09T05:54:15.777032Z"
    }
   },
   "outputs": [],
   "source": [
    "def cross_val(estimator,X,y,k,scoring):\n",
    "    \"\"\"进行交叉验证，得到交叉验证的分数\"\"\"\n",
    "    from sklearn.model_selection import cross_val_score\n",
    "    scores = cross_val_score(estimator=estimator,X=X,y=y,cv = k,scoring=scoring)\n",
    "    scores_mean = scores.mean()\n",
    "    return scores_mean"
   ]
  },
  {
   "cell_type": "markdown",
   "metadata": {},
   "source": [
    "# 5.网格搜索\n",
    "1. 设置参数\n",
    "> 1. estimator: 估计器对象，必须含有score函数\n",
    "> 2. param_grid：参数网格，以字典呈现要搜索的参数。key为参数名，value为该参数搜索的范围的列表\n",
    "> 3. scoring:结果评价标准\n",
    "> 4. cv:交叉验证次数\n",
    "> 5. n_jobs:并行数，默认为1，,1表示与cpu核数一致\n",
    "2. 网格搜索的属性方法\n",
    "> 1. grid.fit(train_x,trian_y)--->运行网格搜索\n",
    "> 2. grid.grid_scores_:给出所有参数下每种组合的分数\n",
    "> 3. grid.best_score_:给出最优评分\n",
    "> 4. grid.best_params_:给出最优评分下的参数组合"
   ]
  },
  {
   "cell_type": "code",
   "execution_count": 3,
   "metadata": {
    "ExecuteTime": {
     "end_time": "2019-05-09T08:04:38.749166Z",
     "start_time": "2019-05-09T08:04:38.745797Z"
    }
   },
   "outputs": [],
   "source": [
    "def transform_data(data,X,y):\n",
    "    \"\"\"1. 将单列数据转换成estimator需要的格式\"\"\"\n",
    "    X = np.array(data[X]).reshape((-1,1))\n",
    "    y = data[y]\n",
    "    return X,y"
   ]
  },
  {
   "cell_type": "code",
   "execution_count": 4,
   "metadata": {
    "ExecuteTime": {
     "end_time": "2019-05-09T08:04:39.353948Z",
     "start_time": "2019-05-09T08:04:39.348441Z"
    }
   },
   "outputs": [],
   "source": [
    "X,y = transform_data(data = df,X =\"年龄\",y = \"是否违约\")"
   ]
  },
  {
   "cell_type": "code",
   "execution_count": 5,
   "metadata": {
    "ExecuteTime": {
     "end_time": "2019-05-09T08:04:48.847425Z",
     "start_time": "2019-05-09T08:04:48.841986Z"
    }
   },
   "outputs": [],
   "source": [
    "def grid_search(estimator,param_grid,X,y,scoring = \"roc_auc\"):\n",
    "    \"\"\"2. 用于决策树分箱的决策树训练网格搜索，返回最佳超参数\"\"\"\n",
    "    from sklearn.model_selection import GridSearchCV\n",
    "    grid = GridSearchCV(estimator=estimator,param_grid= param_grid,scoring = scoring,cv=3,n_jobs = -1)\n",
    "    grid.fit(X=X,y=y)\n",
    "    print(\"网格搜索得到的最佳%s为%s\" %(scoring,grid.best_score_))\n",
    "    dic = grid.best_params_\n",
    "    return dic"
   ]
  },
  {
   "cell_type": "code",
   "execution_count": 7,
   "metadata": {
    "ExecuteTime": {
     "end_time": "2019-05-09T08:05:13.899556Z",
     "start_time": "2019-05-09T08:05:10.788076Z"
    }
   },
   "outputs": [
    {
     "name": "stdout",
     "output_type": "stream",
     "text": [
      "网格搜索得到的最佳roc_auc为0.6582526666666667\n"
     ]
    },
    {
     "data": {
      "text/plain": [
       "{'max_depth': 3, 'min_samples_leaf': 97}"
      ]
     },
     "execution_count": 7,
     "metadata": {},
     "output_type": "execute_result"
    }
   ],
   "source": [
    "from sklearn.tree import DecisionTreeClassifier\n",
    "estimator = DecisionTreeClassifier()\n",
    "param_grid = {\"max_depth\":range(1,8),\"min_samples_leaf\":range(1,100)}\n",
    "scoring = \"roc_auc\"\n",
    "dic = grid_search(estimator,param_grid,scoring = scoring,X=X,y=y)\n",
    "dic"
   ]
  },
  {
   "cell_type": "code",
   "execution_count": 8,
   "metadata": {
    "ExecuteTime": {
     "end_time": "2019-05-09T08:07:24.776965Z",
     "start_time": "2019-05-09T08:07:24.771893Z"
    }
   },
   "outputs": [
    {
     "data": {
      "text/plain": [
       "DecisionTreeClassifier(class_weight=None, criterion='gini', max_depth=3,\n",
       "            max_features=None, max_leaf_nodes=None,\n",
       "            min_impurity_decrease=0.0, min_impurity_split=None,\n",
       "            min_samples_leaf=97, min_samples_split=2,\n",
       "            min_weight_fraction_leaf=0.0, presort=False, random_state=None,\n",
       "            splitter='best')"
      ]
     },
     "execution_count": 8,
     "metadata": {},
     "output_type": "execute_result"
    }
   ],
   "source": [
    "dtc = DecisionTreeClassifier(max_depth=dic.get(\"max_depth\"),min_samples_leaf = dic.get(\"min_samples_leaf\"))\n",
    "dtc.fit(X,y)"
   ]
  },
  {
   "cell_type": "code",
   "execution_count": 9,
   "metadata": {
    "ExecuteTime": {
     "end_time": "2019-05-09T08:07:27.191172Z",
     "start_time": "2019-05-09T08:07:27.187226Z"
    }
   },
   "outputs": [
    {
     "data": {
      "text/plain": [
       "array([21.5, 22.5, 23.5, 27.5, 35.5, 45.5, 57.5])"
      ]
     },
     "execution_count": 9,
     "metadata": {},
     "output_type": "execute_result"
    }
   ],
   "source": [
    "threshold = dtc.tree_.threshold\n",
    "splits = threshold[threshold > 0]\n",
    "split = np.sort(splits)\n",
    "split"
   ]
  },
  {
   "cell_type": "code",
   "execution_count": 148,
   "metadata": {
    "ExecuteTime": {
     "end_time": "2019-05-09T07:26:57.053859Z",
     "start_time": "2019-05-09T07:26:57.050123Z"
    }
   },
   "outputs": [
    {
     "data": {
      "text/plain": [
       "array([[46],\n",
       "       [34],\n",
       "       [31],\n",
       "       ...,\n",
       "       [32],\n",
       "       [31],\n",
       "       [27]])"
      ]
     },
     "execution_count": 148,
     "metadata": {},
     "output_type": "execute_result"
    }
   ],
   "source": [
    "pd.cut(ori_data,bins,right=True,labels=None,include_lowest=False,retbins=False)"
   ]
  },
  {
   "cell_type": "code",
   "execution_count": 11,
   "metadata": {
    "ExecuteTime": {
     "end_time": "2019-05-09T08:08:19.346883Z",
     "start_time": "2019-05-09T08:08:19.339618Z"
    }
   },
   "outputs": [
    {
     "data": {
      "text/plain": [
       "['21.5-22.5', '22.5-23.5', '23.5-27.5', '27.5-35.5', '35.5-45.5', '45.5-57.5']"
      ]
     },
     "execution_count": 11,
     "metadata": {},
     "output_type": "execute_result"
    }
   ],
   "source": [
    "labels = []\n",
    "for i in range(len(split[:-1])):\n",
    "    t = str(split[i]) + \"-\" + str(split[i+1])\n",
    "    labels.append(t)\n",
    "labels"
   ]
  },
  {
   "cell_type": "code",
   "execution_count": null,
   "metadata": {},
   "outputs": [],
   "source": [
    "df.loc"
   ]
  },
  {
   "cell_type": "code",
   "execution_count": 25,
   "metadata": {
    "ExecuteTime": {
     "end_time": "2019-05-09T08:18:24.490649Z",
     "start_time": "2019-05-09T08:18:24.470293Z"
    }
   },
   "outputs": [
    {
     "ename": "TypeError",
     "evalue": "'>=' not supported between instances of 'numpy.ndarray' and 'str'",
     "output_type": "error",
     "traceback": [
      "\u001b[0;31m---------------------------------------------------------------------------\u001b[0m",
      "\u001b[0;31mTypeError\u001b[0m                                 Traceback (most recent call last)",
      "\u001b[0;32m<ipython-input-25-c4507cab714d>\u001b[0m in \u001b[0;36m<module>\u001b[0;34m\u001b[0m\n\u001b[1;32m      1\u001b[0m \u001b[0mbin0\u001b[0m \u001b[0;34m=\u001b[0m \u001b[0;34m\"<=\"\u001b[0m\u001b[0;34m+\u001b[0m\u001b[0mstr\u001b[0m\u001b[0;34m(\u001b[0m\u001b[0msplit\u001b[0m\u001b[0;34m[\u001b[0m\u001b[0;36m0\u001b[0m\u001b[0;34m]\u001b[0m\u001b[0;34m)\u001b[0m\u001b[0;34m\u001b[0m\u001b[0;34m\u001b[0m\u001b[0m\n\u001b[1;32m      2\u001b[0m \u001b[0mbin_last\u001b[0m \u001b[0;34m=\u001b[0m \u001b[0;34m\">\"\u001b[0m \u001b[0;34m+\u001b[0m \u001b[0mstr\u001b[0m\u001b[0;34m(\u001b[0m\u001b[0msplit\u001b[0m\u001b[0;34m[\u001b[0m\u001b[0;34m-\u001b[0m\u001b[0;36m1\u001b[0m\u001b[0;34m]\u001b[0m\u001b[0;34m)\u001b[0m\u001b[0;34m\u001b[0m\u001b[0;34m\u001b[0m\u001b[0m\n\u001b[0;32m----> 3\u001b[0;31m \u001b[0mindex0\u001b[0m \u001b[0;34m=\u001b[0m \u001b[0;34m(\u001b[0m\u001b[0mdf\u001b[0m\u001b[0;34m[\u001b[0m\u001b[0;34m\"年龄\"\u001b[0m\u001b[0;34m]\u001b[0m \u001b[0;34m<=\u001b[0m \u001b[0msplit\u001b[0m\u001b[0;34m[\u001b[0m\u001b[0;36m0\u001b[0m\u001b[0;34m]\u001b[0m\u001b[0;34m)\u001b[0m\u001b[0;34m\u001b[0m\u001b[0;34m\u001b[0m\u001b[0m\n\u001b[0m\u001b[1;32m      4\u001b[0m \u001b[0mindex_last\u001b[0m \u001b[0;34m=\u001b[0m \u001b[0mdf\u001b[0m\u001b[0;34m[\u001b[0m\u001b[0;34m\"年龄\"\u001b[0m\u001b[0;34m]\u001b[0m \u001b[0;34m>\u001b[0m \u001b[0msplit\u001b[0m\u001b[0;34m[\u001b[0m\u001b[0;34m-\u001b[0m\u001b[0;36m1\u001b[0m\u001b[0;34m]\u001b[0m\u001b[0;34m\u001b[0m\u001b[0;34m\u001b[0m\u001b[0m\n\u001b[1;32m      5\u001b[0m \u001b[0mdf\u001b[0m\u001b[0;34m[\u001b[0m\u001b[0;34m\"年龄_bin\"\u001b[0m\u001b[0;34m]\u001b[0m \u001b[0;34m=\u001b[0m \u001b[0mpd\u001b[0m\u001b[0;34m.\u001b[0m\u001b[0mcut\u001b[0m\u001b[0;34m(\u001b[0m\u001b[0mdf\u001b[0m\u001b[0;34m[\u001b[0m\u001b[0;34m\"年龄\"\u001b[0m\u001b[0;34m]\u001b[0m\u001b[0;34m,\u001b[0m\u001b[0mbins\u001b[0m \u001b[0;34m=\u001b[0m \u001b[0msplit\u001b[0m\u001b[0;34m,\u001b[0m\u001b[0mlabels\u001b[0m\u001b[0;34m=\u001b[0m\u001b[0mlabels\u001b[0m\u001b[0;34m)\u001b[0m\u001b[0;34m\u001b[0m\u001b[0;34m\u001b[0m\u001b[0m\n",
      "\u001b[0;32m~/anaconda3/lib/python3.6/site-packages/pandas/core/ops.py\u001b[0m in \u001b[0;36mwrapper\u001b[0;34m(self, other, axis)\u001b[0m\n\u001b[1;32m   1764\u001b[0m \u001b[0;34m\u001b[0m\u001b[0m\n\u001b[1;32m   1765\u001b[0m             \u001b[0;32mwith\u001b[0m \u001b[0mnp\u001b[0m\u001b[0;34m.\u001b[0m\u001b[0merrstate\u001b[0m\u001b[0;34m(\u001b[0m\u001b[0mall\u001b[0m\u001b[0;34m=\u001b[0m\u001b[0;34m'ignore'\u001b[0m\u001b[0;34m)\u001b[0m\u001b[0;34m:\u001b[0m\u001b[0;34m\u001b[0m\u001b[0;34m\u001b[0m\u001b[0m\n\u001b[0;32m-> 1766\u001b[0;31m                 \u001b[0mres\u001b[0m \u001b[0;34m=\u001b[0m \u001b[0mna_op\u001b[0m\u001b[0;34m(\u001b[0m\u001b[0mvalues\u001b[0m\u001b[0;34m,\u001b[0m \u001b[0mother\u001b[0m\u001b[0;34m)\u001b[0m\u001b[0;34m\u001b[0m\u001b[0;34m\u001b[0m\u001b[0m\n\u001b[0m\u001b[1;32m   1767\u001b[0m             \u001b[0;32mif\u001b[0m \u001b[0mis_scalar\u001b[0m\u001b[0;34m(\u001b[0m\u001b[0mres\u001b[0m\u001b[0;34m)\u001b[0m\u001b[0;34m:\u001b[0m\u001b[0;34m\u001b[0m\u001b[0;34m\u001b[0m\u001b[0m\n\u001b[1;32m   1768\u001b[0m                 raise TypeError('Could not compare {typ} type with Series'\n",
      "\u001b[0;32m~/anaconda3/lib/python3.6/site-packages/pandas/core/ops.py\u001b[0m in \u001b[0;36mna_op\u001b[0;34m(x, y)\u001b[0m\n\u001b[1;32m   1623\u001b[0m \u001b[0;34m\u001b[0m\u001b[0m\n\u001b[1;32m   1624\u001b[0m         \u001b[0;32mif\u001b[0m \u001b[0mis_object_dtype\u001b[0m\u001b[0;34m(\u001b[0m\u001b[0mx\u001b[0m\u001b[0;34m.\u001b[0m\u001b[0mdtype\u001b[0m\u001b[0;34m)\u001b[0m\u001b[0;34m:\u001b[0m\u001b[0;34m\u001b[0m\u001b[0;34m\u001b[0m\u001b[0m\n\u001b[0;32m-> 1625\u001b[0;31m             \u001b[0mresult\u001b[0m \u001b[0;34m=\u001b[0m \u001b[0m_comp_method_OBJECT_ARRAY\u001b[0m\u001b[0;34m(\u001b[0m\u001b[0mop\u001b[0m\u001b[0;34m,\u001b[0m \u001b[0mx\u001b[0m\u001b[0;34m,\u001b[0m \u001b[0my\u001b[0m\u001b[0;34m)\u001b[0m\u001b[0;34m\u001b[0m\u001b[0;34m\u001b[0m\u001b[0m\n\u001b[0m\u001b[1;32m   1626\u001b[0m \u001b[0;34m\u001b[0m\u001b[0m\n\u001b[1;32m   1627\u001b[0m         \u001b[0;32melif\u001b[0m \u001b[0mis_datetimelike_v_numeric\u001b[0m\u001b[0;34m(\u001b[0m\u001b[0mx\u001b[0m\u001b[0;34m,\u001b[0m \u001b[0my\u001b[0m\u001b[0;34m)\u001b[0m\u001b[0;34m:\u001b[0m\u001b[0;34m\u001b[0m\u001b[0;34m\u001b[0m\u001b[0m\n",
      "\u001b[0;32m~/anaconda3/lib/python3.6/site-packages/pandas/core/ops.py\u001b[0m in \u001b[0;36m_comp_method_OBJECT_ARRAY\u001b[0;34m(op, x, y)\u001b[0m\n\u001b[1;32m   1601\u001b[0m         \u001b[0mresult\u001b[0m \u001b[0;34m=\u001b[0m \u001b[0mlibops\u001b[0m\u001b[0;34m.\u001b[0m\u001b[0mvec_compare\u001b[0m\u001b[0;34m(\u001b[0m\u001b[0mx\u001b[0m\u001b[0;34m,\u001b[0m \u001b[0my\u001b[0m\u001b[0;34m,\u001b[0m \u001b[0mop\u001b[0m\u001b[0;34m)\u001b[0m\u001b[0;34m\u001b[0m\u001b[0;34m\u001b[0m\u001b[0m\n\u001b[1;32m   1602\u001b[0m     \u001b[0;32melse\u001b[0m\u001b[0;34m:\u001b[0m\u001b[0;34m\u001b[0m\u001b[0;34m\u001b[0m\u001b[0m\n\u001b[0;32m-> 1603\u001b[0;31m         \u001b[0mresult\u001b[0m \u001b[0;34m=\u001b[0m \u001b[0mlibops\u001b[0m\u001b[0;34m.\u001b[0m\u001b[0mscalar_compare\u001b[0m\u001b[0;34m(\u001b[0m\u001b[0mx\u001b[0m\u001b[0;34m,\u001b[0m \u001b[0my\u001b[0m\u001b[0;34m,\u001b[0m \u001b[0mop\u001b[0m\u001b[0;34m)\u001b[0m\u001b[0;34m\u001b[0m\u001b[0;34m\u001b[0m\u001b[0m\n\u001b[0m\u001b[1;32m   1604\u001b[0m     \u001b[0;32mreturn\u001b[0m \u001b[0mresult\u001b[0m\u001b[0;34m\u001b[0m\u001b[0;34m\u001b[0m\u001b[0m\n\u001b[1;32m   1605\u001b[0m \u001b[0;34m\u001b[0m\u001b[0m\n",
      "\u001b[0;32mpandas/_libs/ops.pyx\u001b[0m in \u001b[0;36mpandas._libs.ops.scalar_compare\u001b[0;34m()\u001b[0m\n",
      "\u001b[0;31mTypeError\u001b[0m: '>=' not supported between instances of 'numpy.ndarray' and 'str'"
     ]
    }
   ],
   "source": [
    "bin0 = \"<=\"+str(split[0])\n",
    "bin_last = \">\" + str(split[-1])\n",
    "index0 = (df[\"年龄\"] <= split[0])\n",
    "index_last = df[\"年龄\"] > split[-1]\n",
    "df[\"年龄_bin\"] = pd.cut(df[\"年龄\"],bins = split,labels=labels)\n",
    "index0\n",
    "# df.loc[index_last,\"年龄\"] = bin_last\n",
    "# df[\"年龄_bin\"] = df[\"年龄_bin\"].astype(\"category\")\n",
    "# df.loc[df[\"年龄_bin\"].isnull(),\"年龄_bin\"] = \"新类别\"\n",
    "# df.loc[index_last,\"年龄_bin\"] = \"000\"\n",
    "# df.head()"
   ]
  },
  {
   "cell_type": "code",
   "execution_count": 158,
   "metadata": {
    "ExecuteTime": {
     "end_time": "2019-05-09T07:40:06.607171Z",
     "start_time": "2019-05-09T07:40:06.595586Z"
    }
   },
   "outputs": [
    {
     "data": {
      "text/plain": [
       "0       45.5-57.5\n",
       "1       27.5-35.5\n",
       "2       27.5-35.5\n",
       "3       35.5-45.5\n",
       "4       27.5-35.5\n",
       "5       22.5-23.5\n",
       "6       35.5-45.5\n",
       "7       27.5-35.5\n",
       "8       23.5-27.5\n",
       "9       23.5-27.5\n",
       "10            NaN\n",
       "11      35.5-45.5\n",
       "12      22.5-23.5\n",
       "13      35.5-45.5\n",
       "14      35.5-45.5\n",
       "15      23.5-27.5\n",
       "16      45.5-57.5\n",
       "17      27.5-35.5\n",
       "18      35.5-45.5\n",
       "19      35.5-45.5\n",
       "20      27.5-35.5\n",
       "21            NaN\n",
       "22      23.5-27.5\n",
       "23      23.5-27.5\n",
       "24      45.5-57.5\n",
       "25      35.5-45.5\n",
       "26      27.5-35.5\n",
       "27      27.5-35.5\n",
       "28      27.5-35.5\n",
       "29      23.5-27.5\n",
       "          ...    \n",
       "2970    35.5-45.5\n",
       "2971    35.5-45.5\n",
       "2972    23.5-27.5\n",
       "2973    27.5-35.5\n",
       "2974          NaN\n",
       "2975    27.5-35.5\n",
       "2976    23.5-27.5\n",
       "2977    23.5-27.5\n",
       "2978    27.5-35.5\n",
       "2979    21.5-22.5\n",
       "2980    35.5-45.5\n",
       "2981    27.5-35.5\n",
       "2982    23.5-27.5\n",
       "2983    35.5-45.5\n",
       "2984          NaN\n",
       "2985    27.5-35.5\n",
       "2986    45.5-57.5\n",
       "2987    35.5-45.5\n",
       "2988    35.5-45.5\n",
       "2989    27.5-35.5\n",
       "2990    27.5-35.5\n",
       "2991          NaN\n",
       "2992    45.5-57.5\n",
       "2993    27.5-35.5\n",
       "2994    27.5-35.5\n",
       "2995    23.5-27.5\n",
       "2996    27.5-35.5\n",
       "2997    27.5-35.5\n",
       "2998    27.5-35.5\n",
       "2999    23.5-27.5\n",
       "Name: 年龄, Length: 3000, dtype: category\n",
       "Categories (6, object): [21.5-22.5 < 22.5-23.5 < 23.5-27.5 < 27.5-35.5 < 35.5-45.5 < 45.5-57.5]"
      ]
     },
     "execution_count": 158,
     "metadata": {},
     "output_type": "execute_result"
    }
   ],
   "source": [
    "pd.cut(df[\"年龄\"],bins = split,labels=labels)"
   ]
  },
  {
   "cell_type": "code",
   "execution_count": null,
   "metadata": {},
   "outputs": [],
   "source": []
  },
  {
   "cell_type": "code",
   "execution_count": null,
   "metadata": {},
   "outputs": [],
   "source": [
    "def tree_bin(data,x,y,dispersed = True):\n",
    "    from sklearn.model_selection import train_test_split\n",
    "    y = data[y]\n",
    "    x = \n",
    "    x_train,x_test,y_train,y_test = train_test_split(x,y,test_size = 0.25,random_state = 0)\n",
    "    \n",
    "    \n",
    "    if dispersed:\n",
    "        from sklearn.tree import DecisionTreeClassifier\n",
    "        "
   ]
  },
  {
   "cell_type": "code",
   "execution_count": null,
   "metadata": {},
   "outputs": [],
   "source": []
  },
  {
   "cell_type": "code",
   "execution_count": null,
   "metadata": {},
   "outputs": [],
   "source": []
  },
  {
   "cell_type": "code",
   "execution_count": null,
   "metadata": {},
   "outputs": [],
   "source": []
  }
 ],
 "metadata": {
  "kernelspec": {
   "display_name": "Python 3",
   "language": "python",
   "name": "python3"
  },
  "language_info": {
   "codemirror_mode": {
    "name": "ipython",
    "version": 3
   },
   "file_extension": ".py",
   "mimetype": "text/x-python",
   "name": "python",
   "nbconvert_exporter": "python",
   "pygments_lexer": "ipython3",
   "version": "3.6.8"
  },
  "toc": {
   "base_numbering": 1,
   "nav_menu": {},
   "number_sections": true,
   "sideBar": true,
   "skip_h1_title": false,
   "title_cell": "Table of Contents",
   "title_sidebar": "Contents",
   "toc_cell": false,
   "toc_position": {},
   "toc_section_display": true,
   "toc_window_display": false
  }
 },
 "nbformat": 4,
 "nbformat_minor": 2
}
