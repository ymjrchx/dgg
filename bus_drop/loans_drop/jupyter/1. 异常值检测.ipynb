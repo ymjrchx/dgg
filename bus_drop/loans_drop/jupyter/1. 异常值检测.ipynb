{
 "cells": [
  {
   "cell_type": "code",
   "execution_count": 24,
   "metadata": {},
   "outputs": [],
   "source": [
    "import pandas as pd\n",
    "import numpy as np"
   ]
  },
  {
   "cell_type": "markdown",
   "metadata": {},
   "source": [
    "# 1. 一维数据的异常值检测"
   ]
  },
  {
   "cell_type": "markdown",
   "metadata": {},
   "source": [
    "## 1. 箱线图---分位数"
   ]
  },
  {
   "cell_type": "code",
   "execution_count": 34,
   "metadata": {},
   "outputs": [],
   "source": [
    "def box_outliers(list1):\n",
    "    \"\"\"箱线图检测异常值的函数,输入数据矿的某一列,输出该列中异常样本的index与异常值\"\"\"\n",
    "    import numpy as np\n",
    "    print(type(list1))\n",
    "    # iterate over features(columns)\n",
    "        # 1st quartile (25%)\n",
    "    Q1 = np.percentile(list1, 25)\n",
    "    # 3rd quartile (75%)\n",
    "    Q3 = np.percentile(list1,75)\n",
    "    # Interquartile range (IQR)\n",
    "    IQR = Q3 - Q1\n",
    "    # outlier step\n",
    "    outlier_step = 1.5 * IQR\n",
    "    # Determine a list of indices of outliers for feature col\n",
    "    outlier_list = list1[(list1 < Q1 - outlier_step) | (list1 > Q3 + outlier_step )]\n",
    "    return outlier_list"
   ]
  },
  {
   "cell_type": "markdown",
   "metadata": {},
   "source": [
    "## 2. 3-sigma\n",
    "1. 需要先假设全量数据服从一定的分布,如正态分布\n",
    "2. 以数据充分大为前提的，当数据较少的情况下，最好不要选用该准"
   ]
  },
  {
   "cell_type": "code",
   "execution_count": 38,
   "metadata": {},
   "outputs": [],
   "source": [
    "def sigma_outliers(list1):\n",
    "    \"\"\"利用3倍标准差进行异常值检测,输入数据矿的某一列,输出该列中异常样本的index与异常值\"\"\"\n",
    "    import numpy as np\n",
    "    mean = np.mean(list1)\n",
    "    std = np.std(list1)\n",
    "    lower_limit = mean - 3*std\n",
    "    upper_limit = mean + 3*std\n",
    "    outlier_list = list1[(list1 < lower_limit) | (list1 > upper_limit)]\n",
    "    return outlier_list"
   ]
  },
  {
   "cell_type": "markdown",
   "metadata": {},
   "source": [
    "# 3. 距离位置检测方法\n",
    "1. 注意点:\n",
    "> 1. 强的假设，正常的用户都比较集中，有较多的邻居，而异常用户都特立独行\n",
    "> 2. 适用场景:大多数业务中满足该假设,如爬虫ip识别,一看高频或者差异较大的值就是异常\n",
    "> 3. 不适用场景:特别稀疏的业务场景,如企业融资,他们的频次较低,无法构成邻居的概念\n",
    "2. 思想"
   ]
  }
 ],
 "metadata": {
  "kernelspec": {
   "display_name": "Python 3",
   "language": "python",
   "name": "python3"
  },
  "language_info": {
   "codemirror_mode": {
    "name": "ipython",
    "version": 3
   },
   "file_extension": ".py",
   "mimetype": "text/x-python",
   "name": "python",
   "nbconvert_exporter": "python",
   "pygments_lexer": "ipython3",
   "version": "3.6.8"
  },
  "toc": {
   "base_numbering": 1,
   "nav_menu": {},
   "number_sections": true,
   "sideBar": true,
   "skip_h1_title": false,
   "title_cell": "Table of Contents",
   "title_sidebar": "Contents",
   "toc_cell": false,
   "toc_position": {},
   "toc_section_display": true,
   "toc_window_display": true
  }
 },
 "nbformat": 4,
 "nbformat_minor": 2
}
