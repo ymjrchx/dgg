{
 "cells": [
  {
   "cell_type": "code",
   "execution_count": 2,
   "metadata": {},
   "outputs": [],
   "source": [
    "import pandas as pd\n",
    "import numpy as np\n",
    "import pymysql"
   ]
  },
  {
   "cell_type": "markdown",
   "metadata": {},
   "source": [
    "由于只有商机ｉｄ，所以需要用business_id关联商机库，获取customer_id，得到客户的历史上门"
   ]
  },
  {
   "cell_type": "code",
   "execution_count": 38,
   "metadata": {},
   "outputs": [
    {
     "name": "stdout",
     "output_type": "stream",
     "text": [
      "786168\n",
      "86428\n"
     ]
    }
   ],
   "source": [
    "db = pymysql.connect(host = \"10.2.1.170\",port =5506,user = \"ai_account\",passwd=\"qvufj2nj\",db=\"bi_behavior\")\n",
    "cursor = db.cursor()\n",
    "sql1 = \"select business_no,sys_type,user_no,user_name,status,status_name,type_code,cause,promissory_time\\\n",
    "        from bi_visit_detail\"\n",
    "# sql2 = \"select business_no,sys_type,user_no,user_name,status,status_name,type_code,cause,promissory_time\\\n",
    "#         from bi_visit_detail where type_code like '%贷%'\"\n",
    "try:\n",
    "    cursor.execute(sql1)\n",
    "    results = cursor.fetchall()\n",
    "    results_list =[]\n",
    "    columns = [\"business_id\",\"sys_type\",\"user_no\",\"user_name\",\"status\",\"status_name\",\"type_code\",\n",
    "              \"cause\",\"promissory_time\"]\n",
    "    for row in results:\n",
    "        zipped = zip(columns,row) \n",
    "        dic ={}\n",
    "        for zips in zipped:             \n",
    "            dic[zips[0]] = zips[1]\n",
    "            results_list.append(dic)\n",
    "    #         print(dic)\n",
    "    print(len(results_list))\n",
    "    data1 = pd.DataFrame(data = results_list,columns=columns)\n",
    "    data1 = data1.drop_duplicates()\n",
    "    print(len(data1))\n",
    "except:\n",
    "    print(\"Error\")\n",
    "db.close() "
   ]
  },
  {
   "cell_type": "code",
   "execution_count": 34,
   "metadata": {},
   "outputs": [
    {
     "name": "stdout",
     "output_type": "stream",
     "text": [
      "24312\n"
     ]
    },
    {
     "data": {
      "text/html": [
       "<div>\n",
       "<style scoped>\n",
       "    .dataframe tbody tr th:only-of-type {\n",
       "        vertical-align: middle;\n",
       "    }\n",
       "\n",
       "    .dataframe tbody tr th {\n",
       "        vertical-align: top;\n",
       "    }\n",
       "\n",
       "    .dataframe thead th {\n",
       "        text-align: right;\n",
       "    }\n",
       "</style>\n",
       "<table border=\"1\" class=\"dataframe\">\n",
       "  <thead>\n",
       "    <tr style=\"text-align: right;\">\n",
       "      <th></th>\n",
       "      <th>business_id</th>\n",
       "      <th>sys_type</th>\n",
       "      <th>user_no</th>\n",
       "      <th>user_name</th>\n",
       "      <th>status</th>\n",
       "      <th>status_name</th>\n",
       "      <th>type_code</th>\n",
       "      <th>cause</th>\n",
       "      <th>promissory_time</th>\n",
       "    </tr>\n",
       "  </thead>\n",
       "  <tbody>\n",
       "    <tr>\n",
       "      <th>0</th>\n",
       "      <td>SJ201812044213</td>\n",
       "      <td>cloud</td>\n",
       "      <td>952859647</td>\n",
       "      <td>陈秘</td>\n",
       "      <td>0</td>\n",
       "      <td>待到访</td>\n",
       "      <td>信用贷款</td>\n",
       "      <td>融资业务</td>\n",
       "      <td>2018-12-12 19:16:23</td>\n",
       "    </tr>\n",
       "    <tr>\n",
       "      <th>9</th>\n",
       "      <td>SJ201901180153</td>\n",
       "      <td>cloud</td>\n",
       "      <td>100214</td>\n",
       "      <td>赖维圣</td>\n",
       "      <td>0</td>\n",
       "      <td>待到访</td>\n",
       "      <td>信用贷款</td>\n",
       "      <td>融资业务</td>\n",
       "      <td>2019-01-23 14:30:00</td>\n",
       "    </tr>\n",
       "    <tr>\n",
       "      <th>18</th>\n",
       "      <td>SJ201812240227</td>\n",
       "      <td>cloud</td>\n",
       "      <td>49059146</td>\n",
       "      <td>郑先海</td>\n",
       "      <td>0</td>\n",
       "      <td>待到访</td>\n",
       "      <td>信用贷款</td>\n",
       "      <td>融资业务</td>\n",
       "      <td>2018-12-25 10:45:43</td>\n",
       "    </tr>\n",
       "    <tr>\n",
       "      <th>27</th>\n",
       "      <td>ZY2019022505185</td>\n",
       "      <td>cloud</td>\n",
       "      <td>919729941</td>\n",
       "      <td>彭仕琼</td>\n",
       "      <td>1</td>\n",
       "      <td>已到访</td>\n",
       "      <td>信用贷款</td>\n",
       "      <td>业务办理</td>\n",
       "      <td>2019-02-26 14:00:00</td>\n",
       "    </tr>\n",
       "    <tr>\n",
       "      <th>36</th>\n",
       "      <td>SJ201812241098</td>\n",
       "      <td>cloud</td>\n",
       "      <td>47696701</td>\n",
       "      <td>雷诚鑫</td>\n",
       "      <td>0</td>\n",
       "      <td>待到访</td>\n",
       "      <td>信用贷款</td>\n",
       "      <td>融资业务</td>\n",
       "      <td>2018-12-27 11:00:20</td>\n",
       "    </tr>\n",
       "  </tbody>\n",
       "</table>\n",
       "</div>"
      ],
      "text/plain": [
       "        business_id sys_type    user_no user_name  status status_name  \\\n",
       "0    SJ201812044213    cloud  952859647        陈秘       0         待到访   \n",
       "9    SJ201901180153    cloud     100214       赖维圣       0         待到访   \n",
       "18   SJ201812240227    cloud   49059146       郑先海       0         待到访   \n",
       "27  ZY2019022505185    cloud  919729941       彭仕琼       1         已到访   \n",
       "36   SJ201812241098    cloud   47696701       雷诚鑫       0         待到访   \n",
       "\n",
       "   type_code cause     promissory_time  \n",
       "0       信用贷款  融资业务 2018-12-12 19:16:23  \n",
       "9       信用贷款  融资业务 2019-01-23 14:30:00  \n",
       "18      信用贷款  融资业务 2018-12-25 10:45:43  \n",
       "27      信用贷款  业务办理 2019-02-26 14:00:00  \n",
       "36      信用贷款  融资业务 2018-12-27 11:00:20  "
      ]
     },
     "execution_count": 34,
     "metadata": {},
     "output_type": "execute_result"
    }
   ],
   "source": [
    "print(len(data))\n",
    "data.head()"
   ]
  },
  {
   "cell_type": "code",
   "execution_count": 31,
   "metadata": {},
   "outputs": [],
   "source": [
    "data.to_csv(\"融资商机历史上门.csv\",sep=\",\",encoding=\"utf_8_sig\",index=0)"
   ]
  },
  {
   "cell_type": "code",
   "execution_count": 39,
   "metadata": {},
   "outputs": [
    {
     "name": "stdout",
     "output_type": "stream",
     "text": [
      "86428\n"
     ]
    }
   ],
   "source": [
    "print(len(data1))\n",
    "data1.to_csv(\"所有商机历史上门.csv\",sep=\",\",encoding=\"utf_8_sig\",index=0)"
   ]
  },
  {
   "cell_type": "code",
   "execution_count": 30,
   "metadata": {},
   "outputs": [
    {
     "data": {
      "text/plain": [
       "business_id\n",
       "160329726          1\n",
       "160406324          1\n",
       "160408510          1\n",
       "160504761          1\n",
       "1605191210         2\n",
       "160601420          1\n",
       "160603079          1\n",
       "160606951          1\n",
       "160607024          1\n",
       "160616999          1\n",
       "160617529          1\n",
       "160620356          2\n",
       "160620580          1\n",
       "160706213          1\n",
       "160708262          1\n",
       "DYDK150896         1\n",
       "DYDK415294         1\n",
       "DYDK781645         1\n",
       "DYDK970863         1\n",
       "GD1510260111       1\n",
       "GD1511130437       1\n",
       "GD1511180213       1\n",
       "GD1601050462       1\n",
       "GD1601070137       2\n",
       "GD1601080535       1\n",
       "SJ1611240864106    1\n",
       "SJ1611245713308    1\n",
       "SJ1611281914476    1\n",
       "SJ1611287328542    2\n",
       "SJ1611300060545    1\n",
       "                  ..\n",
       "ZY2019031000720    1\n",
       "ZY2019031000729    1\n",
       "ZY2019031000763    1\n",
       "ZY2019031000766    1\n",
       "ZY2019031000785    1\n",
       "ZY2019031000898    1\n",
       "ZY2019031000945    1\n",
       "ZY2019031000947    1\n",
       "ZY2019031000999    1\n",
       "ZY2019031001121    1\n",
       "ZY2019031001175    1\n",
       "ZY2019031001308    1\n",
       "ZY2019031001422    1\n",
       "ZY2019031001423    1\n",
       "ZY2019031001424    1\n",
       "ZY2019031001478    1\n",
       "ZY2019031001579    1\n",
       "ZY2019031001596    2\n",
       "ZY2019031001607    1\n",
       "ZY2019031001615    1\n",
       "ZY2019031001664    1\n",
       "ZY2019031001697    1\n",
       "ZY2019031001746    1\n",
       "ZY2019031001752    1\n",
       "ZY2019031001792    1\n",
       "ZY2019031001809    1\n",
       "ZY2019031001850    1\n",
       "ZY2019031001931    1\n",
       "ZY2019031002157    1\n",
       "ZY2019031002355    1\n",
       "Name: business_id, Length: 20390, dtype: int64"
      ]
     },
     "execution_count": 30,
     "metadata": {},
     "output_type": "execute_result"
    }
   ],
   "source": [
    "data[\"business_id\"].groupby(data[\"business_id\"]).count()"
   ]
  },
  {
   "cell_type": "code",
   "execution_count": 26,
   "metadata": {},
   "outputs": [
    {
     "data": {
      "text/plain": [
       "信用贷款       20228\n",
       "信贷小贷        2815\n",
       "信贷小贷（禁）      579\n",
       "抵押贷款         195\n",
       "银行信贷         185\n",
       "放大贷           88\n",
       "车贷            74\n",
       "网贷            55\n",
       "银行信贷（禁）       23\n",
       "经营贷           17\n",
       "车贷（禁）         16\n",
       "放大贷（禁）        14\n",
       "网贷（禁）          9\n",
       "小贷二抵（禁）        5\n",
       "小贷一抵           4\n",
       "经营贷（禁）         2\n",
       "小贷二抵           2\n",
       "小贷一抵（禁）        1\n",
       "Name: type_code, dtype: int64"
      ]
     },
     "execution_count": 26,
     "metadata": {},
     "output_type": "execute_result"
    }
   ],
   "source": [
    "data[\"type_code\"].value_counts()"
   ]
  },
  {
   "cell_type": "code",
   "execution_count": 27,
   "metadata": {},
   "outputs": [
    {
     "data": {
      "text/plain": [
       "融资业务    17629\n",
       "业务办理     6683\n",
       "Name: cause, dtype: int64"
      ]
     },
     "execution_count": 27,
     "metadata": {},
     "output_type": "execute_result"
    }
   ],
   "source": [
    "data[\"cause\"].value_counts()"
   ]
  },
  {
   "cell_type": "code",
   "execution_count": null,
   "metadata": {},
   "outputs": [],
   "source": []
  }
 ],
 "metadata": {
  "kernelspec": {
   "display_name": "Python 3",
   "language": "python",
   "name": "python3"
  },
  "language_info": {
   "codemirror_mode": {
    "name": "ipython",
    "version": 3
   },
   "file_extension": ".py",
   "mimetype": "text/x-python",
   "name": "python",
   "nbconvert_exporter": "python",
   "pygments_lexer": "ipython3",
   "version": "3.6.5"
  },
  "toc": {
   "base_numbering": 1,
   "nav_menu": {},
   "number_sections": true,
   "sideBar": true,
   "skip_h1_title": false,
   "title_cell": "Table of Contents",
   "title_sidebar": "Contents",
   "toc_cell": false,
   "toc_position": {},
   "toc_section_display": true,
   "toc_window_display": false
  }
 },
 "nbformat": 4,
 "nbformat_minor": 2
}
