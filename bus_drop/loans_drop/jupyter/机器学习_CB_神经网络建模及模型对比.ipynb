{
 "cells": [
  {
   "cell_type": "code",
   "execution_count": 4,
   "metadata": {
    "collapsed": true
   },
   "outputs": [],
   "source": [
    "import pandas as pd\n",
    "import matplotlib.pyplot as plt\n",
    "import ch\n",
    "ch.set_ch()\n",
    "import numpy as np\n",
    "import sklearn as sk\n",
    "from sklearn.preprocessing import *\n",
    "from sklearn.metrics.pairwise import cosine_similarity\n",
    "from sklearn import metrics\n",
    "import time"
   ]
  },
  {
   "cell_type": "code",
   "execution_count": 6,
   "metadata": {
    "collapsed": true
   },
   "outputs": [],
   "source": [
    "data = pd.read_excel('data1.xls')"
   ]
  },
  {
   "cell_type": "code",
   "execution_count": 7,
   "metadata": {},
   "outputs": [
    {
     "data": {
      "text/html": [
       "<div>\n",
       "<style scoped>\n",
       "    .dataframe tbody tr th:only-of-type {\n",
       "        vertical-align: middle;\n",
       "    }\n",
       "\n",
       "    .dataframe tbody tr th {\n",
       "        vertical-align: top;\n",
       "    }\n",
       "\n",
       "    .dataframe thead th {\n",
       "        text-align: right;\n",
       "    }\n",
       "</style>\n",
       "<table border=\"1\" class=\"dataframe\">\n",
       "  <thead>\n",
       "    <tr style=\"text-align: right;\">\n",
       "      <th></th>\n",
       "      <th>年龄</th>\n",
       "      <th>地区</th>\n",
       "      <th>行业</th>\n",
       "      <th>性别</th>\n",
       "      <th>商机渠道</th>\n",
       "      <th>是否老用户</th>\n",
       "      <th>成单时间间隔</th>\n",
       "      <th>备注条数</th>\n",
       "      <th>电话跟进次数</th>\n",
       "      <th>电话呼叫总时长</th>\n",
       "      <th>是否成单</th>\n",
       "    </tr>\n",
       "  </thead>\n",
       "  <tbody>\n",
       "    <tr>\n",
       "      <th>0</th>\n",
       "      <td>36</td>\n",
       "      <td>成都</td>\n",
       "      <td>信息产业</td>\n",
       "      <td>2</td>\n",
       "      <td>用户自填单</td>\n",
       "      <td>0</td>\n",
       "      <td>25</td>\n",
       "      <td>6</td>\n",
       "      <td>7</td>\n",
       "      <td>3116</td>\n",
       "      <td>0</td>\n",
       "    </tr>\n",
       "    <tr>\n",
       "      <th>1</th>\n",
       "      <td>31</td>\n",
       "      <td>重庆</td>\n",
       "      <td>信息产业</td>\n",
       "      <td>1</td>\n",
       "      <td>网聊</td>\n",
       "      <td>1</td>\n",
       "      <td>12</td>\n",
       "      <td>5</td>\n",
       "      <td>7</td>\n",
       "      <td>5742</td>\n",
       "      <td>1</td>\n",
       "    </tr>\n",
       "    <tr>\n",
       "      <th>2</th>\n",
       "      <td>23</td>\n",
       "      <td>重庆</td>\n",
       "      <td>环保绿化</td>\n",
       "      <td>2</td>\n",
       "      <td>爬虫获取</td>\n",
       "      <td>0</td>\n",
       "      <td>2</td>\n",
       "      <td>9</td>\n",
       "      <td>1</td>\n",
       "      <td>6548</td>\n",
       "      <td>0</td>\n",
       "    </tr>\n",
       "    <tr>\n",
       "      <th>3</th>\n",
       "      <td>48</td>\n",
       "      <td>武汉</td>\n",
       "      <td>体育</td>\n",
       "      <td>2</td>\n",
       "      <td>转介绍</td>\n",
       "      <td>1</td>\n",
       "      <td>9</td>\n",
       "      <td>2</td>\n",
       "      <td>9</td>\n",
       "      <td>4246</td>\n",
       "      <td>0</td>\n",
       "    </tr>\n",
       "    <tr>\n",
       "      <th>4</th>\n",
       "      <td>38</td>\n",
       "      <td>上海</td>\n",
       "      <td>办公文教</td>\n",
       "      <td>2</td>\n",
       "      <td>用户自填单</td>\n",
       "      <td>0</td>\n",
       "      <td>3</td>\n",
       "      <td>4</td>\n",
       "      <td>6</td>\n",
       "      <td>211</td>\n",
       "      <td>0</td>\n",
       "    </tr>\n",
       "  </tbody>\n",
       "</table>\n",
       "</div>"
      ],
      "text/plain": [
       "   年龄  地区    行业  性别   商机渠道  是否老用户  成单时间间隔  备注条数  电话跟进次数  电话呼叫总时长  是否成单\n",
       "0  36  成都  信息产业   2  用户自填单      0      25     6       7     3116     0\n",
       "1  31  重庆  信息产业   1     网聊      1      12     5       7     5742     1\n",
       "2  23  重庆  环保绿化   2   爬虫获取      0       2     9       1     6548     0\n",
       "3  48  武汉    体育   2    转介绍      1       9     2       9     4246     0\n",
       "4  38  上海  办公文教   2  用户自填单      0       3     4       6      211     0"
      ]
     },
     "execution_count": 7,
     "metadata": {},
     "output_type": "execute_result"
    }
   ],
   "source": [
    "data.head()"
   ]
  },
  {
   "cell_type": "markdown",
   "metadata": {},
   "source": [
    "### 将离散标签转换为独热编码"
   ]
  },
  {
   "cell_type": "code",
   "execution_count": 8,
   "metadata": {
    "collapsed": true
   },
   "outputs": [],
   "source": [
    "def onehot(pd,label_list):\n",
    "    for label in label_list:\n",
    "        for i in pd[label].value_counts().keys():\n",
    "            pd[label+i]=pd[label].apply(lambda x :1 if x == i else 0)\n",
    "    pd.drop(label_list,axis=1,inplace=True)\n",
    "    return pd"
   ]
  },
  {
   "cell_type": "code",
   "execution_count": 9,
   "metadata": {
    "collapsed": true
   },
   "outputs": [],
   "source": [
    "data = onehot(data,['地区','行业','商机渠道'])"
   ]
  },
  {
   "cell_type": "code",
   "execution_count": 10,
   "metadata": {},
   "outputs": [
    {
     "data": {
      "text/html": [
       "<div>\n",
       "<style scoped>\n",
       "    .dataframe tbody tr th:only-of-type {\n",
       "        vertical-align: middle;\n",
       "    }\n",
       "\n",
       "    .dataframe tbody tr th {\n",
       "        vertical-align: top;\n",
       "    }\n",
       "\n",
       "    .dataframe thead th {\n",
       "        text-align: right;\n",
       "    }\n",
       "</style>\n",
       "<table border=\"1\" class=\"dataframe\">\n",
       "  <thead>\n",
       "    <tr style=\"text-align: right;\">\n",
       "      <th></th>\n",
       "      <th>年龄</th>\n",
       "      <th>性别</th>\n",
       "      <th>是否老用户</th>\n",
       "      <th>成单时间间隔</th>\n",
       "      <th>备注条数</th>\n",
       "      <th>电话跟进次数</th>\n",
       "      <th>电话呼叫总时长</th>\n",
       "      <th>是否成单</th>\n",
       "      <th>西安</th>\n",
       "      <th>成都</th>\n",
       "      <th>...</th>\n",
       "      <th>信息产业</th>\n",
       "      <th>服装纺织</th>\n",
       "      <th>餐饮</th>\n",
       "      <th>环保绿化</th>\n",
       "      <th>爬虫获取</th>\n",
       "      <th>用户自填单</th>\n",
       "      <th>网聊</th>\n",
       "      <th>新媒体</th>\n",
       "      <th>地铁广告</th>\n",
       "      <th>转介绍</th>\n",
       "    </tr>\n",
       "  </thead>\n",
       "  <tbody>\n",
       "    <tr>\n",
       "      <th>0</th>\n",
       "      <td>36</td>\n",
       "      <td>2</td>\n",
       "      <td>0</td>\n",
       "      <td>25</td>\n",
       "      <td>6</td>\n",
       "      <td>7</td>\n",
       "      <td>3116</td>\n",
       "      <td>0</td>\n",
       "      <td>0</td>\n",
       "      <td>1</td>\n",
       "      <td>...</td>\n",
       "      <td>1</td>\n",
       "      <td>0</td>\n",
       "      <td>0</td>\n",
       "      <td>0</td>\n",
       "      <td>0</td>\n",
       "      <td>1</td>\n",
       "      <td>0</td>\n",
       "      <td>0</td>\n",
       "      <td>0</td>\n",
       "      <td>0</td>\n",
       "    </tr>\n",
       "    <tr>\n",
       "      <th>1</th>\n",
       "      <td>31</td>\n",
       "      <td>1</td>\n",
       "      <td>1</td>\n",
       "      <td>12</td>\n",
       "      <td>5</td>\n",
       "      <td>7</td>\n",
       "      <td>5742</td>\n",
       "      <td>1</td>\n",
       "      <td>0</td>\n",
       "      <td>0</td>\n",
       "      <td>...</td>\n",
       "      <td>1</td>\n",
       "      <td>0</td>\n",
       "      <td>0</td>\n",
       "      <td>0</td>\n",
       "      <td>0</td>\n",
       "      <td>0</td>\n",
       "      <td>1</td>\n",
       "      <td>0</td>\n",
       "      <td>0</td>\n",
       "      <td>0</td>\n",
       "    </tr>\n",
       "    <tr>\n",
       "      <th>2</th>\n",
       "      <td>23</td>\n",
       "      <td>2</td>\n",
       "      <td>0</td>\n",
       "      <td>2</td>\n",
       "      <td>9</td>\n",
       "      <td>1</td>\n",
       "      <td>6548</td>\n",
       "      <td>0</td>\n",
       "      <td>0</td>\n",
       "      <td>0</td>\n",
       "      <td>...</td>\n",
       "      <td>0</td>\n",
       "      <td>0</td>\n",
       "      <td>0</td>\n",
       "      <td>1</td>\n",
       "      <td>1</td>\n",
       "      <td>0</td>\n",
       "      <td>0</td>\n",
       "      <td>0</td>\n",
       "      <td>0</td>\n",
       "      <td>0</td>\n",
       "    </tr>\n",
       "    <tr>\n",
       "      <th>3</th>\n",
       "      <td>48</td>\n",
       "      <td>2</td>\n",
       "      <td>1</td>\n",
       "      <td>9</td>\n",
       "      <td>2</td>\n",
       "      <td>9</td>\n",
       "      <td>4246</td>\n",
       "      <td>0</td>\n",
       "      <td>0</td>\n",
       "      <td>0</td>\n",
       "      <td>...</td>\n",
       "      <td>0</td>\n",
       "      <td>0</td>\n",
       "      <td>0</td>\n",
       "      <td>0</td>\n",
       "      <td>0</td>\n",
       "      <td>0</td>\n",
       "      <td>0</td>\n",
       "      <td>0</td>\n",
       "      <td>0</td>\n",
       "      <td>1</td>\n",
       "    </tr>\n",
       "    <tr>\n",
       "      <th>4</th>\n",
       "      <td>38</td>\n",
       "      <td>2</td>\n",
       "      <td>0</td>\n",
       "      <td>3</td>\n",
       "      <td>4</td>\n",
       "      <td>6</td>\n",
       "      <td>211</td>\n",
       "      <td>0</td>\n",
       "      <td>0</td>\n",
       "      <td>0</td>\n",
       "      <td>...</td>\n",
       "      <td>0</td>\n",
       "      <td>0</td>\n",
       "      <td>0</td>\n",
       "      <td>0</td>\n",
       "      <td>0</td>\n",
       "      <td>1</td>\n",
       "      <td>0</td>\n",
       "      <td>0</td>\n",
       "      <td>0</td>\n",
       "      <td>0</td>\n",
       "    </tr>\n",
       "  </tbody>\n",
       "</table>\n",
       "<p>5 rows × 31 columns</p>\n",
       "</div>"
      ],
      "text/plain": [
       "   年龄  性别  是否老用户  成单时间间隔  备注条数  电话跟进次数  电话呼叫总时长  是否成单  西安  成都 ...   信息产业  \\\n",
       "0  36   2      0      25     6       7     3116     0   0   1 ...      1   \n",
       "1  31   1      1      12     5       7     5742     1   0   0 ...      1   \n",
       "2  23   2      0       2     9       1     6548     0   0   0 ...      0   \n",
       "3  48   2      1       9     2       9     4246     0   0   0 ...      0   \n",
       "4  38   2      0       3     4       6      211     0   0   0 ...      0   \n",
       "\n",
       "   服装纺织  餐饮  环保绿化  爬虫获取  用户自填单  网聊  新媒体  地铁广告  转介绍  \n",
       "0     0   0     0     0      1   0    0     0    0  \n",
       "1     0   0     0     0      0   1    0     0    0  \n",
       "2     0   0     1     1      0   0    0     0    0  \n",
       "3     0   0     0     0      0   0    0     0    1  \n",
       "4     0   0     0     0      1   0    0     0    0  \n",
       "\n",
       "[5 rows x 31 columns]"
      ]
     },
     "execution_count": 10,
     "metadata": {},
     "output_type": "execute_result"
    }
   ],
   "source": [
    "data.head()"
   ]
  },
  {
   "cell_type": "code",
   "execution_count": 11,
   "metadata": {
    "collapsed": true
   },
   "outputs": [],
   "source": [
    "# for i in data['地区'].value_counts().keys():\n",
    "#     data[i] = data['地区'].apply(lambda x: 1 if x == i else 0)\n",
    "# for i in data['行业'].value_counts().keys():\n",
    "#     data[i] = data['行业'].apply(lambda x: 1 if x == i else 0)\n",
    "# for i in data['商机渠道'].value_counts().keys():\n",
    "#     data[i] = data['商机渠道'].apply(lambda x: 1 if x == i else 0)\n",
    "\n",
    "# data.drop('地区',axis = 1, inplace = True)\n",
    "# data.drop('行业',axis = 1, inplace = True)\n",
    "# data.drop('商机渠道',axis = 1, inplace = True)"
   ]
  },
  {
   "cell_type": "markdown",
   "metadata": {},
   "source": [
    "### 打乱数据排列"
   ]
  },
  {
   "cell_type": "code",
   "execution_count": 12,
   "metadata": {
    "collapsed": true
   },
   "outputs": [],
   "source": [
    "train_test_data = data.sample(frac=1).reset_index(drop=True)"
   ]
  },
  {
   "cell_type": "code",
   "execution_count": 13,
   "metadata": {},
   "outputs": [
    {
     "data": {
      "text/html": [
       "<div>\n",
       "<style scoped>\n",
       "    .dataframe tbody tr th:only-of-type {\n",
       "        vertical-align: middle;\n",
       "    }\n",
       "\n",
       "    .dataframe tbody tr th {\n",
       "        vertical-align: top;\n",
       "    }\n",
       "\n",
       "    .dataframe thead th {\n",
       "        text-align: right;\n",
       "    }\n",
       "</style>\n",
       "<table border=\"1\" class=\"dataframe\">\n",
       "  <thead>\n",
       "    <tr style=\"text-align: right;\">\n",
       "      <th></th>\n",
       "      <th>年龄</th>\n",
       "      <th>性别</th>\n",
       "      <th>是否老用户</th>\n",
       "      <th>成单时间间隔</th>\n",
       "      <th>备注条数</th>\n",
       "      <th>电话跟进次数</th>\n",
       "      <th>电话呼叫总时长</th>\n",
       "      <th>是否成单</th>\n",
       "      <th>西安</th>\n",
       "      <th>成都</th>\n",
       "      <th>...</th>\n",
       "      <th>信息产业</th>\n",
       "      <th>服装纺织</th>\n",
       "      <th>餐饮</th>\n",
       "      <th>环保绿化</th>\n",
       "      <th>爬虫获取</th>\n",
       "      <th>用户自填单</th>\n",
       "      <th>网聊</th>\n",
       "      <th>新媒体</th>\n",
       "      <th>地铁广告</th>\n",
       "      <th>转介绍</th>\n",
       "    </tr>\n",
       "  </thead>\n",
       "  <tbody>\n",
       "    <tr>\n",
       "      <th>0</th>\n",
       "      <td>28</td>\n",
       "      <td>1</td>\n",
       "      <td>1</td>\n",
       "      <td>13</td>\n",
       "      <td>6</td>\n",
       "      <td>1</td>\n",
       "      <td>92</td>\n",
       "      <td>0</td>\n",
       "      <td>0</td>\n",
       "      <td>0</td>\n",
       "      <td>...</td>\n",
       "      <td>0</td>\n",
       "      <td>1</td>\n",
       "      <td>0</td>\n",
       "      <td>0</td>\n",
       "      <td>0</td>\n",
       "      <td>1</td>\n",
       "      <td>0</td>\n",
       "      <td>0</td>\n",
       "      <td>0</td>\n",
       "      <td>0</td>\n",
       "    </tr>\n",
       "    <tr>\n",
       "      <th>1</th>\n",
       "      <td>33</td>\n",
       "      <td>1</td>\n",
       "      <td>1</td>\n",
       "      <td>17</td>\n",
       "      <td>1</td>\n",
       "      <td>8</td>\n",
       "      <td>1942</td>\n",
       "      <td>1</td>\n",
       "      <td>0</td>\n",
       "      <td>1</td>\n",
       "      <td>...</td>\n",
       "      <td>0</td>\n",
       "      <td>0</td>\n",
       "      <td>0</td>\n",
       "      <td>0</td>\n",
       "      <td>0</td>\n",
       "      <td>0</td>\n",
       "      <td>1</td>\n",
       "      <td>0</td>\n",
       "      <td>0</td>\n",
       "      <td>0</td>\n",
       "    </tr>\n",
       "    <tr>\n",
       "      <th>2</th>\n",
       "      <td>40</td>\n",
       "      <td>1</td>\n",
       "      <td>1</td>\n",
       "      <td>18</td>\n",
       "      <td>0</td>\n",
       "      <td>9</td>\n",
       "      <td>5521</td>\n",
       "      <td>0</td>\n",
       "      <td>0</td>\n",
       "      <td>0</td>\n",
       "      <td>...</td>\n",
       "      <td>0</td>\n",
       "      <td>1</td>\n",
       "      <td>0</td>\n",
       "      <td>0</td>\n",
       "      <td>0</td>\n",
       "      <td>1</td>\n",
       "      <td>0</td>\n",
       "      <td>0</td>\n",
       "      <td>0</td>\n",
       "      <td>0</td>\n",
       "    </tr>\n",
       "    <tr>\n",
       "      <th>3</th>\n",
       "      <td>41</td>\n",
       "      <td>2</td>\n",
       "      <td>0</td>\n",
       "      <td>20</td>\n",
       "      <td>6</td>\n",
       "      <td>4</td>\n",
       "      <td>1856</td>\n",
       "      <td>0</td>\n",
       "      <td>0</td>\n",
       "      <td>0</td>\n",
       "      <td>...</td>\n",
       "      <td>0</td>\n",
       "      <td>0</td>\n",
       "      <td>0</td>\n",
       "      <td>0</td>\n",
       "      <td>0</td>\n",
       "      <td>0</td>\n",
       "      <td>1</td>\n",
       "      <td>0</td>\n",
       "      <td>0</td>\n",
       "      <td>0</td>\n",
       "    </tr>\n",
       "    <tr>\n",
       "      <th>4</th>\n",
       "      <td>44</td>\n",
       "      <td>2</td>\n",
       "      <td>1</td>\n",
       "      <td>24</td>\n",
       "      <td>8</td>\n",
       "      <td>7</td>\n",
       "      <td>1002</td>\n",
       "      <td>0</td>\n",
       "      <td>0</td>\n",
       "      <td>1</td>\n",
       "      <td>...</td>\n",
       "      <td>0</td>\n",
       "      <td>1</td>\n",
       "      <td>0</td>\n",
       "      <td>0</td>\n",
       "      <td>0</td>\n",
       "      <td>0</td>\n",
       "      <td>0</td>\n",
       "      <td>1</td>\n",
       "      <td>0</td>\n",
       "      <td>0</td>\n",
       "    </tr>\n",
       "  </tbody>\n",
       "</table>\n",
       "<p>5 rows × 31 columns</p>\n",
       "</div>"
      ],
      "text/plain": [
       "   年龄  性别  是否老用户  成单时间间隔  备注条数  电话跟进次数  电话呼叫总时长  是否成单  西安  成都 ...   信息产业  \\\n",
       "0  28   1      1      13     6       1       92     0   0   0 ...      0   \n",
       "1  33   1      1      17     1       8     1942     1   0   1 ...      0   \n",
       "2  40   1      1      18     0       9     5521     0   0   0 ...      0   \n",
       "3  41   2      0      20     6       4     1856     0   0   0 ...      0   \n",
       "4  44   2      1      24     8       7     1002     0   0   1 ...      0   \n",
       "\n",
       "   服装纺织  餐饮  环保绿化  爬虫获取  用户自填单  网聊  新媒体  地铁广告  转介绍  \n",
       "0     1   0     0     0      1   0    0     0    0  \n",
       "1     0   0     0     0      0   1    0     0    0  \n",
       "2     1   0     0     0      1   0    0     0    0  \n",
       "3     0   0     0     0      0   1    0     0    0  \n",
       "4     1   0     0     0      0   0    1     0    0  \n",
       "\n",
       "[5 rows x 31 columns]"
      ]
     },
     "execution_count": 13,
     "metadata": {},
     "output_type": "execute_result"
    }
   ],
   "source": [
    "train_test_data.head()"
   ]
  },
  {
   "cell_type": "markdown",
   "metadata": {},
   "source": [
    "### 提取标签和训练数据"
   ]
  },
  {
   "cell_type": "code",
   "execution_count": 14,
   "metadata": {
    "collapsed": true
   },
   "outputs": [],
   "source": [
    "label = train_test_data['是否成单']\n",
    "train_test_data.drop('是否成单',axis=1,inplace=True)"
   ]
  },
  {
   "cell_type": "markdown",
   "metadata": {},
   "source": [
    "### 对数字分布较大的特征数据进行归一化操作"
   ]
  },
  {
   "cell_type": "code",
   "execution_count": 15,
   "metadata": {},
   "outputs": [
    {
     "name": "stderr",
     "output_type": "stream",
     "text": [
      "C:\\Programs\\Anaconda\\lib\\site-packages\\sklearn\\utils\\validation.py:595: DataConversionWarning: Data with input dtype int64 was converted to float64 by StandardScaler.\n",
      "  warnings.warn(msg, DataConversionWarning)\n",
      "C:\\Programs\\Anaconda\\lib\\site-packages\\sklearn\\utils\\validation.py:595: DataConversionWarning: Data with input dtype int64 was converted to float64 by StandardScaler.\n",
      "  warnings.warn(msg, DataConversionWarning)\n",
      "C:\\Programs\\Anaconda\\lib\\site-packages\\sklearn\\utils\\validation.py:595: DataConversionWarning: Data with input dtype int64 was converted to float64 by StandardScaler.\n",
      "  warnings.warn(msg, DataConversionWarning)\n",
      "C:\\Programs\\Anaconda\\lib\\site-packages\\sklearn\\utils\\validation.py:595: DataConversionWarning: Data with input dtype int64 was converted to float64 by StandardScaler.\n",
      "  warnings.warn(msg, DataConversionWarning)\n",
      "C:\\Programs\\Anaconda\\lib\\site-packages\\sklearn\\utils\\validation.py:595: DataConversionWarning: Data with input dtype int64 was converted to float64 by StandardScaler.\n",
      "  warnings.warn(msg, DataConversionWarning)\n",
      "C:\\Programs\\Anaconda\\lib\\site-packages\\sklearn\\utils\\validation.py:595: DataConversionWarning: Data with input dtype int64 was converted to float64 by StandardScaler.\n",
      "  warnings.warn(msg, DataConversionWarning)\n",
      "C:\\Programs\\Anaconda\\lib\\site-packages\\sklearn\\utils\\validation.py:595: DataConversionWarning: Data with input dtype int64 was converted to float64 by StandardScaler.\n",
      "  warnings.warn(msg, DataConversionWarning)\n",
      "C:\\Programs\\Anaconda\\lib\\site-packages\\sklearn\\utils\\validation.py:595: DataConversionWarning: Data with input dtype int64 was converted to float64 by StandardScaler.\n",
      "  warnings.warn(msg, DataConversionWarning)\n",
      "C:\\Programs\\Anaconda\\lib\\site-packages\\sklearn\\utils\\validation.py:595: DataConversionWarning: Data with input dtype int64 was converted to float64 by StandardScaler.\n",
      "  warnings.warn(msg, DataConversionWarning)\n",
      "C:\\Programs\\Anaconda\\lib\\site-packages\\sklearn\\utils\\validation.py:595: DataConversionWarning: Data with input dtype int64 was converted to float64 by StandardScaler.\n",
      "  warnings.warn(msg, DataConversionWarning)\n"
     ]
    }
   ],
   "source": [
    "X_scaler = StandardScaler()\n",
    "train_test_data['new_call'] = X_scaler.fit_transform(train_test_data['电话呼叫总时长'].values.reshape(-1,1))\n",
    "train_test_data['new_call_num'] = X_scaler.fit_transform(train_test_data['电话跟进次数'].values.reshape(-1,1))\n",
    "train_test_data['new_note'] = X_scaler.fit_transform(train_test_data['备注条数'].values.reshape(-1,1))\n",
    "train_test_data['new_time'] = X_scaler.fit_transform(train_test_data['成单时间间隔'].values.reshape(-1,1))\n",
    "train_test_data['new_age'] = X_scaler.fit_transform(train_test_data['年龄'].values.reshape(-1,1))"
   ]
  },
  {
   "cell_type": "code",
   "execution_count": 16,
   "metadata": {
    "collapsed": true
   },
   "outputs": [],
   "source": [
    "train_test_data.drop(['电话呼叫总时长','电话跟进次数','备注条数','成单时间间隔','年龄'],axis=1,inplace=True)"
   ]
  },
  {
   "cell_type": "code",
   "execution_count": 17,
   "metadata": {},
   "outputs": [
    {
     "data": {
      "text/html": [
       "<div>\n",
       "<style scoped>\n",
       "    .dataframe tbody tr th:only-of-type {\n",
       "        vertical-align: middle;\n",
       "    }\n",
       "\n",
       "    .dataframe tbody tr th {\n",
       "        vertical-align: top;\n",
       "    }\n",
       "\n",
       "    .dataframe thead th {\n",
       "        text-align: right;\n",
       "    }\n",
       "</style>\n",
       "<table border=\"1\" class=\"dataframe\">\n",
       "  <thead>\n",
       "    <tr style=\"text-align: right;\">\n",
       "      <th></th>\n",
       "      <th>性别</th>\n",
       "      <th>是否老用户</th>\n",
       "      <th>西安</th>\n",
       "      <th>成都</th>\n",
       "      <th>重庆</th>\n",
       "      <th>上海</th>\n",
       "      <th>佛山</th>\n",
       "      <th>武汉</th>\n",
       "      <th>北京</th>\n",
       "      <th>深圳</th>\n",
       "      <th>...</th>\n",
       "      <th>用户自填单</th>\n",
       "      <th>网聊</th>\n",
       "      <th>新媒体</th>\n",
       "      <th>地铁广告</th>\n",
       "      <th>转介绍</th>\n",
       "      <th>new_call</th>\n",
       "      <th>new_call_num</th>\n",
       "      <th>new_note</th>\n",
       "      <th>new_time</th>\n",
       "      <th>new_age</th>\n",
       "    </tr>\n",
       "  </thead>\n",
       "  <tbody>\n",
       "    <tr>\n",
       "      <th>0</th>\n",
       "      <td>1</td>\n",
       "      <td>1</td>\n",
       "      <td>0</td>\n",
       "      <td>0</td>\n",
       "      <td>0</td>\n",
       "      <td>0</td>\n",
       "      <td>1</td>\n",
       "      <td>0</td>\n",
       "      <td>0</td>\n",
       "      <td>0</td>\n",
       "      <td>...</td>\n",
       "      <td>1</td>\n",
       "      <td>0</td>\n",
       "      <td>0</td>\n",
       "      <td>0</td>\n",
       "      <td>0</td>\n",
       "      <td>-1.686463</td>\n",
       "      <td>-1.216361</td>\n",
       "      <td>0.523736</td>\n",
       "      <td>-0.174379</td>\n",
       "      <td>-0.750851</td>\n",
       "    </tr>\n",
       "    <tr>\n",
       "      <th>1</th>\n",
       "      <td>1</td>\n",
       "      <td>1</td>\n",
       "      <td>0</td>\n",
       "      <td>1</td>\n",
       "      <td>0</td>\n",
       "      <td>0</td>\n",
       "      <td>0</td>\n",
       "      <td>0</td>\n",
       "      <td>0</td>\n",
       "      <td>0</td>\n",
       "      <td>...</td>\n",
       "      <td>0</td>\n",
       "      <td>1</td>\n",
       "      <td>0</td>\n",
       "      <td>0</td>\n",
       "      <td>0</td>\n",
       "      <td>-0.795893</td>\n",
       "      <td>1.213529</td>\n",
       "      <td>-1.214149</td>\n",
       "      <td>0.288860</td>\n",
       "      <td>-0.174306</td>\n",
       "    </tr>\n",
       "    <tr>\n",
       "      <th>2</th>\n",
       "      <td>1</td>\n",
       "      <td>1</td>\n",
       "      <td>0</td>\n",
       "      <td>0</td>\n",
       "      <td>0</td>\n",
       "      <td>0</td>\n",
       "      <td>1</td>\n",
       "      <td>0</td>\n",
       "      <td>0</td>\n",
       "      <td>0</td>\n",
       "      <td>...</td>\n",
       "      <td>1</td>\n",
       "      <td>0</td>\n",
       "      <td>0</td>\n",
       "      <td>0</td>\n",
       "      <td>0</td>\n",
       "      <td>0.926999</td>\n",
       "      <td>1.560656</td>\n",
       "      <td>-1.561726</td>\n",
       "      <td>0.404670</td>\n",
       "      <td>0.632858</td>\n",
       "    </tr>\n",
       "    <tr>\n",
       "      <th>3</th>\n",
       "      <td>2</td>\n",
       "      <td>0</td>\n",
       "      <td>0</td>\n",
       "      <td>0</td>\n",
       "      <td>0</td>\n",
       "      <td>0</td>\n",
       "      <td>1</td>\n",
       "      <td>0</td>\n",
       "      <td>0</td>\n",
       "      <td>0</td>\n",
       "      <td>...</td>\n",
       "      <td>0</td>\n",
       "      <td>1</td>\n",
       "      <td>0</td>\n",
       "      <td>0</td>\n",
       "      <td>0</td>\n",
       "      <td>-0.837293</td>\n",
       "      <td>-0.174980</td>\n",
       "      <td>0.523736</td>\n",
       "      <td>0.636289</td>\n",
       "      <td>0.748167</td>\n",
       "    </tr>\n",
       "    <tr>\n",
       "      <th>4</th>\n",
       "      <td>2</td>\n",
       "      <td>1</td>\n",
       "      <td>0</td>\n",
       "      <td>1</td>\n",
       "      <td>0</td>\n",
       "      <td>0</td>\n",
       "      <td>0</td>\n",
       "      <td>0</td>\n",
       "      <td>0</td>\n",
       "      <td>0</td>\n",
       "      <td>...</td>\n",
       "      <td>0</td>\n",
       "      <td>0</td>\n",
       "      <td>1</td>\n",
       "      <td>0</td>\n",
       "      <td>0</td>\n",
       "      <td>-1.248399</td>\n",
       "      <td>0.866402</td>\n",
       "      <td>1.218890</td>\n",
       "      <td>1.099529</td>\n",
       "      <td>1.094094</td>\n",
       "    </tr>\n",
       "  </tbody>\n",
       "</table>\n",
       "<p>5 rows × 30 columns</p>\n",
       "</div>"
      ],
      "text/plain": [
       "   性别  是否老用户  西安  成都  重庆  上海  佛山  武汉  北京  深圳    ...     用户自填单  网聊  新媒体  地铁广告  \\\n",
       "0   1      1   0   0   0   0   1   0   0   0    ...         1   0    0     0   \n",
       "1   1      1   0   1   0   0   0   0   0   0    ...         0   1    0     0   \n",
       "2   1      1   0   0   0   0   1   0   0   0    ...         1   0    0     0   \n",
       "3   2      0   0   0   0   0   1   0   0   0    ...         0   1    0     0   \n",
       "4   2      1   0   1   0   0   0   0   0   0    ...         0   0    1     0   \n",
       "\n",
       "   转介绍  new_call  new_call_num  new_note  new_time   new_age  \n",
       "0    0 -1.686463     -1.216361  0.523736 -0.174379 -0.750851  \n",
       "1    0 -0.795893      1.213529 -1.214149  0.288860 -0.174306  \n",
       "2    0  0.926999      1.560656 -1.561726  0.404670  0.632858  \n",
       "3    0 -0.837293     -0.174980  0.523736  0.636289  0.748167  \n",
       "4    0 -1.248399      0.866402  1.218890  1.099529  1.094094  \n",
       "\n",
       "[5 rows x 30 columns]"
      ]
     },
     "execution_count": 17,
     "metadata": {},
     "output_type": "execute_result"
    }
   ],
   "source": [
    "train_test_data.head()"
   ]
  },
  {
   "cell_type": "markdown",
   "metadata": {},
   "source": [
    "### 选取训练集和测试集"
   ]
  },
  {
   "cell_type": "code",
   "execution_count": 18,
   "metadata": {
    "collapsed": true
   },
   "outputs": [],
   "source": [
    "total_lenth = len(train_test_data)\n",
    "train_data = train_test_data.iloc[:int(total_lenth*0.8), :]\n",
    "test_data = train_test_data.iloc[int(total_lenth*0.8):, :]"
   ]
  },
  {
   "cell_type": "code",
   "execution_count": 19,
   "metadata": {
    "collapsed": true
   },
   "outputs": [],
   "source": [
    "label = label.values\n",
    "train_label = label[:int(total_lenth*0.8)]\n",
    "test_label = label[int(total_lenth*0.8):]"
   ]
  },
  {
   "cell_type": "code",
   "execution_count": 20,
   "metadata": {},
   "outputs": [
    {
     "name": "stdout",
     "output_type": "stream",
     "text": [
      "(40000, 30) (10000, 30) (40000,) (10000,)\n"
     ]
    }
   ],
   "source": [
    "print(train_data.shape,test_data.shape,train_label.shape,test_label.shape)"
   ]
  },
  {
   "cell_type": "code",
   "execution_count": 21,
   "metadata": {
    "collapsed": true
   },
   "outputs": [],
   "source": [
    "def acc(x,y):\n",
    "    a = []\n",
    "    for i in range(len(x)):\n",
    "        if x[i]==y[i]:\n",
    "            a.append(1)\n",
    "        else:\n",
    "            a.append(0)\n",
    "    return sum(a)/len(a)"
   ]
  },
  {
   "cell_type": "markdown",
   "metadata": {},
   "source": [
    "### 尝试传统机器学习算法"
   ]
  },
  {
   "cell_type": "code",
   "execution_count": 22,
   "metadata": {
    "collapsed": true
   },
   "outputs": [],
   "source": [
    "from sklearn.linear_model import *\n",
    "from sklearn.ensemble import *\n",
    "from sklearn.svm import *\n",
    "model_list = {\n",
    "    'LR' : LogisticRegression(C = 1.0, penalty='l2', multi_class='ovr'),\n",
    "    'GBDT' : GradientBoostingClassifier(criterion='friedman_mse', init=None,\n",
    "              learning_rate=0.00001, loss='deviance', max_depth=9,\n",
    "              max_features=None, max_leaf_nodes=None,\n",
    "              min_impurity_decrease=0.0, min_impurity_split=None,\n",
    "              min_samples_leaf=1, min_samples_split=2,\n",
    "              min_weight_fraction_leaf=0.0, n_estimators=50,\n",
    "              presort='auto', random_state=2017, subsample=1.0, verbose=0,\n",
    "              warm_start=False),\n",
    "    'RF' : RandomForestClassifier(bootstrap=True, class_weight=None, criterion='gini',\n",
    "            max_depth=9, max_features='auto', max_leaf_nodes=None,\n",
    "            min_impurity_decrease=0.0, min_impurity_split=None,\n",
    "            min_samples_leaf=1, min_samples_split=2,\n",
    "            min_weight_fraction_leaf=0.0, n_estimators=50, n_jobs=1,\n",
    "            oob_score=False, random_state=2017, verbose=0,\n",
    "            warm_start=False),\n",
    "    'AdaBoost' : AdaBoostClassifier(algorithm='SAMME.R', base_estimator=None,\n",
    "          learning_rate=0.1, n_estimators=50, random_state=2017),\n",
    "    'Bagging' : BaggingClassifier(base_estimator=None, bootstrap=True,\n",
    "         bootstrap_features=False, max_features=1.0, max_samples=1.0,\n",
    "         n_estimators=50, n_jobs=1, oob_score=False, random_state=2017,\n",
    "         verbose=0, warm_start=False),\n",
    "    'ExtraTrees' : ExtraTreesClassifier(bootstrap=False, class_weight=None, criterion='gini',\n",
    "           max_depth=9, max_features='auto', max_leaf_nodes=None,\n",
    "           min_impurity_decrease=0.0, min_impurity_split=None,\n",
    "           min_samples_leaf=1, min_samples_split=2,\n",
    "           min_weight_fraction_leaf=0.0, n_estimators=50, n_jobs=1,\n",
    "           oob_score=False, random_state=2017, verbose=0, warm_start=False),\n",
    "    'SVM' : SVC(kernel='rbf',\n",
    "                   max_iter=1000,\n",
    "                   tol=1e-4, random_state=2017,\n",
    "                   decision_function_shape='ovr'),\n",
    "    \n",
    "}"
   ]
  },
  {
   "cell_type": "code",
   "execution_count": 23,
   "metadata": {},
   "outputs": [
    {
     "name": "stdout",
     "output_type": "stream",
     "text": [
      "0.829 0.8382\n"
     ]
    }
   ],
   "source": [
    "model = model_list['RF']\n",
    "model.fit(train_data,train_label)\n",
    "y_predict = model.predict(test_data)\n",
    "y_train = model.predict(train_data)\n",
    "v = acc(y_predict,test_label)\n",
    "t = acc(y_train,train_label)\n",
    "print(v,t)\n"
   ]
  },
  {
   "cell_type": "code",
   "execution_count": 24,
   "metadata": {},
   "outputs": [
    {
     "name": "stdout",
     "output_type": "stream",
     "text": [
      "0.36572700296735905\n"
     ]
    }
   ],
   "source": [
    "from sklearn import metrics\n",
    "accurate = metrics.f1_score(test_label,y_predict)\n",
    "print(accurate)"
   ]
  },
  {
   "cell_type": "code",
   "execution_count": 25,
   "metadata": {},
   "outputs": [
    {
     "data": {
      "text/plain": [
       "([0,\n",
       "  1,\n",
       "  2,\n",
       "  3,\n",
       "  4,\n",
       "  5,\n",
       "  6,\n",
       "  7,\n",
       "  8,\n",
       "  9,\n",
       "  10,\n",
       "  11,\n",
       "  12,\n",
       "  13,\n",
       "  14,\n",
       "  15,\n",
       "  16,\n",
       "  17,\n",
       "  18,\n",
       "  19,\n",
       "  20,\n",
       "  21,\n",
       "  22,\n",
       "  23,\n",
       "  24,\n",
       "  25,\n",
       "  26,\n",
       "  27,\n",
       "  28,\n",
       "  29],\n",
       " <a list of 30 Text yticklabel objects>)"
      ]
     },
     "execution_count": 25,
     "metadata": {},
     "output_type": "execute_result"
    },
    {
     "data": {
      "image/png": "[encoded data removed]",
      "text/plain": [
       "<Figure size 612x576 with 1 Axes>"
      ]
     },
     "metadata": {
      "needs_background": "light"
     },
     "output_type": "display_data"
    }
   ],
   "source": [
    "plt.figure(figsize=(8.5,8))\n",
    "plt.barh(train_test_data.keys(),model.feature_importances_)\n",
    "plt.xticks(fontsize=15)\n",
    "plt.yticks(fontsize=15)"
   ]
  },
  {
   "cell_type": "code",
   "execution_count": 26,
   "metadata": {},
   "outputs": [
    {
     "name": "stderr",
     "output_type": "stream",
     "text": [
      "C:\\Programs\\Anaconda\\lib\\site-packages\\sklearn\\linear_model\\logistic.py:433: FutureWarning: Default solver will be changed to 'lbfgs' in 0.22. Specify a solver to silence this warning.\n",
      "  FutureWarning)\n"
     ]
    },
    {
     "name": "stdout",
     "output_type": "stream",
     "text": [
      "LR : 0.8218 0.8283\n",
      "GBDT : 0.7982 0.800425\n",
      "RF : 0.829 0.8382\n",
      "AdaBoost : 0.7982 0.800425\n",
      "Bagging : 0.8806 0.999325\n",
      "ExtraTrees : 0.8024 0.80595\n"
     ]
    },
    {
     "name": "stderr",
     "output_type": "stream",
     "text": [
      "C:\\Programs\\Anaconda\\lib\\site-packages\\sklearn\\svm\\base.py:196: FutureWarning: The default value of gamma will change from 'auto' to 'scale' in version 0.22 to account better for unscaled features. Set gamma explicitly to 'auto' or 'scale' to avoid this warning.\n",
      "  \"avoid this warning.\", FutureWarning)\n",
      "C:\\Programs\\Anaconda\\lib\\site-packages\\sklearn\\svm\\base.py:244: ConvergenceWarning: Solver terminated early (max_iter=1000).  Consider pre-processing your data with StandardScaler or MinMaxScaler.\n",
      "  % self.max_iter, ConvergenceWarning)\n"
     ]
    },
    {
     "name": "stdout",
     "output_type": "stream",
     "text": [
      "SVM : 0.6245 0.62555\n"
     ]
    }
   ],
   "source": [
    "accv=[]\n",
    "acct=[]\n",
    "for name,model in model_list.items():\n",
    "    model.fit(train_data,train_label)\n",
    "    y_predict = model.predict(test_data)\n",
    "    y_train = model.predict(train_data)\n",
    "    v = acc(y_predict,test_label)\n",
    "    t = acc(y_train,train_label)\n",
    "    print(name,':',v,t)\n",
    "    accv.append(v)\n",
    "    acct.append(t)"
   ]
  },
  {
   "cell_type": "code",
   "execution_count": 27,
   "metadata": {},
   "outputs": [
    {
     "data": {
      "text/plain": [
       "Text(0, 0.5, '准确率')"
      ]
     },
     "execution_count": 27,
     "metadata": {},
     "output_type": "execute_result"
    },
    {
     "data": {
      "image/png": "[encoded data removed]",
      "text/plain": [
       "<Figure size 612x576 with 1 Axes>"
      ]
     },
     "metadata": {
      "needs_background": "light"
     },
     "output_type": "display_data"
    }
   ],
   "source": [
    "plt.figure(figsize=(8.5, 8))\n",
    "plt.xticks(fontsize=15)\n",
    "plt.yticks(fontsize=15)\n",
    "plt.plot(model_list.keys(),accv,'ro-', label = '测试集')\n",
    "plt.plot(model_list.keys(),acct,'bo-', label = '训练集')\n",
    "plt.plot(model_list.keys(),[0.83 for i in range(len(accv))],'--',label='最佳准确率=0.83')\n",
    "plt.legend(fontsize=15)\n",
    "plt.xlabel('算法模型',fontsize=15)\n",
    "plt.ylabel('准确率',fontsize=15)"
   ]
  },
  {
   "cell_type": "markdown",
   "metadata": {},
   "source": [
    "### 尝试神经网络"
   ]
  },
  {
   "cell_type": "code",
   "execution_count": 28,
   "metadata": {
    "collapsed": true
   },
   "outputs": [],
   "source": [
    "import torch\n",
    "import torch.nn as nn\n",
    "import torch.nn.functional as F\n",
    "from torch.optim.lr_scheduler import ReduceLROnPlateau"
   ]
  },
  {
   "cell_type": "code",
   "execution_count": 29,
   "metadata": {
    "collapsed": true
   },
   "outputs": [],
   "source": [
    "class classifier_dropout(nn.Module):\n",
    "    def __init__(self):\n",
    "        super(classifier_dropout,self).__init__()\n",
    "        self.linear1 = nn.Linear(30,512)\n",
    "        self.bn1 = nn.Dropout(0.5)\n",
    "        self.relu1 = nn.ReLU(inplace=True)\n",
    "        self.linear2 = nn.Linear(512,256)\n",
    "        self.bn2 = nn.Dropout(0.5)\n",
    "        self.relu2 = nn.ReLU(inplace=True)\n",
    "        self.linear3 = nn.Linear(256,128)\n",
    "        self.bn3 = nn.Dropout(0.5)\n",
    "        self.relu3 = nn.ReLU(inplace=True)\n",
    "        self.linear4 = nn.Linear(896,1)\n",
    "    def forward(self,x):\n",
    "        x = self.linear1(x)\n",
    "        x = self.bn1(x)\n",
    "        x1 = self.relu1(x)\n",
    "        x2 = self.linear2(x1)\n",
    "        x2 = self.bn2(x2)\n",
    "        x2 = self.relu2(x2)\n",
    "        x3 = self.linear3(x2)\n",
    "        x3 = self.bn3(x3)\n",
    "        x3 = self.relu3(x3)\n",
    "        x3 = torch.cat((x1,x2,x3),1)\n",
    "        x3 = self.linear4(x3)\n",
    "        return x3"
   ]
  },
  {
   "cell_type": "code",
   "execution_count": 30,
   "metadata": {
    "collapsed": true
   },
   "outputs": [],
   "source": [
    "class classifier(nn.Module):\n",
    "    def __init__(self):\n",
    "        super(classifier,self).__init__()\n",
    "        self.linear1 = nn.Linear(30,512)\n",
    "        self.relu1 = nn.ReLU(inplace=True)\n",
    "        self.linear2 = nn.Linear(512,256)\n",
    "        self.relu2 = nn.ReLU(inplace=True)\n",
    "        self.linear3 = nn.Linear(256,128)\n",
    "        self.relu3 = nn.ReLU(inplace=True)\n",
    "        self.linear4 = nn.Linear(896,1)\n",
    "    def forward(self,x):\n",
    "        x = self.linear1(x)\n",
    "        x1 = self.relu1(x)\n",
    "        x2 = self.linear2(x1)\n",
    "        x2 = self.relu2(x2)\n",
    "        x3 = self.linear3(x2)\n",
    "        x3 = self.relu3(x3)\n",
    "        x3 = torch.cat((x1,x2,x3),1)\n",
    "        x3 = self.linear4(x3)\n",
    "        return x3"
   ]
  },
  {
   "cell_type": "code",
   "execution_count": 31,
   "metadata": {
    "collapsed": true
   },
   "outputs": [],
   "source": [
    "class classifier_simple(nn.Module):\n",
    "    def __init__(self):\n",
    "        super(classifier_simple,self).__init__()\n",
    "        self.linear1 = nn.Linear(30,512)\n",
    "        self.relu1 = nn.ReLU(inplace=True)\n",
    "        self.linear2 = nn.Linear(512,256)\n",
    "        self.relu2 = nn.ReLU(inplace=True)\n",
    "        self.linear3 = nn.Linear(256,128)\n",
    "        self.relu3 = nn.ReLU(inplace=True)\n",
    "        self.linear4 = nn.Linear(128,1)\n",
    "    def forward(self,x):\n",
    "        x = self.linear1(x)\n",
    "        x1 = self.relu1(x)\n",
    "        x2 = self.linear2(x1)\n",
    "        x2 = self.relu2(x2)\n",
    "        x3 = self.linear3(x2)\n",
    "        x3 = self.relu3(x3)\n",
    "        x3 = self.linear4(x3)\n",
    "        return x3"
   ]
  },
  {
   "cell_type": "code",
   "execution_count": 32,
   "metadata": {},
   "outputs": [
    {
     "name": "stdout",
     "output_type": "stream",
     "text": [
      "1/20 : 0.7982 0.800425\n",
      "2/20 : 0.7982 0.800425\n",
      "3/20 : 0.7982 0.800425\n",
      "4/20 : 0.7982 0.80045\n",
      "5/20 : 0.7988 0.800975\n",
      "6/20 : 0.7996 0.8036\n",
      "7/20 : 0.7934 0.7977\n",
      "8/20 : 0.8149 0.819675\n",
      "9/20 : 0.5887 0.57795\n",
      "10/20 : 0.7982 0.800425\n",
      "11/20 : 0.7982 0.800425\n",
      "12/20 : 0.7482 0.75045\n",
      "13/20 : 0.793 0.795125\n",
      "14/20 : 0.7969 0.798625\n",
      "15/20 : 0.7967 0.7998\n",
      "16/20 : 0.4776 0.477825\n",
      "17/20 : 0.7982 0.800425\n",
      "18/20 : 0.7073 0.711525\n",
      "19/20 : 0.6447 0.6486\n",
      "20/20 : 0.7982 0.80035\n",
      "21/20 : 0.7982 0.800375\n",
      "22/20 : 0.6383 0.637425\n",
      "23/20 : 0.7981 0.8003\n",
      "24/20 : 0.7982 0.800375\n",
      "25/20 : 0.7532 0.754125\n",
      "26/20 : 0.7583 0.7627\n",
      "27/20 : 0.7918 0.792575\n",
      "28/20 : 0.7982 0.800425\n",
      "29/20 : 0.7982 0.8004\n",
      "30/20 : 0.8166 0.817325\n",
      "31/20 : 0.7812 0.782525\n",
      "32/20 : 0.8011 0.80355\n",
      "33/20 : 0.7966 0.79875\n",
      "34/20 : 0.816 0.8202\n",
      "35/20 : 0.7944 0.79625\n",
      "36/20 : 0.7981 0.800425\n",
      "37/20 : 0.7912 0.7931\n",
      "38/20 : 0.7982 0.800475\n",
      "39/20 : 0.7971 0.80655\n",
      "40/20 : 0.7968 0.8026\n",
      "41/20 : 0.793 0.79765\n",
      "42/20 : 0.7793 0.78095\n",
      "Epoch    41: reducing learning rate of group 0 to 1.0000e-05.\n",
      "43/20 : 0.7935 0.794325\n",
      "44/20 : 0.8035 0.805325\n",
      "45/20 : 0.8121 0.814075\n",
      "46/20 : 0.8177 0.820125\n",
      "47/20 : 0.7846 0.79065\n",
      "48/20 : 0.8298 0.8316\n",
      "49/20 : 0.8315 0.8314\n",
      "50/20 : 0.8069 0.807675\n",
      "51/20 : 0.8292 0.83015\n",
      "52/20 : 0.8291 0.831225\n",
      "53/20 : 0.8215 0.826125\n",
      "54/20 : 0.8167 0.8216\n",
      "55/20 : 0.8266 0.8312\n",
      "56/20 : 0.8273 0.8271\n",
      "57/20 : 0.8293 0.832025\n",
      "58/20 : 0.8254 0.825375\n",
      "59/20 : 0.8285 0.8292\n",
      "60/20 : 0.8291 0.832975\n",
      "61/20 : 0.8267 0.830425\n",
      "62/20 : 0.8201 0.82555\n",
      "63/20 : 0.818 0.8247\n",
      "64/20 : 0.8198 0.826325\n",
      "65/20 : 0.8234 0.82985\n",
      "66/20 : 0.8296 0.8352\n",
      "67/20 : 0.829 0.834225\n",
      "68/20 : 0.8375 0.84085\n",
      "Epoch    67: reducing learning rate of group 0 to 1.0000e-06.\n",
      "69/20 : 0.8377 0.840925\n",
      "70/20 : 0.8377 0.841075\n",
      "71/20 : 0.8369 0.841125\n",
      "72/20 : 0.837 0.84095\n",
      "73/20 : 0.8368 0.840775\n",
      "74/20 : 0.8371 0.84065\n",
      "75/20 : 0.8373 0.83985\n",
      "76/20 : 0.8377 0.839575\n",
      "77/20 : 0.8367 0.83945\n",
      "78/20 : 0.8366 0.839275\n",
      "79/20 : 0.8369 0.83945\n",
      "80/20 : 0.8374 0.839575\n",
      "81/20 : 0.8373 0.840225\n",
      "82/20 : 0.8369 0.840925\n",
      "83/20 : 0.8365 0.84115\n",
      "84/20 : 0.8385 0.841925\n",
      "85/20 : 0.8403 0.84295\n",
      "86/20 : 0.8401 0.844325\n",
      "87/20 : 0.8408 0.84495\n",
      "88/20 : 0.8408 0.844825\n",
      "89/20 : 0.8401 0.844575\n",
      "90/20 : 0.8401 0.844425\n",
      "91/20 : 0.8395 0.8443\n",
      "92/20 : 0.839 0.84345\n",
      "93/20 : 0.8381 0.842325\n",
      "94/20 : 0.8369 0.841425\n",
      "Epoch    93: reducing learning rate of group 0 to 1.0000e-07.\n",
      "95/20 : 0.8366 0.8414\n",
      "96/20 : 0.8366 0.841325\n",
      "97/20 : 0.8361 0.841325\n",
      "98/20 : 0.8363 0.84115\n",
      "99/20 : 0.8363 0.84105\n",
      "100/20 : 0.8364 0.841\n",
      "101/20 : 0.8361 0.841\n",
      "102/20 : 0.836 0.841\n",
      "103/20 : 0.8364 0.840975\n",
      "104/20 : 0.8362 0.8408\n",
      "105/20 : 0.8363 0.840775\n",
      "106/20 : 0.8362 0.84085\n",
      "107/20 : 0.8364 0.84085\n",
      "108/20 : 0.8362 0.840775\n",
      "109/20 : 0.8364 0.8409\n",
      "110/20 : 0.836 0.84095\n",
      "111/20 : 0.836 0.840875\n",
      "112/20 : 0.8364 0.84095\n",
      "113/20 : 0.8364 0.841175\n",
      "114/20 : 0.8362 0.84105\n",
      "115/20 : 0.8363 0.841175\n",
      "116/20 : 0.8365 0.841375\n",
      "117/20 : 0.8368 0.841575\n",
      "118/20 : 0.8373 0.841575\n",
      "119/20 : 0.8373 0.842025\n",
      "120/20 : 0.8377 0.842225\n",
      "Epoch   119: reducing learning rate of group 0 to 1.0000e-08.\n",
      "121/20 : 0.8378 0.842325\n",
      "122/20 : 0.8378 0.84245\n",
      "123/20 : 0.8378 0.842525\n",
      "124/20 : 0.8377 0.842475\n",
      "125/20 : 0.8377 0.84255\n",
      "126/20 : 0.8377 0.84255\n",
      "127/20 : 0.8377 0.84245\n",
      "128/20 : 0.8379 0.842425\n",
      "129/20 : 0.8378 0.8423\n",
      "130/20 : 0.8377 0.8424\n",
      "131/20 : 0.8379 0.84255\n",
      "132/20 : 0.8381 0.842575\n",
      "133/20 : 0.8382 0.8426\n",
      "134/20 : 0.838 0.842675\n",
      "135/20 : 0.8381 0.842775\n",
      "136/20 : 0.838 0.84275\n",
      "137/20 : 0.838 0.842775\n",
      "138/20 : 0.8381 0.842775\n",
      "139/20 : 0.8383 0.84275\n",
      "140/20 : 0.8382 0.8427\n",
      "141/20 : 0.838 0.842625\n",
      "142/20 : 0.8381 0.842525\n",
      "143/20 : 0.838 0.842625\n",
      "144/20 : 0.8383 0.84265\n",
      "145/20 : 0.8382 0.842625\n",
      "146/20 : 0.8381 0.842525\n",
      "147/20 : 0.8386 0.8427\n",
      "148/20 : 0.8384 0.8427\n",
      "149/20 : 0.8382 0.8427\n",
      "150/20 : 0.838 0.842825\n",
      "151/20 : 0.838 0.84305\n",
      "152/20 : 0.838 0.843175\n",
      "153/20 : 0.8381 0.8432\n",
      "154/20 : 0.8382 0.8433\n",
      "155/20 : 0.8386 0.843325\n",
      "156/20 : 0.8388 0.843225\n",
      "157/20 : 0.8392 0.84335\n",
      "158/20 : 0.8392 0.843425\n",
      "159/20 : 0.8389 0.843625\n",
      "160/20 : 0.8392 0.843625\n",
      "161/20 : 0.8394 0.843575\n",
      "162/20 : 0.8395 0.8436\n",
      "163/20 : 0.8391 0.843575\n",
      "164/20 : 0.839 0.84355\n",
      "165/20 : 0.8391 0.84365\n",
      "166/20 : 0.839 0.84365\n",
      "167/20 : 0.8393 0.8436\n",
      "168/20 : 0.8395 0.84375\n",
      "169/20 : 0.8393 0.84375\n",
      "170/20 : 0.8393 0.843925\n",
      "171/20 : 0.8393 0.844025\n",
      "172/20 : 0.8391 0.844025\n",
      "173/20 : 0.8395 0.84415\n",
      "174/20 : 0.8397 0.844175\n",
      "175/20 : 0.8397 0.84425\n",
      "176/20 : 0.8397 0.84435\n",
      "177/20 : 0.8396 0.84445\n",
      "178/20 : 0.8397 0.84445\n",
      "179/20 : 0.8395 0.844525\n",
      "180/20 : 0.8395 0.844425\n",
      "181/20 : 0.8394 0.8444\n",
      "182/20 : 0.8393 0.844425\n",
      "183/20 : 0.8391 0.844325\n",
      "184/20 : 0.8391 0.844225\n",
      "185/20 : 0.839 0.84425\n",
      "186/20 : 0.8391 0.8443\n",
      "187/20 : 0.8392 0.844425\n",
      "188/20 : 0.839 0.84455\n",
      "189/20 : 0.8391 0.8445\n",
      "190/20 : 0.839 0.844575\n",
      "191/20 : 0.8391 0.844425\n",
      "192/20 : 0.8391 0.844425\n",
      "193/20 : 0.8392 0.844325\n",
      "194/20 : 0.8392 0.8443\n",
      "195/20 : 0.8392 0.84425\n",
      "196/20 : 0.8393 0.844325\n",
      "197/20 : 0.8392 0.8443\n",
      "198/20 : 0.8393 0.8443\n",
      "199/20 : 0.8394 0.84435\n",
      "200/20 : 0.8394 0.8443\n"
     ]
    },
    {
     "data": {
      "image/png": "[encoded data removed]",
      "text/plain": [
       "<Figure size 432x288 with 1 Axes>"
      ]
     },
     "metadata": {
      "needs_background": "light"
     },
     "output_type": "display_data"
    }
   ],
   "source": [
    "from tensorboardX import SummaryWriter\n",
    "writer = SummaryWriter()\n",
    "model = classifier()\n",
    "\n",
    "optimizer = torch.optim.SGD(model.parameters(),lr=0.0001)\n",
    "scheduler = ReduceLROnPlateau(optimizer, mode= 'min',verbose = True,patience = 25)\n",
    "acc_train = []\n",
    "accu_val = []\n",
    "x = torch.from_numpy(np.array(train_data,dtype = 'float32'))\n",
    "y_true = torch.from_numpy(np.array(train_label.reshape(-1,1),dtype = 'float32'))\n",
    "test_true = np.array(test_label.reshape(-1,1),dtype = 'float32')\n",
    "train_true = np.array(train_label.reshape(-1,1),dtype = 'float32')\n",
    "for i in range(200):\n",
    "    model.train()\n",
    "    y_pred = model(x)\n",
    "    loss = F.binary_cross_entropy_with_logits(y_pred,y_true,reduction='sum')\n",
    "    loss.backward()\n",
    "    optimizer.step()\n",
    "    model.eval()\n",
    "    output = torch.sigmoid(model(torch.from_numpy(np.array(test_data,dtype = 'float32'))))\n",
    "    predict = np.array(list(map(lambda x: 1 if x>0.5 else 0,output.data.numpy().ravel()))).reshape(-1,1)\n",
    "    v = acc(predict,test_true)\n",
    "    accu_val.append(v)\n",
    "    train_output = torch.sigmoid(model(x))\n",
    "    train_predict = np.array(list(map(lambda x: 1 if x>0.5 else 0,train_output.data.numpy()))).reshape(-1,1)\n",
    "    t = acc(train_predict,train_true)\n",
    "    acc_train.append(t)\n",
    "    writer.add_scalar('Train_loss',loss,i)\n",
    "    writer.add_scalar('Train_accuracy',t,i)\n",
    "    writer.add_scalar('Test_accuracy',v,i)\n",
    "    if sum(accu_val[-1]>=np.array(accu_val))==len(accu_val):\n",
    "        torch.save(model.state_dict(),'{}.pt'.format(str(v)))\n",
    "    if sum(accu_val[-1]==np.array(accu_val[-15:]))==15 and len(accu_val)>10:\n",
    "        print('early stop')\n",
    "        break\n",
    "    print(str(i+1)+'/'+'20',':',v,t)\n",
    "    scheduler.step(v)\n",
    "writer.add_graph(model,(x,))\n",
    "plt.plot(accu_val)\n",
    "plt.plot(acc_train)\n",
    "writer.close()"
   ]
  },
  {
   "cell_type": "code",
   "execution_count": 33,
   "metadata": {},
   "outputs": [
    {
     "name": "stdout",
     "output_type": "stream",
     "text": [
      "1/20 : 0.7982 0.800425\n",
      "2/20 : 0.7982 0.800425\n",
      "3/20 : 0.7982 0.800425\n",
      "4/20 : 0.7982 0.800425\n",
      "5/20 : 0.7985 0.80105\n",
      "6/20 : 0.7981 0.801675\n",
      "7/20 : 0.7986 0.80435\n",
      "8/20 : 0.8039 0.813725\n",
      "9/20 : 0.7983 0.800425\n",
      "10/20 : 0.8035 0.8076\n",
      "11/20 : 0.8083 0.815575\n",
      "12/20 : 0.7988 0.801\n",
      "13/20 : 0.8042 0.808975\n",
      "14/20 : 0.7946 0.798175\n",
      "15/20 : 0.8087 0.811325\n",
      "16/20 : 0.8056 0.807325\n",
      "17/20 : 0.83 0.833425\n",
      "18/20 : 0.8367 0.840625\n",
      "19/20 : 0.8264 0.827625\n",
      "20/20 : 0.8284 0.83195\n",
      "21/20 : 0.8378 0.84395\n",
      "22/20 : 0.8413 0.846625\n",
      "23/20 : 0.8286 0.831825\n",
      "24/20 : 0.8349 0.83835\n",
      "25/20 : 0.8449 0.847475\n",
      "26/20 : 0.8417 0.8459\n",
      "27/20 : 0.8327 0.8358\n",
      "28/20 : 0.8286 0.830825\n",
      "29/20 : 0.8375 0.842175\n",
      "30/20 : 0.8429 0.845975\n",
      "31/20 : 0.8386 0.8426\n",
      "32/20 : 0.8356 0.839375\n",
      "33/20 : 0.8383 0.84125\n",
      "34/20 : 0.8406 0.8455\n",
      "35/20 : 0.8404 0.844725\n",
      "36/20 : 0.8365 0.838825\n",
      "37/20 : 0.8379 0.8411\n",
      "38/20 : 0.8478 0.853225\n",
      "39/20 : 0.8484 0.8539\n",
      "40/20 : 0.8432 0.849675\n",
      "Epoch    39: reducing learning rate of group 0 to 1.0000e-05.\n",
      "41/20 : 0.844 0.849825\n",
      "42/20 : 0.8459 0.851575\n",
      "43/20 : 0.8482 0.8536\n",
      "44/20 : 0.8503 0.8557\n",
      "45/20 : 0.8523 0.857525\n",
      "46/20 : 0.8541 0.85905\n",
      "47/20 : 0.8547 0.859775\n",
      "48/20 : 0.8542 0.8595\n",
      "49/20 : 0.8532 0.8592\n",
      "50/20 : 0.8519 0.858725\n",
      "51/20 : 0.8494 0.8566\n",
      "52/20 : 0.8478 0.854075\n",
      "53/20 : 0.8463 0.853725\n",
      "54/20 : 0.8483 0.854825\n",
      "55/20 : 0.8494 0.856025\n",
      "56/20 : 0.8507 0.857325\n",
      "57/20 : 0.8535 0.858175\n",
      "58/20 : 0.8541 0.858825\n",
      "59/20 : 0.8545 0.85945\n",
      "60/20 : 0.8538 0.859525\n",
      "61/20 : 0.8536 0.8589\n",
      "62/20 : 0.8524 0.857975\n",
      "63/20 : 0.8508 0.857225\n",
      "64/20 : 0.8484 0.855225\n",
      "65/20 : 0.8472 0.8534\n",
      "66/20 : 0.8466 0.8534\n",
      "Epoch    65: reducing learning rate of group 0 to 1.0000e-06.\n",
      "67/20 : 0.8465 0.8536\n",
      "68/20 : 0.8468 0.85385\n",
      "69/20 : 0.847 0.85415\n",
      "70/20 : 0.8473 0.854875\n",
      "71/20 : 0.848 0.85575\n",
      "72/20 : 0.849 0.856475\n",
      "73/20 : 0.8496 0.856925\n",
      "74/20 : 0.8505 0.8576\n",
      "75/20 : 0.8512 0.858225\n",
      "76/20 : 0.8518 0.859\n",
      "77/20 : 0.8521 0.85975\n",
      "78/20 : 0.8529 0.859875\n",
      "79/20 : 0.8539 0.860525\n",
      "80/20 : 0.855 0.861275\n",
      "81/20 : 0.8558 0.861675\n",
      "82/20 : 0.8559 0.8618\n",
      "83/20 : 0.8562 0.8619\n",
      "84/20 : 0.8562 0.86205\n",
      "85/20 : 0.857 0.862575\n",
      "86/20 : 0.8572 0.8627\n",
      "87/20 : 0.8568 0.862975\n",
      "88/20 : 0.8574 0.863125\n",
      "89/20 : 0.8577 0.86315\n",
      "90/20 : 0.8574 0.863375\n",
      "91/20 : 0.8574 0.863275\n",
      "92/20 : 0.8576 0.863375\n",
      "Epoch    91: reducing learning rate of group 0 to 1.0000e-07.\n",
      "93/20 : 0.8577 0.86345\n",
      "94/20 : 0.8576 0.863475\n",
      "95/20 : 0.8577 0.863275\n",
      "96/20 : 0.8577 0.86325\n",
      "97/20 : 0.8575 0.863275\n",
      "98/20 : 0.8578 0.863175\n",
      "99/20 : 0.8576 0.8631\n",
      "100/20 : 0.8575 0.863075\n",
      "101/20 : 0.8575 0.863025\n",
      "102/20 : 0.8573 0.8631\n",
      "103/20 : 0.8573 0.863075\n",
      "104/20 : 0.8572 0.863025\n",
      "105/20 : 0.8575 0.863025\n",
      "106/20 : 0.8577 0.863025\n",
      "107/20 : 0.8575 0.8632\n",
      "108/20 : 0.8573 0.86315\n",
      "109/20 : 0.8574 0.8631\n",
      "110/20 : 0.8572 0.863075\n",
      "111/20 : 0.8572 0.86305\n",
      "112/20 : 0.8567 0.8629\n",
      "113/20 : 0.8567 0.8627\n",
      "114/20 : 0.8566 0.862575\n",
      "115/20 : 0.8563 0.862375\n",
      "116/20 : 0.8561 0.862325\n",
      "117/20 : 0.8558 0.862275\n",
      "118/20 : 0.8555 0.8623\n",
      "Epoch   117: reducing learning rate of group 0 to 1.0000e-08.\n",
      "119/20 : 0.8555 0.86225\n",
      "120/20 : 0.8555 0.86225\n",
      "121/20 : 0.8554 0.8622\n",
      "122/20 : 0.8555 0.86215\n",
      "123/20 : 0.8556 0.8622\n",
      "124/20 : 0.8556 0.862175\n",
      "125/20 : 0.8556 0.862225\n",
      "126/20 : 0.8556 0.862225\n",
      "127/20 : 0.8556 0.862125\n",
      "128/20 : 0.8556 0.8621\n",
      "129/20 : 0.8555 0.8621\n",
      "130/20 : 0.8554 0.862075\n",
      "131/20 : 0.8554 0.86205\n",
      "132/20 : 0.8554 0.8621\n",
      "133/20 : 0.8555 0.8621\n",
      "134/20 : 0.8555 0.86205\n",
      "135/20 : 0.8554 0.862075\n",
      "136/20 : 0.8554 0.862075\n",
      "137/20 : 0.8554 0.862075\n",
      "138/20 : 0.8554 0.86205\n",
      "139/20 : 0.8553 0.862\n",
      "140/20 : 0.8552 0.861975\n",
      "141/20 : 0.8552 0.86195\n",
      "142/20 : 0.8551 0.861925\n",
      "143/20 : 0.8551 0.861875\n",
      "144/20 : 0.8551 0.861875\n",
      "145/20 : 0.8551 0.861825\n",
      "146/20 : 0.8551 0.86185\n",
      "147/20 : 0.8549 0.8619\n",
      "148/20 : 0.8549 0.8619\n",
      "149/20 : 0.8549 0.8618\n",
      "150/20 : 0.855 0.8618\n",
      "151/20 : 0.855 0.861825\n",
      "152/20 : 0.855 0.8618\n",
      "153/20 : 0.855 0.861775\n",
      "154/20 : 0.855 0.8618\n",
      "155/20 : 0.855 0.8618\n",
      "156/20 : 0.8549 0.8618\n",
      "157/20 : 0.8549 0.861775\n",
      "158/20 : 0.8551 0.861725\n",
      "159/20 : 0.855 0.861725\n",
      "160/20 : 0.8549 0.86165\n",
      "161/20 : 0.8549 0.861625\n",
      "162/20 : 0.8549 0.861625\n",
      "163/20 : 0.8549 0.861625\n",
      "164/20 : 0.8549 0.861625\n",
      "165/20 : 0.8549 0.861625\n",
      "166/20 : 0.8549 0.861675\n",
      "167/20 : 0.8547 0.8617\n",
      "168/20 : 0.8546 0.861675\n",
      "169/20 : 0.8546 0.8617\n",
      "170/20 : 0.8547 0.861725\n",
      "171/20 : 0.8547 0.8617\n",
      "172/20 : 0.8547 0.861675\n",
      "173/20 : 0.8545 0.861625\n",
      "174/20 : 0.8544 0.86165\n",
      "175/20 : 0.8543 0.861625\n",
      "176/20 : 0.8542 0.8616\n",
      "177/20 : 0.8543 0.861525\n",
      "178/20 : 0.8542 0.861475\n",
      "179/20 : 0.8542 0.861525\n",
      "180/20 : 0.8542 0.8615\n",
      "181/20 : 0.8541 0.861475\n",
      "182/20 : 0.8541 0.86145\n",
      "183/20 : 0.854 0.861425\n",
      "184/20 : 0.8539 0.86145\n",
      "185/20 : 0.8539 0.8614\n",
      "186/20 : 0.8538 0.8614\n",
      "187/20 : 0.8538 0.861475\n",
      "188/20 : 0.8538 0.861475\n",
      "189/20 : 0.8538 0.8614\n",
      "190/20 : 0.8538 0.8614\n",
      "191/20 : 0.8538 0.8614\n",
      "192/20 : 0.8538 0.8613\n",
      "193/20 : 0.8539 0.861325\n",
      "194/20 : 0.8539 0.861325\n",
      "195/20 : 0.854 0.861325\n",
      "196/20 : 0.854 0.86135\n",
      "197/20 : 0.854 0.861375\n",
      "198/20 : 0.854 0.86135\n",
      "199/20 : 0.854 0.861375\n",
      "200/20 : 0.854 0.861375\n"
     ]
    },
    {
     "data": {
      "text/plain": [
       "[<matplotlib.lines.Line2D at 0x28780074898>]"
      ]
     },
     "execution_count": 33,
     "metadata": {},
     "output_type": "execute_result"
    },
    {
     "data": {
      "image/png": "[encoded data removed]",
      "text/plain": [
       "<Figure size 432x288 with 1 Axes>"
      ]
     },
     "metadata": {
      "needs_background": "light"
     },
     "output_type": "display_data"
    }
   ],
   "source": [
    "model = classifier_dropout()\n",
    "\n",
    "optimizer = torch.optim.SGD(model.parameters(),lr=0.0001)\n",
    "scheduler = ReduceLROnPlateau(optimizer, mode= 'min',verbose = True,patience = 25)\n",
    "acc_train_dropout = []\n",
    "accu_val_dropout = []\n",
    "x = torch.from_numpy(np.array(train_data,dtype = 'float32'))\n",
    "y_true = torch.from_numpy(np.array(train_label.reshape(-1,1),dtype = 'float32'))\n",
    "test_true = np.array(test_label.reshape(-1,1),dtype = 'float32')\n",
    "train_true = np.array(train_label.reshape(-1,1),dtype = 'float32')\n",
    "for i in range(200):\n",
    "    model.train()\n",
    "    y_pred = model(x)\n",
    "    loss = F.binary_cross_entropy_with_logits(y_pred,y_true,reduction='sum')\n",
    "    loss.backward()\n",
    "    optimizer.step()\n",
    "    model.eval()\n",
    "    output = torch.sigmoid(model(torch.from_numpy(np.array(test_data,dtype = 'float32'))))\n",
    "    predict = np.array(list(map(lambda x: 1 if x>0.5 else 0,output.data.numpy().ravel()))).reshape(-1,1)\n",
    "    v = acc(predict,test_true)\n",
    "    accu_val_dropout.append(v)\n",
    "    train_output = torch.sigmoid(model(x))\n",
    "    train_predict = np.array(list(map(lambda x: 1 if x>0.5 else 0,train_output.data.numpy()))).reshape(-1,1)\n",
    "    t = acc(train_predict,train_true)\n",
    "    acc_train_dropout.append(t)\n",
    "    if sum(accu_val_dropout[-1]>=np.array(accu_val_dropout))==len(accu_val_dropout):\n",
    "        torch.save(model.state_dict(),'{}.pt'.format(str(v)))\n",
    "    if sum(accu_val_dropout[-1]==np.array(accu_val_dropout[-15:]))==15 and len(accu_val_dropout)>10:\n",
    "        print('early stop')\n",
    "        break\n",
    "    print(str(i+1)+'/'+'20',':',v,t)\n",
    "    scheduler.step(v)\n",
    "plt.plot(accu_val_dropout)\n",
    "plt.plot(acc_train_dropout)"
   ]
  },
  {
   "cell_type": "code",
   "execution_count": 34,
   "metadata": {},
   "outputs": [
    {
     "name": "stdout",
     "output_type": "stream",
     "text": [
      "1/20 : 0.7982 0.800425\n",
      "2/20 : 0.7982 0.800425\n",
      "3/20 : 0.2018 0.199575\n",
      "4/20 : 0.7982 0.800425\n",
      "5/20 : 0.2018 0.199575\n",
      "6/20 : 0.7982 0.800425\n",
      "7/20 : 0.2018 0.199575\n"
     ]
    },
    {
     "name": "stderr",
     "output_type": "stream",
     "text": [
      "C:\\Programs\\Anaconda\\lib\\site-packages\\ipykernel_launcher.py:19: RuntimeWarning: invalid value encountered in greater\n",
      "C:\\Programs\\Anaconda\\lib\\site-packages\\ipykernel_launcher.py:23: RuntimeWarning: invalid value encountered in greater\n"
     ]
    },
    {
     "name": "stdout",
     "output_type": "stream",
     "text": [
      "8/20 : 0.7982 0.800425\n",
      "9/20 : 0.7982 0.800425\n",
      "10/20 : 0.7982 0.800425\n",
      "11/20 : 0.7982 0.800425\n",
      "12/20 : 0.7982 0.800425\n",
      "13/20 : 0.7982 0.800425\n",
      "14/20 : 0.7982 0.800425\n",
      "15/20 : 0.7982 0.800425\n",
      "16/20 : 0.7982 0.800425\n",
      "17/20 : 0.7982 0.800425\n",
      "18/20 : 0.7982 0.800425\n",
      "19/20 : 0.7982 0.800425\n",
      "20/20 : 0.7982 0.800425\n",
      "21/20 : 0.7982 0.800425\n",
      "early stop\n"
     ]
    },
    {
     "data": {
      "text/plain": [
       "[<matplotlib.lines.Line2D at 0x28780209cf8>]"
      ]
     },
     "execution_count": 34,
     "metadata": {},
     "output_type": "execute_result"
    },
    {
     "data": {
      "image/png": "[encoded data removed]",
      "text/plain": [
       "<Figure size 432x288 with 1 Axes>"
      ]
     },
     "metadata": {
      "needs_background": "light"
     },
     "output_type": "display_data"
    }
   ],
   "source": [
    "model = classifier_simple()\n",
    "\n",
    "optimizer = torch.optim.SGD(model.parameters(),lr=0.001,weight_decay=1e-3)\n",
    "scheduler = ReduceLROnPlateau(optimizer, mode= 'min',verbose = True,patience = 25)\n",
    "acc_train_simple = []\n",
    "accu_val_simple = []\n",
    "x = torch.from_numpy(np.array(train_data,dtype = 'float32'))\n",
    "y_true = torch.from_numpy(np.array(train_label.reshape(-1,1),dtype = 'float32'))\n",
    "test_true = np.array(test_label.reshape(-1,1),dtype = 'float32')\n",
    "train_true = np.array(train_label.reshape(-1,1),dtype = 'float32')\n",
    "for i in range(200):\n",
    "    model.train()\n",
    "    y_pred = model(x)\n",
    "    loss = F.binary_cross_entropy_with_logits(y_pred,y_true,reduction='sum')\n",
    "    loss.backward()\n",
    "    optimizer.step()\n",
    "    model.eval()\n",
    "    output = torch.sigmoid(model(torch.from_numpy(np.array(test_data,dtype = 'float32'))))\n",
    "    predict = np.array(list(map(lambda x: 1 if x>0.5 else 0,output.data.numpy().ravel()))).reshape(-1,1)\n",
    "    v = acc(predict,test_true)\n",
    "    accu_val_simple.append(v)\n",
    "    train_output = torch.sigmoid(model(x))\n",
    "    train_predict = np.array(list(map(lambda x: 1 if x>0.5 else 0,train_output.data.numpy()))).reshape(-1,1)\n",
    "    t = acc(train_predict,train_true)\n",
    "    acc_train_simple.append(t)\n",
    "    if sum(accu_val_simple[-1]>=np.array(accu_val_simple))==len(accu_val_simple):\n",
    "        torch.save(model.state_dict(),'{}.pt'.format(str(v)))\n",
    "    if sum(accu_val_simple[-1]==np.array(accu_val_simple[-15:]))==15 and len(accu_val_simple)>15:\n",
    "        print('early stop')\n",
    "        break\n",
    "    print(str(i+1)+'/'+'20',':',v,t)\n",
    "    scheduler.step(v)\n",
    "plt.plot(accu_val)\n",
    "plt.plot(acc_train)"
   ]
  },
  {
   "cell_type": "code",
   "execution_count": 35,
   "metadata": {},
   "outputs": [
    {
     "data": {
      "text/plain": [
       "<matplotlib.legend.Legend at 0x287807765c0>"
      ]
     },
     "execution_count": 35,
     "metadata": {},
     "output_type": "execute_result"
    },
    {
     "data": {
      "image/png": "[encoded data removed]",
      "text/plain": [
       "<Figure size 612x576 with 1 Axes>"
      ]
     },
     "metadata": {
      "needs_background": "light"
     },
     "output_type": "display_data"
    }
   ],
   "source": [
    "plt.figure(figsize=(8.5, 8))\n",
    "plt.xticks(fontsize=15)\n",
    "plt.yticks(fontsize=15)\n",
    "plt.plot(accu_val_simple,label = 'origin')\n",
    "plt.plot(accu_val,label = 'origin')\n",
    "plt.plot(accu_val_dropout,label = 'dropout')\n",
    "plt.xlabel('训练轮数',fontsize=15)\n",
    "plt.ylabel('预测准确率',fontsize=15)\n",
    "plt.legend(fontsize=15)"
   ]
  },
  {
   "cell_type": "code",
   "execution_count": 37,
   "metadata": {
    "collapsed": true
   },
   "outputs": [],
   "source": [
    "for s in score:\n",
    "    accv.append(s)\n",
    "for t in [acc_train_simple[-1],acc_train[-1],acc_train_dropout[-1]]:\n",
    "    acct.append(t)"
   ]
  },
  {
   "cell_type": "code",
   "execution_count": 38,
   "metadata": {
    "scrolled": false
   },
   "outputs": [
    {
     "data": {
      "text/plain": [
       "Text(0, 0.5, '准确率')"
      ]
     },
     "execution_count": 38,
     "metadata": {},
     "output_type": "execute_result"
    },
    {
     "data": {
      "image/png": "[encoded data removed]",
      "text/plain": [
       "<Figure size 612x576 with 1 Axes>"
      ]
     },
     "metadata": {
      "needs_background": "light"
     },
     "output_type": "display_data"
    }
   ],
   "source": [
    "plt.figure(figsize=(8.5, 8))\n",
    "plt.xticks(fontsize=15)\n",
    "plt.yticks(fontsize=15)\n",
    "name = []\n",
    "for k in model_list.keys():\n",
    "    name.append(k)\n",
    "for k in label:\n",
    "    name.append(k)\n",
    "plt.plot(name,accv,'ro-', label = '测试集')\n",
    "plt.plot(name,acct,'bo-', label = '训练集')\n",
    "plt.plot(name,[0.83 for i in range(len(accv))],'--',label='0.83')\n",
    "plt.legend(fontsize=15)\n",
    "plt.xticks(rotation='vertical')\n",
    "plt.xlabel('算法模型',fontsize=15)\n",
    "plt.ylabel('准确率',fontsize=15)"
   ]
  },
  {
   "cell_type": "markdown",
   "metadata": {},
   "source": [
    "# 采用协调过滤算法（CF）\n",
    "协同过滤的主要思想是通过计算**相似度**来进行预测，分为**基于物品的协同过滤**和**基于用户的协同过滤**\n",
    "\n",
    "相似度一般有3种计算方式：\n",
    "1. cosine相似度:$$simularity(A,B)=\\frac{A*B}{|A|*|B|}$$\n",
    "2. Jaccard相似度: $$simularity(A,B)=\\frac{|A\\cap{B}|}{|A\\cup{B}|}$$\n",
    "3. 皮尔逊相似度: $$simularity(A,B)=\\frac{\\sum{(A-\\bar{A})*\\sum{(B-\\bar{B})}}}{\\sqrt{\\sum(A-\\bar{A})^{2}*\\sum(B-\\bar{B})^{2}}}$$\n",
    "\n",
    "为了计算方便，一般采用***cosine***相似度\n",
    "\n",
    "在实施协同过滤算法时，有两种实施方法，一种是**基于物品的协同过滤**一种是**基于用户的协同过滤**\n",
    "1. **基于物品的cf**根据用户的个人喜好来推荐相似产品，倾向于相关性，解释性强\n",
    "2. **基于用户的cf**根据不同用户的相似性，通过相似用户的喜好来进行推荐，倾向于新颖性，解释性弱\n",
    "\n",
    "在本项目中，可以将商机视为商品，将商务视为客户，然后采用**基于商品的协同过滤**，给一个商务匹配与其成功成单数据相似度最高的商机，以提高成单率，优化商机分配\n",
    "\n",
    "协同过滤算法优缺点：\n",
    "1. 优点: 原理简单，方便实施，有一定的准确率\n",
    "2. 缺点: 简单的矩阵计算无法处理大规模高维度数据，可通过矩阵分解来进行优化"
   ]
  },
  {
   "cell_type": "code",
   "execution_count": 47,
   "metadata": {
    "collapsed": true
   },
   "outputs": [],
   "source": [
    "name.append('协同过滤')"
   ]
  },
  {
   "cell_type": "code",
   "execution_count": 39,
   "metadata": {
    "collapsed": true
   },
   "outputs": [],
   "source": [
    "x_train = np.array(train_data)\n",
    "x_test = np.array(test_data)\n",
    "y_train = np.array(train_label)\n",
    "y_test = np.array(test_label)"
   ]
  },
  {
   "cell_type": "code",
   "execution_count": 40,
   "metadata": {
    "collapsed": true
   },
   "outputs": [],
   "source": [
    "# 按cosine相似度进行匹配\n",
    "# 将数据库中与待预测数据相似度最高的那一组数据作为预测值\n",
    "def cf_cosine(x,data_x,data_y):\n",
    "    predict = np.dot(x,data_x.T)/np.dot(np.linalg.norm(x,ord=2,axis=1).reshape(-1,1),np.linalg.norm(data_x,ord=2,axis=1).reshape(1,-1))\n",
    "    idex =  np.argmax(np.abs(predict),axis = 1)\n",
    "    return data_y[idex]\n",
    "    "
   ]
  },
  {
   "cell_type": "code",
   "execution_count": 41,
   "metadata": {},
   "outputs": [
    {
     "name": "stdout",
     "output_type": "stream",
     "text": [
      "58.164220094680786\n"
     ]
    }
   ],
   "source": [
    "start = time.time()\n",
    "predict = cf_cosine(x_test,x_train,y_train)\n",
    "print(time.time()-start)"
   ]
  },
  {
   "cell_type": "code",
   "execution_count": 46,
   "metadata": {
    "collapsed": true
   },
   "outputs": [],
   "source": [
    "accv.append(metrics.accuracy_score(y_test,predict))"
   ]
  },
  {
   "cell_type": "code",
   "execution_count": 52,
   "metadata": {},
   "outputs": [
    {
     "data": {
      "text/plain": [
       "0.7903"
      ]
     },
     "execution_count": 52,
     "metadata": {},
     "output_type": "execute_result"
    }
   ],
   "source": [
    "metrics.accuracy_score(y_test,predict)"
   ]
  },
  {
   "cell_type": "code",
   "execution_count": 55,
   "metadata": {},
   "outputs": [
    {
     "data": {
      "text/plain": [
       "Text(0, 0.5, '准确率')"
      ]
     },
     "execution_count": 55,
     "metadata": {},
     "output_type": "execute_result"
    },
    {
     "data": {
      "image/png": "[encoded data removed]",
      "text/plain": [
       "<Figure size 612x576 with 1 Axes>"
      ]
     },
     "metadata": {
      "needs_background": "light"
     },
     "output_type": "display_data"
    }
   ],
   "source": [
    "plt.figure(figsize=(8.5, 8))\n",
    "plt.xticks(fontsize=15)\n",
    "plt.yticks(fontsize=15)\n",
    "plt.plot(name,accv,'ro-', label = '各模型准确度')\n",
    "plt.plot(name,[0.83 for i in range(len(accv))],'--',label='机器学习最佳准确度：0.83')\n",
    "plt.plot(name,[0.854 for i in range(len(accv))],'--',label='深度学习最佳准确度：0.86')\n",
    "plt.plot(name,[0.79 for i in range(len(accv))],'--',label='协同过滤准确度：0.79')\n",
    "plt.legend(fontsize=15)\n",
    "plt.xticks(rotation='vertical')\n",
    "plt.xlabel('算法模型',fontsize=15)\n",
    "plt.ylabel('准确率',fontsize=15)"
   ]
  },
  {
   "cell_type": "code",
   "execution_count": 2,
   "metadata": {
    "collapsed": true
   },
   "outputs": [],
   "source": [
    "import sklearn\n",
    "from sklearn.metrics.pairwise import cosine_similarity"
   ]
  },
  {
   "cell_type": "code",
   "execution_count": 3,
   "metadata": {
    "collapsed": true
   },
   "outputs": [],
   "source": [
    "cosine_similar"
   ]
  },
  {
   "cell_type": "code",
   "execution_count": null,
   "metadata": {
    "collapsed": true
   },
   "outputs": [],
   "source": []
  }
 ],
 "metadata": {
  "kernelspec": {
   "display_name": "Python 3",
   "language": "python",
   "name": "python3"
  },
  "language_info": {
   "codemirror_mode": {
    "name": "ipython",
    "version": 3
   },
   "file_extension": ".py",
   "mimetype": "text/x-python",
   "name": "python",
   "nbconvert_exporter": "python",
   "pygments_lexer": "ipython3",
   "version": "3.5.4"
  }
 },
 "nbformat": 4,
 "nbformat_minor": 2
}
