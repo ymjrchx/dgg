57 path=loans_drop/jupyter/8.计算偏态和峰度.ipynb
20 ctime=1564113254
20 atime=1564113320
23 SCHILY.dev=16777221
23 SCHILY.ino=11854335
18 SCHILY.nlink=1
