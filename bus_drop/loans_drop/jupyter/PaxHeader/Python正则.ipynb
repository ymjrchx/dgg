46 path=loans_drop/jupyter/Python正则.ipynb
20 ctime=1564113254
20 atime=1564113320
23 SCHILY.dev=16777221
23 SCHILY.ino=11854343
18 SCHILY.nlink=1
