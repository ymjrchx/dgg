58 path=loans_drop/jupyter/制作跟单周期记录.ipynb
20 ctime=1564113254
20 atime=1564113320
23 SCHILY.dev=16777221
23 SCHILY.ino=11854347
18 SCHILY.nlink=1
