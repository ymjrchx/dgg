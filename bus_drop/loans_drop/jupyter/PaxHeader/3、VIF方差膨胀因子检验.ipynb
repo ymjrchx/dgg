65 path=loans_drop/jupyter/3、VIF方差膨胀因子检验.ipynb
20 ctime=1564113254
20 atime=1564113320
23 SCHILY.dev=16777221
23 SCHILY.ino=11854324
18 SCHILY.nlink=1
