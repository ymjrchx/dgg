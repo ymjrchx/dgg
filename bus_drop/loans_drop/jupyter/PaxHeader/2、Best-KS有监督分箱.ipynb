60 path=loans_drop/jupyter/2、Best-KS有监督分箱.ipynb
20 ctime=1564113254
20 atime=1564113320
23 SCHILY.dev=16777221
23 SCHILY.ino=11854322
18 SCHILY.nlink=1
