50 path=loans_drop/jupyter/1、无量纲化.ipynb
20 ctime=1564113254
20 atime=1564113320
23 SCHILY.dev=16777221
23 SCHILY.ino=11854317
18 SCHILY.nlink=1
