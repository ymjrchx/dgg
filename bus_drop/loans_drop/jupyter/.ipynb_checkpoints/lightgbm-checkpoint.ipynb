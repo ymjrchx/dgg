{
 "cells": [
  {
   "cell_type": "code",
   "execution_count": null,
   "metadata": {},
   "outputs": [],
   "source": [
    "import os\n",
    "import numpy as np\n",
    "\n",
    "import matplotlib.pyplot as plt\n",
    "import pandas as pd\n",
    "import sys\n",
    "curPath = os.path.abspath(os.path.dirname('__file__'))\n",
    "rootPath = os.path.split(curPath)[0]\n",
    "sys.path.append(os.path.split(rootPath)[0])\n",
    "# plt.rcParams['font.sans-serif'] = ['SimHei']  # 用来正常显示中文标签\n",
    "plt.rcParams['font.sans-serif'] = ['Arial Unicode MS'] # Mac下使用\n",
    "plt.rcParams['axes.unicode_minus'] = False  # 用来正常显示负号\n",
    "\n",
    "from dgg_constant.Dgg_path import data_path\n",
    "from dgg_constant.recommend_push_feature import *\n",
    "\n",
    "# 导入数据包\n",
    "import pandas as pd\n",
    "import lightgbm as lgb\n",
    "from sklearn.model_selection import StratifiedKFold,GridSearchCV\n",
    "from sklearn.metrics import f1_score\n",
    "import numpy as np\n",
    "import os\n",
    "from sklearn.preprocessing import MinMaxScaler,StandardScaler\n",
    "import matplotlib.pyplot as plt\n",
    "from sklearn.externals import joblib\n",
    "import missingno as msno\n",
    "from sklearn import metrics"
   ]
  },
  {
   "cell_type": "code",
   "execution_count": null,
   "metadata": {
    "scrolled": true
   },
   "outputs": [],
   "source": [
    "df = pd.read_csv('/Users/luocheng/Documents/dgg/bss-recommended-platform/dgg_recommend_push/data/total_data20190524.csv',encoding = 'utf-8')\n",
    "print(df.shape)\n",
    "print(df.info())\n",
    "df.head()"
   ]
  },
  {
   "cell_type": "code",
   "execution_count": null,
   "metadata": {},
   "outputs": [],
   "source": [
    "import pandas_profiling\n",
    "import warnings\n",
    "warnings.filterwarnings('ignore')\n",
    "sns.set_context(\"poster\", font_scale=1.3)\n",
    "\n",
    "pandas_profiling.ProfileReport(df)"
   ]
  },
  {
   "cell_type": "code",
   "execution_count": null,
   "metadata": {},
   "outputs": [],
   "source": [
    "def get_label(x):\n",
    "    if x >= 0:\n",
    "        return 1\n",
    "    else:\n",
    "        return 0"
   ]
  },
  {
   "cell_type": "code",
   "execution_count": null,
   "metadata": {
    "scrolled": true
   },
   "outputs": [],
   "source": [
    "df['label']= df['product_amount'].apply(lambda x: get_label(x))\n",
    "print(df.shape)\n",
    "print(df.info())\n",
    "print(df['label'].value_counts())\n",
    "df.head()"
   ]
  },
  {
   "cell_type": "code",
   "execution_count": null,
   "metadata": {},
   "outputs": [],
   "source": []
  },
  {
   "cell_type": "markdown",
   "metadata": {},
   "source": [
    "# 特征筛选"
   ]
  },
  {
   "cell_type": "code",
   "execution_count": null,
   "metadata": {
    "scrolled": true
   },
   "outputs": [],
   "source": [
    "## 对特征进行分类，分为连续型，类别型和布尔型\n",
    "# df = df.drop(['customer_id', 'login_name','product_amount','salary_score', 'behaviorScore', 'performanceRank','placeCode'],axis=1)\n",
    "continues_columns = ['followTimes','allotNumber',\n",
    "'avgAddWechatFriendCount','avgCallCount','avgIntentCustomerCount','avgSignBillDays','avgToDoorCount',\n",
    "         'loanRate','signBillCount','signBillRate','avgWorkHour','toDoorRate',\n",
    "         'age','locked','work_age','average_performance_amount','average_profit_amount','average_internal_cost',\n",
    "         'average_external_cost','average_payment_amount','average_business_amount','average_cost_price','average_CALL_0940_1040',\n",
    "         'average_CALL_1100_1200','average_CALL_1400_1500','average_CALL_1520_1620','average_achievement','average_profit',\n",
    "         'average_internal_cost_orf','average_external_cost_orf','average_assist_achievement','average_assist_profit',\n",
    "         'flagContent','flagRemark','invalidNumber','callTimes','avgCallDuration']\n",
    "\n",
    "category_columns = ['businessStatus','businessOperate', 'addTypeCode','opportunitytypeCode',\n",
    "                     'originCode','businessLocation','originType',\n",
    "                     'uploadType','widelyType','lastLoseType','wayCode','referral',\n",
    "                    'vip', 'refundOrderSign','isMind','isCost','rank']\n",
    "\n",
    "bool_columns = ['locked','coverCharge', 'signOderNum','sex','post']\n",
    "df = df[list(set(continues_columns+category_columns+bool_columns+['label']))]\n",
    "print(df.shape)\n",
    "print(df.info())\n",
    "print(df['label'].value_counts())\n",
    "df.head()"
   ]
  },
  {
   "cell_type": "code",
   "execution_count": null,
   "metadata": {
    "scrolled": true
   },
   "outputs": [],
   "source": [
    "# 离散型变量,如果某一取值的数量超过了95%，则舍弃该变量\n",
    "remove = set()\n",
    "print('处理类别型变量')\n",
    "for k in category_columns+bool_columns:\n",
    "    counts = df[k].value_counts()\n",
    "    num = sum(counts)\n",
    "    for v in counts:\n",
    "        if v/num>=0.65:\n",
    "#             print(k)\n",
    "#             print(counts)\n",
    "            remove.add(k)\n",
    "print('处理连续型变量')\n",
    "for k in continues_columns:\n",
    "    describe = df[k].describe()\n",
    "    if describe[4]==describe[6]:\n",
    "        remove.add(k)\n",
    "#         print(k,describe[4],describe[6])\n",
    "remove.add('placeCode')\n",
    "remove = list(remove)\n",
    "df.drop(columns = remove, axis = 1, inplace=True)\n",
    "print(df.shape)\n",
    "df.head()"
   ]
  },
  {
   "cell_type": "code",
   "execution_count": null,
   "metadata": {},
   "outputs": [],
   "source": [
    "df['average_payment_amount'].describe().reset_index()"
   ]
  },
  {
   "cell_type": "code",
   "execution_count": null,
   "metadata": {},
   "outputs": [],
   "source": [
    "df.drop_duplicates(keep='first', inplace=True)\n",
    "print(df.shape)"
   ]
  },
  {
   "cell_type": "code",
   "execution_count": null,
   "metadata": {},
   "outputs": [],
   "source": []
  },
  {
   "cell_type": "markdown",
   "metadata": {},
   "source": [
    "# 缺失值筛选特征"
   ]
  },
  {
   "cell_type": "code",
   "execution_count": null,
   "metadata": {},
   "outputs": [],
   "source": [
    "msno.matrix(df, labels=True)"
   ]
  },
  {
   "cell_type": "code",
   "execution_count": null,
   "metadata": {},
   "outputs": [],
   "source": [
    "from dgg_recommend_push.feature_engineering.feature_select import *\n",
    "coloumns = missing_ratio(df, rate=50)\n",
    "df = df[coloumns]\n",
    "print(df.shape)\n",
    "df.head()"
   ]
  },
  {
   "cell_type": "code",
   "execution_count": null,
   "metadata": {},
   "outputs": [],
   "source": [
    "for name in df.columns.values.tolist():\n",
    "    if name in continues_columns:\n",
    "        df[name].fillna(df[name].median(), inplace=True)\n",
    "    else:\n",
    "        df[name].fillna(df[name].mode()[0], inplace=True)\n",
    "msno.matrix(df, labels=True)"
   ]
  },
  {
   "cell_type": "code",
   "execution_count": null,
   "metadata": {},
   "outputs": [],
   "source": []
  },
  {
   "cell_type": "code",
   "execution_count": null,
   "metadata": {},
   "outputs": [],
   "source": []
  },
  {
   "cell_type": "code",
   "execution_count": null,
   "metadata": {},
   "outputs": [],
   "source": []
  },
  {
   "cell_type": "code",
   "execution_count": null,
   "metadata": {},
   "outputs": [],
   "source": []
  },
  {
   "cell_type": "code",
   "execution_count": null,
   "metadata": {},
   "outputs": [],
   "source": []
  },
  {
   "cell_type": "code",
   "execution_count": null,
   "metadata": {},
   "outputs": [],
   "source": []
  },
  {
   "cell_type": "markdown",
   "metadata": {},
   "source": [
    "# 特征离散化"
   ]
  },
  {
   "cell_type": "code",
   "execution_count": null,
   "metadata": {},
   "outputs": [],
   "source": [
    "k = 10\n",
    "df_columns = df.columns.values.tolist()\n",
    "for name in continues_columns:\n",
    "    if name in df_columns:\n",
    "        df[name] = pd.cut(df[name], k, labels=range(k))\n",
    "        print(name)\n",
    "        print(df[name].value_counts())"
   ]
  },
  {
   "cell_type": "code",
   "execution_count": null,
   "metadata": {
    "scrolled": true
   },
   "outputs": [],
   "source": []
  },
  {
   "cell_type": "code",
   "execution_count": null,
   "metadata": {},
   "outputs": [],
   "source": [
    "remove = set()\n",
    "print('离散化后对所有变量进行筛选')\n",
    "for name in df_columns:\n",
    "    if name == 'label':\n",
    "        print('不能把label当做特征筛选掉')\n",
    "        continue\n",
    "    counts = df[name].value_counts()\n",
    "    num = sum(counts)\n",
    "    for v in counts:\n",
    "        if v/num>=0.65:\n",
    "#             print(k)\n",
    "#             print(counts)\n",
    "            remove.add(name)\n",
    "\n",
    "remove = list(remove)\n",
    "df.drop(columns = remove, axis = 1, inplace=True)\n",
    "print(df.shape)\n",
    "df.head()"
   ]
  },
  {
   "cell_type": "code",
   "execution_count": null,
   "metadata": {
    "scrolled": true
   },
   "outputs": [],
   "source": [
    "df_columns = df.columns.values.tolist()\n",
    "df['label'].value_counts()"
   ]
  },
  {
   "cell_type": "code",
   "execution_count": null,
   "metadata": {},
   "outputs": [],
   "source": []
  },
  {
   "cell_type": "code",
   "execution_count": null,
   "metadata": {},
   "outputs": [],
   "source": [
    "import seaborn as sns \n",
    "for name in df_columns:\n",
    "    fig,ax = plt.subplots(figsize=(12,8))\n",
    "    sns.heatmap(pd.crosstab(df['label'],df[name]),cmap = 'Blues',annot = True,fmt='d',ax = ax)#如果是连续值会有很多列\n",
    "    ax.set_title('关系图'+name)\n",
    "    fig.tight_layout()"
   ]
  },
  {
   "cell_type": "code",
   "execution_count": null,
   "metadata": {},
   "outputs": [],
   "source": [
    "import pandas_profiling\n",
    "import warnings\n",
    "warnings.filterwarnings('ignore')\n",
    "sns.set_context(\"poster\", font_scale=1.3)\n",
    "\n",
    "pandas_profiling.ProfileReport(df)"
   ]
  },
  {
   "cell_type": "markdown",
   "metadata": {},
   "source": [
    "# 类别型特征编码为阿拉伯数字"
   ]
  },
  {
   "cell_type": "code",
   "execution_count": null,
   "metadata": {},
   "outputs": [],
   "source": [
    "# continues_columns = ['followTimes','allotNumber',\n",
    "# 'avgAddWechatFriendCount','avgCallCount','avgIntentCustomerCount','avgSignBillDays','avgToDoorCount',\n",
    "#          'loanRate','signBillCount','signBillRate','avgWorkHour','toDoorRate',\n",
    "#          'age','locked','work_age','average_performance_amount','average_profit_amount','average_internal_cost',\n",
    "#          'average_external_cost','average_payment_amount','average_business_amount','average_cost_price','average_CALL_0940_1040',\n",
    "#          'average_CALL_1100_1200','average_CALL_1400_1500','average_CALL_1520_1620','average_achievement','average_profit',\n",
    "#          'average_internal_cost_orf','average_external_cost_orf','average_assist_achievement','average_assist_profit',\n",
    "#          'flagContent','flagRemark','invalidNumber','callTimes','avgCallDuration']\n",
    "\n",
    "category_columns = ['businessStatus','businessOperate', 'addTypeCode','opportunitytypeCode',\n",
    "                     'originCode','businessLocation','originType',\n",
    "                     'uploadType','wayCode']\n",
    "\n",
    "bool_columns = ['sex']"
   ]
  },
  {
   "cell_type": "code",
   "execution_count": null,
   "metadata": {
    "scrolled": true
   },
   "outputs": [],
   "source": [
    "for column in category_columns + bool_columns:\n",
    "    if column not in df_columns:\n",
    "        continue\n",
    "# for column in df_columns:\n",
    "    if column == 'label':\n",
    "        print('不能把label当做特征进行编码')\n",
    "        continue \n",
    "    print(column)\n",
    "    values = list(set(df[column].values.tolist()))\n",
    "    value_map = {values[i]:i+1 for i in range(len(values))}\n",
    "    print(values)\n",
    "    df[column] = df[column].map(value_map)\n",
    "    values = list(set(df[column].values.tolist()))\n",
    "    print(values)"
   ]
  },
  {
   "cell_type": "code",
   "execution_count": null,
   "metadata": {},
   "outputs": [],
   "source": [
    "df2 = df"
   ]
  },
  {
   "cell_type": "markdown",
   "metadata": {},
   "source": [
    "# 离散特征one-hot编码"
   ]
  },
  {
   "cell_type": "code",
   "execution_count": null,
   "metadata": {},
   "outputs": [],
   "source": [
    "from sklearn import preprocessing  \n",
    "dataframes = []\n",
    "one_hot_names = []\n",
    "for coloumn in df_columns:\n",
    "    print(coloumn)\n",
    "    sample = df[[coloumn]]\n",
    "    sample[coloumn] = sample[coloumn].astype(str)\n",
    "    enc = preprocessing.OneHotEncoder()\n",
    "    col_enc = enc.fit(sample)\n",
    "    print(col_enc)\n",
    "    col_enc = col_enc.transform(sample).toarray()\n",
    "    print(col_enc)\n",
    "    cols = enc.get_feature_names()\n",
    "    cols = [name.replace('x0_', '') for name in cols]\n",
    "    print(cols)\n",
    "    one_hot_names = one_hot_names + cols # one_hot后新的列名\n",
    "    # 记录所有的dataframe，用于concat\n",
    "    dataframes.append(pd.DataFrame(data = col_enc,columns = cols))"
   ]
  },
  {
   "cell_type": "code",
   "execution_count": null,
   "metadata": {},
   "outputs": [],
   "source": [
    "new_coloumn = []\n",
    "for name in continues_columns:\n",
    "    if name in df.columns.values.tolist():\n",
    "        new_coloumn.append(name)"
   ]
  },
  {
   "cell_type": "code",
   "execution_count": null,
   "metadata": {
    "scrolled": true
   },
   "outputs": [],
   "source": [
    "df2 = pd.concat([df] + dataframes, axis =1)\n",
    "# df2 = df2[one_hot_names + new_coloumn + ['label']] 连续特征离散化并且one-hot后不需要这个了\n",
    "df2 = df2[one_hot_names + ['label']]\n",
    "print(df2.shape)\n",
    "print(df2.info())\n",
    "df2.head()"
   ]
  },
  {
   "cell_type": "code",
   "execution_count": null,
   "metadata": {},
   "outputs": [],
   "source": [
    "df2.drop_duplicates(inplace=True)\n",
    "print(df2.shape)"
   ]
  },
  {
   "cell_type": "code",
   "execution_count": null,
   "metadata": {},
   "outputs": [],
   "source": [
    "df_columns = df2.columns.values.tolist()\n",
    "columns = []\n",
    "for name in df_columns:\n",
    "    if name == 'label':\n",
    "        continue\n",
    "    columns.append(name)\n",
    "df2.drop_duplicates(subset=columns, inplace=True)\n",
    "print(df2.shape)"
   ]
  },
  {
   "cell_type": "code",
   "execution_count": null,
   "metadata": {},
   "outputs": [],
   "source": [
    "df2['label'].value_counts()"
   ]
  },
  {
   "cell_type": "code",
   "execution_count": null,
   "metadata": {},
   "outputs": [],
   "source": [
    "df3 = df2"
   ]
  },
  {
   "cell_type": "code",
   "execution_count": null,
   "metadata": {},
   "outputs": [],
   "source": [
    "df3.to_csv(\"df3.csv\")"
   ]
  },
  {
   "cell_type": "code",
   "execution_count": null,
   "metadata": {},
   "outputs": [],
   "source": [
    "df4 = df3"
   ]
  },
  {
   "cell_type": "code",
   "execution_count": null,
   "metadata": {},
   "outputs": [],
   "source": [
    "for name in df_columns:\n",
    "    sns.distplot(df[name],kde=False)"
   ]
  },
  {
   "cell_type": "code",
   "execution_count": null,
   "metadata": {},
   "outputs": [],
   "source": []
  },
  {
   "cell_type": "markdown",
   "metadata": {},
   "source": [
    "# 切分训练集和测试集"
   ]
  },
  {
   "cell_type": "code",
   "execution_count": null,
   "metadata": {},
   "outputs": [],
   "source": [
    "df2 = df3\n",
    "# 下采样\n",
    "df1 = df2[df2['label'] == 0]\n",
    "print(df1.shape)\n",
    "\n",
    "df2 = df2[df2['label'] == 1]\n",
    "print(df2.shape)\n",
    "\n",
    "df1 = df1.sample(n = len(df2), replace = True)\n",
    "print(df1.shape)\n",
    "\n",
    "df1 = pd.concat([df1, df2, df2, df2, df2, df2, df2], axis=0)\n",
    "print(df1.shape)\n",
    "\n",
    "df1 = df1.sample(frac = 1.0, replace = True)\n",
    "print(df1.shape)"
   ]
  },
  {
   "cell_type": "code",
   "execution_count": null,
   "metadata": {},
   "outputs": [],
   "source": [
    "from loans_drop.offline.lgb_train import LightGBM\n",
    "model = LightGBM(dataframe=df1)\n",
    "model.split_data()\n",
    "model.train()"
   ]
  },
  {
   "cell_type": "markdown",
   "metadata": {},
   "source": []
  },
  {
   "cell_type": "markdown",
   "metadata": {},
   "source": [
    "# xgboost"
   ]
  },
  {
   "cell_type": "code",
   "execution_count": null,
   "metadata": {},
   "outputs": [],
   "source": [
    "import xgboost as xgb\n",
    "data_train = xgb.DMatrix(X, y)  # 使用XGBoost的原生版本需要对数据进行转化\n",
    "data_test = xgb.DMatrix(val_X, val_y)\n",
    " \n",
    "param = {'max_depth': 5, 'eta': 1, 'objective': 'binary:logistic'}\n",
    "watchlist = [(data_test, 'test'), (data_train, 'train')]\n",
    "n_round = 3\n",
    "model = xgb.train(param, data_train, num_boost_round=n_round, evals=watchlist)"
   ]
  },
  {
   "cell_type": "code",
   "execution_count": null,
   "metadata": {},
   "outputs": [],
   "source": [
    "# model = xgb.XGBClassifier(\n",
    "#         max_depth = 10,\n",
    "#         n_estimators = 190,\n",
    "#         subsample = 0.8,\n",
    "#         colsample_bytree = 0.7,\n",
    "#         learning_rate = 0.09,\n",
    "#         reg_alpha = 0.75,\n",
    "#         nthread = 4)\n",
    "# model.fit(X, y)"
   ]
  },
  {
   "cell_type": "code",
   "execution_count": null,
   "metadata": {},
   "outputs": [],
   "source": [
    "# 计算错误率\n",
    "label=np.array(offline_test.label.values.tolist()).astype(int)\n",
    "data_val = xgb.DMatrix(offline_test_X, label)\n",
    "\n",
    "y_predicted = model.predict(data_val)\n",
    "offline=offline_test[['label']]\n",
    "\n",
    "    \n",
    "accuracy = sum(label == (y_predicted > 0.5))\n",
    "accuracy_rate = float(accuracy) / len(y_predicted)\n",
    "print ('样本总数：{0}'.format(len(y_predicted)))\n",
    "print ('正确数目：{0}'.format(accuracy) )\n",
    "print ('正确率：{0:.3f}'.format((accuracy_rate)))"
   ]
  },
  {
   "cell_type": "code",
   "execution_count": null,
   "metadata": {},
   "outputs": [],
   "source": [
    "print(metrics.classification_report(label, preds_offline.astype(int)))"
   ]
  },
  {
   "cell_type": "markdown",
   "metadata": {},
   "source": [
    "# lightgbm建模"
   ]
  },
  {
   "cell_type": "code",
   "execution_count": null,
   "metadata": {},
   "outputs": [],
   "source": [
    "os.environ['CUDA_VISIBLE_DEVICES']='0'  #当没有相应的GPU设备时，会使用CPU来运行。\n",
    "# 基础配置信息\n",
    "path = 'data/'\n",
    "n_splits = 8 #8\n",
    "seed = 42\n",
    "\n",
    "# lgb 参数\n",
    "params={\n",
    "    \"learning_rate\":0.2,\n",
    "    \"lambda_l1\":0.1,\n",
    "    \"lambda_l2\":0.2,\n",
    "    \"max_depth\":6,  #6  本次修改了\n",
    "    \"objective\":\"multiclass\",\n",
    "    \"num_class\":11,\n",
    "    \"verbose\":-1,\n",
    "}\n",
    "\n",
    "# 自定义F1评价函数\n",
    "def f1_score_vali(preds, data_vali):\n",
    "    labels = data_vali.get_label()\n",
    "    preds = np.argmax(preds.reshape(11, -1), axis=0)\n",
    "    score_vali = f1_score(y_true=labels, y_pred=preds, average='weighted')   #改了下f1_score的计算方式\n",
    "    return 'f1_score', score_vali, True"
   ]
  },
  {
   "cell_type": "code",
   "execution_count": null,
   "metadata": {},
   "outputs": [],
   "source": [
    "\n",
    "#\n",
    "#========================================================\n",
    "#查看下年龄\n",
    "print(\"age======\")\n",
    "print(train['age'].value_counts())\n",
    "print(test['age'].value_counts())\n",
    "#修改\n",
    "# train.drop(train['age']==\"-99999.99\")\n",
    "train['age']=train['age'].replace(\"\\\\N\",0)\n",
    "# train.drop(train[train['age']>100])\n",
    "print(\"Afetr.....\")\n",
    "train['age']=train['age'].astype(np.int64)\n",
    "test['age']=test['age'].astype(np.int64)\n",
    "print(train['age'].value_counts())\n",
    "#查看性别\n",
    "print(\"gender=====\")\n",
    "print(train['gender'].value_counts())\n",
    "print(test['gender'].value_counts())\n",
    "\n",
    "#性别这里还没有处理好0-表示男性   1-表示女性\n",
    "train['gender']=train['gender'].replace(\"1\",1).astype(int)\n",
    "train['gender']=train['gender'].replace(\"0\",0).astype(int)\n",
    "train['gender']=train['gender'].replace(\"00\",0).astype(int)\n",
    "train['gender']=train['gender'].replace(\"01\",1).astype(int)\n",
    "train['gender']=train['gender'].replace(\"02\",2).astype(int)\n",
    "train['gender']=train['gender'].replace(\"2\",2).astype(int)\n",
    "train['gender']=train['gender'].replace(\"\\\\N\",0).astype(int)\n",
    "print(\"After....\")\n",
    "print(train['gender'].value_counts())\n",
    "print(test['gender'].value_counts())\n",
    "\n",
    "# 对标签编码 映射关系.\n",
    "label2current_service = dict(zip(range(0,len(set(train['current_service']))),sorted(list(set(train['current_service'])))))\n",
    "current_service2label = dict(zip(sorted(list(set(train['current_service']))),range(0,len(set(train['current_service'])))))\n",
    "\n",
    "print(label2current_service)\n",
    "print(current_service2label)\n",
    "# 原始数据的标签映射,\n",
    "train['current_service'] = train['current_service'].map(current_service2label)\n",
    "\n",
    "# 构造原始数据,作为目标预测\n",
    "y = train.pop('current_service')\n",
    "train_id = train.pop('user_id')\n",
    "# 这个字段有点问题\n",
    "X = train\n",
    "train_col = train.columns\n",
    "\n",
    "\n",
    "test_id = test['user_id']\n",
    "test.pop('user_id')\n",
    "X_test = test[test.columns]\n",
    "print(\"X_test.shape:\",X_test.shape)\n",
    "# 数据有问题数据\n",
    "for i in train_col:\n",
    "    X[i] = X[i].replace(\"\\\\N\",-1)\n",
    "for i in test.columns:\n",
    "    X_test[i] = X_test[i].replace(\"\\\\N\",-1)\n",
    "\n",
    "X,y,X_test = X.values,y,X_test.values\n",
    "\n",
    "#\n",
    "print(\"X\",X)\n",
    "print(\"X_test\",X_test)\n",
    "\n",
    "print(\"X的形状是:\",X.shape)\n",
    "count_1=0\n",
    "count_2=0\n",
    "for i in range(X.shape[0]):\n",
    "    if isinstance(X[i,21],str):\n",
    "        count_1+=1\n",
    "        X[i,21]=int(X[i,21])\n",
    "    else:\n",
    "        count_2+=1\n",
    "print(\"count_1:\",count_1)\n",
    "print(\"count_2:\",count_2)\n",
    "\n",
    "count_3=0\n",
    "count_4=0\n",
    "for i in range(X_test.shape[0]):\n",
    "    if isinstance(X_test[i,21],str):\n",
    "        count_3+=1\n",
    "        X_test[i,21]=int(X_test[i,21])\n",
    "    else:\n",
    "        count_4+=1\n",
    "\n",
    "print(\"count_3:\",count_3)\n",
    "print(\"count_4:\",count_4)\n",
    "\n",
    "\n",
    "\n",
    "xx_score = []\n",
    "cv_pred = []\n",
    "\n",
    "#先对模型进行调参\n",
    "#lgb模型,k折交叉验证，分类问题使用分层抽样\n",
    "skf = StratifiedKFold(n_splits=n_splits,random_state=seed,shuffle=True)\n",
    "import time\n",
    "now=time.time()\n",
    "for index,(train_index,test_index) in enumerate(skf.split(X,y)):\n",
    "    X_train,X_valid,y_train,y_valid = X[train_index],X[test_index],y[train_index],y[test_index]\n",
    "    train_data = lgb.Dataset(X_train, label=y_train)\n",
    "    validation_data = lgb.Dataset(X_valid, label=y_valid)\n",
    "    clf=lgb.train(params,train_data,num_boost_round=10000,valid_sets=[validation_data],early_stopping_rounds=200,feval=f1_score_vali,verbose_eval=1)\n",
    "    plt.figure(figsize=(12,6))\n",
    "    lgb.plot_importance(clf, max_num_features=40)\n",
    "    plt.title(\"Featurertances\")\n",
    "    plt.show()\n",
    "    feature_importance=pd.DataFrame({\n",
    "         'column': train_col,\n",
    "         'importance': clf.feature_importance(),\n",
    "     }).to_csv('feature_importance_leaves57.csv',index=False)\n",
    "    xx_pred = clf.predict(X_valid,num_iteration=clf.best_iteration)\n",
    "    xx_pred = [np.argmax(x) for x in xx_pred]\n",
    "    xx_score.append(f1_score(y_valid,xx_pred,average='macro'))\n",
    "    y_test = clf.predict(X_test,num_iteration=clf.best_iteration)\n",
    "    y_test = [np.argmax(x) for x in y_test]  #输出概率最大的那个\n",
    "    if index == 0:\n",
    "        cv_pred = np.array(y_test).reshape(-1, 1)\n",
    "    else:\n",
    "        cv_pred = np.hstack((cv_pred, np.array(y_test).reshape(-1, 1)))\n",
    "\n",
    "\n",
    "# 其实这里已经对8折的数据做了一次投票，最后输出投票后的结果\n",
    "submit = []\n",
    "for line in cv_pred:\n",
    "    submit.append(np.argmax(np.bincount(line)))\n",
    "\n",
    "# 保存结果\n",
    "df_test = pd.DataFrame()\n",
    "df_test['user_id'] = list(test_id.unique())\n",
    "df_test['current_service'] = submit\n",
    "df_test['current_service'] = df_test['current_service'].map(label2current_service)\n",
    "df_test.to_csv(\"baseline_25.csv\",index=False)\n",
    "\n",
    "print(xx_score,np.mean(xx_score)**2)\n",
    "end=time.time()\n",
    "print(\"total cost {} second \".format(str(round(end-now,2))))  #总的花费了多少时间"
   ]
  },
  {
   "cell_type": "code",
   "execution_count": null,
   "metadata": {},
   "outputs": [],
   "source": [
    "df = [['avgAddWechatFriendCount', '']]"
   ]
  }
 ],
 "metadata": {
  "kernelspec": {
   "display_name": "Python 3",
   "language": "python",
   "name": "python3"
  },
  "language_info": {
   "codemirror_mode": {
    "name": "ipython",
    "version": 3
   },
   "file_extension": ".py",
   "mimetype": "text/x-python",
   "name": "python",
   "nbconvert_exporter": "python",
   "pygments_lexer": "ipython3",
   "version": "3.6.8"
  },
  "toc": {
   "base_numbering": 1,
   "nav_menu": {},
   "number_sections": true,
   "sideBar": true,
   "skip_h1_title": false,
   "title_cell": "Table of Contents",
   "title_sidebar": "Contents",
   "toc_cell": false,
   "toc_position": {},
   "toc_section_display": true,
   "toc_window_display": true
  }
 },
 "nbformat": 4,
 "nbformat_minor": 2
}
