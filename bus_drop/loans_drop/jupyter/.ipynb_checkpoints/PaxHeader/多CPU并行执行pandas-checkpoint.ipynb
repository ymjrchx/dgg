88 path=loans_drop/jupyter/.ipynb_checkpoints/多CPU并行执行pandas-checkpoint.ipynb
20 ctime=1564113254
20 atime=1564113320
23 SCHILY.dev=16777221
23 SCHILY.ino=11854298
18 SCHILY.nlink=1
