88 path=loans_drop/jupyter/.ipynb_checkpoints/制作跟单周期记录-checkpoint.ipynb
20 ctime=1564113254
20 atime=1564113320
23 SCHILY.dev=16777221
23 SCHILY.ino=11854297
18 SCHILY.nlink=1
