{
 "cells": [
  {
   "cell_type": "code",
   "execution_count": 1,
   "metadata": {},
   "outputs": [],
   "source": [
    "import os\n",
    "import numpy as np\n",
    "import time\n",
    "from tqdm import tqdm_notebook as tqdm\n",
    "import matplotlib.pyplot as plt\n",
    "import pandas as pd"
   ]
  },
  {
   "cell_type": "code",
   "execution_count": 2,
   "metadata": {},
   "outputs": [
    {
     "name": "stdout",
     "output_type": "stream",
     "text": [
      "(536822, 43)\n",
      "<class 'pandas.core.frame.DataFrame'>\n",
      "RangeIndex: 536822 entries, 0 to 536821\n",
      "Data columns (total 43 columns):\n",
      "table_id              536822 non-null int64\n",
      "历史融资订单数量              536150 non-null float64\n",
      "融资订单总金额               72581 non-null float64\n",
      "是否办理过贷款               536150 non-null object\n",
      "最近一次贷款最今时长            4225 non-null float64\n",
      "商机历史咨询次数              536150 non-null float64\n",
      "商机历史平均通话时长            536150 non-null float64\n",
      "是否添加商务微信              429150 non-null object\n",
      "商机与商务会面次数             536150 non-null float64\n",
      "备注是否包含关键字             525360 non-null object\n",
      "10字以上备注条数             536150 non-null float64\n",
      "商机被客户剔除次数             536150 non-null float64\n",
      "客户投诉公司次数              196666 non-null float64\n",
      "login_name            536671 non-null float64\n",
      "performance_amount    93076 non-null float64\n",
      "每月签单次数                100216 non-null float64\n",
      "working_hours         114991 non-null float64\n",
      "SUCCESS_CALL_y        97575 non-null float64\n",
      "sex                   130022 non-null float64\n",
      "work_area             131064 non-null object\n",
      "work_age              131075 non-null float64\n",
      "smallyt               131075 non-null object\n",
      "visit_count           101791 non-null float64\n",
      "平均签单周期                131075 non-null float64\n",
      "平均备注字数                131075 non-null float64\n",
      "违规记录                  131075 non-null float64\n",
      "操行分                   131075 non-null float64\n",
      "每月日均意向客户数             131075 non-null float64\n",
      "婚姻情况                  131075 non-null float64\n",
      "有无子女                  131075 non-null float64\n",
      "有无房贷                  131075 non-null float64\n",
      "有无车贷                  131075 non-null float64\n",
      "近三个月平均收入              131075 non-null float64\n",
      "芝麻信用分                 131075 non-null float64\n",
      "商务级别                  131075 non-null float64\n",
      "日均新增微信好友数             131075 non-null float64\n",
      "签单率                   131075 non-null float64\n",
      "放款率                   131075 non-null float64\n",
      "资源上门率                 131075 non-null float64\n",
      "客户属性填写                131075 non-null float64\n",
      "是否离职                  131075 non-null float64\n",
      "create_time           536822 non-null object\n",
      "label                 536822 non-null object\n",
      "dtypes: float64(35), int64(1), object(7)\n",
      "memory usage: 176.1+ MB\n",
      "None\n"
     ]
    },
    {
     "data": {
      "text/html": [
       "<div>\n",
       "<style scoped>\n",
       "    .dataframe tbody tr th:only-of-type {\n",
       "        vertical-align: middle;\n",
       "    }\n",
       "\n",
       "    .dataframe tbody tr th {\n",
       "        vertical-align: top;\n",
       "    }\n",
       "\n",
       "    .dataframe thead th {\n",
       "        text-align: right;\n",
       "    }\n",
       "</style>\n",
       "<table border=\"1\" class=\"dataframe\">\n",
       "  <thead>\n",
       "    <tr style=\"text-align: right;\">\n",
       "      <th></th>\n",
       "      <th>table_id</th>\n",
       "      <th>历史融资订单数量</th>\n",
       "      <th>融资订单总金额</th>\n",
       "      <th>是否办理过贷款</th>\n",
       "      <th>最近一次贷款最今时长</th>\n",
       "      <th>商机历史咨询次数</th>\n",
       "      <th>商机历史平均通话时长</th>\n",
       "      <th>是否添加商务微信</th>\n",
       "      <th>商机与商务会面次数</th>\n",
       "      <th>备注是否包含关键字</th>\n",
       "      <th>...</th>\n",
       "      <th>芝麻信用分</th>\n",
       "      <th>商务级别</th>\n",
       "      <th>日均新增微信好友数</th>\n",
       "      <th>签单率</th>\n",
       "      <th>放款率</th>\n",
       "      <th>资源上门率</th>\n",
       "      <th>客户属性填写</th>\n",
       "      <th>是否离职</th>\n",
       "      <th>create_time</th>\n",
       "      <th>label</th>\n",
       "    </tr>\n",
       "  </thead>\n",
       "  <tbody>\n",
       "    <tr>\n",
       "      <th>0</th>\n",
       "      <td>2097155</td>\n",
       "      <td>0.0</td>\n",
       "      <td>0.0</td>\n",
       "      <td>否</td>\n",
       "      <td>NaN</td>\n",
       "      <td>2.0</td>\n",
       "      <td>89.0</td>\n",
       "      <td>NaN</td>\n",
       "      <td>0.0</td>\n",
       "      <td>否</td>\n",
       "      <td>...</td>\n",
       "      <td>210.0</td>\n",
       "      <td>2.0</td>\n",
       "      <td>1.0</td>\n",
       "      <td>0.0</td>\n",
       "      <td>0.0</td>\n",
       "      <td>0.0</td>\n",
       "      <td>1.0</td>\n",
       "      <td>0.0</td>\n",
       "      <td>2019-03-11 01:20:27</td>\n",
       "      <td>移交超时跟进掉库</td>\n",
       "    </tr>\n",
       "    <tr>\n",
       "      <th>1</th>\n",
       "      <td>7786358162481930240</td>\n",
       "      <td>0.0</td>\n",
       "      <td>0.0</td>\n",
       "      <td>否</td>\n",
       "      <td>NaN</td>\n",
       "      <td>3.0</td>\n",
       "      <td>72.0</td>\n",
       "      <td>是</td>\n",
       "      <td>1.0</td>\n",
       "      <td>否</td>\n",
       "      <td>...</td>\n",
       "      <td>NaN</td>\n",
       "      <td>NaN</td>\n",
       "      <td>NaN</td>\n",
       "      <td>NaN</td>\n",
       "      <td>NaN</td>\n",
       "      <td>NaN</td>\n",
       "      <td>NaN</td>\n",
       "      <td>NaN</td>\n",
       "      <td>2019-02-25 19:55:57</td>\n",
       "      <td>已成单</td>\n",
       "    </tr>\n",
       "    <tr>\n",
       "      <th>2</th>\n",
       "      <td>7789727445140299776</td>\n",
       "      <td>0.0</td>\n",
       "      <td>0.0</td>\n",
       "      <td>否</td>\n",
       "      <td>NaN</td>\n",
       "      <td>3.0</td>\n",
       "      <td>83.0</td>\n",
       "      <td>NaN</td>\n",
       "      <td>1.0</td>\n",
       "      <td>NaN</td>\n",
       "      <td>...</td>\n",
       "      <td>NaN</td>\n",
       "      <td>NaN</td>\n",
       "      <td>NaN</td>\n",
       "      <td>NaN</td>\n",
       "      <td>NaN</td>\n",
       "      <td>NaN</td>\n",
       "      <td>NaN</td>\n",
       "      <td>NaN</td>\n",
       "      <td>2019-03-03 15:49:17</td>\n",
       "      <td>已成单</td>\n",
       "    </tr>\n",
       "    <tr>\n",
       "      <th>3</th>\n",
       "      <td>7733262810586819584</td>\n",
       "      <td>0.0</td>\n",
       "      <td>0.0</td>\n",
       "      <td>否</td>\n",
       "      <td>NaN</td>\n",
       "      <td>4.0</td>\n",
       "      <td>77.0</td>\n",
       "      <td>是</td>\n",
       "      <td>0.0</td>\n",
       "      <td>否</td>\n",
       "      <td>...</td>\n",
       "      <td>NaN</td>\n",
       "      <td>NaN</td>\n",
       "      <td>NaN</td>\n",
       "      <td>NaN</td>\n",
       "      <td>NaN</td>\n",
       "      <td>NaN</td>\n",
       "      <td>NaN</td>\n",
       "      <td>NaN</td>\n",
       "      <td>2019-01-04 21:56:56</td>\n",
       "      <td>未连跟掉库</td>\n",
       "    </tr>\n",
       "    <tr>\n",
       "      <th>4</th>\n",
       "      <td>7709922372417229824</td>\n",
       "      <td>0.0</td>\n",
       "      <td>0.0</td>\n",
       "      <td>否</td>\n",
       "      <td>NaN</td>\n",
       "      <td>6.0</td>\n",
       "      <td>98.0</td>\n",
       "      <td>否</td>\n",
       "      <td>0.0</td>\n",
       "      <td>否</td>\n",
       "      <td>...</td>\n",
       "      <td>NaN</td>\n",
       "      <td>NaN</td>\n",
       "      <td>NaN</td>\n",
       "      <td>NaN</td>\n",
       "      <td>NaN</td>\n",
       "      <td>NaN</td>\n",
       "      <td>NaN</td>\n",
       "      <td>NaN</td>\n",
       "      <td>2018-07-24 10:31:10</td>\n",
       "      <td>已成单</td>\n",
       "    </tr>\n",
       "  </tbody>\n",
       "</table>\n",
       "<p>5 rows × 43 columns</p>\n",
       "</div>"
      ],
      "text/plain": [
       "              table_id  历史融资订单数量  融资订单总金额 是否办理过贷款  最近一次贷款最今时长  商机历史咨询次数  \\\n",
       "0              2097155       0.0      0.0       否         NaN       2.0   \n",
       "1  7786358162481930240       0.0      0.0       否         NaN       3.0   \n",
       "2  7789727445140299776       0.0      0.0       否         NaN       3.0   \n",
       "3  7733262810586819584       0.0      0.0       否         NaN       4.0   \n",
       "4  7709922372417229824       0.0      0.0       否         NaN       6.0   \n",
       "\n",
       "   商机历史平均通话时长 是否添加商务微信  商机与商务会面次数 备注是否包含关键字    ...     芝麻信用分  商务级别  日均新增微信好友数  \\\n",
       "0        89.0      NaN        0.0         否    ...     210.0   2.0        1.0   \n",
       "1        72.0        是        1.0         否    ...       NaN   NaN        NaN   \n",
       "2        83.0      NaN        1.0       NaN    ...       NaN   NaN        NaN   \n",
       "3        77.0        是        0.0         否    ...       NaN   NaN        NaN   \n",
       "4        98.0        否        0.0         否    ...       NaN   NaN        NaN   \n",
       "\n",
       "   签单率  放款率  资源上门率  客户属性填写  是否离职          create_time     label  \n",
       "0  0.0  0.0    0.0     1.0   0.0  2019-03-11 01:20:27  移交超时跟进掉库  \n",
       "1  NaN  NaN    NaN     NaN   NaN  2019-02-25 19:55:57       已成单  \n",
       "2  NaN  NaN    NaN     NaN   NaN  2019-03-03 15:49:17       已成单  \n",
       "3  NaN  NaN    NaN     NaN   NaN  2019-01-04 21:56:56     未连跟掉库  \n",
       "4  NaN  NaN    NaN     NaN   NaN  2018-07-24 10:31:10       已成单  \n",
       "\n",
       "[5 rows x 43 columns]"
      ]
     },
     "execution_count": 2,
     "metadata": {},
     "output_type": "execute_result"
    }
   ],
   "source": [
    "df = pd.read_excel('二分类样本数据.xlsx',encoding = 'utf-8')\n",
    "print(df.shape)\n",
    "print(df.info())\n",
    "df.head()"
   ]
  },
  {
   "cell_type": "markdown",
   "metadata": {},
   "source": [
    "# 构造新特征 日、小时、周"
   ]
  },
  {
   "cell_type": "code",
   "execution_count": 28,
   "metadata": {},
   "outputs": [
    {
     "data": {
      "text/html": [
       "<div>\n",
       "<style scoped>\n",
       "    .dataframe tbody tr th:only-of-type {\n",
       "        vertical-align: middle;\n",
       "    }\n",
       "\n",
       "    .dataframe tbody tr th {\n",
       "        vertical-align: top;\n",
       "    }\n",
       "\n",
       "    .dataframe thead th {\n",
       "        text-align: right;\n",
       "    }\n",
       "</style>\n",
       "<table border=\"1\" class=\"dataframe\">\n",
       "  <thead>\n",
       "    <tr style=\"text-align: right;\">\n",
       "      <th></th>\n",
       "      <th>table_id</th>\n",
       "      <th>历史融资订单数量</th>\n",
       "      <th>融资订单总金额</th>\n",
       "      <th>是否办理过贷款</th>\n",
       "      <th>最近一次贷款最今时长</th>\n",
       "      <th>商机历史咨询次数</th>\n",
       "      <th>商机历史平均通话时长</th>\n",
       "      <th>是否添加商务微信</th>\n",
       "      <th>商机与商务会面次数</th>\n",
       "      <th>备注是否包含关键字</th>\n",
       "      <th>...</th>\n",
       "      <th>放款率</th>\n",
       "      <th>资源上门率</th>\n",
       "      <th>客户属性填写</th>\n",
       "      <th>是否离职</th>\n",
       "      <th>create_time</th>\n",
       "      <th>label</th>\n",
       "      <th>time_string</th>\n",
       "      <th>hour</th>\n",
       "      <th>day</th>\n",
       "      <th>weekday</th>\n",
       "    </tr>\n",
       "  </thead>\n",
       "  <tbody>\n",
       "    <tr>\n",
       "      <th>0</th>\n",
       "      <td>2097155</td>\n",
       "      <td>0.0</td>\n",
       "      <td>0.0</td>\n",
       "      <td>否</td>\n",
       "      <td>NaN</td>\n",
       "      <td>2.0</td>\n",
       "      <td>89.0</td>\n",
       "      <td>NaN</td>\n",
       "      <td>0.0</td>\n",
       "      <td>否</td>\n",
       "      <td>...</td>\n",
       "      <td>0.0</td>\n",
       "      <td>0.0</td>\n",
       "      <td>1.0</td>\n",
       "      <td>0.0</td>\n",
       "      <td>2019-03-11 01:20:27</td>\n",
       "      <td>移交超时跟进掉库</td>\n",
       "      <td>2019-03-11 01:20:27</td>\n",
       "      <td>1</td>\n",
       "      <td>11</td>\n",
       "      <td>0</td>\n",
       "    </tr>\n",
       "    <tr>\n",
       "      <th>1</th>\n",
       "      <td>7786358162481930240</td>\n",
       "      <td>0.0</td>\n",
       "      <td>0.0</td>\n",
       "      <td>否</td>\n",
       "      <td>NaN</td>\n",
       "      <td>3.0</td>\n",
       "      <td>72.0</td>\n",
       "      <td>是</td>\n",
       "      <td>1.0</td>\n",
       "      <td>否</td>\n",
       "      <td>...</td>\n",
       "      <td>NaN</td>\n",
       "      <td>NaN</td>\n",
       "      <td>NaN</td>\n",
       "      <td>NaN</td>\n",
       "      <td>2019-02-25 19:55:57</td>\n",
       "      <td>已成单</td>\n",
       "      <td>2019-02-25 19:55:57</td>\n",
       "      <td>19</td>\n",
       "      <td>25</td>\n",
       "      <td>0</td>\n",
       "    </tr>\n",
       "    <tr>\n",
       "      <th>2</th>\n",
       "      <td>7789727445140299776</td>\n",
       "      <td>0.0</td>\n",
       "      <td>0.0</td>\n",
       "      <td>否</td>\n",
       "      <td>NaN</td>\n",
       "      <td>3.0</td>\n",
       "      <td>83.0</td>\n",
       "      <td>NaN</td>\n",
       "      <td>1.0</td>\n",
       "      <td>NaN</td>\n",
       "      <td>...</td>\n",
       "      <td>NaN</td>\n",
       "      <td>NaN</td>\n",
       "      <td>NaN</td>\n",
       "      <td>NaN</td>\n",
       "      <td>2019-03-03 15:49:17</td>\n",
       "      <td>已成单</td>\n",
       "      <td>2019-03-03 15:49:17</td>\n",
       "      <td>15</td>\n",
       "      <td>3</td>\n",
       "      <td>6</td>\n",
       "    </tr>\n",
       "    <tr>\n",
       "      <th>3</th>\n",
       "      <td>7733262810586819584</td>\n",
       "      <td>0.0</td>\n",
       "      <td>0.0</td>\n",
       "      <td>否</td>\n",
       "      <td>NaN</td>\n",
       "      <td>4.0</td>\n",
       "      <td>77.0</td>\n",
       "      <td>是</td>\n",
       "      <td>0.0</td>\n",
       "      <td>否</td>\n",
       "      <td>...</td>\n",
       "      <td>NaN</td>\n",
       "      <td>NaN</td>\n",
       "      <td>NaN</td>\n",
       "      <td>NaN</td>\n",
       "      <td>2019-01-04 21:56:56</td>\n",
       "      <td>未连跟掉库</td>\n",
       "      <td>2019-01-04 21:56:56</td>\n",
       "      <td>21</td>\n",
       "      <td>4</td>\n",
       "      <td>4</td>\n",
       "    </tr>\n",
       "    <tr>\n",
       "      <th>4</th>\n",
       "      <td>7709922372417229824</td>\n",
       "      <td>0.0</td>\n",
       "      <td>0.0</td>\n",
       "      <td>否</td>\n",
       "      <td>NaN</td>\n",
       "      <td>6.0</td>\n",
       "      <td>98.0</td>\n",
       "      <td>否</td>\n",
       "      <td>0.0</td>\n",
       "      <td>否</td>\n",
       "      <td>...</td>\n",
       "      <td>NaN</td>\n",
       "      <td>NaN</td>\n",
       "      <td>NaN</td>\n",
       "      <td>NaN</td>\n",
       "      <td>2018-07-24 10:31:10</td>\n",
       "      <td>已成单</td>\n",
       "      <td>2018-07-24 10:31:10</td>\n",
       "      <td>10</td>\n",
       "      <td>24</td>\n",
       "      <td>1</td>\n",
       "    </tr>\n",
       "  </tbody>\n",
       "</table>\n",
       "<p>5 rows × 47 columns</p>\n",
       "</div>"
      ],
      "text/plain": [
       "              table_id  历史融资订单数量  融资订单总金额 是否办理过贷款  最近一次贷款最今时长  商机历史咨询次数  \\\n",
       "0              2097155       0.0      0.0       否         NaN       2.0   \n",
       "1  7786358162481930240       0.0      0.0       否         NaN       3.0   \n",
       "2  7789727445140299776       0.0      0.0       否         NaN       3.0   \n",
       "3  7733262810586819584       0.0      0.0       否         NaN       4.0   \n",
       "4  7709922372417229824       0.0      0.0       否         NaN       6.0   \n",
       "\n",
       "   商机历史平均通话时长 是否添加商务微信  商机与商务会面次数 备注是否包含关键字   ...    放款率  资源上门率  客户属性填写  是否离职  \\\n",
       "0        89.0      NaN        0.0         否   ...    0.0    0.0     1.0   0.0   \n",
       "1        72.0        是        1.0         否   ...    NaN    NaN     NaN   NaN   \n",
       "2        83.0      NaN        1.0       NaN   ...    NaN    NaN     NaN   NaN   \n",
       "3        77.0        是        0.0         否   ...    NaN    NaN     NaN   NaN   \n",
       "4        98.0        否        0.0         否   ...    NaN    NaN     NaN   NaN   \n",
       "\n",
       "           create_time     label         time_string  hour  day weekday  \n",
       "0  2019-03-11 01:20:27  移交超时跟进掉库 2019-03-11 01:20:27     1   11       0  \n",
       "1  2019-02-25 19:55:57       已成单 2019-02-25 19:55:57    19   25       0  \n",
       "2  2019-03-03 15:49:17       已成单 2019-03-03 15:49:17    15    3       6  \n",
       "3  2019-01-04 21:56:56     未连跟掉库 2019-01-04 21:56:56    21    4       4  \n",
       "4  2018-07-24 10:31:10       已成单 2018-07-24 10:31:10    10   24       1  \n",
       "\n",
       "[5 rows x 47 columns]"
      ]
     },
     "execution_count": 28,
     "metadata": {},
     "output_type": "execute_result"
    }
   ],
   "source": [
    "# df['time_string']=df[\"create_time\"].apply(lambda x:time.strftime(\"%Y-%m-%d %H:%M:%S\",time.localtime(x)))\n",
    "df['time_string']=pd.to_datetime(df[\"create_time\"])\n",
    "df[\"hour\"]=df[\"time_string\"].dt.hour\n",
    "df[\"day\"]=df[\"time_string\"].dt.day\n",
    "df[\"weekday\"]=df[\"time_string\"].dt.weekday\n",
    "df.head()"
   ]
  },
  {
   "cell_type": "markdown",
   "metadata": {},
   "source": [
    "# label进行编码"
   ]
  },
  {
   "cell_type": "code",
   "execution_count": 29,
   "metadata": {},
   "outputs": [
    {
     "name": "stdout",
     "output_type": "stream",
     "text": [
      "['部门分配超时掉库', '电销超时分配掉库', '抢单超时掉库', '电销签单未跟掉库', '未连跟掉库', '返无效驳回超期跟进掉库', '超期开发掉库', '离职移交超时掉库', '指定天数未签单掉库', '未首电掉库', '已成单', '超期未跟进掉库', '剔除审核超时掉库', '移交超时跟进掉库']\n"
     ]
    },
    {
     "data": {
      "application/vnd.jupyter.widget-view+json": {
       "model_id": "bbfe3c3e9eb141878383d0c1aa05e49a",
       "version_major": 2,
       "version_minor": 0
      },
      "text/plain": [
       "HBox(children=(IntProgress(value=0, max=14), HTML(value='')))"
      ]
     },
     "metadata": {},
     "output_type": "display_data"
    },
    {
     "name": "stdout",
     "output_type": "stream",
     "text": [
      "\n",
      "0    418918\n",
      "1    117904\n",
      "Name: label, dtype: int64\n"
     ]
    }
   ],
   "source": [
    "labels = list(set(df['label'].values.tolist()))\n",
    "print(labels)\n",
    "for i in tqdm(range(len(labels))):\n",
    "    value = 0\n",
    "    if labels[i] == '已成单':\n",
    "        value = 1\n",
    "    df.loc[df['label']==labels[i], 'label'] = value\n",
    "    \n",
    "print(df['label'].value_counts())"
   ]
  },
  {
   "cell_type": "markdown",
   "metadata": {},
   "source": []
  },
  {
   "cell_type": "code",
   "execution_count": 3,
   "metadata": {},
   "outputs": [],
   "source": []
  },
  {
   "cell_type": "code",
   "execution_count": null,
   "metadata": {},
   "outputs": [],
   "source": []
  },
  {
   "cell_type": "markdown",
   "metadata": {},
   "source": [
    "# 特征分类"
   ]
  },
  {
   "cell_type": "code",
   "execution_count": 4,
   "metadata": {},
   "outputs": [],
   "source": [
    "# 放入常量区 统一管理\n",
    "id_feature = ['table_id','login_name']\n",
    "bool_feature = ['是否办理过贷款','是否添加商务微信','备注是否包含关键字','违规记录','婚姻情况','有无子女','有无房贷','有无车贷','是否离职']\n",
    "category_feature = ['sex','work_area','smallyt','商务级别','客户属性填写']\n",
    "text_feature = ['备注']\n",
    "time_feature = ['create_time']\n",
    "continuous_feature = ['历史融资订单数量','融资订单总金额','最近一次贷款最今时长','商机历史咨询次数','商机历史平均通话时长'\n",
    "                      ,'商机与商务会面次数','10字以上备注条数','商机被客户剔除次数','客户投诉公司次数','performance_amount','每月签单次数'\n",
    "                      ,'working_hours','SUCCESS_CALL_y','work_age','visit_count','平均签单周期','平均备注字数','操行分','每月日均意向客户数'\n",
    "                      ,'近三个月平均收入','芝麻信用分','日均新增微信好友数','签单率','放款率','资源上门率'] # 可以拆分成 归一化特征、分箱特征\n",
    "continuous_feature_grouping = ['历史融资订单数量 ','融资订单总金额'] # 可以拆分成 分箱特征\n",
    "continuous_feature_normalization = [''] # 可以拆分成 归一化特征"
   ]
  },
  {
   "cell_type": "code",
   "execution_count": 31,
   "metadata": {
    "scrolled": true
   },
   "outputs": [
    {
     "name": "stdout",
     "output_type": "stream",
     "text": [
      "<class 'pandas.core.frame.DataFrame'>\n",
      "RangeIndex: 536822 entries, 0 to 536821\n",
      "Data columns (total 47 columns):\n",
      "table_id              536822 non-null int64\n",
      "历史融资订单数量              536150 non-null float64\n",
      "融资订单总金额               72581 non-null float64\n",
      "是否办理过贷款               536822 non-null bool\n",
      "最近一次贷款最今时长            4225 non-null float64\n",
      "商机历史咨询次数              536150 non-null float64\n",
      "商机历史平均通话时长            536150 non-null float64\n",
      "是否添加商务微信              536822 non-null bool\n",
      "商机与商务会面次数             536150 non-null float64\n",
      "备注是否包含关键字             536822 non-null bool\n",
      "10字以上备注条数             536150 non-null float64\n",
      "商机被客户剔除次数             536150 non-null float64\n",
      "客户投诉公司次数              196666 non-null float64\n",
      "login_name            536671 non-null float64\n",
      "performance_amount    93076 non-null float64\n",
      "每月签单次数                100216 non-null float64\n",
      "working_hours         114991 non-null float64\n",
      "SUCCESS_CALL_y        97575 non-null float64\n",
      "sex                   130022 non-null object\n",
      "work_area             131064 non-null object\n",
      "work_age              131075 non-null float64\n",
      "smallyt               131075 non-null object\n",
      "visit_count           101791 non-null float64\n",
      "平均签单周期                131075 non-null float64\n",
      "平均备注字数                131075 non-null float64\n",
      "违规记录                  536822 non-null bool\n",
      "操行分                   131075 non-null float64\n",
      "每月日均意向客户数             131075 non-null float64\n",
      "婚姻情况                  536822 non-null bool\n",
      "有无子女                  536822 non-null bool\n",
      "有无房贷                  536822 non-null bool\n",
      "有无车贷                  536822 non-null bool\n",
      "近三个月平均收入              131075 non-null float64\n",
      "芝麻信用分                 131075 non-null float64\n",
      "商务级别                  131075 non-null object\n",
      "日均新增微信好友数             131075 non-null float64\n",
      "签单率                   131075 non-null float64\n",
      "放款率                   131075 non-null float64\n",
      "资源上门率                 131075 non-null float64\n",
      "客户属性填写                131075 non-null object\n",
      "是否离职                  536822 non-null bool\n",
      "create_time           536822 non-null object\n",
      "label                 536822 non-null int64\n",
      "time_string           536822 non-null datetime64[ns]\n",
      "hour                  536822 non-null int64\n",
      "day                   536822 non-null int64\n",
      "weekday               536822 non-null int64\n",
      "dtypes: bool(9), datetime64[ns](1), float64(26), int64(5), object(6)\n",
      "memory usage: 160.2+ MB\n",
      "None\n"
     ]
    }
   ],
   "source": [
    "for col in category_feature:\n",
    "    df[col]=df[col].astype('object')\n",
    "for col in bool_feature:\n",
    "    df[col]=df[col].astype('bool')\n",
    "print(df.info())"
   ]
  },
  {
   "cell_type": "code",
   "execution_count": 32,
   "metadata": {},
   "outputs": [
    {
     "data": {
      "text/plain": [
       "[0, 1, 2]"
      ]
     },
     "execution_count": 32,
     "metadata": {},
     "output_type": "execute_result"
    }
   ],
   "source": [
    "# df['sex'] = df['sex'].cat.add_categories(['0'])\n",
    "# df['sex'].fillna('2', inplace=True)\n",
    "df['sex'].fillna('2', inplace=True)\n",
    "df['sex']=df['sex'].astype('int')\n",
    "print(list(set(df['sex'].values.tolist())))\n",
    "df['商务级别'].fillna('0', inplace=True)\n",
    "df['商务级别']=df['商务级别'].astype('int')\n",
    "df['客户属性填写'].fillna('0', inplace=True)\n",
    "df['客户属性填写']=df['客户属性填写'].astype('int')"
   ]
  },
  {
   "cell_type": "code",
   "execution_count": 33,
   "metadata": {},
   "outputs": [],
   "source": [
    "for col in category_feature:\n",
    "    print(col)\n",
    "    areas = list(set(df[col].values.tolist()))\n",
    "    print(areas)\n",
    "    for i in tqdm(range(len(areas))):\n",
    "        df.loc[df[col]==areas[i], col] = i\n",
    "df.head()"
   ]
  },
  {
   "cell_type": "markdown",
   "metadata": {},
   "source": [
    "# 连续值离散化"
   ]
  },
  {
   "cell_type": "code",
   "execution_count": 5,
   "metadata": {},
   "outputs": [],
   "source": [
    "def get_quantile_based_boundaries(feature_values, num_buckets):\n",
    "    boundaries = np.arange(1.0, num_buckets) / num_buckets\n",
    "    quantiles = feature_values.quantile(boundaries)\n",
    "    return [quantiles[q] for q in quantiles.keys()]\n"
   ]
  },
  {
   "cell_type": "code",
   "execution_count": 6,
   "metadata": {},
   "outputs": [
    {
     "data": {
      "text/plain": [
       "[143.0, 305.0, 450.0, 589.0]"
      ]
     },
     "execution_count": 6,
     "metadata": {},
     "output_type": "execute_result"
    }
   ],
   "source": [
    "get_quantile_based_boundaries(df['芝麻信用分'],5)"
   ]
  },
  {
   "cell_type": "code",
   "execution_count": 12,
   "metadata": {},
   "outputs": [
    {
     "data": {
      "text/html": [
       "<div>\n",
       "<style scoped>\n",
       "    .dataframe tbody tr th:only-of-type {\n",
       "        vertical-align: middle;\n",
       "    }\n",
       "\n",
       "    .dataframe tbody tr th {\n",
       "        vertical-align: top;\n",
       "    }\n",
       "\n",
       "    .dataframe thead th {\n",
       "        text-align: right;\n",
       "    }\n",
       "</style>\n",
       "<table border=\"1\" class=\"dataframe\">\n",
       "  <thead>\n",
       "    <tr style=\"text-align: right;\">\n",
       "      <th></th>\n",
       "      <th>芝麻信用分</th>\n",
       "    </tr>\n",
       "  </thead>\n",
       "  <tbody>\n",
       "    <tr>\n",
       "      <th>0</th>\n",
       "      <td>210.000000</td>\n",
       "    </tr>\n",
       "    <tr>\n",
       "      <th>1</th>\n",
       "      <td>373.276437</td>\n",
       "    </tr>\n",
       "    <tr>\n",
       "      <th>2</th>\n",
       "      <td>373.276437</td>\n",
       "    </tr>\n",
       "    <tr>\n",
       "      <th>3</th>\n",
       "      <td>373.276437</td>\n",
       "    </tr>\n",
       "    <tr>\n",
       "      <th>4</th>\n",
       "      <td>373.276437</td>\n",
       "    </tr>\n",
       "  </tbody>\n",
       "</table>\n",
       "</div>"
      ],
      "text/plain": [
       "        芝麻信用分\n",
       "0  210.000000\n",
       "1  373.276437\n",
       "2  373.276437\n",
       "3  373.276437\n",
       "4  373.276437"
      ]
     },
     "execution_count": 12,
     "metadata": {},
     "output_type": "execute_result"
    }
   ],
   "source": [
    "df['芝麻信用分'].fillna(df['芝麻信用分'].mean(),inplace =True)\n",
    "df['操行分'].fillna(df['操行分'].mean(),inplace =True)\n",
    "df[['芝麻信用分']].head()"
   ]
  },
  {
   "cell_type": "code",
   "execution_count": 16,
   "metadata": {},
   "outputs": [],
   "source": [
    "def cluster_plot(d, k):  # 自定义作图函数来显示聚类结果\n",
    "    import matplotlib.pyplot as plt\n",
    "    plt.rcParams['font.sans-serif'] = ['SimHei']  # 用来正常显示中文标签\n",
    "    plt.rcParams['axes.unicode_minus'] = False  # 用来正常显示负号\n",
    "\n",
    "    plt.figure(figsize=(8, 3))\n",
    "    for j in range(0, k):\n",
    "        plt.plot(df['芝麻信用分'][d == j], [j for i in d[d == j]], 'o')\n",
    "\n",
    "    plt.ylim(-0.5, k - 0.5)\n",
    "    return plt"
   ]
  },
  {
   "cell_type": "code",
   "execution_count": 17,
   "metadata": {},
   "outputs": [
    {
     "data": {
      "image/png": "[encoded data removed]",
      "text/plain": [
       "<Figure size 576x216 with 1 Axes>"
      ]
     },
     "metadata": {
      "needs_background": "light"
     },
     "output_type": "display_data"
    },
    {
     "data": {
      "text/plain": [
       "0    1\n",
       "1    1\n",
       "2    1\n",
       "3    1\n",
       "4    1\n",
       "Name: 芝麻信用分, dtype: category\n",
       "Categories (4, int64): [0 < 1 < 2 < 3]"
      ]
     },
     "execution_count": 17,
     "metadata": {},
     "output_type": "execute_result"
    }
   ],
   "source": [
    "k = 4\n",
    "d1 = pd.cut(df['芝麻信用分'], k, labels=range(k))  # 等宽离散化，各个类比依次命名为0,1,2,3\n",
    "cluster_plot(d1, k).show()\n",
    "d1.head()"
   ]
  },
  {
   "cell_type": "code",
   "execution_count": 20,
   "metadata": {},
   "outputs": [
    {
     "name": "stdout",
     "output_type": "stream",
     "text": [
      "0%        1.000000\n",
      "25%     373.276437\n",
      "50%     373.276437\n",
      "75%     373.276437\n",
      "100%    749.000000\n",
      "Name: 芝麻信用分, dtype: float64\n"
     ]
    },
    {
     "ename": "ValueError",
     "evalue": "Bin edges must be unique: array([  1.        , 373.27643715, 373.27643715, 373.27643715,\n       749.        ]).\nYou can drop duplicate edges by setting the 'duplicates' kwarg",
     "output_type": "error",
     "traceback": [
      "\u001b[1;31m---------------------------------------------------------------------------\u001b[0m",
      "\u001b[1;31mValueError\u001b[0m                                Traceback (most recent call last)",
      "\u001b[1;32m<ipython-input-20-aa9f086bfe28>\u001b[0m in \u001b[0;36m<module>\u001b[1;34m()\u001b[0m\n\u001b[0;32m      4\u001b[0m \u001b[0mw\u001b[0m\u001b[1;33m[\u001b[0m\u001b[1;36m0\u001b[0m\u001b[1;33m]\u001b[0m \u001b[1;33m=\u001b[0m \u001b[0mw\u001b[0m\u001b[1;33m[\u001b[0m\u001b[1;36m0\u001b[0m\u001b[1;33m]\u001b[0m \u001b[1;33m*\u001b[0m \u001b[1;33m(\u001b[0m\u001b[1;36m1\u001b[0m \u001b[1;33m-\u001b[0m \u001b[1;36m1e-10\u001b[0m\u001b[1;33m)\u001b[0m\u001b[1;33m\u001b[0m\u001b[0m\n\u001b[0;32m      5\u001b[0m \u001b[0mprint\u001b[0m\u001b[1;33m(\u001b[0m\u001b[0mw\u001b[0m\u001b[1;33m)\u001b[0m\u001b[1;33m\u001b[0m\u001b[0m\n\u001b[1;32m----> 6\u001b[1;33m \u001b[0md2\u001b[0m \u001b[1;33m=\u001b[0m \u001b[0mpd\u001b[0m\u001b[1;33m.\u001b[0m\u001b[0mcut\u001b[0m\u001b[1;33m(\u001b[0m\u001b[0mdf\u001b[0m\u001b[1;33m[\u001b[0m\u001b[1;34m'芝麻信用分'\u001b[0m\u001b[1;33m]\u001b[0m\u001b[1;33m,\u001b[0m \u001b[0mw\u001b[0m\u001b[1;33m,\u001b[0m \u001b[0mlabels\u001b[0m\u001b[1;33m=\u001b[0m\u001b[0mrange\u001b[0m\u001b[1;33m(\u001b[0m\u001b[0mk\u001b[0m\u001b[1;33m)\u001b[0m\u001b[1;33m)\u001b[0m\u001b[1;33m\u001b[0m\u001b[0m\n\u001b[0m\u001b[0;32m      7\u001b[0m \u001b[0mcluster_plot\u001b[0m\u001b[1;33m(\u001b[0m\u001b[0md2\u001b[0m\u001b[1;33m,\u001b[0m \u001b[0mk\u001b[0m\u001b[1;33m)\u001b[0m\u001b[1;33m.\u001b[0m\u001b[0mshow\u001b[0m\u001b[1;33m(\u001b[0m\u001b[1;33m)\u001b[0m\u001b[1;33m\u001b[0m\u001b[0m\n\u001b[0;32m      8\u001b[0m \u001b[0md2\u001b[0m\u001b[1;33m.\u001b[0m\u001b[0mhead\u001b[0m\u001b[1;33m(\u001b[0m\u001b[1;33m)\u001b[0m\u001b[1;33m\u001b[0m\u001b[0m\n",
      "\u001b[1;32mD:\\Users\\Administrator\\Anaconda3\\envs\\tensorflow_gpu\\lib\\site-packages\\pandas\\core\\reshape\\tile.py\u001b[0m in \u001b[0;36mcut\u001b[1;34m(x, bins, right, labels, retbins, precision, include_lowest, duplicates)\u001b[0m\n\u001b[0;32m    232\u001b[0m                               \u001b[0minclude_lowest\u001b[0m\u001b[1;33m=\u001b[0m\u001b[0minclude_lowest\u001b[0m\u001b[1;33m,\u001b[0m\u001b[1;33m\u001b[0m\u001b[0m\n\u001b[0;32m    233\u001b[0m                               \u001b[0mdtype\u001b[0m\u001b[1;33m=\u001b[0m\u001b[0mdtype\u001b[0m\u001b[1;33m,\u001b[0m\u001b[1;33m\u001b[0m\u001b[0m\n\u001b[1;32m--> 234\u001b[1;33m                               duplicates=duplicates)\n\u001b[0m\u001b[0;32m    235\u001b[0m \u001b[1;33m\u001b[0m\u001b[0m\n\u001b[0;32m    236\u001b[0m     return _postprocess_for_cut(fac, bins, retbins, x_is_series,\n",
      "\u001b[1;32mD:\\Users\\Administrator\\Anaconda3\\envs\\tensorflow_gpu\\lib\\site-packages\\pandas\\core\\reshape\\tile.py\u001b[0m in \u001b[0;36m_bins_to_cuts\u001b[1;34m(x, bins, right, labels, precision, include_lowest, dtype, duplicates)\u001b[0m\n\u001b[0;32m    330\u001b[0m             raise ValueError(\"Bin edges must be unique: {bins!r}.\\nYou \"\n\u001b[0;32m    331\u001b[0m                              \u001b[1;34m\"can drop duplicate edges by setting \"\u001b[0m\u001b[1;33m\u001b[0m\u001b[0m\n\u001b[1;32m--> 332\u001b[1;33m                              \"the 'duplicates' kwarg\".format(bins=bins))\n\u001b[0m\u001b[0;32m    333\u001b[0m         \u001b[1;32melse\u001b[0m\u001b[1;33m:\u001b[0m\u001b[1;33m\u001b[0m\u001b[0m\n\u001b[0;32m    334\u001b[0m             \u001b[0mbins\u001b[0m \u001b[1;33m=\u001b[0m \u001b[0munique_bins\u001b[0m\u001b[1;33m\u001b[0m\u001b[0m\n",
      "\u001b[1;31mValueError\u001b[0m: Bin edges must be unique: array([  1.        , 373.27643715, 373.27643715, 373.27643715,\n       749.        ]).\nYou can drop duplicate edges by setting the 'duplicates' kwarg"
     ]
    }
   ],
   "source": [
    "# 等频率离散化\n",
    "w = [1.0 * i / k for i in range(k + 1)]\n",
    "w = df['芝麻信用分'].describe(percentiles=w)[4:4 + k + 1]  # 使用describe函数自动计算分位数\n",
    "w[0] = w[0] * (1 - 1e-10)\n",
    "print(w)\n",
    "d2 = pd.cut(df['芝麻信用分'], w, labels=range(k))\n",
    "cluster_plot(d2, k).show()\n",
    "d2.head()"
   ]
  },
  {
   "cell_type": "code",
   "execution_count": 25,
   "metadata": {},
   "outputs": [
    {
     "ename": "AttributeError",
     "evalue": "'DataFrame' object has no attribute 'sort'",
     "output_type": "error",
     "traceback": [
      "\u001b[1;31m---------------------------------------------------------------------------\u001b[0m",
      "\u001b[1;31mAttributeError\u001b[0m                            Traceback (most recent call last)",
      "\u001b[1;32m<ipython-input-25-6c06686f0a0f>\u001b[0m in \u001b[0;36m<module>\u001b[1;34m()\u001b[0m\n\u001b[0;32m      2\u001b[0m \u001b[0mkmodel\u001b[0m \u001b[1;33m=\u001b[0m \u001b[0mKMeans\u001b[0m\u001b[1;33m(\u001b[0m\u001b[0mn_clusters\u001b[0m\u001b[1;33m=\u001b[0m\u001b[0mk\u001b[0m\u001b[1;33m,\u001b[0m \u001b[0mn_jobs\u001b[0m\u001b[1;33m=\u001b[0m\u001b[1;36m4\u001b[0m\u001b[1;33m)\u001b[0m  \u001b[1;31m# 建立模型，n_jobs是并行数，一般等于CPU数较好\u001b[0m\u001b[1;33m\u001b[0m\u001b[0m\n\u001b[0;32m      3\u001b[0m \u001b[0mkmodel\u001b[0m\u001b[1;33m.\u001b[0m\u001b[0mfit\u001b[0m\u001b[1;33m(\u001b[0m\u001b[0mdf\u001b[0m\u001b[1;33m[\u001b[0m\u001b[1;34m'芝麻信用分'\u001b[0m\u001b[1;33m]\u001b[0m\u001b[1;33m.\u001b[0m\u001b[0mvalues\u001b[0m\u001b[1;33m.\u001b[0m\u001b[0mreshape\u001b[0m\u001b[1;33m(\u001b[0m\u001b[1;33m(\u001b[0m\u001b[0mlen\u001b[0m\u001b[1;33m(\u001b[0m\u001b[0mdf\u001b[0m\u001b[1;33m[\u001b[0m\u001b[1;34m'芝麻信用分'\u001b[0m\u001b[1;33m]\u001b[0m\u001b[1;33m)\u001b[0m\u001b[1;33m,\u001b[0m \u001b[1;36m1\u001b[0m\u001b[1;33m)\u001b[0m\u001b[1;33m)\u001b[0m\u001b[1;33m)\u001b[0m  \u001b[1;31m# 训练模型\u001b[0m\u001b[1;33m\u001b[0m\u001b[0m\n\u001b[1;32m----> 4\u001b[1;33m \u001b[0mc\u001b[0m \u001b[1;33m=\u001b[0m \u001b[0mpd\u001b[0m\u001b[1;33m.\u001b[0m\u001b[0mDataFrame\u001b[0m\u001b[1;33m(\u001b[0m\u001b[0mkmodel\u001b[0m\u001b[1;33m.\u001b[0m\u001b[0mcluster_centers_\u001b[0m\u001b[1;33m)\u001b[0m\u001b[1;33m.\u001b[0m\u001b[0msort\u001b[0m\u001b[1;33m(\u001b[0m\u001b[1;36m0\u001b[0m\u001b[1;33m)\u001b[0m  \u001b[1;31m# 输出聚类中心，并且排序（默认是随机序的）\u001b[0m\u001b[1;33m\u001b[0m\u001b[0m\n\u001b[0m\u001b[0;32m      5\u001b[0m \u001b[0mw\u001b[0m \u001b[1;33m=\u001b[0m \u001b[0mpd\u001b[0m\u001b[1;33m.\u001b[0m\u001b[0mrolling_mean\u001b[0m\u001b[1;33m(\u001b[0m\u001b[0mc\u001b[0m\u001b[1;33m,\u001b[0m \u001b[1;36m2\u001b[0m\u001b[1;33m)\u001b[0m\u001b[1;33m.\u001b[0m\u001b[0miloc\u001b[0m\u001b[1;33m[\u001b[0m\u001b[1;36m1\u001b[0m\u001b[1;33m:\u001b[0m\u001b[1;33m]\u001b[0m  \u001b[1;31m# 相邻两项求中点，作为边界点\u001b[0m\u001b[1;33m\u001b[0m\u001b[0m\n\u001b[0;32m      6\u001b[0m \u001b[0mw\u001b[0m \u001b[1;33m=\u001b[0m \u001b[1;33m[\u001b[0m\u001b[1;36m0\u001b[0m\u001b[1;33m]\u001b[0m \u001b[1;33m+\u001b[0m \u001b[0mlist\u001b[0m\u001b[1;33m(\u001b[0m\u001b[0mw\u001b[0m\u001b[1;33m[\u001b[0m\u001b[1;36m0\u001b[0m\u001b[1;33m]\u001b[0m\u001b[1;33m)\u001b[0m \u001b[1;33m+\u001b[0m \u001b[1;33m[\u001b[0m\u001b[0mdf\u001b[0m\u001b[1;33m[\u001b[0m\u001b[1;34m'芝麻信用分'\u001b[0m\u001b[1;33m]\u001b[0m\u001b[1;33m.\u001b[0m\u001b[0mmax\u001b[0m\u001b[1;33m(\u001b[0m\u001b[1;33m)\u001b[0m\u001b[1;33m]\u001b[0m  \u001b[1;31m# 把首末边界点加上\u001b[0m\u001b[1;33m\u001b[0m\u001b[0m\n",
      "\u001b[1;32mD:\\Users\\Administrator\\Anaconda3\\envs\\tensorflow_gpu\\lib\\site-packages\\pandas\\core\\generic.py\u001b[0m in \u001b[0;36m__getattr__\u001b[1;34m(self, name)\u001b[0m\n\u001b[0;32m   4374\u001b[0m             \u001b[1;32mif\u001b[0m \u001b[0mself\u001b[0m\u001b[1;33m.\u001b[0m\u001b[0m_info_axis\u001b[0m\u001b[1;33m.\u001b[0m\u001b[0m_can_hold_identifiers_and_holds_name\u001b[0m\u001b[1;33m(\u001b[0m\u001b[0mname\u001b[0m\u001b[1;33m)\u001b[0m\u001b[1;33m:\u001b[0m\u001b[1;33m\u001b[0m\u001b[0m\n\u001b[0;32m   4375\u001b[0m                 \u001b[1;32mreturn\u001b[0m \u001b[0mself\u001b[0m\u001b[1;33m[\u001b[0m\u001b[0mname\u001b[0m\u001b[1;33m]\u001b[0m\u001b[1;33m\u001b[0m\u001b[0m\n\u001b[1;32m-> 4376\u001b[1;33m             \u001b[1;32mreturn\u001b[0m \u001b[0mobject\u001b[0m\u001b[1;33m.\u001b[0m\u001b[0m__getattribute__\u001b[0m\u001b[1;33m(\u001b[0m\u001b[0mself\u001b[0m\u001b[1;33m,\u001b[0m \u001b[0mname\u001b[0m\u001b[1;33m)\u001b[0m\u001b[1;33m\u001b[0m\u001b[0m\n\u001b[0m\u001b[0;32m   4377\u001b[0m \u001b[1;33m\u001b[0m\u001b[0m\n\u001b[0;32m   4378\u001b[0m     \u001b[1;32mdef\u001b[0m \u001b[0m__setattr__\u001b[0m\u001b[1;33m(\u001b[0m\u001b[0mself\u001b[0m\u001b[1;33m,\u001b[0m \u001b[0mname\u001b[0m\u001b[1;33m,\u001b[0m \u001b[0mvalue\u001b[0m\u001b[1;33m)\u001b[0m\u001b[1;33m:\u001b[0m\u001b[1;33m\u001b[0m\u001b[0m\n",
      "\u001b[1;31mAttributeError\u001b[0m: 'DataFrame' object has no attribute 'sort'"
     ]
    }
   ],
   "source": [
    "from sklearn.cluster import KMeans  # 引入KMeans\n",
    "kmodel = KMeans(n_clusters=k, n_jobs=4)  # 建立模型，n_jobs是并行数，一般等于CPU数较好\n",
    "kmodel.fit(df['芝麻信用分'].values.reshape((len(df['芝麻信用分']), 1)))  # 训练模型\n",
    "c = pd.DataFrame(kmodel.cluster_centers_).sort(0)  # 输出聚类中心，并且排序（默认是随机序的）\n",
    "w = pd.rolling_mean(c, 2).iloc[1:]  # 相邻两项求中点，作为边界点\n",
    "w = [0] + list(w[0]) + [df['芝麻信用分'].max()]  # 把首末边界点加上\n",
    "d3 = pd.cut(df['芝麻信用分'], w, labels=range(k))\n",
    "cluster_plot(d3, k).show()\n",
    "d3.head()"
   ]
  },
  {
   "cell_type": "code",
   "execution_count": null,
   "metadata": {},
   "outputs": [],
   "source": []
  },
  {
   "cell_type": "code",
   "execution_count": 35,
   "metadata": {},
   "outputs": [
    {
     "name": "stdout",
     "output_type": "stream",
     "text": [
      "sex               0\n",
      "work_area    405758\n",
      "smallyt      405747\n",
      "商务级别              0\n",
      "客户属性填写            0\n",
      "dtype: int64\n",
      "(536822, 47)\n",
      "(536822, 47)\n"
     ]
    },
    {
     "data": {
      "text/html": [
       "<div>\n",
       "<style scoped>\n",
       "    .dataframe tbody tr th:only-of-type {\n",
       "        vertical-align: middle;\n",
       "    }\n",
       "\n",
       "    .dataframe tbody tr th {\n",
       "        vertical-align: top;\n",
       "    }\n",
       "\n",
       "    .dataframe thead th {\n",
       "        text-align: right;\n",
       "    }\n",
       "</style>\n",
       "<table border=\"1\" class=\"dataframe\">\n",
       "  <thead>\n",
       "    <tr style=\"text-align: right;\">\n",
       "      <th></th>\n",
       "      <th>table_id</th>\n",
       "      <th>历史融资订单数量</th>\n",
       "      <th>融资订单总金额</th>\n",
       "      <th>是否办理过贷款</th>\n",
       "      <th>最近一次贷款最今时长</th>\n",
       "      <th>商机历史咨询次数</th>\n",
       "      <th>商机历史平均通话时长</th>\n",
       "      <th>是否添加商务微信</th>\n",
       "      <th>商机与商务会面次数</th>\n",
       "      <th>备注是否包含关键字</th>\n",
       "      <th>...</th>\n",
       "      <th>放款率</th>\n",
       "      <th>资源上门率</th>\n",
       "      <th>客户属性填写</th>\n",
       "      <th>是否离职</th>\n",
       "      <th>create_time</th>\n",
       "      <th>label</th>\n",
       "      <th>time_string</th>\n",
       "      <th>hour</th>\n",
       "      <th>day</th>\n",
       "      <th>weekday</th>\n",
       "    </tr>\n",
       "  </thead>\n",
       "  <tbody>\n",
       "    <tr>\n",
       "      <th>0</th>\n",
       "      <td>2097155</td>\n",
       "      <td>0.0</td>\n",
       "      <td>0.0</td>\n",
       "      <td>True</td>\n",
       "      <td>NaN</td>\n",
       "      <td>2.0</td>\n",
       "      <td>89.0</td>\n",
       "      <td>True</td>\n",
       "      <td>0.0</td>\n",
       "      <td>True</td>\n",
       "      <td>...</td>\n",
       "      <td>0.0</td>\n",
       "      <td>0.0</td>\n",
       "      <td>1</td>\n",
       "      <td>False</td>\n",
       "      <td>2019-03-11 01:20:27</td>\n",
       "      <td>0</td>\n",
       "      <td>2019-03-11 01:20:27</td>\n",
       "      <td>1</td>\n",
       "      <td>11</td>\n",
       "      <td>0</td>\n",
       "    </tr>\n",
       "    <tr>\n",
       "      <th>1</th>\n",
       "      <td>7786358162481930240</td>\n",
       "      <td>0.0</td>\n",
       "      <td>0.0</td>\n",
       "      <td>True</td>\n",
       "      <td>NaN</td>\n",
       "      <td>3.0</td>\n",
       "      <td>72.0</td>\n",
       "      <td>True</td>\n",
       "      <td>1.0</td>\n",
       "      <td>True</td>\n",
       "      <td>...</td>\n",
       "      <td>NaN</td>\n",
       "      <td>NaN</td>\n",
       "      <td>0</td>\n",
       "      <td>True</td>\n",
       "      <td>2019-02-25 19:55:57</td>\n",
       "      <td>1</td>\n",
       "      <td>2019-02-25 19:55:57</td>\n",
       "      <td>19</td>\n",
       "      <td>25</td>\n",
       "      <td>0</td>\n",
       "    </tr>\n",
       "    <tr>\n",
       "      <th>2</th>\n",
       "      <td>7789727445140299776</td>\n",
       "      <td>0.0</td>\n",
       "      <td>0.0</td>\n",
       "      <td>True</td>\n",
       "      <td>NaN</td>\n",
       "      <td>3.0</td>\n",
       "      <td>83.0</td>\n",
       "      <td>True</td>\n",
       "      <td>1.0</td>\n",
       "      <td>True</td>\n",
       "      <td>...</td>\n",
       "      <td>NaN</td>\n",
       "      <td>NaN</td>\n",
       "      <td>0</td>\n",
       "      <td>True</td>\n",
       "      <td>2019-03-03 15:49:17</td>\n",
       "      <td>1</td>\n",
       "      <td>2019-03-03 15:49:17</td>\n",
       "      <td>15</td>\n",
       "      <td>3</td>\n",
       "      <td>6</td>\n",
       "    </tr>\n",
       "    <tr>\n",
       "      <th>3</th>\n",
       "      <td>7733262810586819584</td>\n",
       "      <td>0.0</td>\n",
       "      <td>0.0</td>\n",
       "      <td>True</td>\n",
       "      <td>NaN</td>\n",
       "      <td>4.0</td>\n",
       "      <td>77.0</td>\n",
       "      <td>True</td>\n",
       "      <td>0.0</td>\n",
       "      <td>True</td>\n",
       "      <td>...</td>\n",
       "      <td>NaN</td>\n",
       "      <td>NaN</td>\n",
       "      <td>0</td>\n",
       "      <td>True</td>\n",
       "      <td>2019-01-04 21:56:56</td>\n",
       "      <td>0</td>\n",
       "      <td>2019-01-04 21:56:56</td>\n",
       "      <td>21</td>\n",
       "      <td>4</td>\n",
       "      <td>4</td>\n",
       "    </tr>\n",
       "    <tr>\n",
       "      <th>4</th>\n",
       "      <td>7709922372417229824</td>\n",
       "      <td>0.0</td>\n",
       "      <td>0.0</td>\n",
       "      <td>True</td>\n",
       "      <td>NaN</td>\n",
       "      <td>6.0</td>\n",
       "      <td>98.0</td>\n",
       "      <td>True</td>\n",
       "      <td>0.0</td>\n",
       "      <td>True</td>\n",
       "      <td>...</td>\n",
       "      <td>NaN</td>\n",
       "      <td>NaN</td>\n",
       "      <td>0</td>\n",
       "      <td>True</td>\n",
       "      <td>2018-07-24 10:31:10</td>\n",
       "      <td>1</td>\n",
       "      <td>2018-07-24 10:31:10</td>\n",
       "      <td>10</td>\n",
       "      <td>24</td>\n",
       "      <td>1</td>\n",
       "    </tr>\n",
       "  </tbody>\n",
       "</table>\n",
       "<p>5 rows × 47 columns</p>\n",
       "</div>"
      ],
      "text/plain": [
       "              table_id  历史融资订单数量  融资订单总金额  是否办理过贷款  最近一次贷款最今时长  商机历史咨询次数  \\\n",
       "0              2097155       0.0      0.0     True         NaN       2.0   \n",
       "1  7786358162481930240       0.0      0.0     True         NaN       3.0   \n",
       "2  7789727445140299776       0.0      0.0     True         NaN       3.0   \n",
       "3  7733262810586819584       0.0      0.0     True         NaN       4.0   \n",
       "4  7709922372417229824       0.0      0.0     True         NaN       6.0   \n",
       "\n",
       "   商机历史平均通话时长  是否添加商务微信  商机与商务会面次数  备注是否包含关键字   ...     放款率  资源上门率  客户属性填写  \\\n",
       "0        89.0      True        0.0       True   ...     0.0    0.0       1   \n",
       "1        72.0      True        1.0       True   ...     NaN    NaN       0   \n",
       "2        83.0      True        1.0       True   ...     NaN    NaN       0   \n",
       "3        77.0      True        0.0       True   ...     NaN    NaN       0   \n",
       "4        98.0      True        0.0       True   ...     NaN    NaN       0   \n",
       "\n",
       "    是否离职          create_time  label         time_string  hour  day  weekday  \n",
       "0  False  2019-03-11 01:20:27      0 2019-03-11 01:20:27     1   11        0  \n",
       "1   True  2019-02-25 19:55:57      1 2019-02-25 19:55:57    19   25        0  \n",
       "2   True  2019-03-03 15:49:17      1 2019-03-03 15:49:17    15    3        6  \n",
       "3   True  2019-01-04 21:56:56      0 2019-01-04 21:56:56    21    4        4  \n",
       "4   True  2018-07-24 10:31:10      1 2018-07-24 10:31:10    10   24        1  \n",
       "\n",
       "[5 rows x 47 columns]"
      ]
     },
     "execution_count": 35,
     "metadata": {},
     "output_type": "execute_result"
    }
   ],
   "source": [
    "print(df[category_feature].isnull().sum())\n",
    "print(df.shape)\n",
    "df['work_area'] = df['work_area'].fillna(15)\n",
    "df['smallyt'] = df['smallyt'].fillna(0)\n",
    "# drop_list = df[(df['work_area'] == '999')].index.tolist()\n",
    "# print(len(drop_list))\n",
    "# df.drop(index= drop_list,inplace=True)\n",
    "print(df.shape)\n",
    "df.head()"
   ]
  },
  {
   "cell_type": "code",
   "execution_count": 36,
   "metadata": {},
   "outputs": [
    {
     "name": "stdout",
     "output_type": "stream",
     "text": [
      "sex          0\n",
      "work_area    0\n",
      "smallyt      0\n",
      "商务级别         0\n",
      "客户属性填写       0\n",
      "dtype: int64\n"
     ]
    },
    {
     "data": {
      "text/plain": [
       "False    536822\n",
       "Name: label, dtype: int64"
      ]
     },
     "execution_count": 36,
     "metadata": {},
     "output_type": "execute_result"
    }
   ],
   "source": [
    "print(df[category_feature].isnull().sum())\n",
    "df['label'].isnull().value_counts()"
   ]
  },
  {
   "cell_type": "code",
   "execution_count": 37,
   "metadata": {},
   "outputs": [
    {
     "data": {
      "text/plain": [
       "label    0\n",
       "dtype: int64"
      ]
     },
     "execution_count": 37,
     "metadata": {},
     "output_type": "execute_result"
    }
   ],
   "source": [
    "df[['label']].isnull().sum()\n"
   ]
  },
  {
   "cell_type": "code",
   "execution_count": 38,
   "metadata": {},
   "outputs": [
    {
     "name": "stdout",
     "output_type": "stream",
     "text": [
      "(536822, 5)\n",
      "0    418918\n",
      "1    117904\n",
      "Name: label, dtype: int64\n",
      "3\n",
      "178941\n",
      "178941\n",
      "178940\n"
     ]
    }
   ],
   "source": [
    "from sklearn.linear_model import LinearRegression\n",
    "from sklearn.cross_validation import KFold\n",
    "\n",
    "\n",
    "alg = LinearRegression()\n",
    "train_df = df[category_feature]\n",
    "print(train_df.shape)\n",
    "print(df['label'].value_counts())\n",
    "kf = KFold(train_df.shape[0], n_folds=3, random_state=1)\n",
    "\n",
    "predictions = []\n",
    "for train, test in kf:\n",
    "    train_predictors = (df[category_feature].iloc[train, :])\n",
    "    train_target = df['label'].iloc[train]\n",
    "    \n",
    "    alg.fit(train_predictors, train_target)\n",
    "    test_predictions = alg.predict(df[category_feature].iloc[test, :])\n",
    "    predictions.append(test_predictions)\n",
    "\n",
    "print(len(predictions))\n",
    "print(len(predictions[0]))\n",
    "print(len(predictions[1]))\n",
    "print(len(predictions[2]))"
   ]
  },
  {
   "cell_type": "code",
   "execution_count": 39,
   "metadata": {},
   "outputs": [
    {
     "data": {
      "text/plain": [
       "array([[<matplotlib.axes._subplots.AxesSubplot object at 0x0000015B1127C588>,\n",
       "        <matplotlib.axes._subplots.AxesSubplot object at 0x0000015B79479198>],\n",
       "       [<matplotlib.axes._subplots.AxesSubplot object at 0x0000015B78B18828>,\n",
       "        <matplotlib.axes._subplots.AxesSubplot object at 0x0000015B7A59DDA0>],\n",
       "       [<matplotlib.axes._subplots.AxesSubplot object at 0x0000015B18044470>,\n",
       "        <matplotlib.axes._subplots.AxesSubplot object at 0x0000015B180444A8>]],\n",
       "      dtype=object)"
      ]
     },
     "execution_count": 39,
     "metadata": {},
     "output_type": "execute_result"
    },
    {
     "data": {
      "image/png": "[encoded data removed]",
      "text/plain": [
       "<Figure size 432x288 with 6 Axes>"
      ]
     },
     "metadata": {
      "needs_background": "light"
     },
     "output_type": "display_data"
    }
   ],
   "source": [
    "%matplotlib inline\n",
    "\n",
    "import matplotlib.pyplot as plt \n",
    "train_df.hist()"
   ]
  },
  {
   "cell_type": "code",
   "execution_count": 40,
   "metadata": {},
   "outputs": [
    {
     "data": {
      "text/plain": [
       "([array([ 44299.,      0.,      0.,      0.,      0.,      0.,      0.,\n",
       "              0.,      0., 134642.]),\n",
       "  array([ 43631.,      0.,      0.,      0.,      0.,      0.,      0.,\n",
       "              0.,      0., 135310.]),\n",
       "  array([ 43145.,      0.,      0.,      0.,      0.,      0.,      0.,\n",
       "              0.,      0., 135795.])],\n",
       " array([-1.05138120e-13,  2.99544457e-02,  5.99088914e-02,  8.98633371e-02,\n",
       "         1.19817783e-01,  1.49772228e-01,  1.79726674e-01,  2.09681120e-01,\n",
       "         2.39635566e-01,  2.69590011e-01,  2.99544457e-01]),\n",
       " <a list of 3 Lists of Patches objects>)"
      ]
     },
     "execution_count": 40,
     "metadata": {},
     "output_type": "execute_result"
    },
    {
     "data": {
      "image/png": "[encoded data removed]",
      "text/plain": [
       "<Figure size 432x288 with 1 Axes>"
      ]
     },
     "metadata": {
      "needs_background": "light"
     },
     "output_type": "display_data"
    }
   ],
   "source": [
    "plt.hist(predictions)"
   ]
  },
  {
   "cell_type": "code",
   "execution_count": 41,
   "metadata": {},
   "outputs": [
    {
     "name": "stdout",
     "output_type": "stream",
     "text": [
      "0.7803666764774916\n",
      "[0. 0. 0. ... 0. 0. 0.]\n"
     ]
    },
    {
     "data": {
      "text/plain": [
       "array([0, 1, 1, ..., 1, 1, 0], dtype=int64)"
      ]
     },
     "execution_count": 41,
     "metadata": {},
     "output_type": "execute_result"
    }
   ],
   "source": [
    "predictions = np.concatenate(predictions, axis=0)\n",
    "predictions[predictions > 0.5] = 1\n",
    "predictions[predictions <= 0.5] = 0\n",
    "\n",
    "accuracy = sum(predictions == df['label'])/len(predictions)\n",
    "print(accuracy)\n",
    "print(predictions)\n",
    "df['label'].values"
   ]
  },
  {
   "cell_type": "code",
   "execution_count": 42,
   "metadata": {},
   "outputs": [
    {
     "name": "stdout",
     "output_type": "stream",
     "text": [
      "Memory occupied before downcasting: 161583502\n",
      "Memory occupied after downcasting : 15031096\n",
      "Total memory saved                : 9.3 %\n"
     ]
    }
   ],
   "source": [
    "initial=df.memory_usage()\n",
    "print('Memory occupied before downcasting:',initial.sum())\n",
    "print('Memory occupied after downcasting :',train_df.memory_usage().sum())\n",
    "print('Total memory saved                :',round(train_df.memory_usage().sum()*100/initial.sum(), 2),'%')"
   ]
  },
  {
   "cell_type": "code",
   "execution_count": 43,
   "metadata": {},
   "outputs": [
    {
     "name": "stdout",
     "output_type": "stream",
     "text": [
      "0.7803666451029226\n"
     ]
    }
   ],
   "source": [
    "from sklearn import cross_validation\n",
    "from sklearn.ensemble import RandomForestClassifier\n",
    "\n",
    "alg = RandomForestClassifier(random_state=1, n_estimators=10, min_samples_split=2, min_samples_leaf=1)\n",
    "kf = KFold(df.shape[0], n_folds=3, random_state=1)\n",
    "scores = cross_validation.cross_val_score(alg, train_df, df['label'], cv=kf)\n",
    "print(scores.mean())"
   ]
  },
  {
   "cell_type": "code",
   "execution_count": 44,
   "metadata": {},
   "outputs": [
    {
     "name": "stdout",
     "output_type": "stream",
     "text": [
      "0.7803666451029226\n"
     ]
    }
   ],
   "source": [
    "alg = RandomForestClassifier(random_state=1, n_estimators=100, min_samples_split=4, min_samples_leaf=2)\n",
    "kf = KFold(df.shape[0], n_folds=3, random_state=1)\n",
    "scores = cross_validation.cross_val_score(alg, train_df, df['label'], cv=kf)\n",
    "print(scores.mean())"
   ]
  },
  {
   "cell_type": "code",
   "execution_count": 45,
   "metadata": {},
   "outputs": [
    {
     "name": "stdout",
     "output_type": "stream",
     "text": [
      "['sex', 'work_area', 'smallyt', '商务级别', '客户属性填写']\n"
     ]
    },
    {
     "ename": "TypeError",
     "evalue": "unhashable type: 'slice'",
     "output_type": "error",
     "traceback": [
      "\u001b[1;31m---------------------------------------------------------------------------\u001b[0m",
      "\u001b[1;31mTypeError\u001b[0m                                 Traceback (most recent call last)",
      "\u001b[1;32m<ipython-input-45-7706999f647e>\u001b[0m in \u001b[0;36m<module>\u001b[1;34m()\u001b[0m\n\u001b[0;32m      4\u001b[0m \u001b[0mtrain_cols\u001b[0m \u001b[1;33m=\u001b[0m \u001b[0mtrain_df\u001b[0m\u001b[1;33m.\u001b[0m\u001b[0mcolumns\u001b[0m\u001b[1;33m.\u001b[0m\u001b[0mtolist\u001b[0m\u001b[1;33m(\u001b[0m\u001b[1;33m)\u001b[0m\u001b[1;33m\u001b[0m\u001b[0m\n\u001b[0;32m      5\u001b[0m \u001b[0mprint\u001b[0m\u001b[1;33m(\u001b[0m\u001b[0mtrain_cols\u001b[0m\u001b[1;33m)\u001b[0m\u001b[1;33m\u001b[0m\u001b[0m\n\u001b[1;32m----> 6\u001b[1;33m \u001b[0mtrain_x\u001b[0m \u001b[1;33m=\u001b[0m \u001b[0mtrain_df\u001b[0m\u001b[1;33m[\u001b[0m\u001b[1;33m:\u001b[0m\u001b[0mlen\u001b[0m\u001b[1;33m(\u001b[0m\u001b[0mtrain_df\u001b[0m\u001b[1;33m)\u001b[0m\u001b[1;33m*\u001b[0m\u001b[1;36m0.7\u001b[0m\u001b[1;33m,\u001b[0m\u001b[1;33m:\u001b[0m\u001b[1;33m]\u001b[0m\u001b[1;33m\u001b[0m\u001b[0m\n\u001b[0m\u001b[0;32m      7\u001b[0m \u001b[1;31m# Note: y data is expected to be a pandas Series, as we will use its group_by function in `sigma_score`\u001b[0m\u001b[1;33m\u001b[0m\u001b[1;33m\u001b[0m\u001b[0m\n\u001b[0;32m      8\u001b[0m \u001b[0mdtrain\u001b[0m \u001b[1;33m=\u001b[0m \u001b[0mlgb\u001b[0m\u001b[1;33m.\u001b[0m\u001b[0mDataset\u001b[0m\u001b[1;33m(\u001b[0m\u001b[0mtrain_x\u001b[0m\u001b[1;33m.\u001b[0m\u001b[0mvalues\u001b[0m\u001b[1;33m,\u001b[0m \u001b[0mdf\u001b[0m\u001b[1;33m[\u001b[0m\u001b[1;34m'label'\u001b[0m\u001b[1;33m]\u001b[0m\u001b[1;33m,\u001b[0m\u001b[0mfeature_name\u001b[0m\u001b[1;33m=\u001b[0m\u001b[0mtrain_cols\u001b[0m\u001b[1;33m,\u001b[0m\u001b[0mfree_raw_data\u001b[0m\u001b[1;33m=\u001b[0m\u001b[1;32mFalse\u001b[0m\u001b[1;33m)\u001b[0m\u001b[1;33m\u001b[0m\u001b[0m\n",
      "\u001b[1;32mD:\\Users\\Administrator\\Anaconda3\\envs\\tensorflow_gpu\\lib\\site-packages\\pandas\\core\\frame.py\u001b[0m in \u001b[0;36m__getitem__\u001b[1;34m(self, key)\u001b[0m\n\u001b[0;32m   2686\u001b[0m             \u001b[1;32mreturn\u001b[0m \u001b[0mself\u001b[0m\u001b[1;33m.\u001b[0m\u001b[0m_getitem_multilevel\u001b[0m\u001b[1;33m(\u001b[0m\u001b[0mkey\u001b[0m\u001b[1;33m)\u001b[0m\u001b[1;33m\u001b[0m\u001b[0m\n\u001b[0;32m   2687\u001b[0m         \u001b[1;32melse\u001b[0m\u001b[1;33m:\u001b[0m\u001b[1;33m\u001b[0m\u001b[0m\n\u001b[1;32m-> 2688\u001b[1;33m             \u001b[1;32mreturn\u001b[0m \u001b[0mself\u001b[0m\u001b[1;33m.\u001b[0m\u001b[0m_getitem_column\u001b[0m\u001b[1;33m(\u001b[0m\u001b[0mkey\u001b[0m\u001b[1;33m)\u001b[0m\u001b[1;33m\u001b[0m\u001b[0m\n\u001b[0m\u001b[0;32m   2689\u001b[0m \u001b[1;33m\u001b[0m\u001b[0m\n\u001b[0;32m   2690\u001b[0m     \u001b[1;32mdef\u001b[0m \u001b[0m_getitem_column\u001b[0m\u001b[1;33m(\u001b[0m\u001b[0mself\u001b[0m\u001b[1;33m,\u001b[0m \u001b[0mkey\u001b[0m\u001b[1;33m)\u001b[0m\u001b[1;33m:\u001b[0m\u001b[1;33m\u001b[0m\u001b[0m\n",
      "\u001b[1;32mD:\\Users\\Administrator\\Anaconda3\\envs\\tensorflow_gpu\\lib\\site-packages\\pandas\\core\\frame.py\u001b[0m in \u001b[0;36m_getitem_column\u001b[1;34m(self, key)\u001b[0m\n\u001b[0;32m   2693\u001b[0m         \u001b[1;31m# get column\u001b[0m\u001b[1;33m\u001b[0m\u001b[1;33m\u001b[0m\u001b[0m\n\u001b[0;32m   2694\u001b[0m         \u001b[1;32mif\u001b[0m \u001b[0mself\u001b[0m\u001b[1;33m.\u001b[0m\u001b[0mcolumns\u001b[0m\u001b[1;33m.\u001b[0m\u001b[0mis_unique\u001b[0m\u001b[1;33m:\u001b[0m\u001b[1;33m\u001b[0m\u001b[0m\n\u001b[1;32m-> 2695\u001b[1;33m             \u001b[1;32mreturn\u001b[0m \u001b[0mself\u001b[0m\u001b[1;33m.\u001b[0m\u001b[0m_get_item_cache\u001b[0m\u001b[1;33m(\u001b[0m\u001b[0mkey\u001b[0m\u001b[1;33m)\u001b[0m\u001b[1;33m\u001b[0m\u001b[0m\n\u001b[0m\u001b[0;32m   2696\u001b[0m \u001b[1;33m\u001b[0m\u001b[0m\n\u001b[0;32m   2697\u001b[0m         \u001b[1;31m# duplicate columns & possible reduce dimensionality\u001b[0m\u001b[1;33m\u001b[0m\u001b[1;33m\u001b[0m\u001b[0m\n",
      "\u001b[1;32mD:\\Users\\Administrator\\Anaconda3\\envs\\tensorflow_gpu\\lib\\site-packages\\pandas\\core\\generic.py\u001b[0m in \u001b[0;36m_get_item_cache\u001b[1;34m(self, item)\u001b[0m\n\u001b[0;32m   2485\u001b[0m         \u001b[1;34m\"\"\"Return the cached item, item represents a label indexer.\"\"\"\u001b[0m\u001b[1;33m\u001b[0m\u001b[0m\n\u001b[0;32m   2486\u001b[0m         \u001b[0mcache\u001b[0m \u001b[1;33m=\u001b[0m \u001b[0mself\u001b[0m\u001b[1;33m.\u001b[0m\u001b[0m_item_cache\u001b[0m\u001b[1;33m\u001b[0m\u001b[0m\n\u001b[1;32m-> 2487\u001b[1;33m         \u001b[0mres\u001b[0m \u001b[1;33m=\u001b[0m \u001b[0mcache\u001b[0m\u001b[1;33m.\u001b[0m\u001b[0mget\u001b[0m\u001b[1;33m(\u001b[0m\u001b[0mitem\u001b[0m\u001b[1;33m)\u001b[0m\u001b[1;33m\u001b[0m\u001b[0m\n\u001b[0m\u001b[0;32m   2488\u001b[0m         \u001b[1;32mif\u001b[0m \u001b[0mres\u001b[0m \u001b[1;32mis\u001b[0m \u001b[1;32mNone\u001b[0m\u001b[1;33m:\u001b[0m\u001b[1;33m\u001b[0m\u001b[0m\n\u001b[0;32m   2489\u001b[0m             \u001b[0mvalues\u001b[0m \u001b[1;33m=\u001b[0m \u001b[0mself\u001b[0m\u001b[1;33m.\u001b[0m\u001b[0m_data\u001b[0m\u001b[1;33m.\u001b[0m\u001b[0mget\u001b[0m\u001b[1;33m(\u001b[0m\u001b[0mitem\u001b[0m\u001b[1;33m)\u001b[0m\u001b[1;33m\u001b[0m\u001b[0m\n",
      "\u001b[1;31mTypeError\u001b[0m: unhashable type: 'slice'"
     ]
    }
   ],
   "source": [
    "import lightgbm as lgb\n",
    "from lightgbm import LGBMClassifier\n",
    "\n",
    "train_cols = train_df.columns.tolist()\n",
    "print(train_cols)\n",
    "train_x = train_df[:len(train_df)*0.7,:]\n",
    "# Note: y data is expected to be a pandas Series, as we will use its group_by function in `sigma_score`\n",
    "dtrain = lgb.Dataset(train_x.values, df['label'],feature_name=train_cols,free_raw_data=False)\n",
    "dvalid = lgb.Dataset(train_df[len(train_df)*0.7:,:].values, df['label'],feature_name=train_cols, free_raw_data=False)\n",
    "print(dtrain)"
   ]
  },
  {
   "cell_type": "code",
   "execution_count": 46,
   "metadata": {
    "scrolled": true
   },
   "outputs": [
    {
     "data": {
      "application/vnd.jupyter.widget-view+json": {
       "model_id": "51a5619664e146e282dae95e8579f78d",
       "version_major": 2,
       "version_minor": 0
      },
      "text/plain": [
       "HBox(children=(IntProgress(value=0, max=10), HTML(value='')))"
      ]
     },
     "metadata": {},
     "output_type": "display_data"
    },
    {
     "name": "stdout",
     "output_type": "stream",
     "text": [
      "\n",
      "{0: {'train': array([[ 2, 15,  0,  0,  0,  1],\n",
      "       [ 2, 15,  0,  0,  0,  0],\n",
      "       [ 2, 15,  0,  0,  0,  1],\n",
      "       ...,\n",
      "       [ 2, 15,  0,  0,  0,  0],\n",
      "       [ 2, 15,  0,  0,  0,  0],\n",
      "       [ 2, 15,  0,  0,  0,  1]], dtype=int64), 'test': array([[ 1,  8,  1,  5,  1,  0],\n",
      "       [ 2, 15,  0,  0,  0,  0],\n",
      "       [ 2, 15,  0,  0,  0,  0],\n",
      "       ...,\n",
      "       [ 2, 15,  0,  0,  0,  0],\n",
      "       [ 0,  1,  1,  2,  2,  0],\n",
      "       [ 2, 15,  0,  0,  0,  0]], dtype=int64)}, 1: {'train': array([[ 2, 15,  0,  0,  0,  0],\n",
      "       [ 2, 15,  0,  0,  0,  1],\n",
      "       [ 2, 15,  0,  0,  0,  0],\n",
      "       ...,\n",
      "       [ 2, 15,  0,  0,  0,  0],\n",
      "       [ 2, 15,  0,  0,  0,  0],\n",
      "       [ 2, 15,  0,  0,  0,  0]], dtype=int64), 'test': array([[ 2, 15,  0,  0,  0,  0],\n",
      "       [ 2, 15,  0,  0,  0,  0],\n",
      "       [ 1, 11,  1,  5,  1,  0],\n",
      "       ...,\n",
      "       [ 2, 15,  0,  0,  0,  0],\n",
      "       [ 2, 15,  0,  0,  0,  0],\n",
      "       [ 2, 15,  0,  0,  0,  1]], dtype=int64)}, 2: {'train': array([[ 2, 15,  0,  0,  0,  0],\n",
      "       [ 2, 15,  0,  0,  0,  0],\n",
      "       [ 2, 15,  0,  0,  0,  0],\n",
      "       ...,\n",
      "       [ 1,  8,  1,  3,  0,  0],\n",
      "       [ 2, 15,  0,  0,  0,  0],\n",
      "       [ 2, 15,  0,  0,  0,  0]], dtype=int64), 'test': array([[ 1,  2,  1,  5,  3,  0],\n",
      "       [ 2, 15,  0,  0,  0,  0],\n",
      "       [ 1, 10,  1,  2,  1,  0],\n",
      "       ...,\n",
      "       [ 2, 15,  0,  0,  0,  1],\n",
      "       [ 0,  2,  1,  5,  0,  0],\n",
      "       [ 1,  8,  1,  1,  4,  0]], dtype=int64)}, 3: {'train': array([[ 2, 15,  0,  0,  0,  0],\n",
      "       [ 2, 15,  0,  0,  0,  1],\n",
      "       [ 2, 15,  0,  0,  0,  0],\n",
      "       ...,\n",
      "       [ 2, 15,  0,  0,  0,  1],\n",
      "       [ 2, 15,  0,  0,  0,  1],\n",
      "       [ 2, 15,  0,  0,  0,  0]], dtype=int64), 'test': array([[ 1,  2,  1,  2,  2,  0],\n",
      "       [ 1,  8,  1,  4,  4,  0],\n",
      "       [ 1, 11,  1,  5,  4,  0],\n",
      "       ...,\n",
      "       [ 2, 15,  0,  0,  0,  0],\n",
      "       [ 2, 15,  0,  0,  0,  0],\n",
      "       [ 2, 15,  0,  0,  0,  0]], dtype=int64)}, 4: {'train': array([[ 2, 15,  0,  0,  0,  0],\n",
      "       [ 2, 15,  0,  0,  0,  0],\n",
      "       [ 2, 15,  0,  0,  0,  0],\n",
      "       ...,\n",
      "       [ 2, 15,  0,  0,  0,  0],\n",
      "       [ 1,  1,  1,  5,  0,  0],\n",
      "       [ 2, 15,  0,  0,  0,  0]], dtype=int64), 'test': array([[ 0, 10,  1,  5,  1,  0],\n",
      "       [ 2, 15,  0,  0,  0,  0],\n",
      "       [ 2, 15,  0,  0,  0,  0],\n",
      "       ...,\n",
      "       [ 2, 15,  0,  0,  0,  0],\n",
      "       [ 2, 15,  0,  0,  0,  0],\n",
      "       [ 1,  1,  1,  1,  3,  0]], dtype=int64)}, 5: {'train': array([[ 2, 15,  0,  0,  0,  0],\n",
      "       [ 2, 15,  0,  0,  0,  1],\n",
      "       [ 2, 15,  0,  0,  0,  0],\n",
      "       ...,\n",
      "       [ 2, 15,  0,  0,  0,  1],\n",
      "       [ 1,  8,  1,  1,  3,  0],\n",
      "       [ 2, 15,  0,  0,  0,  1]], dtype=int64), 'test': array([[ 2, 15,  0,  0,  0,  1],\n",
      "       [ 2, 15,  0,  0,  0,  0],\n",
      "       [ 2, 15,  0,  0,  0,  1],\n",
      "       ...,\n",
      "       [ 2, 15,  0,  0,  0,  0],\n",
      "       [ 2, 15,  0,  0,  0,  1],\n",
      "       [ 2, 15,  0,  0,  0,  0]], dtype=int64)}, 6: {'train': array([[ 2, 15,  0,  0,  0,  0],\n",
      "       [ 2, 15,  0,  0,  0,  0],\n",
      "       [ 1, 11,  1,  3,  1,  0],\n",
      "       ...,\n",
      "       [ 2, 15,  0,  0,  0,  1],\n",
      "       [ 2, 15,  0,  0,  0,  0],\n",
      "       [ 2, 15,  0,  0,  0,  0]], dtype=int64), 'test': array([[ 2, 15,  0,  0,  0,  0],\n",
      "       [ 2, 15,  0,  0,  0,  1],\n",
      "       [ 1,  1,  1,  1,  1,  0],\n",
      "       ...,\n",
      "       [ 2, 15,  0,  0,  0,  0],\n",
      "       [ 2, 15,  0,  0,  0,  1],\n",
      "       [ 2, 15,  0,  0,  0,  0]], dtype=int64)}, 7: {'train': array([[ 2, 15,  0,  0,  0,  0],\n",
      "       [ 2, 15,  0,  0,  0,  0],\n",
      "       [ 2, 15,  0,  0,  0,  0],\n",
      "       ...,\n",
      "       [ 2, 15,  0,  0,  0,  0],\n",
      "       [ 2, 15,  0,  0,  0,  0],\n",
      "       [ 2, 15,  0,  0,  0,  0]], dtype=int64), 'test': array([[ 2, 15,  0,  0,  0,  0],\n",
      "       [ 2, 15,  0,  0,  0,  1],\n",
      "       [ 2, 15,  0,  0,  0,  0],\n",
      "       ...,\n",
      "       [ 2, 15,  0,  0,  0,  1],\n",
      "       [ 0,  8,  1,  3,  2,  0],\n",
      "       [ 2, 15,  0,  0,  0,  0]], dtype=int64)}, 8: {'train': array([[ 2, 15,  0,  0,  0,  0],\n",
      "       [ 2, 15,  0,  0,  0,  0],\n",
      "       [ 2, 15,  0,  0,  0,  0],\n",
      "       ...,\n",
      "       [ 0,  1,  1,  5,  3,  0],\n",
      "       [ 2, 15,  0,  0,  0,  0],\n",
      "       [ 2, 15,  0,  0,  0,  0]], dtype=int64), 'test': array([[ 1, 11,  1,  3,  1,  0],\n",
      "       [ 2, 15,  0,  0,  0,  0],\n",
      "       [ 1, 14,  1,  2,  1,  0],\n",
      "       ...,\n",
      "       [ 0,  7,  1,  2,  0,  0],\n",
      "       [ 2, 15,  0,  0,  0,  0],\n",
      "       [ 2, 15,  0,  0,  0,  0]], dtype=int64)}, 9: {'train': array([[ 2, 15,  0,  0,  0,  1],\n",
      "       [ 2, 15,  0,  0,  0,  0],\n",
      "       [ 0,  7,  1,  3,  1,  0],\n",
      "       ...,\n",
      "       [ 2, 15,  0,  0,  0,  0],\n",
      "       [ 2, 15,  0,  0,  0,  0],\n",
      "       [ 2, 15,  0,  0,  0,  0]], dtype=int64), 'test': array([[ 2, 15,  0,  0,  0,  0],\n",
      "       [ 1,  8,  1,  1,  3,  0],\n",
      "       [ 2, 15,  0,  0,  0,  0],\n",
      "       ...,\n",
      "       [ 2, 15,  0,  0,  0,  1],\n",
      "       [ 2, 15,  0,  0,  0,  1],\n",
      "       [ 2, 15,  0,  0,  0,  0]], dtype=int64)}}\n"
     ]
    },
    {
     "data": {
      "text/html": [
       "<div>\n",
       "<style scoped>\n",
       "    .dataframe tbody tr th:only-of-type {\n",
       "        vertical-align: middle;\n",
       "    }\n",
       "\n",
       "    .dataframe tbody tr th {\n",
       "        vertical-align: top;\n",
       "    }\n",
       "\n",
       "    .dataframe thead th {\n",
       "        text-align: right;\n",
       "    }\n",
       "</style>\n",
       "<table border=\"1\" class=\"dataframe\">\n",
       "  <thead>\n",
       "    <tr style=\"text-align: right;\">\n",
       "      <th></th>\n",
       "      <th>sex</th>\n",
       "      <th>work_area</th>\n",
       "      <th>smallyt</th>\n",
       "      <th>商务级别</th>\n",
       "      <th>客户属性填写</th>\n",
       "      <th>label</th>\n",
       "    </tr>\n",
       "  </thead>\n",
       "  <tbody>\n",
       "    <tr>\n",
       "      <th>328437</th>\n",
       "      <td>0</td>\n",
       "      <td>8</td>\n",
       "      <td>1</td>\n",
       "      <td>5</td>\n",
       "      <td>0</td>\n",
       "      <td>0</td>\n",
       "    </tr>\n",
       "    <tr>\n",
       "      <th>165565</th>\n",
       "      <td>2</td>\n",
       "      <td>15</td>\n",
       "      <td>0</td>\n",
       "      <td>0</td>\n",
       "      <td>0</td>\n",
       "      <td>0</td>\n",
       "    </tr>\n",
       "    <tr>\n",
       "      <th>92532</th>\n",
       "      <td>2</td>\n",
       "      <td>15</td>\n",
       "      <td>0</td>\n",
       "      <td>0</td>\n",
       "      <td>0</td>\n",
       "      <td>0</td>\n",
       "    </tr>\n",
       "    <tr>\n",
       "      <th>338904</th>\n",
       "      <td>2</td>\n",
       "      <td>15</td>\n",
       "      <td>0</td>\n",
       "      <td>0</td>\n",
       "      <td>0</td>\n",
       "      <td>1</td>\n",
       "    </tr>\n",
       "    <tr>\n",
       "      <th>194684</th>\n",
       "      <td>1</td>\n",
       "      <td>11</td>\n",
       "      <td>1</td>\n",
       "      <td>4</td>\n",
       "      <td>1</td>\n",
       "      <td>0</td>\n",
       "    </tr>\n",
       "  </tbody>\n",
       "</table>\n",
       "</div>"
      ],
      "text/plain": [
       "        sex  work_area  smallyt  商务级别  客户属性填写  label\n",
       "328437    0          8        1     5       0      0\n",
       "165565    2         15        0     0       0      0\n",
       "92532     2         15        0     0       0      0\n",
       "338904    2         15        0     0       0      1\n",
       "194684    1         11        1     4       1      0"
      ]
     },
     "execution_count": 46,
     "metadata": {},
     "output_type": "execute_result"
    }
   ],
   "source": [
    "def kfold(train_data, k=10):\n",
    "    valid_data = train_data.values\n",
    "    length = len(valid_data)\n",
    "    kfold_dict = {}\n",
    "    length_range = np.arange(length)\n",
    "    for i in tqdm(range(k)):\n",
    "        kfold_dict[i] = {}\n",
    "        np.random.seed(1000)\n",
    "        np.random.shuffle(valid_data)\n",
    "        np.random.seed(i)\n",
    "        random_sampling_index = np.random.choice(length_range, int(length / k), replace=False) # https://blog.csdn.net/qfpkzheng/article/details/79061601\n",
    "        oneflod_valid = valid_data[random_sampling_index]\n",
    "        oneflod_train = valid_data[[j for j in length_range if j not in random_sampling_index]]\n",
    "        # 训练数据和验证数据\n",
    "        kfold_dict[i]['train'] = oneflod_train\n",
    "        kfold_dict[i]['test'] = oneflod_valid\n",
    "    return kfold_dict\n",
    "\n",
    "#  存储K折交叉验证的数据字典\n",
    "shuffle_df = pd.concat([train_df,df[['label']]],axis=1).sample(frac=1, replace=False)\n",
    "train_len = int(len(shuffle_df) * 0.75)\n",
    "train_df = shuffle_df[:train_len]\n",
    "test_df = shuffle_df[train_len:]\n",
    "kfold_dict = kfold(train_df)\n",
    "print(kfold_dict)\n",
    "del(shuffle_df)\n",
    "train_df.head()"
   ]
  },
  {
   "cell_type": "code",
   "execution_count": 47,
   "metadata": {},
   "outputs": [
    {
     "data": {
      "text/plain": [
       "array([[ 0,  8,  1,  5,  0,  0],\n",
       "       [ 2, 15,  0,  0,  0,  0],\n",
       "       [ 2, 15,  0,  0,  0,  0],\n",
       "       ...,\n",
       "       [ 2, 15,  0,  0,  0,  1],\n",
       "       [ 2, 15,  0,  0,  0,  0],\n",
       "       [ 2, 15,  0,  0,  0,  1]], dtype=int64)"
      ]
     },
     "execution_count": 47,
     "metadata": {},
     "output_type": "execute_result"
    }
   ],
   "source": [
    "train_df.values"
   ]
  },
  {
   "cell_type": "code",
   "execution_count": 54,
   "metadata": {},
   "outputs": [],
   "source": [
    "from prettytable import PrettyTable as PT\n",
    "import lightgbm as lgbm\n",
    "# 绘制不同参数下F1度量的对比曲线\n",
    "from pylab import mpl\n",
    "mpl.rcParams['font.sans-serif'] = ['FangSong']  # 显示中文\n",
    "mpl.rcParams['axes.unicode_minus'] = False  # 显示负号\n",
    "\n",
    "\n",
    "# 根据K折交叉的结果确定比较好的参数组合，然后给出预测数据集的结果\n",
    "\n",
    "# 主要的参数就是随机森林中树的个数和特征的个数,其他参数均使用默认值\n",
    "\n",
    "# 弱模型中树的层数\n",
    "cengs = [4, 5, 6]\n",
    "\n",
    "# 弱模型的个数\n",
    "models = [235, 250, 265]\n",
    "\n",
    "# 混淆矩阵的函数\n",
    "def Tom(reallist, predict_results):\n",
    "    '''\n",
    "    :param reallist: 真实的类别列表\n",
    "    :param predict_results:  预测的类别列表\n",
    "    :return: 每个类别预测为所有类别的个数字典\n",
    "    '''\n",
    "    coundict = {}\n",
    "    for real_label in list(set(reallist)):\n",
    "        coundict[real_label] = {}\n",
    "        for real_label2 in list(set(reallist)):\n",
    "            coundict[real_label][real_label2] = len([i for i, j in zip(reallist, predict_results) if i == real_label and j == real_label2])\n",
    "    return coundict\n",
    "\n",
    "# 定义输出混淆矩阵的函数\n",
    "def confuse_matrix(reallist, predict_results):\n",
    "    '''\n",
    "    :param reallist: 真实的类别列表\n",
    "    :param predict_results: 预测的类别列表\n",
    "    :return: 输出混淆矩阵\n",
    "    '''\n",
    "    zidian = Tom(reallist, predict_results)\n",
    "    column_list = sorted(zidian.keys())\n",
    "    table = PT(['混淆矩阵'] + ['预测%s'% d for d in column_list])\n",
    "    for column_name in column_list:\n",
    "        table.add_row(['实际%s' % column_name] + [zidian[column_name][kk] for kk in column_list])\n",
    "    return table\n",
    "\n",
    "#  计算F1度量的函数\n",
    "def fmse(realist, predict_results):  # 对于多类别每个类都要计算召回率\n",
    "    '''\n",
    "    :param realist: 真实的类别列表\n",
    "    :param predict_results: 预测的类别列表\n",
    "    :return: F1度量\n",
    "    '''\n",
    "    condict = Tom(realist, predict_results)\n",
    "    zongshu = 0\n",
    "    zhengque = 0\n",
    "    zhao_cu = []  # 存储每个类别的召回率\n",
    "    for cu in condict:\n",
    "        zq = 0\n",
    "        zs = 0\n",
    "        for hh in condict[cu]:\n",
    "            geshu = condict[cu][hh]\n",
    "            if cu == hh:\n",
    "                zhengque += geshu\n",
    "                zq = geshu\n",
    "            zongshu += geshu\n",
    "            zs += geshu\n",
    "        zhao_cu.append(zq / zs)\n",
    "    # 计算精确率\n",
    "    jingque = zhengque / zongshu\n",
    "    # 计算类别召回率\n",
    "    zhaohui = np.mean(np.array(zhao_cu))\n",
    "    # f1度量\n",
    "    f_degree = 2 * jingque * zhaohui / (jingque + zhaohui)\n",
    "    return f_degree, jingque, zhaohui\n",
    "\n",
    "\n",
    "# 训练函数\n",
    "def Train(data, modelcount, censhu, yanzhgdata):\n",
    "    train_model = lgbm.LGBMClassifier(boosting_type='gbdt', objective='binary', num_leaves=50,\n",
    "                                learning_rate=0.1, n_estimators=modelcount, max_depth=censhu,\n",
    "                                bagging_fraction=0.9, feature_fraction=0.9, reg_lambda=0.2)\n",
    "\n",
    "    train_model.fit(data[:, :-1], data[:, -1])\n",
    "    # 给出训练数据的预测值\n",
    "    predict_results = train_model.predict(data[:, :-1])\n",
    "    # 计算f1度量\n",
    "    train_mse = fmse(data[:, -1], predict_results)[0]\n",
    "\n",
    "    # 给出验证数据的预测值\n",
    "    add_yan = train_model.predict(yanzhgdata[:, :-1])\n",
    "    # 计算f1度量\n",
    "    add_mse = fmse(yanzhgdata[:, -1], add_yan)[0]\n",
    "    print(train_mse, add_mse)\n",
    "    return train_model,train_mse, add_mse\n",
    "\n",
    "# 最终确定组合的函数\n",
    "def Zuhe(kfold_dict, week_model_numbers=models, tree_floor_numbers=cengs):\n",
    "    # 存储结果的字典\n",
    "    savedict = {}\n",
    "    # 存储序列的字典\n",
    "    sacelist = {}\n",
    "    # 存储训练数据和测试数据结果的字典\n",
    "    adile = {}\n",
    "    for week_model_number in week_model_numbers:\n",
    "        print('=====当前循环中若模型的个数是：==== ',week_model_number)\n",
    "        \n",
    "        for tree_floor_number in tree_floor_numbers:\n",
    "            print('========当前树model中的最深的层数是：',tree_floor_number)\n",
    "            # 只是存储测试数据\n",
    "            sumlist = []\n",
    "            # 存储训练数据和测试数据\n",
    "            alli = []\n",
    "            # 因为要展示折数，因此要按序开始\n",
    "            ordelist = sorted(list(kfold_dict.keys()))\n",
    "            \n",
    "            for fold_num in ordelist:\n",
    "                print('当前k折交叉验证的数量：',fold_num)\n",
    "                train_model,xun, ya = Train(kfold_dict[fold_num]['train'], week_model_number, tree_floor_number, kfold_dict[fold_num]['test'])\n",
    "                # 只选择测试数据较大的\n",
    "                alli.append(ya)\n",
    "                sumlist.append(ya)\n",
    "            sacelist['%s-%s' % (week_model_number, tree_floor_number)] = sumlist\n",
    "            savedict['%s-%s' % (week_model_number, tree_floor_number)] = np.mean(np.array(sumlist))\n",
    "            adile['%s-%s' % (week_model_number, tree_floor_number)] = alli\n",
    "\n",
    "    # 在结果字典中选择最大的\n",
    "    zuixao = sorted(savedict.items(), key=lambda fu: fu[1], reverse=True)[0][0]\n",
    "    # 然后再选出此方法中训练数据和测试数据之和最大的\n",
    "    xiao = adile[zuixao].index(max(adile[zuixao]))\n",
    "    return zuixao, xiao, sacelist\n",
    "\n",
    "# 根据字典绘制曲线\n",
    "def duibi(exdict, you):\n",
    "    print('----开始对比不同的方法----')\n",
    "    plt.figure(figsize=(11, 7))\n",
    "    for ii in exdict:\n",
    "        plt.plot(list(range(len(exdict[ii]))), exdict[ii], \\\n",
    "                 label='%s,%d折F1均值:%.4f' % (ii, len(exdict[ii]), np.mean(np.array(exdict[ii]))), lw=2)\n",
    "    plt.legend()\n",
    "    plt.title('不同参数的组合F1对比曲线[最优：%s]' % you)\n",
    "    plt.savefig(r'lightgbm_adult.jpg')\n",
    "    print('----不同方法对比完毕----')\n",
    "\n",
    "# 根据获得最有参数组合绘制真实和预测值的对比曲线\n",
    "def recspre(estrs, predata, kfold_dict, zhe):\n",
    "\n",
    "    mo, ze = estrs.split('-')\n",
    "    model = lgbm.LGBMClassifier(boosting_type='gbdt', objective='binary', num_leaves=50,\n",
    "                                learning_rate=0.1, n_estimators=int(mo), max_depth=int(ze),\n",
    "                                bagging_fraction=0.9, feature_fraction=0.9, reg_lambda=0.2)\n",
    "\n",
    "    model.fit(kfold_dict[zhe]['train'][:, :-1], kfold_dict[zhe]['train'][:, -1])\n",
    "\n",
    "    print('开始预测')\n",
    "    yucede = model.predict(predata[:, :-1])\n",
    "    print('开始计算混淆矩阵')\n",
    "    print(confuse_matrix(predata[:, -1], yucede))\n",
    "\n",
    "    return model,fmse(predata[:, -1], yucede)"
   ]
  },
  {
   "cell_type": "code",
   "execution_count": null,
   "metadata": {},
   "outputs": [],
   "source": []
  },
  {
   "cell_type": "code",
   "execution_count": 55,
   "metadata": {},
   "outputs": [],
   "source": [
    "\n",
    "# import tushare as ts \n",
    "# import talib\n",
    "\n",
    "# pro = ts.pro_api('b909a6ea1cf9330d8a6cf0f60a898b0a1f0eea753d2389021921ea41')\n",
    "# df = pro.trade_cal(exchange='', start_date='20180901', end_date='20181001', fields='exchange,cal_date,is_open,pretrade_date', is_open='0')\n",
    "\n",
    "# # df = df.sort_values('trade_date').reset_index(drop = True)\n",
    "# df.head()\n",
    "# ts.get_hist_data('600848')"
   ]
  },
  {
   "cell_type": "code",
   "execution_count": 56,
   "metadata": {},
   "outputs": [
    {
     "name": "stdout",
     "output_type": "stream",
     "text": [
      "tre是： [235, 250, 265]\n",
      "ce是： 4\n",
      "235 4\n"
     ]
    },
    {
     "name": "stderr",
     "output_type": "stream",
     "text": [
      "D:\\Users\\Administrator\\Anaconda3\\envs\\tensorflow_gpu\\lib\\site-packages\\sklearn\\preprocessing\\label.py:151: DeprecationWarning: The truth value of an empty array is ambiguous. Returning False, but in future this will result in an error. Use `array.size > 0` to check that an array is not empty.\n",
      "  if diff:\n",
      "D:\\Users\\Administrator\\Anaconda3\\envs\\tensorflow_gpu\\lib\\site-packages\\sklearn\\preprocessing\\label.py:151: DeprecationWarning: The truth value of an empty array is ambiguous. Returning False, but in future this will result in an error. Use `array.size > 0` to check that an array is not empty.\n",
      "  if diff:\n"
     ]
    },
    {
     "name": "stdout",
     "output_type": "stream",
     "text": [
      "0.6095872035581107 0.6097795008480738\n"
     ]
    },
    {
     "name": "stderr",
     "output_type": "stream",
     "text": [
      "D:\\Users\\Administrator\\Anaconda3\\envs\\tensorflow_gpu\\lib\\site-packages\\sklearn\\preprocessing\\label.py:151: DeprecationWarning: The truth value of an empty array is ambiguous. Returning False, but in future this will result in an error. Use `array.size > 0` to check that an array is not empty.\n",
      "  if diff:\n",
      "D:\\Users\\Administrator\\Anaconda3\\envs\\tensorflow_gpu\\lib\\site-packages\\sklearn\\preprocessing\\label.py:151: DeprecationWarning: The truth value of an empty array is ambiguous. Returning False, but in future this will result in an error. Use `array.size > 0` to check that an array is not empty.\n",
      "  if diff:\n"
     ]
    },
    {
     "name": "stdout",
     "output_type": "stream",
     "text": [
      "0.609561121940024 0.6100138516229646\n"
     ]
    },
    {
     "name": "stderr",
     "output_type": "stream",
     "text": [
      "D:\\Users\\Administrator\\Anaconda3\\envs\\tensorflow_gpu\\lib\\site-packages\\sklearn\\preprocessing\\label.py:151: DeprecationWarning: The truth value of an empty array is ambiguous. Returning False, but in future this will result in an error. Use `array.size > 0` to check that an array is not empty.\n",
      "  if diff:\n",
      "D:\\Users\\Administrator\\Anaconda3\\envs\\tensorflow_gpu\\lib\\site-packages\\sklearn\\preprocessing\\label.py:151: DeprecationWarning: The truth value of an empty array is ambiguous. Returning False, but in future this will result in an error. Use `array.size > 0` to check that an array is not empty.\n",
      "  if diff:\n"
     ]
    },
    {
     "name": "stdout",
     "output_type": "stream",
     "text": [
      "0.6095249384418929 0.6103384532001588\n"
     ]
    },
    {
     "name": "stderr",
     "output_type": "stream",
     "text": [
      "D:\\Users\\Administrator\\Anaconda3\\envs\\tensorflow_gpu\\lib\\site-packages\\sklearn\\preprocessing\\label.py:151: DeprecationWarning: The truth value of an empty array is ambiguous. Returning False, but in future this will result in an error. Use `array.size > 0` to check that an array is not empty.\n",
      "  if diff:\n",
      "D:\\Users\\Administrator\\Anaconda3\\envs\\tensorflow_gpu\\lib\\site-packages\\sklearn\\preprocessing\\label.py:151: DeprecationWarning: The truth value of an empty array is ambiguous. Returning False, but in future this will result in an error. Use `array.size > 0` to check that an array is not empty.\n",
      "  if diff:\n"
     ]
    },
    {
     "name": "stdout",
     "output_type": "stream",
     "text": [
      "0.6095636461198801 0.6099911848185138\n"
     ]
    },
    {
     "name": "stderr",
     "output_type": "stream",
     "text": [
      "D:\\Users\\Administrator\\Anaconda3\\envs\\tensorflow_gpu\\lib\\site-packages\\sklearn\\preprocessing\\label.py:151: DeprecationWarning: The truth value of an empty array is ambiguous. Returning False, but in future this will result in an error. Use `array.size > 0` to check that an array is not empty.\n",
      "  if diff:\n",
      "D:\\Users\\Administrator\\Anaconda3\\envs\\tensorflow_gpu\\lib\\site-packages\\sklearn\\preprocessing\\label.py:151: DeprecationWarning: The truth value of an empty array is ambiguous. Returning False, but in future this will result in an error. Use `array.size > 0` to check that an array is not empty.\n",
      "  if diff:\n"
     ]
    },
    {
     "name": "stdout",
     "output_type": "stream",
     "text": [
      "0.6096603817487102 0.6091202998029145\n"
     ]
    },
    {
     "name": "stderr",
     "output_type": "stream",
     "text": [
      "D:\\Users\\Administrator\\Anaconda3\\envs\\tensorflow_gpu\\lib\\site-packages\\sklearn\\preprocessing\\label.py:151: DeprecationWarning: The truth value of an empty array is ambiguous. Returning False, but in future this will result in an error. Use `array.size > 0` to check that an array is not empty.\n",
      "  if diff:\n",
      "D:\\Users\\Administrator\\Anaconda3\\envs\\tensorflow_gpu\\lib\\site-packages\\sklearn\\preprocessing\\label.py:151: DeprecationWarning: The truth value of an empty array is ambiguous. Returning False, but in future this will result in an error. Use `array.size > 0` to check that an array is not empty.\n",
      "  if diff:\n"
     ]
    },
    {
     "name": "stdout",
     "output_type": "stream",
     "text": [
      "0.6096267400107949 0.6094236571240093\n"
     ]
    },
    {
     "name": "stderr",
     "output_type": "stream",
     "text": [
      "D:\\Users\\Administrator\\Anaconda3\\envs\\tensorflow_gpu\\lib\\site-packages\\sklearn\\preprocessing\\label.py:151: DeprecationWarning: The truth value of an empty array is ambiguous. Returning False, but in future this will result in an error. Use `array.size > 0` to check that an array is not empty.\n",
      "  if diff:\n",
      "D:\\Users\\Administrator\\Anaconda3\\envs\\tensorflow_gpu\\lib\\site-packages\\sklearn\\preprocessing\\label.py:151: DeprecationWarning: The truth value of an empty array is ambiguous. Returning False, but in future this will result in an error. Use `array.size > 0` to check that an array is not empty.\n",
      "  if diff:\n"
     ]
    },
    {
     "name": "stdout",
     "output_type": "stream",
     "text": [
      "0.6096334688222803 0.6093630233347888\n"
     ]
    },
    {
     "name": "stderr",
     "output_type": "stream",
     "text": [
      "D:\\Users\\Administrator\\Anaconda3\\envs\\tensorflow_gpu\\lib\\site-packages\\sklearn\\preprocessing\\label.py:151: DeprecationWarning: The truth value of an empty array is ambiguous. Returning False, but in future this will result in an error. Use `array.size > 0` to check that an array is not empty.\n",
      "  if diff:\n",
      "D:\\Users\\Administrator\\Anaconda3\\envs\\tensorflow_gpu\\lib\\site-packages\\sklearn\\preprocessing\\label.py:151: DeprecationWarning: The truth value of an empty array is ambiguous. Returning False, but in future this will result in an error. Use `array.size > 0` to check that an array is not empty.\n",
      "  if diff:\n"
     ]
    },
    {
     "name": "stdout",
     "output_type": "stream",
     "text": [
      "0.6097637937737533 0.6081845165685369\n"
     ]
    },
    {
     "name": "stderr",
     "output_type": "stream",
     "text": [
      "D:\\Users\\Administrator\\Anaconda3\\envs\\tensorflow_gpu\\lib\\site-packages\\sklearn\\preprocessing\\label.py:151: DeprecationWarning: The truth value of an empty array is ambiguous. Returning False, but in future this will result in an error. Use `array.size > 0` to check that an array is not empty.\n",
      "  if diff:\n",
      "D:\\Users\\Administrator\\Anaconda3\\envs\\tensorflow_gpu\\lib\\site-packages\\sklearn\\preprocessing\\label.py:151: DeprecationWarning: The truth value of an empty array is ambiguous. Returning False, but in future this will result in an error. Use `array.size > 0` to check that an array is not empty.\n",
      "  if diff:\n"
     ]
    },
    {
     "name": "stdout",
     "output_type": "stream",
     "text": [
      "0.6095787905136552 0.6098551286399535\n"
     ]
    },
    {
     "name": "stderr",
     "output_type": "stream",
     "text": [
      "D:\\Users\\Administrator\\Anaconda3\\envs\\tensorflow_gpu\\lib\\site-packages\\sklearn\\preprocessing\\label.py:151: DeprecationWarning: The truth value of an empty array is ambiguous. Returning False, but in future this will result in an error. Use `array.size > 0` to check that an array is not empty.\n",
      "  if diff:\n",
      "D:\\Users\\Administrator\\Anaconda3\\envs\\tensorflow_gpu\\lib\\site-packages\\sklearn\\preprocessing\\label.py:151: DeprecationWarning: The truth value of an empty array is ambiguous. Returning False, but in future this will result in an error. Use `array.size > 0` to check that an array is not empty.\n",
      "  if diff:\n"
     ]
    },
    {
     "name": "stdout",
     "output_type": "stream",
     "text": [
      "0.6096174875162276 0.6095069978565124\n",
      "ce是： 5\n",
      "235 5\n"
     ]
    },
    {
     "name": "stderr",
     "output_type": "stream",
     "text": [
      "D:\\Users\\Administrator\\Anaconda3\\envs\\tensorflow_gpu\\lib\\site-packages\\sklearn\\preprocessing\\label.py:151: DeprecationWarning: The truth value of an empty array is ambiguous. Returning False, but in future this will result in an error. Use `array.size > 0` to check that an array is not empty.\n",
      "  if diff:\n",
      "D:\\Users\\Administrator\\Anaconda3\\envs\\tensorflow_gpu\\lib\\site-packages\\sklearn\\preprocessing\\label.py:151: DeprecationWarning: The truth value of an empty array is ambiguous. Returning False, but in future this will result in an error. Use `array.size > 0` to check that an array is not empty.\n",
      "  if diff:\n"
     ]
    },
    {
     "name": "stdout",
     "output_type": "stream",
     "text": [
      "0.6095872035581107 0.6097795008480738\n"
     ]
    },
    {
     "name": "stderr",
     "output_type": "stream",
     "text": [
      "D:\\Users\\Administrator\\Anaconda3\\envs\\tensorflow_gpu\\lib\\site-packages\\sklearn\\preprocessing\\label.py:151: DeprecationWarning: The truth value of an empty array is ambiguous. Returning False, but in future this will result in an error. Use `array.size > 0` to check that an array is not empty.\n",
      "  if diff:\n",
      "D:\\Users\\Administrator\\Anaconda3\\envs\\tensorflow_gpu\\lib\\site-packages\\sklearn\\preprocessing\\label.py:151: DeprecationWarning: The truth value of an empty array is ambiguous. Returning False, but in future this will result in an error. Use `array.size > 0` to check that an array is not empty.\n",
      "  if diff:\n"
     ]
    },
    {
     "name": "stdout",
     "output_type": "stream",
     "text": [
      "0.609561121940024 0.6100138516229646\n"
     ]
    },
    {
     "name": "stderr",
     "output_type": "stream",
     "text": [
      "D:\\Users\\Administrator\\Anaconda3\\envs\\tensorflow_gpu\\lib\\site-packages\\sklearn\\preprocessing\\label.py:151: DeprecationWarning: The truth value of an empty array is ambiguous. Returning False, but in future this will result in an error. Use `array.size > 0` to check that an array is not empty.\n",
      "  if diff:\n",
      "D:\\Users\\Administrator\\Anaconda3\\envs\\tensorflow_gpu\\lib\\site-packages\\sklearn\\preprocessing\\label.py:151: DeprecationWarning: The truth value of an empty array is ambiguous. Returning False, but in future this will result in an error. Use `array.size > 0` to check that an array is not empty.\n",
      "  if diff:\n"
     ]
    },
    {
     "name": "stdout",
     "output_type": "stream",
     "text": [
      "0.6095249384418929 0.6103384532001588\n"
     ]
    },
    {
     "name": "stderr",
     "output_type": "stream",
     "text": [
      "D:\\Users\\Administrator\\Anaconda3\\envs\\tensorflow_gpu\\lib\\site-packages\\sklearn\\preprocessing\\label.py:151: DeprecationWarning: The truth value of an empty array is ambiguous. Returning False, but in future this will result in an error. Use `array.size > 0` to check that an array is not empty.\n",
      "  if diff:\n",
      "D:\\Users\\Administrator\\Anaconda3\\envs\\tensorflow_gpu\\lib\\site-packages\\sklearn\\preprocessing\\label.py:151: DeprecationWarning: The truth value of an empty array is ambiguous. Returning False, but in future this will result in an error. Use `array.size > 0` to check that an array is not empty.\n",
      "  if diff:\n"
     ]
    },
    {
     "name": "stdout",
     "output_type": "stream",
     "text": [
      "0.6095636461198801 0.6099911848185138\n"
     ]
    },
    {
     "name": "stderr",
     "output_type": "stream",
     "text": [
      "D:\\Users\\Administrator\\Anaconda3\\envs\\tensorflow_gpu\\lib\\site-packages\\sklearn\\preprocessing\\label.py:151: DeprecationWarning: The truth value of an empty array is ambiguous. Returning False, but in future this will result in an error. Use `array.size > 0` to check that an array is not empty.\n",
      "  if diff:\n",
      "D:\\Users\\Administrator\\Anaconda3\\envs\\tensorflow_gpu\\lib\\site-packages\\sklearn\\preprocessing\\label.py:151: DeprecationWarning: The truth value of an empty array is ambiguous. Returning False, but in future this will result in an error. Use `array.size > 0` to check that an array is not empty.\n",
      "  if diff:\n"
     ]
    },
    {
     "name": "stdout",
     "output_type": "stream",
     "text": [
      "0.6096603817487102 0.6091202998029145\n"
     ]
    },
    {
     "name": "stderr",
     "output_type": "stream",
     "text": [
      "D:\\Users\\Administrator\\Anaconda3\\envs\\tensorflow_gpu\\lib\\site-packages\\sklearn\\preprocessing\\label.py:151: DeprecationWarning: The truth value of an empty array is ambiguous. Returning False, but in future this will result in an error. Use `array.size > 0` to check that an array is not empty.\n",
      "  if diff:\n",
      "D:\\Users\\Administrator\\Anaconda3\\envs\\tensorflow_gpu\\lib\\site-packages\\sklearn\\preprocessing\\label.py:151: DeprecationWarning: The truth value of an empty array is ambiguous. Returning False, but in future this will result in an error. Use `array.size > 0` to check that an array is not empty.\n",
      "  if diff:\n"
     ]
    },
    {
     "name": "stdout",
     "output_type": "stream",
     "text": [
      "0.6096267400107949 0.6094236571240093\n"
     ]
    },
    {
     "name": "stderr",
     "output_type": "stream",
     "text": [
      "D:\\Users\\Administrator\\Anaconda3\\envs\\tensorflow_gpu\\lib\\site-packages\\sklearn\\preprocessing\\label.py:151: DeprecationWarning: The truth value of an empty array is ambiguous. Returning False, but in future this will result in an error. Use `array.size > 0` to check that an array is not empty.\n",
      "  if diff:\n",
      "D:\\Users\\Administrator\\Anaconda3\\envs\\tensorflow_gpu\\lib\\site-packages\\sklearn\\preprocessing\\label.py:151: DeprecationWarning: The truth value of an empty array is ambiguous. Returning False, but in future this will result in an error. Use `array.size > 0` to check that an array is not empty.\n",
      "  if diff:\n"
     ]
    },
    {
     "name": "stdout",
     "output_type": "stream",
     "text": [
      "0.6096334688222803 0.6093630233347888\n"
     ]
    },
    {
     "name": "stderr",
     "output_type": "stream",
     "text": [
      "D:\\Users\\Administrator\\Anaconda3\\envs\\tensorflow_gpu\\lib\\site-packages\\sklearn\\preprocessing\\label.py:151: DeprecationWarning: The truth value of an empty array is ambiguous. Returning False, but in future this will result in an error. Use `array.size > 0` to check that an array is not empty.\n",
      "  if diff:\n",
      "D:\\Users\\Administrator\\Anaconda3\\envs\\tensorflow_gpu\\lib\\site-packages\\sklearn\\preprocessing\\label.py:151: DeprecationWarning: The truth value of an empty array is ambiguous. Returning False, but in future this will result in an error. Use `array.size > 0` to check that an array is not empty.\n",
      "  if diff:\n"
     ]
    },
    {
     "name": "stdout",
     "output_type": "stream",
     "text": [
      "0.6097637937737533 0.6081845165685369\n"
     ]
    },
    {
     "name": "stderr",
     "output_type": "stream",
     "text": [
      "D:\\Users\\Administrator\\Anaconda3\\envs\\tensorflow_gpu\\lib\\site-packages\\sklearn\\preprocessing\\label.py:151: DeprecationWarning: The truth value of an empty array is ambiguous. Returning False, but in future this will result in an error. Use `array.size > 0` to check that an array is not empty.\n",
      "  if diff:\n",
      "D:\\Users\\Administrator\\Anaconda3\\envs\\tensorflow_gpu\\lib\\site-packages\\sklearn\\preprocessing\\label.py:151: DeprecationWarning: The truth value of an empty array is ambiguous. Returning False, but in future this will result in an error. Use `array.size > 0` to check that an array is not empty.\n",
      "  if diff:\n"
     ]
    },
    {
     "name": "stdout",
     "output_type": "stream",
     "text": [
      "0.6095787905136552 0.6098551286399535\n"
     ]
    },
    {
     "name": "stderr",
     "output_type": "stream",
     "text": [
      "D:\\Users\\Administrator\\Anaconda3\\envs\\tensorflow_gpu\\lib\\site-packages\\sklearn\\preprocessing\\label.py:151: DeprecationWarning: The truth value of an empty array is ambiguous. Returning False, but in future this will result in an error. Use `array.size > 0` to check that an array is not empty.\n",
      "  if diff:\n",
      "D:\\Users\\Administrator\\Anaconda3\\envs\\tensorflow_gpu\\lib\\site-packages\\sklearn\\preprocessing\\label.py:151: DeprecationWarning: The truth value of an empty array is ambiguous. Returning False, but in future this will result in an error. Use `array.size > 0` to check that an array is not empty.\n",
      "  if diff:\n"
     ]
    },
    {
     "name": "stdout",
     "output_type": "stream",
     "text": [
      "0.6096174875162276 0.6095069978565124\n",
      "ce是： 6\n",
      "235 6\n"
     ]
    },
    {
     "name": "stderr",
     "output_type": "stream",
     "text": [
      "D:\\Users\\Administrator\\Anaconda3\\envs\\tensorflow_gpu\\lib\\site-packages\\sklearn\\preprocessing\\label.py:151: DeprecationWarning: The truth value of an empty array is ambiguous. Returning False, but in future this will result in an error. Use `array.size > 0` to check that an array is not empty.\n",
      "  if diff:\n",
      "D:\\Users\\Administrator\\Anaconda3\\envs\\tensorflow_gpu\\lib\\site-packages\\sklearn\\preprocessing\\label.py:151: DeprecationWarning: The truth value of an empty array is ambiguous. Returning False, but in future this will result in an error. Use `array.size > 0` to check that an array is not empty.\n",
      "  if diff:\n"
     ]
    },
    {
     "name": "stdout",
     "output_type": "stream",
     "text": [
      "0.6095872035581107 0.6097795008480738\n"
     ]
    },
    {
     "name": "stderr",
     "output_type": "stream",
     "text": [
      "D:\\Users\\Administrator\\Anaconda3\\envs\\tensorflow_gpu\\lib\\site-packages\\sklearn\\preprocessing\\label.py:151: DeprecationWarning: The truth value of an empty array is ambiguous. Returning False, but in future this will result in an error. Use `array.size > 0` to check that an array is not empty.\n",
      "  if diff:\n",
      "D:\\Users\\Administrator\\Anaconda3\\envs\\tensorflow_gpu\\lib\\site-packages\\sklearn\\preprocessing\\label.py:151: DeprecationWarning: The truth value of an empty array is ambiguous. Returning False, but in future this will result in an error. Use `array.size > 0` to check that an array is not empty.\n",
      "  if diff:\n"
     ]
    },
    {
     "name": "stdout",
     "output_type": "stream",
     "text": [
      "0.609561121940024 0.6100138516229646\n"
     ]
    },
    {
     "name": "stderr",
     "output_type": "stream",
     "text": [
      "D:\\Users\\Administrator\\Anaconda3\\envs\\tensorflow_gpu\\lib\\site-packages\\sklearn\\preprocessing\\label.py:151: DeprecationWarning: The truth value of an empty array is ambiguous. Returning False, but in future this will result in an error. Use `array.size > 0` to check that an array is not empty.\n",
      "  if diff:\n",
      "D:\\Users\\Administrator\\Anaconda3\\envs\\tensorflow_gpu\\lib\\site-packages\\sklearn\\preprocessing\\label.py:151: DeprecationWarning: The truth value of an empty array is ambiguous. Returning False, but in future this will result in an error. Use `array.size > 0` to check that an array is not empty.\n",
      "  if diff:\n"
     ]
    },
    {
     "name": "stdout",
     "output_type": "stream",
     "text": [
      "0.6095249384418929 0.6103384532001588\n"
     ]
    },
    {
     "name": "stderr",
     "output_type": "stream",
     "text": [
      "D:\\Users\\Administrator\\Anaconda3\\envs\\tensorflow_gpu\\lib\\site-packages\\sklearn\\preprocessing\\label.py:151: DeprecationWarning: The truth value of an empty array is ambiguous. Returning False, but in future this will result in an error. Use `array.size > 0` to check that an array is not empty.\n",
      "  if diff:\n",
      "D:\\Users\\Administrator\\Anaconda3\\envs\\tensorflow_gpu\\lib\\site-packages\\sklearn\\preprocessing\\label.py:151: DeprecationWarning: The truth value of an empty array is ambiguous. Returning False, but in future this will result in an error. Use `array.size > 0` to check that an array is not empty.\n",
      "  if diff:\n"
     ]
    },
    {
     "name": "stdout",
     "output_type": "stream",
     "text": [
      "0.6095636461198801 0.6099911848185138\n"
     ]
    },
    {
     "name": "stderr",
     "output_type": "stream",
     "text": [
      "D:\\Users\\Administrator\\Anaconda3\\envs\\tensorflow_gpu\\lib\\site-packages\\sklearn\\preprocessing\\label.py:151: DeprecationWarning: The truth value of an empty array is ambiguous. Returning False, but in future this will result in an error. Use `array.size > 0` to check that an array is not empty.\n",
      "  if diff:\n",
      "D:\\Users\\Administrator\\Anaconda3\\envs\\tensorflow_gpu\\lib\\site-packages\\sklearn\\preprocessing\\label.py:151: DeprecationWarning: The truth value of an empty array is ambiguous. Returning False, but in future this will result in an error. Use `array.size > 0` to check that an array is not empty.\n",
      "  if diff:\n"
     ]
    },
    {
     "name": "stdout",
     "output_type": "stream",
     "text": [
      "0.6096603817487102 0.6091202998029145\n"
     ]
    },
    {
     "name": "stderr",
     "output_type": "stream",
     "text": [
      "D:\\Users\\Administrator\\Anaconda3\\envs\\tensorflow_gpu\\lib\\site-packages\\sklearn\\preprocessing\\label.py:151: DeprecationWarning: The truth value of an empty array is ambiguous. Returning False, but in future this will result in an error. Use `array.size > 0` to check that an array is not empty.\n",
      "  if diff:\n",
      "D:\\Users\\Administrator\\Anaconda3\\envs\\tensorflow_gpu\\lib\\site-packages\\sklearn\\preprocessing\\label.py:151: DeprecationWarning: The truth value of an empty array is ambiguous. Returning False, but in future this will result in an error. Use `array.size > 0` to check that an array is not empty.\n",
      "  if diff:\n"
     ]
    },
    {
     "name": "stdout",
     "output_type": "stream",
     "text": [
      "0.6096267400107949 0.6094236571240093\n"
     ]
    },
    {
     "name": "stderr",
     "output_type": "stream",
     "text": [
      "D:\\Users\\Administrator\\Anaconda3\\envs\\tensorflow_gpu\\lib\\site-packages\\sklearn\\preprocessing\\label.py:151: DeprecationWarning: The truth value of an empty array is ambiguous. Returning False, but in future this will result in an error. Use `array.size > 0` to check that an array is not empty.\n",
      "  if diff:\n",
      "D:\\Users\\Administrator\\Anaconda3\\envs\\tensorflow_gpu\\lib\\site-packages\\sklearn\\preprocessing\\label.py:151: DeprecationWarning: The truth value of an empty array is ambiguous. Returning False, but in future this will result in an error. Use `array.size > 0` to check that an array is not empty.\n",
      "  if diff:\n"
     ]
    },
    {
     "name": "stdout",
     "output_type": "stream",
     "text": [
      "0.6096334688222803 0.6093630233347888\n"
     ]
    },
    {
     "name": "stderr",
     "output_type": "stream",
     "text": [
      "D:\\Users\\Administrator\\Anaconda3\\envs\\tensorflow_gpu\\lib\\site-packages\\sklearn\\preprocessing\\label.py:151: DeprecationWarning: The truth value of an empty array is ambiguous. Returning False, but in future this will result in an error. Use `array.size > 0` to check that an array is not empty.\n",
      "  if diff:\n",
      "D:\\Users\\Administrator\\Anaconda3\\envs\\tensorflow_gpu\\lib\\site-packages\\sklearn\\preprocessing\\label.py:151: DeprecationWarning: The truth value of an empty array is ambiguous. Returning False, but in future this will result in an error. Use `array.size > 0` to check that an array is not empty.\n",
      "  if diff:\n"
     ]
    },
    {
     "name": "stdout",
     "output_type": "stream",
     "text": [
      "0.6097637937737533 0.6081845165685369\n"
     ]
    },
    {
     "name": "stderr",
     "output_type": "stream",
     "text": [
      "D:\\Users\\Administrator\\Anaconda3\\envs\\tensorflow_gpu\\lib\\site-packages\\sklearn\\preprocessing\\label.py:151: DeprecationWarning: The truth value of an empty array is ambiguous. Returning False, but in future this will result in an error. Use `array.size > 0` to check that an array is not empty.\n",
      "  if diff:\n",
      "D:\\Users\\Administrator\\Anaconda3\\envs\\tensorflow_gpu\\lib\\site-packages\\sklearn\\preprocessing\\label.py:151: DeprecationWarning: The truth value of an empty array is ambiguous. Returning False, but in future this will result in an error. Use `array.size > 0` to check that an array is not empty.\n",
      "  if diff:\n"
     ]
    },
    {
     "name": "stdout",
     "output_type": "stream",
     "text": [
      "0.6095787905136552 0.6098551286399535\n"
     ]
    },
    {
     "name": "stderr",
     "output_type": "stream",
     "text": [
      "D:\\Users\\Administrator\\Anaconda3\\envs\\tensorflow_gpu\\lib\\site-packages\\sklearn\\preprocessing\\label.py:151: DeprecationWarning: The truth value of an empty array is ambiguous. Returning False, but in future this will result in an error. Use `array.size > 0` to check that an array is not empty.\n",
      "  if diff:\n",
      "D:\\Users\\Administrator\\Anaconda3\\envs\\tensorflow_gpu\\lib\\site-packages\\sklearn\\preprocessing\\label.py:151: DeprecationWarning: The truth value of an empty array is ambiguous. Returning False, but in future this will result in an error. Use `array.size > 0` to check that an array is not empty.\n",
      "  if diff:\n"
     ]
    },
    {
     "name": "stdout",
     "output_type": "stream",
     "text": [
      "0.6096174875162276 0.6095069978565124\n",
      "tre是： [235, 250, 265]\n",
      "ce是： 4\n",
      "250 4\n"
     ]
    },
    {
     "name": "stderr",
     "output_type": "stream",
     "text": [
      "D:\\Users\\Administrator\\Anaconda3\\envs\\tensorflow_gpu\\lib\\site-packages\\sklearn\\preprocessing\\label.py:151: DeprecationWarning: The truth value of an empty array is ambiguous. Returning False, but in future this will result in an error. Use `array.size > 0` to check that an array is not empty.\n",
      "  if diff:\n",
      "D:\\Users\\Administrator\\Anaconda3\\envs\\tensorflow_gpu\\lib\\site-packages\\sklearn\\preprocessing\\label.py:151: DeprecationWarning: The truth value of an empty array is ambiguous. Returning False, but in future this will result in an error. Use `array.size > 0` to check that an array is not empty.\n",
      "  if diff:\n"
     ]
    },
    {
     "name": "stdout",
     "output_type": "stream",
     "text": [
      "0.6095872035581107 0.6097795008480738\n"
     ]
    },
    {
     "name": "stderr",
     "output_type": "stream",
     "text": [
      "D:\\Users\\Administrator\\Anaconda3\\envs\\tensorflow_gpu\\lib\\site-packages\\sklearn\\preprocessing\\label.py:151: DeprecationWarning: The truth value of an empty array is ambiguous. Returning False, but in future this will result in an error. Use `array.size > 0` to check that an array is not empty.\n",
      "  if diff:\n",
      "D:\\Users\\Administrator\\Anaconda3\\envs\\tensorflow_gpu\\lib\\site-packages\\sklearn\\preprocessing\\label.py:151: DeprecationWarning: The truth value of an empty array is ambiguous. Returning False, but in future this will result in an error. Use `array.size > 0` to check that an array is not empty.\n",
      "  if diff:\n"
     ]
    },
    {
     "name": "stdout",
     "output_type": "stream",
     "text": [
      "0.609561121940024 0.6100138516229646\n"
     ]
    },
    {
     "name": "stderr",
     "output_type": "stream",
     "text": [
      "D:\\Users\\Administrator\\Anaconda3\\envs\\tensorflow_gpu\\lib\\site-packages\\sklearn\\preprocessing\\label.py:151: DeprecationWarning: The truth value of an empty array is ambiguous. Returning False, but in future this will result in an error. Use `array.size > 0` to check that an array is not empty.\n",
      "  if diff:\n",
      "D:\\Users\\Administrator\\Anaconda3\\envs\\tensorflow_gpu\\lib\\site-packages\\sklearn\\preprocessing\\label.py:151: DeprecationWarning: The truth value of an empty array is ambiguous. Returning False, but in future this will result in an error. Use `array.size > 0` to check that an array is not empty.\n",
      "  if diff:\n"
     ]
    },
    {
     "name": "stdout",
     "output_type": "stream",
     "text": [
      "0.6095249384418929 0.6103384532001588\n"
     ]
    },
    {
     "name": "stderr",
     "output_type": "stream",
     "text": [
      "D:\\Users\\Administrator\\Anaconda3\\envs\\tensorflow_gpu\\lib\\site-packages\\sklearn\\preprocessing\\label.py:151: DeprecationWarning: The truth value of an empty array is ambiguous. Returning False, but in future this will result in an error. Use `array.size > 0` to check that an array is not empty.\n",
      "  if diff:\n",
      "D:\\Users\\Administrator\\Anaconda3\\envs\\tensorflow_gpu\\lib\\site-packages\\sklearn\\preprocessing\\label.py:151: DeprecationWarning: The truth value of an empty array is ambiguous. Returning False, but in future this will result in an error. Use `array.size > 0` to check that an array is not empty.\n",
      "  if diff:\n"
     ]
    },
    {
     "name": "stdout",
     "output_type": "stream",
     "text": [
      "0.6095636461198801 0.6099911848185138\n"
     ]
    },
    {
     "name": "stderr",
     "output_type": "stream",
     "text": [
      "D:\\Users\\Administrator\\Anaconda3\\envs\\tensorflow_gpu\\lib\\site-packages\\sklearn\\preprocessing\\label.py:151: DeprecationWarning: The truth value of an empty array is ambiguous. Returning False, but in future this will result in an error. Use `array.size > 0` to check that an array is not empty.\n",
      "  if diff:\n",
      "D:\\Users\\Administrator\\Anaconda3\\envs\\tensorflow_gpu\\lib\\site-packages\\sklearn\\preprocessing\\label.py:151: DeprecationWarning: The truth value of an empty array is ambiguous. Returning False, but in future this will result in an error. Use `array.size > 0` to check that an array is not empty.\n",
      "  if diff:\n"
     ]
    },
    {
     "name": "stdout",
     "output_type": "stream",
     "text": [
      "0.6096603817487102 0.6091202998029145\n"
     ]
    },
    {
     "name": "stderr",
     "output_type": "stream",
     "text": [
      "D:\\Users\\Administrator\\Anaconda3\\envs\\tensorflow_gpu\\lib\\site-packages\\sklearn\\preprocessing\\label.py:151: DeprecationWarning: The truth value of an empty array is ambiguous. Returning False, but in future this will result in an error. Use `array.size > 0` to check that an array is not empty.\n",
      "  if diff:\n",
      "D:\\Users\\Administrator\\Anaconda3\\envs\\tensorflow_gpu\\lib\\site-packages\\sklearn\\preprocessing\\label.py:151: DeprecationWarning: The truth value of an empty array is ambiguous. Returning False, but in future this will result in an error. Use `array.size > 0` to check that an array is not empty.\n",
      "  if diff:\n"
     ]
    },
    {
     "name": "stdout",
     "output_type": "stream",
     "text": [
      "0.6096267400107949 0.6094236571240093\n"
     ]
    },
    {
     "name": "stderr",
     "output_type": "stream",
     "text": [
      "D:\\Users\\Administrator\\Anaconda3\\envs\\tensorflow_gpu\\lib\\site-packages\\sklearn\\preprocessing\\label.py:151: DeprecationWarning: The truth value of an empty array is ambiguous. Returning False, but in future this will result in an error. Use `array.size > 0` to check that an array is not empty.\n",
      "  if diff:\n",
      "D:\\Users\\Administrator\\Anaconda3\\envs\\tensorflow_gpu\\lib\\site-packages\\sklearn\\preprocessing\\label.py:151: DeprecationWarning: The truth value of an empty array is ambiguous. Returning False, but in future this will result in an error. Use `array.size > 0` to check that an array is not empty.\n",
      "  if diff:\n"
     ]
    },
    {
     "name": "stdout",
     "output_type": "stream",
     "text": [
      "0.6096334688222803 0.6093630233347888\n"
     ]
    },
    {
     "name": "stderr",
     "output_type": "stream",
     "text": [
      "D:\\Users\\Administrator\\Anaconda3\\envs\\tensorflow_gpu\\lib\\site-packages\\sklearn\\preprocessing\\label.py:151: DeprecationWarning: The truth value of an empty array is ambiguous. Returning False, but in future this will result in an error. Use `array.size > 0` to check that an array is not empty.\n",
      "  if diff:\n",
      "D:\\Users\\Administrator\\Anaconda3\\envs\\tensorflow_gpu\\lib\\site-packages\\sklearn\\preprocessing\\label.py:151: DeprecationWarning: The truth value of an empty array is ambiguous. Returning False, but in future this will result in an error. Use `array.size > 0` to check that an array is not empty.\n",
      "  if diff:\n"
     ]
    },
    {
     "name": "stdout",
     "output_type": "stream",
     "text": [
      "0.6097637937737533 0.6081845165685369\n"
     ]
    },
    {
     "name": "stderr",
     "output_type": "stream",
     "text": [
      "D:\\Users\\Administrator\\Anaconda3\\envs\\tensorflow_gpu\\lib\\site-packages\\sklearn\\preprocessing\\label.py:151: DeprecationWarning: The truth value of an empty array is ambiguous. Returning False, but in future this will result in an error. Use `array.size > 0` to check that an array is not empty.\n",
      "  if diff:\n",
      "D:\\Users\\Administrator\\Anaconda3\\envs\\tensorflow_gpu\\lib\\site-packages\\sklearn\\preprocessing\\label.py:151: DeprecationWarning: The truth value of an empty array is ambiguous. Returning False, but in future this will result in an error. Use `array.size > 0` to check that an array is not empty.\n",
      "  if diff:\n"
     ]
    },
    {
     "name": "stdout",
     "output_type": "stream",
     "text": [
      "0.6095787905136552 0.6098551286399535\n"
     ]
    },
    {
     "name": "stderr",
     "output_type": "stream",
     "text": [
      "D:\\Users\\Administrator\\Anaconda3\\envs\\tensorflow_gpu\\lib\\site-packages\\sklearn\\preprocessing\\label.py:151: DeprecationWarning: The truth value of an empty array is ambiguous. Returning False, but in future this will result in an error. Use `array.size > 0` to check that an array is not empty.\n",
      "  if diff:\n",
      "D:\\Users\\Administrator\\Anaconda3\\envs\\tensorflow_gpu\\lib\\site-packages\\sklearn\\preprocessing\\label.py:151: DeprecationWarning: The truth value of an empty array is ambiguous. Returning False, but in future this will result in an error. Use `array.size > 0` to check that an array is not empty.\n",
      "  if diff:\n"
     ]
    },
    {
     "name": "stdout",
     "output_type": "stream",
     "text": [
      "0.6096174875162276 0.6095069978565124\n",
      "ce是： 5\n",
      "250 5\n"
     ]
    },
    {
     "name": "stderr",
     "output_type": "stream",
     "text": [
      "D:\\Users\\Administrator\\Anaconda3\\envs\\tensorflow_gpu\\lib\\site-packages\\sklearn\\preprocessing\\label.py:151: DeprecationWarning: The truth value of an empty array is ambiguous. Returning False, but in future this will result in an error. Use `array.size > 0` to check that an array is not empty.\n",
      "  if diff:\n",
      "D:\\Users\\Administrator\\Anaconda3\\envs\\tensorflow_gpu\\lib\\site-packages\\sklearn\\preprocessing\\label.py:151: DeprecationWarning: The truth value of an empty array is ambiguous. Returning False, but in future this will result in an error. Use `array.size > 0` to check that an array is not empty.\n",
      "  if diff:\n"
     ]
    },
    {
     "name": "stdout",
     "output_type": "stream",
     "text": [
      "0.6095872035581107 0.6097795008480738\n"
     ]
    },
    {
     "name": "stderr",
     "output_type": "stream",
     "text": [
      "D:\\Users\\Administrator\\Anaconda3\\envs\\tensorflow_gpu\\lib\\site-packages\\sklearn\\preprocessing\\label.py:151: DeprecationWarning: The truth value of an empty array is ambiguous. Returning False, but in future this will result in an error. Use `array.size > 0` to check that an array is not empty.\n",
      "  if diff:\n",
      "D:\\Users\\Administrator\\Anaconda3\\envs\\tensorflow_gpu\\lib\\site-packages\\sklearn\\preprocessing\\label.py:151: DeprecationWarning: The truth value of an empty array is ambiguous. Returning False, but in future this will result in an error. Use `array.size > 0` to check that an array is not empty.\n",
      "  if diff:\n"
     ]
    },
    {
     "name": "stdout",
     "output_type": "stream",
     "text": [
      "0.609561121940024 0.6100138516229646\n"
     ]
    },
    {
     "name": "stderr",
     "output_type": "stream",
     "text": [
      "D:\\Users\\Administrator\\Anaconda3\\envs\\tensorflow_gpu\\lib\\site-packages\\sklearn\\preprocessing\\label.py:151: DeprecationWarning: The truth value of an empty array is ambiguous. Returning False, but in future this will result in an error. Use `array.size > 0` to check that an array is not empty.\n",
      "  if diff:\n",
      "D:\\Users\\Administrator\\Anaconda3\\envs\\tensorflow_gpu\\lib\\site-packages\\sklearn\\preprocessing\\label.py:151: DeprecationWarning: The truth value of an empty array is ambiguous. Returning False, but in future this will result in an error. Use `array.size > 0` to check that an array is not empty.\n",
      "  if diff:\n"
     ]
    },
    {
     "name": "stdout",
     "output_type": "stream",
     "text": [
      "0.6095249384418929 0.6103384532001588\n"
     ]
    },
    {
     "name": "stderr",
     "output_type": "stream",
     "text": [
      "D:\\Users\\Administrator\\Anaconda3\\envs\\tensorflow_gpu\\lib\\site-packages\\sklearn\\preprocessing\\label.py:151: DeprecationWarning: The truth value of an empty array is ambiguous. Returning False, but in future this will result in an error. Use `array.size > 0` to check that an array is not empty.\n",
      "  if diff:\n",
      "D:\\Users\\Administrator\\Anaconda3\\envs\\tensorflow_gpu\\lib\\site-packages\\sklearn\\preprocessing\\label.py:151: DeprecationWarning: The truth value of an empty array is ambiguous. Returning False, but in future this will result in an error. Use `array.size > 0` to check that an array is not empty.\n",
      "  if diff:\n"
     ]
    },
    {
     "name": "stdout",
     "output_type": "stream",
     "text": [
      "0.6095636461198801 0.6099911848185138\n"
     ]
    },
    {
     "name": "stderr",
     "output_type": "stream",
     "text": [
      "D:\\Users\\Administrator\\Anaconda3\\envs\\tensorflow_gpu\\lib\\site-packages\\sklearn\\preprocessing\\label.py:151: DeprecationWarning: The truth value of an empty array is ambiguous. Returning False, but in future this will result in an error. Use `array.size > 0` to check that an array is not empty.\n",
      "  if diff:\n",
      "D:\\Users\\Administrator\\Anaconda3\\envs\\tensorflow_gpu\\lib\\site-packages\\sklearn\\preprocessing\\label.py:151: DeprecationWarning: The truth value of an empty array is ambiguous. Returning False, but in future this will result in an error. Use `array.size > 0` to check that an array is not empty.\n",
      "  if diff:\n"
     ]
    },
    {
     "name": "stdout",
     "output_type": "stream",
     "text": [
      "0.6096603817487102 0.6091202998029145\n"
     ]
    },
    {
     "name": "stderr",
     "output_type": "stream",
     "text": [
      "D:\\Users\\Administrator\\Anaconda3\\envs\\tensorflow_gpu\\lib\\site-packages\\sklearn\\preprocessing\\label.py:151: DeprecationWarning: The truth value of an empty array is ambiguous. Returning False, but in future this will result in an error. Use `array.size > 0` to check that an array is not empty.\n",
      "  if diff:\n",
      "D:\\Users\\Administrator\\Anaconda3\\envs\\tensorflow_gpu\\lib\\site-packages\\sklearn\\preprocessing\\label.py:151: DeprecationWarning: The truth value of an empty array is ambiguous. Returning False, but in future this will result in an error. Use `array.size > 0` to check that an array is not empty.\n",
      "  if diff:\n"
     ]
    },
    {
     "name": "stdout",
     "output_type": "stream",
     "text": [
      "0.6096267400107949 0.6094236571240093\n"
     ]
    },
    {
     "name": "stderr",
     "output_type": "stream",
     "text": [
      "D:\\Users\\Administrator\\Anaconda3\\envs\\tensorflow_gpu\\lib\\site-packages\\sklearn\\preprocessing\\label.py:151: DeprecationWarning: The truth value of an empty array is ambiguous. Returning False, but in future this will result in an error. Use `array.size > 0` to check that an array is not empty.\n",
      "  if diff:\n",
      "D:\\Users\\Administrator\\Anaconda3\\envs\\tensorflow_gpu\\lib\\site-packages\\sklearn\\preprocessing\\label.py:151: DeprecationWarning: The truth value of an empty array is ambiguous. Returning False, but in future this will result in an error. Use `array.size > 0` to check that an array is not empty.\n",
      "  if diff:\n"
     ]
    },
    {
     "name": "stdout",
     "output_type": "stream",
     "text": [
      "0.6096334688222803 0.6093630233347888\n"
     ]
    },
    {
     "name": "stderr",
     "output_type": "stream",
     "text": [
      "D:\\Users\\Administrator\\Anaconda3\\envs\\tensorflow_gpu\\lib\\site-packages\\sklearn\\preprocessing\\label.py:151: DeprecationWarning: The truth value of an empty array is ambiguous. Returning False, but in future this will result in an error. Use `array.size > 0` to check that an array is not empty.\n",
      "  if diff:\n",
      "D:\\Users\\Administrator\\Anaconda3\\envs\\tensorflow_gpu\\lib\\site-packages\\sklearn\\preprocessing\\label.py:151: DeprecationWarning: The truth value of an empty array is ambiguous. Returning False, but in future this will result in an error. Use `array.size > 0` to check that an array is not empty.\n",
      "  if diff:\n"
     ]
    },
    {
     "name": "stdout",
     "output_type": "stream",
     "text": [
      "0.6097637937737533 0.6081845165685369\n"
     ]
    },
    {
     "name": "stderr",
     "output_type": "stream",
     "text": [
      "D:\\Users\\Administrator\\Anaconda3\\envs\\tensorflow_gpu\\lib\\site-packages\\sklearn\\preprocessing\\label.py:151: DeprecationWarning: The truth value of an empty array is ambiguous. Returning False, but in future this will result in an error. Use `array.size > 0` to check that an array is not empty.\n",
      "  if diff:\n",
      "D:\\Users\\Administrator\\Anaconda3\\envs\\tensorflow_gpu\\lib\\site-packages\\sklearn\\preprocessing\\label.py:151: DeprecationWarning: The truth value of an empty array is ambiguous. Returning False, but in future this will result in an error. Use `array.size > 0` to check that an array is not empty.\n",
      "  if diff:\n"
     ]
    },
    {
     "name": "stdout",
     "output_type": "stream",
     "text": [
      "0.6095787905136552 0.6098551286399535\n"
     ]
    },
    {
     "name": "stderr",
     "output_type": "stream",
     "text": [
      "D:\\Users\\Administrator\\Anaconda3\\envs\\tensorflow_gpu\\lib\\site-packages\\sklearn\\preprocessing\\label.py:151: DeprecationWarning: The truth value of an empty array is ambiguous. Returning False, but in future this will result in an error. Use `array.size > 0` to check that an array is not empty.\n",
      "  if diff:\n",
      "D:\\Users\\Administrator\\Anaconda3\\envs\\tensorflow_gpu\\lib\\site-packages\\sklearn\\preprocessing\\label.py:151: DeprecationWarning: The truth value of an empty array is ambiguous. Returning False, but in future this will result in an error. Use `array.size > 0` to check that an array is not empty.\n",
      "  if diff:\n"
     ]
    },
    {
     "name": "stdout",
     "output_type": "stream",
     "text": [
      "0.6096174875162276 0.6095069978565124\n",
      "ce是： 6\n",
      "250 6\n"
     ]
    },
    {
     "name": "stderr",
     "output_type": "stream",
     "text": [
      "D:\\Users\\Administrator\\Anaconda3\\envs\\tensorflow_gpu\\lib\\site-packages\\sklearn\\preprocessing\\label.py:151: DeprecationWarning: The truth value of an empty array is ambiguous. Returning False, but in future this will result in an error. Use `array.size > 0` to check that an array is not empty.\n",
      "  if diff:\n",
      "D:\\Users\\Administrator\\Anaconda3\\envs\\tensorflow_gpu\\lib\\site-packages\\sklearn\\preprocessing\\label.py:151: DeprecationWarning: The truth value of an empty array is ambiguous. Returning False, but in future this will result in an error. Use `array.size > 0` to check that an array is not empty.\n",
      "  if diff:\n"
     ]
    },
    {
     "name": "stdout",
     "output_type": "stream",
     "text": [
      "0.6095872035581107 0.6097795008480738\n"
     ]
    },
    {
     "name": "stderr",
     "output_type": "stream",
     "text": [
      "D:\\Users\\Administrator\\Anaconda3\\envs\\tensorflow_gpu\\lib\\site-packages\\sklearn\\preprocessing\\label.py:151: DeprecationWarning: The truth value of an empty array is ambiguous. Returning False, but in future this will result in an error. Use `array.size > 0` to check that an array is not empty.\n",
      "  if diff:\n",
      "D:\\Users\\Administrator\\Anaconda3\\envs\\tensorflow_gpu\\lib\\site-packages\\sklearn\\preprocessing\\label.py:151: DeprecationWarning: The truth value of an empty array is ambiguous. Returning False, but in future this will result in an error. Use `array.size > 0` to check that an array is not empty.\n",
      "  if diff:\n"
     ]
    },
    {
     "name": "stdout",
     "output_type": "stream",
     "text": [
      "0.609561121940024 0.6100138516229646\n"
     ]
    },
    {
     "name": "stderr",
     "output_type": "stream",
     "text": [
      "D:\\Users\\Administrator\\Anaconda3\\envs\\tensorflow_gpu\\lib\\site-packages\\sklearn\\preprocessing\\label.py:151: DeprecationWarning: The truth value of an empty array is ambiguous. Returning False, but in future this will result in an error. Use `array.size > 0` to check that an array is not empty.\n",
      "  if diff:\n",
      "D:\\Users\\Administrator\\Anaconda3\\envs\\tensorflow_gpu\\lib\\site-packages\\sklearn\\preprocessing\\label.py:151: DeprecationWarning: The truth value of an empty array is ambiguous. Returning False, but in future this will result in an error. Use `array.size > 0` to check that an array is not empty.\n",
      "  if diff:\n"
     ]
    },
    {
     "name": "stdout",
     "output_type": "stream",
     "text": [
      "0.6095249384418929 0.6103384532001588\n"
     ]
    },
    {
     "name": "stderr",
     "output_type": "stream",
     "text": [
      "D:\\Users\\Administrator\\Anaconda3\\envs\\tensorflow_gpu\\lib\\site-packages\\sklearn\\preprocessing\\label.py:151: DeprecationWarning: The truth value of an empty array is ambiguous. Returning False, but in future this will result in an error. Use `array.size > 0` to check that an array is not empty.\n",
      "  if diff:\n",
      "D:\\Users\\Administrator\\Anaconda3\\envs\\tensorflow_gpu\\lib\\site-packages\\sklearn\\preprocessing\\label.py:151: DeprecationWarning: The truth value of an empty array is ambiguous. Returning False, but in future this will result in an error. Use `array.size > 0` to check that an array is not empty.\n",
      "  if diff:\n"
     ]
    },
    {
     "name": "stdout",
     "output_type": "stream",
     "text": [
      "0.6095636461198801 0.6099911848185138\n"
     ]
    },
    {
     "name": "stderr",
     "output_type": "stream",
     "text": [
      "D:\\Users\\Administrator\\Anaconda3\\envs\\tensorflow_gpu\\lib\\site-packages\\sklearn\\preprocessing\\label.py:151: DeprecationWarning: The truth value of an empty array is ambiguous. Returning False, but in future this will result in an error. Use `array.size > 0` to check that an array is not empty.\n",
      "  if diff:\n",
      "D:\\Users\\Administrator\\Anaconda3\\envs\\tensorflow_gpu\\lib\\site-packages\\sklearn\\preprocessing\\label.py:151: DeprecationWarning: The truth value of an empty array is ambiguous. Returning False, but in future this will result in an error. Use `array.size > 0` to check that an array is not empty.\n",
      "  if diff:\n"
     ]
    },
    {
     "name": "stdout",
     "output_type": "stream",
     "text": [
      "0.6096603817487102 0.6091202998029145\n"
     ]
    },
    {
     "name": "stderr",
     "output_type": "stream",
     "text": [
      "D:\\Users\\Administrator\\Anaconda3\\envs\\tensorflow_gpu\\lib\\site-packages\\sklearn\\preprocessing\\label.py:151: DeprecationWarning: The truth value of an empty array is ambiguous. Returning False, but in future this will result in an error. Use `array.size > 0` to check that an array is not empty.\n",
      "  if diff:\n",
      "D:\\Users\\Administrator\\Anaconda3\\envs\\tensorflow_gpu\\lib\\site-packages\\sklearn\\preprocessing\\label.py:151: DeprecationWarning: The truth value of an empty array is ambiguous. Returning False, but in future this will result in an error. Use `array.size > 0` to check that an array is not empty.\n",
      "  if diff:\n"
     ]
    },
    {
     "name": "stdout",
     "output_type": "stream",
     "text": [
      "0.6096267400107949 0.6094236571240093\n"
     ]
    },
    {
     "name": "stderr",
     "output_type": "stream",
     "text": [
      "D:\\Users\\Administrator\\Anaconda3\\envs\\tensorflow_gpu\\lib\\site-packages\\sklearn\\preprocessing\\label.py:151: DeprecationWarning: The truth value of an empty array is ambiguous. Returning False, but in future this will result in an error. Use `array.size > 0` to check that an array is not empty.\n",
      "  if diff:\n",
      "D:\\Users\\Administrator\\Anaconda3\\envs\\tensorflow_gpu\\lib\\site-packages\\sklearn\\preprocessing\\label.py:151: DeprecationWarning: The truth value of an empty array is ambiguous. Returning False, but in future this will result in an error. Use `array.size > 0` to check that an array is not empty.\n",
      "  if diff:\n"
     ]
    },
    {
     "name": "stdout",
     "output_type": "stream",
     "text": [
      "0.6096334688222803 0.6093630233347888\n"
     ]
    },
    {
     "name": "stderr",
     "output_type": "stream",
     "text": [
      "D:\\Users\\Administrator\\Anaconda3\\envs\\tensorflow_gpu\\lib\\site-packages\\sklearn\\preprocessing\\label.py:151: DeprecationWarning: The truth value of an empty array is ambiguous. Returning False, but in future this will result in an error. Use `array.size > 0` to check that an array is not empty.\n",
      "  if diff:\n",
      "D:\\Users\\Administrator\\Anaconda3\\envs\\tensorflow_gpu\\lib\\site-packages\\sklearn\\preprocessing\\label.py:151: DeprecationWarning: The truth value of an empty array is ambiguous. Returning False, but in future this will result in an error. Use `array.size > 0` to check that an array is not empty.\n",
      "  if diff:\n"
     ]
    },
    {
     "name": "stdout",
     "output_type": "stream",
     "text": [
      "0.6097637937737533 0.6081845165685369\n"
     ]
    },
    {
     "name": "stderr",
     "output_type": "stream",
     "text": [
      "D:\\Users\\Administrator\\Anaconda3\\envs\\tensorflow_gpu\\lib\\site-packages\\sklearn\\preprocessing\\label.py:151: DeprecationWarning: The truth value of an empty array is ambiguous. Returning False, but in future this will result in an error. Use `array.size > 0` to check that an array is not empty.\n",
      "  if diff:\n",
      "D:\\Users\\Administrator\\Anaconda3\\envs\\tensorflow_gpu\\lib\\site-packages\\sklearn\\preprocessing\\label.py:151: DeprecationWarning: The truth value of an empty array is ambiguous. Returning False, but in future this will result in an error. Use `array.size > 0` to check that an array is not empty.\n",
      "  if diff:\n"
     ]
    },
    {
     "name": "stdout",
     "output_type": "stream",
     "text": [
      "0.6095787905136552 0.6098551286399535\n"
     ]
    },
    {
     "name": "stderr",
     "output_type": "stream",
     "text": [
      "D:\\Users\\Administrator\\Anaconda3\\envs\\tensorflow_gpu\\lib\\site-packages\\sklearn\\preprocessing\\label.py:151: DeprecationWarning: The truth value of an empty array is ambiguous. Returning False, but in future this will result in an error. Use `array.size > 0` to check that an array is not empty.\n",
      "  if diff:\n",
      "D:\\Users\\Administrator\\Anaconda3\\envs\\tensorflow_gpu\\lib\\site-packages\\sklearn\\preprocessing\\label.py:151: DeprecationWarning: The truth value of an empty array is ambiguous. Returning False, but in future this will result in an error. Use `array.size > 0` to check that an array is not empty.\n",
      "  if diff:\n"
     ]
    },
    {
     "name": "stdout",
     "output_type": "stream",
     "text": [
      "0.6096174875162276 0.6095069978565124\n",
      "tre是： [235, 250, 265]\n",
      "ce是： 4\n",
      "265 4\n"
     ]
    },
    {
     "name": "stderr",
     "output_type": "stream",
     "text": [
      "D:\\Users\\Administrator\\Anaconda3\\envs\\tensorflow_gpu\\lib\\site-packages\\sklearn\\preprocessing\\label.py:151: DeprecationWarning: The truth value of an empty array is ambiguous. Returning False, but in future this will result in an error. Use `array.size > 0` to check that an array is not empty.\n",
      "  if diff:\n",
      "D:\\Users\\Administrator\\Anaconda3\\envs\\tensorflow_gpu\\lib\\site-packages\\sklearn\\preprocessing\\label.py:151: DeprecationWarning: The truth value of an empty array is ambiguous. Returning False, but in future this will result in an error. Use `array.size > 0` to check that an array is not empty.\n",
      "  if diff:\n"
     ]
    },
    {
     "name": "stdout",
     "output_type": "stream",
     "text": [
      "0.6095872035581107 0.6097795008480738\n"
     ]
    },
    {
     "name": "stderr",
     "output_type": "stream",
     "text": [
      "D:\\Users\\Administrator\\Anaconda3\\envs\\tensorflow_gpu\\lib\\site-packages\\sklearn\\preprocessing\\label.py:151: DeprecationWarning: The truth value of an empty array is ambiguous. Returning False, but in future this will result in an error. Use `array.size > 0` to check that an array is not empty.\n",
      "  if diff:\n",
      "D:\\Users\\Administrator\\Anaconda3\\envs\\tensorflow_gpu\\lib\\site-packages\\sklearn\\preprocessing\\label.py:151: DeprecationWarning: The truth value of an empty array is ambiguous. Returning False, but in future this will result in an error. Use `array.size > 0` to check that an array is not empty.\n",
      "  if diff:\n"
     ]
    },
    {
     "name": "stdout",
     "output_type": "stream",
     "text": [
      "0.609561121940024 0.6100138516229646\n"
     ]
    },
    {
     "name": "stderr",
     "output_type": "stream",
     "text": [
      "D:\\Users\\Administrator\\Anaconda3\\envs\\tensorflow_gpu\\lib\\site-packages\\sklearn\\preprocessing\\label.py:151: DeprecationWarning: The truth value of an empty array is ambiguous. Returning False, but in future this will result in an error. Use `array.size > 0` to check that an array is not empty.\n",
      "  if diff:\n",
      "D:\\Users\\Administrator\\Anaconda3\\envs\\tensorflow_gpu\\lib\\site-packages\\sklearn\\preprocessing\\label.py:151: DeprecationWarning: The truth value of an empty array is ambiguous. Returning False, but in future this will result in an error. Use `array.size > 0` to check that an array is not empty.\n",
      "  if diff:\n"
     ]
    },
    {
     "name": "stdout",
     "output_type": "stream",
     "text": [
      "0.6095249384418929 0.6103384532001588\n"
     ]
    },
    {
     "name": "stderr",
     "output_type": "stream",
     "text": [
      "D:\\Users\\Administrator\\Anaconda3\\envs\\tensorflow_gpu\\lib\\site-packages\\sklearn\\preprocessing\\label.py:151: DeprecationWarning: The truth value of an empty array is ambiguous. Returning False, but in future this will result in an error. Use `array.size > 0` to check that an array is not empty.\n",
      "  if diff:\n",
      "D:\\Users\\Administrator\\Anaconda3\\envs\\tensorflow_gpu\\lib\\site-packages\\sklearn\\preprocessing\\label.py:151: DeprecationWarning: The truth value of an empty array is ambiguous. Returning False, but in future this will result in an error. Use `array.size > 0` to check that an array is not empty.\n",
      "  if diff:\n"
     ]
    },
    {
     "name": "stdout",
     "output_type": "stream",
     "text": [
      "0.6095636461198801 0.6099911848185138\n"
     ]
    },
    {
     "name": "stderr",
     "output_type": "stream",
     "text": [
      "D:\\Users\\Administrator\\Anaconda3\\envs\\tensorflow_gpu\\lib\\site-packages\\sklearn\\preprocessing\\label.py:151: DeprecationWarning: The truth value of an empty array is ambiguous. Returning False, but in future this will result in an error. Use `array.size > 0` to check that an array is not empty.\n",
      "  if diff:\n",
      "D:\\Users\\Administrator\\Anaconda3\\envs\\tensorflow_gpu\\lib\\site-packages\\sklearn\\preprocessing\\label.py:151: DeprecationWarning: The truth value of an empty array is ambiguous. Returning False, but in future this will result in an error. Use `array.size > 0` to check that an array is not empty.\n",
      "  if diff:\n"
     ]
    },
    {
     "name": "stdout",
     "output_type": "stream",
     "text": [
      "0.6096603817487102 0.6091202998029145\n"
     ]
    },
    {
     "name": "stderr",
     "output_type": "stream",
     "text": [
      "D:\\Users\\Administrator\\Anaconda3\\envs\\tensorflow_gpu\\lib\\site-packages\\sklearn\\preprocessing\\label.py:151: DeprecationWarning: The truth value of an empty array is ambiguous. Returning False, but in future this will result in an error. Use `array.size > 0` to check that an array is not empty.\n",
      "  if diff:\n",
      "D:\\Users\\Administrator\\Anaconda3\\envs\\tensorflow_gpu\\lib\\site-packages\\sklearn\\preprocessing\\label.py:151: DeprecationWarning: The truth value of an empty array is ambiguous. Returning False, but in future this will result in an error. Use `array.size > 0` to check that an array is not empty.\n",
      "  if diff:\n"
     ]
    },
    {
     "name": "stdout",
     "output_type": "stream",
     "text": [
      "0.6096267400107949 0.6094236571240093\n"
     ]
    },
    {
     "name": "stderr",
     "output_type": "stream",
     "text": [
      "D:\\Users\\Administrator\\Anaconda3\\envs\\tensorflow_gpu\\lib\\site-packages\\sklearn\\preprocessing\\label.py:151: DeprecationWarning: The truth value of an empty array is ambiguous. Returning False, but in future this will result in an error. Use `array.size > 0` to check that an array is not empty.\n",
      "  if diff:\n",
      "D:\\Users\\Administrator\\Anaconda3\\envs\\tensorflow_gpu\\lib\\site-packages\\sklearn\\preprocessing\\label.py:151: DeprecationWarning: The truth value of an empty array is ambiguous. Returning False, but in future this will result in an error. Use `array.size > 0` to check that an array is not empty.\n",
      "  if diff:\n"
     ]
    },
    {
     "name": "stdout",
     "output_type": "stream",
     "text": [
      "0.6096334688222803 0.6093630233347888\n"
     ]
    },
    {
     "name": "stderr",
     "output_type": "stream",
     "text": [
      "D:\\Users\\Administrator\\Anaconda3\\envs\\tensorflow_gpu\\lib\\site-packages\\sklearn\\preprocessing\\label.py:151: DeprecationWarning: The truth value of an empty array is ambiguous. Returning False, but in future this will result in an error. Use `array.size > 0` to check that an array is not empty.\n",
      "  if diff:\n",
      "D:\\Users\\Administrator\\Anaconda3\\envs\\tensorflow_gpu\\lib\\site-packages\\sklearn\\preprocessing\\label.py:151: DeprecationWarning: The truth value of an empty array is ambiguous. Returning False, but in future this will result in an error. Use `array.size > 0` to check that an array is not empty.\n",
      "  if diff:\n"
     ]
    },
    {
     "name": "stdout",
     "output_type": "stream",
     "text": [
      "0.6097637937737533 0.6081845165685369\n"
     ]
    },
    {
     "name": "stderr",
     "output_type": "stream",
     "text": [
      "D:\\Users\\Administrator\\Anaconda3\\envs\\tensorflow_gpu\\lib\\site-packages\\sklearn\\preprocessing\\label.py:151: DeprecationWarning: The truth value of an empty array is ambiguous. Returning False, but in future this will result in an error. Use `array.size > 0` to check that an array is not empty.\n",
      "  if diff:\n",
      "D:\\Users\\Administrator\\Anaconda3\\envs\\tensorflow_gpu\\lib\\site-packages\\sklearn\\preprocessing\\label.py:151: DeprecationWarning: The truth value of an empty array is ambiguous. Returning False, but in future this will result in an error. Use `array.size > 0` to check that an array is not empty.\n",
      "  if diff:\n"
     ]
    },
    {
     "name": "stdout",
     "output_type": "stream",
     "text": [
      "0.6095787905136552 0.6098551286399535\n"
     ]
    },
    {
     "name": "stderr",
     "output_type": "stream",
     "text": [
      "D:\\Users\\Administrator\\Anaconda3\\envs\\tensorflow_gpu\\lib\\site-packages\\sklearn\\preprocessing\\label.py:151: DeprecationWarning: The truth value of an empty array is ambiguous. Returning False, but in future this will result in an error. Use `array.size > 0` to check that an array is not empty.\n",
      "  if diff:\n",
      "D:\\Users\\Administrator\\Anaconda3\\envs\\tensorflow_gpu\\lib\\site-packages\\sklearn\\preprocessing\\label.py:151: DeprecationWarning: The truth value of an empty array is ambiguous. Returning False, but in future this will result in an error. Use `array.size > 0` to check that an array is not empty.\n",
      "  if diff:\n"
     ]
    },
    {
     "name": "stdout",
     "output_type": "stream",
     "text": [
      "0.6096174875162276 0.6095069978565124\n",
      "ce是： 5\n",
      "265 5\n"
     ]
    },
    {
     "name": "stderr",
     "output_type": "stream",
     "text": [
      "D:\\Users\\Administrator\\Anaconda3\\envs\\tensorflow_gpu\\lib\\site-packages\\sklearn\\preprocessing\\label.py:151: DeprecationWarning: The truth value of an empty array is ambiguous. Returning False, but in future this will result in an error. Use `array.size > 0` to check that an array is not empty.\n",
      "  if diff:\n",
      "D:\\Users\\Administrator\\Anaconda3\\envs\\tensorflow_gpu\\lib\\site-packages\\sklearn\\preprocessing\\label.py:151: DeprecationWarning: The truth value of an empty array is ambiguous. Returning False, but in future this will result in an error. Use `array.size > 0` to check that an array is not empty.\n",
      "  if diff:\n"
     ]
    },
    {
     "name": "stdout",
     "output_type": "stream",
     "text": [
      "0.6095872035581107 0.6097795008480738\n"
     ]
    },
    {
     "name": "stderr",
     "output_type": "stream",
     "text": [
      "D:\\Users\\Administrator\\Anaconda3\\envs\\tensorflow_gpu\\lib\\site-packages\\sklearn\\preprocessing\\label.py:151: DeprecationWarning: The truth value of an empty array is ambiguous. Returning False, but in future this will result in an error. Use `array.size > 0` to check that an array is not empty.\n",
      "  if diff:\n",
      "D:\\Users\\Administrator\\Anaconda3\\envs\\tensorflow_gpu\\lib\\site-packages\\sklearn\\preprocessing\\label.py:151: DeprecationWarning: The truth value of an empty array is ambiguous. Returning False, but in future this will result in an error. Use `array.size > 0` to check that an array is not empty.\n",
      "  if diff:\n"
     ]
    },
    {
     "name": "stdout",
     "output_type": "stream",
     "text": [
      "0.609561121940024 0.6100138516229646\n"
     ]
    },
    {
     "name": "stderr",
     "output_type": "stream",
     "text": [
      "D:\\Users\\Administrator\\Anaconda3\\envs\\tensorflow_gpu\\lib\\site-packages\\sklearn\\preprocessing\\label.py:151: DeprecationWarning: The truth value of an empty array is ambiguous. Returning False, but in future this will result in an error. Use `array.size > 0` to check that an array is not empty.\n",
      "  if diff:\n",
      "D:\\Users\\Administrator\\Anaconda3\\envs\\tensorflow_gpu\\lib\\site-packages\\sklearn\\preprocessing\\label.py:151: DeprecationWarning: The truth value of an empty array is ambiguous. Returning False, but in future this will result in an error. Use `array.size > 0` to check that an array is not empty.\n",
      "  if diff:\n"
     ]
    },
    {
     "name": "stdout",
     "output_type": "stream",
     "text": [
      "0.6095249384418929 0.6103384532001588\n"
     ]
    },
    {
     "name": "stderr",
     "output_type": "stream",
     "text": [
      "D:\\Users\\Administrator\\Anaconda3\\envs\\tensorflow_gpu\\lib\\site-packages\\sklearn\\preprocessing\\label.py:151: DeprecationWarning: The truth value of an empty array is ambiguous. Returning False, but in future this will result in an error. Use `array.size > 0` to check that an array is not empty.\n",
      "  if diff:\n",
      "D:\\Users\\Administrator\\Anaconda3\\envs\\tensorflow_gpu\\lib\\site-packages\\sklearn\\preprocessing\\label.py:151: DeprecationWarning: The truth value of an empty array is ambiguous. Returning False, but in future this will result in an error. Use `array.size > 0` to check that an array is not empty.\n",
      "  if diff:\n"
     ]
    },
    {
     "name": "stdout",
     "output_type": "stream",
     "text": [
      "0.6095636461198801 0.6099911848185138\n"
     ]
    },
    {
     "name": "stderr",
     "output_type": "stream",
     "text": [
      "D:\\Users\\Administrator\\Anaconda3\\envs\\tensorflow_gpu\\lib\\site-packages\\sklearn\\preprocessing\\label.py:151: DeprecationWarning: The truth value of an empty array is ambiguous. Returning False, but in future this will result in an error. Use `array.size > 0` to check that an array is not empty.\n",
      "  if diff:\n",
      "D:\\Users\\Administrator\\Anaconda3\\envs\\tensorflow_gpu\\lib\\site-packages\\sklearn\\preprocessing\\label.py:151: DeprecationWarning: The truth value of an empty array is ambiguous. Returning False, but in future this will result in an error. Use `array.size > 0` to check that an array is not empty.\n",
      "  if diff:\n"
     ]
    },
    {
     "name": "stdout",
     "output_type": "stream",
     "text": [
      "0.6096603817487102 0.6091202998029145\n"
     ]
    },
    {
     "name": "stderr",
     "output_type": "stream",
     "text": [
      "D:\\Users\\Administrator\\Anaconda3\\envs\\tensorflow_gpu\\lib\\site-packages\\sklearn\\preprocessing\\label.py:151: DeprecationWarning: The truth value of an empty array is ambiguous. Returning False, but in future this will result in an error. Use `array.size > 0` to check that an array is not empty.\n",
      "  if diff:\n",
      "D:\\Users\\Administrator\\Anaconda3\\envs\\tensorflow_gpu\\lib\\site-packages\\sklearn\\preprocessing\\label.py:151: DeprecationWarning: The truth value of an empty array is ambiguous. Returning False, but in future this will result in an error. Use `array.size > 0` to check that an array is not empty.\n",
      "  if diff:\n"
     ]
    },
    {
     "name": "stdout",
     "output_type": "stream",
     "text": [
      "0.6096267400107949 0.6094236571240093\n"
     ]
    },
    {
     "name": "stderr",
     "output_type": "stream",
     "text": [
      "D:\\Users\\Administrator\\Anaconda3\\envs\\tensorflow_gpu\\lib\\site-packages\\sklearn\\preprocessing\\label.py:151: DeprecationWarning: The truth value of an empty array is ambiguous. Returning False, but in future this will result in an error. Use `array.size > 0` to check that an array is not empty.\n",
      "  if diff:\n",
      "D:\\Users\\Administrator\\Anaconda3\\envs\\tensorflow_gpu\\lib\\site-packages\\sklearn\\preprocessing\\label.py:151: DeprecationWarning: The truth value of an empty array is ambiguous. Returning False, but in future this will result in an error. Use `array.size > 0` to check that an array is not empty.\n",
      "  if diff:\n"
     ]
    },
    {
     "name": "stdout",
     "output_type": "stream",
     "text": [
      "0.6096334688222803 0.6093630233347888\n"
     ]
    },
    {
     "name": "stderr",
     "output_type": "stream",
     "text": [
      "D:\\Users\\Administrator\\Anaconda3\\envs\\tensorflow_gpu\\lib\\site-packages\\sklearn\\preprocessing\\label.py:151: DeprecationWarning: The truth value of an empty array is ambiguous. Returning False, but in future this will result in an error. Use `array.size > 0` to check that an array is not empty.\n",
      "  if diff:\n",
      "D:\\Users\\Administrator\\Anaconda3\\envs\\tensorflow_gpu\\lib\\site-packages\\sklearn\\preprocessing\\label.py:151: DeprecationWarning: The truth value of an empty array is ambiguous. Returning False, but in future this will result in an error. Use `array.size > 0` to check that an array is not empty.\n",
      "  if diff:\n"
     ]
    },
    {
     "name": "stdout",
     "output_type": "stream",
     "text": [
      "0.6097637937737533 0.6081845165685369\n"
     ]
    },
    {
     "name": "stderr",
     "output_type": "stream",
     "text": [
      "D:\\Users\\Administrator\\Anaconda3\\envs\\tensorflow_gpu\\lib\\site-packages\\sklearn\\preprocessing\\label.py:151: DeprecationWarning: The truth value of an empty array is ambiguous. Returning False, but in future this will result in an error. Use `array.size > 0` to check that an array is not empty.\n",
      "  if diff:\n",
      "D:\\Users\\Administrator\\Anaconda3\\envs\\tensorflow_gpu\\lib\\site-packages\\sklearn\\preprocessing\\label.py:151: DeprecationWarning: The truth value of an empty array is ambiguous. Returning False, but in future this will result in an error. Use `array.size > 0` to check that an array is not empty.\n",
      "  if diff:\n"
     ]
    },
    {
     "name": "stdout",
     "output_type": "stream",
     "text": [
      "0.6095787905136552 0.6098551286399535\n"
     ]
    },
    {
     "name": "stderr",
     "output_type": "stream",
     "text": [
      "D:\\Users\\Administrator\\Anaconda3\\envs\\tensorflow_gpu\\lib\\site-packages\\sklearn\\preprocessing\\label.py:151: DeprecationWarning: The truth value of an empty array is ambiguous. Returning False, but in future this will result in an error. Use `array.size > 0` to check that an array is not empty.\n",
      "  if diff:\n",
      "D:\\Users\\Administrator\\Anaconda3\\envs\\tensorflow_gpu\\lib\\site-packages\\sklearn\\preprocessing\\label.py:151: DeprecationWarning: The truth value of an empty array is ambiguous. Returning False, but in future this will result in an error. Use `array.size > 0` to check that an array is not empty.\n",
      "  if diff:\n"
     ]
    },
    {
     "name": "stdout",
     "output_type": "stream",
     "text": [
      "0.6096174875162276 0.6095069978565124\n",
      "ce是： 6\n",
      "265 6\n"
     ]
    },
    {
     "name": "stderr",
     "output_type": "stream",
     "text": [
      "D:\\Users\\Administrator\\Anaconda3\\envs\\tensorflow_gpu\\lib\\site-packages\\sklearn\\preprocessing\\label.py:151: DeprecationWarning: The truth value of an empty array is ambiguous. Returning False, but in future this will result in an error. Use `array.size > 0` to check that an array is not empty.\n",
      "  if diff:\n",
      "D:\\Users\\Administrator\\Anaconda3\\envs\\tensorflow_gpu\\lib\\site-packages\\sklearn\\preprocessing\\label.py:151: DeprecationWarning: The truth value of an empty array is ambiguous. Returning False, but in future this will result in an error. Use `array.size > 0` to check that an array is not empty.\n",
      "  if diff:\n"
     ]
    },
    {
     "name": "stdout",
     "output_type": "stream",
     "text": [
      "0.6095872035581107 0.6097795008480738\n"
     ]
    },
    {
     "name": "stderr",
     "output_type": "stream",
     "text": [
      "D:\\Users\\Administrator\\Anaconda3\\envs\\tensorflow_gpu\\lib\\site-packages\\sklearn\\preprocessing\\label.py:151: DeprecationWarning: The truth value of an empty array is ambiguous. Returning False, but in future this will result in an error. Use `array.size > 0` to check that an array is not empty.\n",
      "  if diff:\n",
      "D:\\Users\\Administrator\\Anaconda3\\envs\\tensorflow_gpu\\lib\\site-packages\\sklearn\\preprocessing\\label.py:151: DeprecationWarning: The truth value of an empty array is ambiguous. Returning False, but in future this will result in an error. Use `array.size > 0` to check that an array is not empty.\n",
      "  if diff:\n"
     ]
    },
    {
     "name": "stdout",
     "output_type": "stream",
     "text": [
      "0.609561121940024 0.6100138516229646\n"
     ]
    },
    {
     "name": "stderr",
     "output_type": "stream",
     "text": [
      "D:\\Users\\Administrator\\Anaconda3\\envs\\tensorflow_gpu\\lib\\site-packages\\sklearn\\preprocessing\\label.py:151: DeprecationWarning: The truth value of an empty array is ambiguous. Returning False, but in future this will result in an error. Use `array.size > 0` to check that an array is not empty.\n",
      "  if diff:\n",
      "D:\\Users\\Administrator\\Anaconda3\\envs\\tensorflow_gpu\\lib\\site-packages\\sklearn\\preprocessing\\label.py:151: DeprecationWarning: The truth value of an empty array is ambiguous. Returning False, but in future this will result in an error. Use `array.size > 0` to check that an array is not empty.\n",
      "  if diff:\n"
     ]
    },
    {
     "name": "stdout",
     "output_type": "stream",
     "text": [
      "0.6095249384418929 0.6103384532001588\n"
     ]
    },
    {
     "name": "stderr",
     "output_type": "stream",
     "text": [
      "D:\\Users\\Administrator\\Anaconda3\\envs\\tensorflow_gpu\\lib\\site-packages\\sklearn\\preprocessing\\label.py:151: DeprecationWarning: The truth value of an empty array is ambiguous. Returning False, but in future this will result in an error. Use `array.size > 0` to check that an array is not empty.\n",
      "  if diff:\n",
      "D:\\Users\\Administrator\\Anaconda3\\envs\\tensorflow_gpu\\lib\\site-packages\\sklearn\\preprocessing\\label.py:151: DeprecationWarning: The truth value of an empty array is ambiguous. Returning False, but in future this will result in an error. Use `array.size > 0` to check that an array is not empty.\n",
      "  if diff:\n"
     ]
    },
    {
     "name": "stdout",
     "output_type": "stream",
     "text": [
      "0.6095636461198801 0.6099911848185138\n"
     ]
    },
    {
     "name": "stderr",
     "output_type": "stream",
     "text": [
      "D:\\Users\\Administrator\\Anaconda3\\envs\\tensorflow_gpu\\lib\\site-packages\\sklearn\\preprocessing\\label.py:151: DeprecationWarning: The truth value of an empty array is ambiguous. Returning False, but in future this will result in an error. Use `array.size > 0` to check that an array is not empty.\n",
      "  if diff:\n",
      "D:\\Users\\Administrator\\Anaconda3\\envs\\tensorflow_gpu\\lib\\site-packages\\sklearn\\preprocessing\\label.py:151: DeprecationWarning: The truth value of an empty array is ambiguous. Returning False, but in future this will result in an error. Use `array.size > 0` to check that an array is not empty.\n",
      "  if diff:\n"
     ]
    },
    {
     "name": "stdout",
     "output_type": "stream",
     "text": [
      "0.6096603817487102 0.6091202998029145\n"
     ]
    },
    {
     "name": "stderr",
     "output_type": "stream",
     "text": [
      "D:\\Users\\Administrator\\Anaconda3\\envs\\tensorflow_gpu\\lib\\site-packages\\sklearn\\preprocessing\\label.py:151: DeprecationWarning: The truth value of an empty array is ambiguous. Returning False, but in future this will result in an error. Use `array.size > 0` to check that an array is not empty.\n",
      "  if diff:\n",
      "D:\\Users\\Administrator\\Anaconda3\\envs\\tensorflow_gpu\\lib\\site-packages\\sklearn\\preprocessing\\label.py:151: DeprecationWarning: The truth value of an empty array is ambiguous. Returning False, but in future this will result in an error. Use `array.size > 0` to check that an array is not empty.\n",
      "  if diff:\n"
     ]
    },
    {
     "name": "stdout",
     "output_type": "stream",
     "text": [
      "0.6096267400107949 0.6094236571240093\n"
     ]
    },
    {
     "name": "stderr",
     "output_type": "stream",
     "text": [
      "D:\\Users\\Administrator\\Anaconda3\\envs\\tensorflow_gpu\\lib\\site-packages\\sklearn\\preprocessing\\label.py:151: DeprecationWarning: The truth value of an empty array is ambiguous. Returning False, but in future this will result in an error. Use `array.size > 0` to check that an array is not empty.\n",
      "  if diff:\n",
      "D:\\Users\\Administrator\\Anaconda3\\envs\\tensorflow_gpu\\lib\\site-packages\\sklearn\\preprocessing\\label.py:151: DeprecationWarning: The truth value of an empty array is ambiguous. Returning False, but in future this will result in an error. Use `array.size > 0` to check that an array is not empty.\n",
      "  if diff:\n"
     ]
    },
    {
     "name": "stdout",
     "output_type": "stream",
     "text": [
      "0.6096334688222803 0.6093630233347888\n"
     ]
    },
    {
     "name": "stderr",
     "output_type": "stream",
     "text": [
      "D:\\Users\\Administrator\\Anaconda3\\envs\\tensorflow_gpu\\lib\\site-packages\\sklearn\\preprocessing\\label.py:151: DeprecationWarning: The truth value of an empty array is ambiguous. Returning False, but in future this will result in an error. Use `array.size > 0` to check that an array is not empty.\n",
      "  if diff:\n",
      "D:\\Users\\Administrator\\Anaconda3\\envs\\tensorflow_gpu\\lib\\site-packages\\sklearn\\preprocessing\\label.py:151: DeprecationWarning: The truth value of an empty array is ambiguous. Returning False, but in future this will result in an error. Use `array.size > 0` to check that an array is not empty.\n",
      "  if diff:\n"
     ]
    },
    {
     "name": "stdout",
     "output_type": "stream",
     "text": [
      "0.6097637937737533 0.6081845165685369\n"
     ]
    },
    {
     "name": "stderr",
     "output_type": "stream",
     "text": [
      "D:\\Users\\Administrator\\Anaconda3\\envs\\tensorflow_gpu\\lib\\site-packages\\sklearn\\preprocessing\\label.py:151: DeprecationWarning: The truth value of an empty array is ambiguous. Returning False, but in future this will result in an error. Use `array.size > 0` to check that an array is not empty.\n",
      "  if diff:\n",
      "D:\\Users\\Administrator\\Anaconda3\\envs\\tensorflow_gpu\\lib\\site-packages\\sklearn\\preprocessing\\label.py:151: DeprecationWarning: The truth value of an empty array is ambiguous. Returning False, but in future this will result in an error. Use `array.size > 0` to check that an array is not empty.\n",
      "  if diff:\n"
     ]
    },
    {
     "name": "stdout",
     "output_type": "stream",
     "text": [
      "0.6095787905136552 0.6098551286399535\n"
     ]
    },
    {
     "name": "stderr",
     "output_type": "stream",
     "text": [
      "D:\\Users\\Administrator\\Anaconda3\\envs\\tensorflow_gpu\\lib\\site-packages\\sklearn\\preprocessing\\label.py:151: DeprecationWarning: The truth value of an empty array is ambiguous. Returning False, but in future this will result in an error. Use `array.size > 0` to check that an array is not empty.\n",
      "  if diff:\n",
      "D:\\Users\\Administrator\\Anaconda3\\envs\\tensorflow_gpu\\lib\\site-packages\\sklearn\\preprocessing\\label.py:151: DeprecationWarning: The truth value of an empty array is ambiguous. Returning False, but in future this will result in an error. Use `array.size > 0` to check that an array is not empty.\n",
      "  if diff:\n"
     ]
    },
    {
     "name": "stdout",
     "output_type": "stream",
     "text": [
      "0.6096174875162276 0.6095069978565124\n",
      "----开始对比不同的方法----\n",
      "----不同方法对比完毕----\n",
      "开始预测\n"
     ]
    },
    {
     "name": "stderr",
     "output_type": "stream",
     "text": [
      "D:\\Users\\Administrator\\Anaconda3\\envs\\tensorflow_gpu\\lib\\site-packages\\sklearn\\preprocessing\\label.py:151: DeprecationWarning: The truth value of an empty array is ambiguous. Returning False, but in future this will result in an error. Use `array.size > 0` to check that an array is not empty.\n",
      "  if diff:\n"
     ]
    },
    {
     "name": "stdout",
     "output_type": "stream",
     "text": [
      "开始计算混淆矩阵\n"
     ]
    },
    {
     "ename": "NameError",
     "evalue": "name 'jj' is not defined",
     "output_type": "error",
     "traceback": [
      "\u001b[1;31m---------------------------------------------------------------------------\u001b[0m",
      "\u001b[1;31mNameError\u001b[0m                                 Traceback (most recent call last)",
      "\u001b[1;32m<ipython-input-56-d511fbaaed74>\u001b[0m in \u001b[0;36m<module>\u001b[1;34m()\u001b[0m\n\u001b[0;32m      4\u001b[0m \u001b[0mduibi\u001b[0m\u001b[1;33m(\u001b[0m\u001b[0mxulie\u001b[0m\u001b[1;33m,\u001b[0m \u001b[0mzijian\u001b[0m\u001b[1;33m)\u001b[0m\u001b[1;33m\u001b[0m\u001b[0m\n\u001b[0;32m      5\u001b[0m \u001b[1;31m# 计算预测数据的f1度量，精确率以及召回率\u001b[0m\u001b[1;33m\u001b[0m\u001b[1;33m\u001b[0m\u001b[0m\n\u001b[1;32m----> 6\u001b[1;33m \u001b[0mmodel\u001b[0m\u001b[1;33m,\u001b[0m \u001b[0mf1\u001b[0m\u001b[1;33m,\u001b[0m \u001b[0mjing\u001b[0m\u001b[1;33m,\u001b[0m \u001b[0mzhao\u001b[0m \u001b[1;33m=\u001b[0m \u001b[0mrecspre\u001b[0m\u001b[1;33m(\u001b[0m\u001b[0mzijian\u001b[0m\u001b[1;33m,\u001b[0m \u001b[0mtest_df\u001b[0m\u001b[1;33m.\u001b[0m\u001b[0mvalues\u001b[0m\u001b[1;33m,\u001b[0m \u001b[0mkfold_dict\u001b[0m\u001b[1;33m,\u001b[0m \u001b[0mzhehsu\u001b[0m\u001b[1;33m)\u001b[0m\u001b[1;33m\u001b[0m\u001b[0m\n\u001b[0m\u001b[0;32m      7\u001b[0m \u001b[0mprint\u001b[0m\u001b[1;33m(\u001b[0m\u001b[1;34m'F1度量：{}, 精确率：{}, 召回率：{}'\u001b[0m\u001b[1;33m.\u001b[0m\u001b[0mformat\u001b[0m\u001b[1;33m(\u001b[0m\u001b[0mf1\u001b[0m\u001b[1;33m,\u001b[0m \u001b[0mjing\u001b[0m\u001b[1;33m,\u001b[0m \u001b[0mzhao\u001b[0m\u001b[1;33m)\u001b[0m\u001b[1;33m)\u001b[0m\u001b[1;33m\u001b[0m\u001b[0m\n",
      "\u001b[1;32m<ipython-input-54-efa3f7f6ad7d>\u001b[0m in \u001b[0;36mrecspre\u001b[1;34m(estrs, predata, kfold_dict, zhe)\u001b[0m\n\u001b[0;32m    154\u001b[0m     \u001b[0myucede\u001b[0m \u001b[1;33m=\u001b[0m \u001b[0mmodel\u001b[0m\u001b[1;33m.\u001b[0m\u001b[0mpredict\u001b[0m\u001b[1;33m(\u001b[0m\u001b[0mpredata\u001b[0m\u001b[1;33m[\u001b[0m\u001b[1;33m:\u001b[0m\u001b[1;33m,\u001b[0m \u001b[1;33m:\u001b[0m\u001b[1;33m-\u001b[0m\u001b[1;36m1\u001b[0m\u001b[1;33m]\u001b[0m\u001b[1;33m)\u001b[0m\u001b[1;33m\u001b[0m\u001b[0m\n\u001b[0;32m    155\u001b[0m     \u001b[0mprint\u001b[0m\u001b[1;33m(\u001b[0m\u001b[1;34m'开始计算混淆矩阵'\u001b[0m\u001b[1;33m)\u001b[0m\u001b[1;33m\u001b[0m\u001b[0m\n\u001b[1;32m--> 156\u001b[1;33m     \u001b[0mprint\u001b[0m\u001b[1;33m(\u001b[0m\u001b[0mconfuse_matrix\u001b[0m\u001b[1;33m(\u001b[0m\u001b[0mpredata\u001b[0m\u001b[1;33m[\u001b[0m\u001b[1;33m:\u001b[0m\u001b[1;33m,\u001b[0m \u001b[1;33m-\u001b[0m\u001b[1;36m1\u001b[0m\u001b[1;33m]\u001b[0m\u001b[1;33m,\u001b[0m \u001b[0myucede\u001b[0m\u001b[1;33m)\u001b[0m\u001b[1;33m)\u001b[0m\u001b[1;33m\u001b[0m\u001b[0m\n\u001b[0m\u001b[0;32m    157\u001b[0m \u001b[1;33m\u001b[0m\u001b[0m\n\u001b[0;32m    158\u001b[0m     \u001b[1;32mreturn\u001b[0m \u001b[0mmodel\u001b[0m\u001b[1;33m,\u001b[0m\u001b[0mfmse\u001b[0m\u001b[1;33m(\u001b[0m\u001b[0mpredata\u001b[0m\u001b[1;33m[\u001b[0m\u001b[1;33m:\u001b[0m\u001b[1;33m,\u001b[0m \u001b[1;33m-\u001b[0m\u001b[1;36m1\u001b[0m\u001b[1;33m]\u001b[0m\u001b[1;33m,\u001b[0m \u001b[0myucede\u001b[0m\u001b[1;33m)\u001b[0m\u001b[1;33m\u001b[0m\u001b[0m\n",
      "\u001b[1;32m<ipython-input-54-efa3f7f6ad7d>\u001b[0m in \u001b[0;36mconfuse_matrix\u001b[1;34m(reallist, predict_results)\u001b[0m\n\u001b[0;32m     42\u001b[0m     \u001b[0mtable\u001b[0m \u001b[1;33m=\u001b[0m \u001b[0mPT\u001b[0m\u001b[1;33m(\u001b[0m\u001b[1;33m[\u001b[0m\u001b[1;34m'混淆矩阵'\u001b[0m\u001b[1;33m]\u001b[0m \u001b[1;33m+\u001b[0m \u001b[1;33m[\u001b[0m\u001b[1;34m'预测%s'\u001b[0m\u001b[1;33m%\u001b[0m \u001b[0md\u001b[0m \u001b[1;32mfor\u001b[0m \u001b[0md\u001b[0m \u001b[1;32min\u001b[0m \u001b[0mcolumn_list\u001b[0m\u001b[1;33m]\u001b[0m\u001b[1;33m)\u001b[0m\u001b[1;33m\u001b[0m\u001b[0m\n\u001b[0;32m     43\u001b[0m     \u001b[1;32mfor\u001b[0m \u001b[0mcolumn_name\u001b[0m \u001b[1;32min\u001b[0m \u001b[0mcolumn_list\u001b[0m\u001b[1;33m:\u001b[0m\u001b[1;33m\u001b[0m\u001b[0m\n\u001b[1;32m---> 44\u001b[1;33m         \u001b[0mtable\u001b[0m\u001b[1;33m.\u001b[0m\u001b[0madd_row\u001b[0m\u001b[1;33m(\u001b[0m\u001b[1;33m[\u001b[0m\u001b[1;34m'实际%s'\u001b[0m \u001b[1;33m%\u001b[0m \u001b[0mjj\u001b[0m\u001b[1;33m]\u001b[0m \u001b[1;33m+\u001b[0m \u001b[1;33m[\u001b[0m\u001b[0mzidian\u001b[0m\u001b[1;33m[\u001b[0m\u001b[0mjj\u001b[0m\u001b[1;33m]\u001b[0m\u001b[1;33m[\u001b[0m\u001b[0mkk\u001b[0m\u001b[1;33m]\u001b[0m \u001b[1;32mfor\u001b[0m \u001b[0mkk\u001b[0m \u001b[1;32min\u001b[0m \u001b[0mcolumn_list\u001b[0m\u001b[1;33m]\u001b[0m\u001b[1;33m)\u001b[0m\u001b[1;33m\u001b[0m\u001b[0m\n\u001b[0m\u001b[0;32m     45\u001b[0m     \u001b[1;32mreturn\u001b[0m \u001b[0mtable\u001b[0m\u001b[1;33m\u001b[0m\u001b[0m\n\u001b[0;32m     46\u001b[0m \u001b[1;33m\u001b[0m\u001b[0m\n",
      "\u001b[1;31mNameError\u001b[0m: name 'jj' is not defined"
     ]
    },
    {
     "data": {
      "image/png": "[encoded data removed]",
      "text/plain": [
       "<Figure size 792x504 with 1 Axes>"
      ]
     },
     "metadata": {
      "needs_background": "light"
     },
     "output_type": "display_data"
    }
   ],
   "source": [
    "\n",
    "zijian, zhehsu, xulie = Zuhe(kfold_dict)\n",
    "# 绘制方法组合的对比曲线\n",
    "duibi(xulie, zijian)\n",
    "# 计算预测数据的f1度量，精确率以及召回率\n",
    "model, f1, jing, zhao = recspre(zijian, test_df.values, kfold_dict, zhehsu)\n",
    "print('F1度量：{}, 精确率：{}, 召回率：{}'.format(f1, jing, zhao))"
   ]
  },
  {
   "cell_type": "code",
   "execution_count": 60,
   "metadata": {},
   "outputs": [
    {
     "ename": "NameError",
     "evalue": "name 'model' is not defined",
     "output_type": "error",
     "traceback": [
      "\u001b[1;31m---------------------------------------------------------------------------\u001b[0m",
      "\u001b[1;31mNameError\u001b[0m                                 Traceback (most recent call last)",
      "\u001b[1;32m<ipython-input-60-1f8a688cae5d>\u001b[0m in \u001b[0;36m<module>\u001b[1;34m()\u001b[0m\n\u001b[1;32m----> 1\u001b[1;33m \u001b[0mmodel\u001b[0m\u001b[1;33m\u001b[0m\u001b[0m\n\u001b[0m",
      "\u001b[1;31mNameError\u001b[0m: name 'model' is not defined"
     ]
    }
   ],
   "source": [
    "model"
   ]
  },
  {
   "cell_type": "code",
   "execution_count": 59,
   "metadata": {},
   "outputs": [
    {
     "ename": "NameError",
     "evalue": "name 'model' is not defined",
     "output_type": "error",
     "traceback": [
      "\u001b[1;31m---------------------------------------------------------------------------\u001b[0m",
      "\u001b[1;31mNameError\u001b[0m                                 Traceback (most recent call last)",
      "\u001b[1;32m<ipython-input-59-12176067d387>\u001b[0m in \u001b[0;36m<module>\u001b[1;34m()\u001b[0m\n\u001b[0;32m      1\u001b[0m \u001b[0mplt\u001b[0m\u001b[1;33m.\u001b[0m\u001b[0mfigure\u001b[0m\u001b[1;33m(\u001b[0m\u001b[0mfigsize\u001b[0m\u001b[1;33m=\u001b[0m\u001b[1;33m(\u001b[0m\u001b[1;36m40\u001b[0m\u001b[1;33m,\u001b[0m\u001b[1;36m20\u001b[0m\u001b[1;33m)\u001b[0m\u001b[1;33m)\u001b[0m\u001b[1;33m\u001b[0m\u001b[0m\n\u001b[1;32m----> 2\u001b[1;33m \u001b[0mlgb\u001b[0m\u001b[1;33m.\u001b[0m\u001b[0mplot_importance\u001b[0m\u001b[1;33m(\u001b[0m\u001b[0mmodel\u001b[0m\u001b[1;33m,\u001b[0m\u001b[0mmax_num_features\u001b[0m\u001b[1;33m=\u001b[0m\u001b[1;36m15\u001b[0m\u001b[1;33m)\u001b[0m\u001b[1;33m\u001b[0m\u001b[0m\n\u001b[0m\u001b[0;32m      3\u001b[0m \u001b[0mplt\u001b[0m\u001b[1;33m.\u001b[0m\u001b[0mshow\u001b[0m\u001b[1;33m(\u001b[0m\u001b[1;33m)\u001b[0m\u001b[1;33m\u001b[0m\u001b[0m\n",
      "\u001b[1;31mNameError\u001b[0m: name 'model' is not defined"
     ]
    },
    {
     "data": {
      "text/plain": [
       "<Figure size 2880x1440 with 0 Axes>"
      ]
     },
     "metadata": {},
     "output_type": "display_data"
    }
   ],
   "source": [
    "plt.figure(figsize=(40,20))\n",
    "lgb.plot_importance(model,max_num_features=15)\n",
    "plt.show()"
   ]
  },
  {
   "cell_type": "code",
   "execution_count": null,
   "metadata": {},
   "outputs": [],
   "source": [
    "fig, ax = plt.subplots(1, 2, figsize=(14, 14))\n",
    "lgb.plot_importance(model, ax=ax[0])\n",
    "lgb.plot_importance(m, ax=ax[1], importance_type='gain')\n",
    "fig.tight_layout()"
   ]
  },
  {
   "cell_type": "markdown",
   "metadata": {},
   "source": [
    "# LabelEncoder"
   ]
  },
  {
   "cell_type": "code",
   "execution_count": null,
   "metadata": {},
   "outputs": [],
   "source": []
  },
  {
   "cell_type": "code",
   "execution_count": null,
   "metadata": {},
   "outputs": [],
   "source": [
    "from sklearn.preprocessing import LabelEncoder"
   ]
  },
  {
   "cell_type": "code",
   "execution_count": null,
   "metadata": {},
   "outputs": [],
   "source": [
    "for col in category_feature: \n",
    "    print(col)\n",
    "    le = LabelEncoder()  \n",
    "    try:\n",
    "        df[col] = le.fit_transform(df[col])\n",
    "    except:\n",
    "        df[col] = le.fit_transform(df[col].fillna('nan'))"
   ]
  },
  {
   "cell_type": "code",
   "execution_count": null,
   "metadata": {},
   "outputs": [],
   "source": [
    "df[category_feature].head()"
   ]
  },
  {
   "cell_type": "code",
   "execution_count": null,
   "metadata": {},
   "outputs": [],
   "source": [
    "#"
   ]
  },
  {
   "cell_type": "code",
   "execution_count": null,
   "metadata": {},
   "outputs": [],
   "source": [
    "from sklearn.preprocessing import OneHotEncoder\n",
    "id_data = df[bool_feature+continuous_feature]\n",
    "transform_data = df[category_feature].values[:,:]\n",
    "print(transform_data)\n",
    "print(len(transform_data))\n",
    "\n",
    "enc = OneHotEncoder()\n",
    "df2_new = enc.fit_transform(transform_data).toarray()\n",
    "\n",
    "#zu he\n",
    "df2_all = pd.concat(id_data,pd.DataFrame(df2_new),axis=1)\n",
    "print(df2_all)"
   ]
  },
  {
   "cell_type": "code",
   "execution_count": null,
   "metadata": {},
   "outputs": [],
   "source": []
  }
 ],
 "metadata": {
  "kernelspec": {
   "display_name": "Python 3",
   "language": "python",
   "name": "python3"
  },
  "language_info": {
   "codemirror_mode": {
    "name": "ipython",
    "version": 3
   },
   "file_extension": ".py",
   "mimetype": "text/x-python",
   "name": "python",
   "nbconvert_exporter": "python",
   "pygments_lexer": "ipython3",
   "version": "3.7.3"
  },
  "toc": {
   "base_numbering": 1,
   "nav_menu": {},
   "number_sections": true,
   "sideBar": true,
   "skip_h1_title": false,
   "title_cell": "Table of Contents",
   "title_sidebar": "Contents",
   "toc_cell": false,
   "toc_position": {},
   "toc_section_display": true,
   "toc_window_display": true
  }
 },
 "nbformat": 4,
 "nbformat_minor": 2
}
