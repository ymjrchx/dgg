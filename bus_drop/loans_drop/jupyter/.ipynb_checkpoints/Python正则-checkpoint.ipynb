{
 "cells": [
  {
   "cell_type": "markdown",
   "metadata": {},
   "source": [
    "python与正则\n",
    "https://www.runoob.com/python/python-reg-expressions.html"
   ]
  },
  {
   "cell_type": "code",
   "execution_count": 1,
   "metadata": {},
   "outputs": [],
   "source": [
    "import re"
   ]
  },
  {
   "cell_type": "markdown",
   "metadata": {},
   "source": [
    "# 匹配单词的边界位置"
   ]
  },
  {
   "cell_type": "code",
   "execution_count": 2,
   "metadata": {},
   "outputs": [
    {
     "data": {
      "text/plain": [
       "''"
      ]
     },
     "execution_count": 2,
     "metadata": {},
     "output_type": "execute_result"
    }
   ],
   "source": [
    "# 匹配空行 该行中不包含任何字符串\n",
    "re.match(r\"^$\",'').group()"
   ]
  },
  {
   "cell_type": "code",
   "execution_count": 3,
   "metadata": {},
   "outputs": [
    {
     "data": {
      "text/plain": [
       "''"
      ]
     },
     "execution_count": 3,
     "metadata": {},
     "output_type": "execute_result"
    }
   ],
   "source": [
    "# 匹配任意行\n",
    "re.match(r\"^\",'').group()"
   ]
  },
  {
   "cell_type": "code",
   "execution_count": 4,
   "metadata": {},
   "outputs": [
    {
     "name": "stdout",
     "output_type": "stream",
     "text": [
      "None\n"
     ]
    },
    {
     "data": {
      "text/plain": [
       "'Str'"
      ]
     },
     "execution_count": 4,
     "metadata": {},
     "output_type": "execute_result"
    }
   ],
   "source": [
    "# 匹配 Str开头的字符串 Str之前必须是单词的分界处\n",
    "print(re.match(r\"\\bStr\",'lString Format'))\n",
    "re.match(r\"\\bStr\",'String Format').group()"
   ]
  },
  {
   "cell_type": "code",
   "execution_count": 125,
   "metadata": {},
   "outputs": [
    {
     "name": "stdout",
     "output_type": "stream",
     "text": [
      "None\n"
     ]
    },
    {
     "data": {
      "text/plain": [
       "'ing'"
      ]
     },
     "execution_count": 125,
     "metadata": {},
     "output_type": "execute_result"
    }
   ],
   "source": [
    "# 匹配 ing结尾的字符串 ing之后必须是单词的分界处\n",
    "print(re.match(r\"ing\\b\",'String Format'))\n",
    "re.search(r\"ing\\b\",'Format String').group() #re.match与re.search的区别\n",
    "# re.match只匹配字符串的开始，如果字符串开始不符合正则表达式，则匹配失败，函数返回None；而re.search匹配整个字符串，直到找到一个匹配。"
   ]
  },
  {
   "cell_type": "code",
   "execution_count": 8,
   "metadata": {},
   "outputs": [
    {
     "data": {
      "text/plain": [
       "'String'"
      ]
     },
     "execution_count": 8,
     "metadata": {},
     "output_type": "execute_result"
    }
   ],
   "source": [
    "# 匹配一个完整的单词 String\n",
    "re.match(r\"\\bString\\b\",'String').group()"
   ]
  },
  {
   "cell_type": "markdown",
   "metadata": {},
   "source": [
    "# 匹配字符的元字符\n",
    "- . 除换行符以外的任意字符\n",
    "- \\w 字母、数字、下划线、汉字  ==========  \\W与此相反\n",
    "- \\s 任意的空白字符，空格、制表符、换行符、中文全角空格  ========= \\S与此相反\n",
    "- \\d 匹配任意的数字  ======  \\D与此相反"
   ]
  },
  {
   "cell_type": "code",
   "execution_count": 24,
   "metadata": {},
   "outputs": [
    {
     "data": {
      "text/plain": [
       "'S'"
      ]
     },
     "execution_count": 24,
     "metadata": {},
     "output_type": "execute_result"
    }
   ],
   "source": [
    "# 匹配非空行，该行字符串包含除换行符以外的任意字符\n",
    "re.match(r\"^.$\",'String').group()"
   ]
  },
  {
   "cell_type": "code",
   "execution_count": 21,
   "metadata": {},
   "outputs": [
    {
     "data": {
      "text/plain": [
       "'abString'"
      ]
     },
     "execution_count": 21,
     "metadata": {},
     "output_type": "execute_result"
    }
   ],
   "source": [
    "# 以a开头 长度等于8的字符串\n",
    "re.match(r\"\\ba\\w{7}\\b\",'abString').group()"
   ]
  },
  {
   "cell_type": "markdown",
   "metadata": {},
   "source": [
    "# 文字匹配\n",
    "- [a-z] []匹配其中的任意一个字符，[a-z]匹配任意一个小写字母 [^a-z]匹配字符集以外的任意字符\n",
    "- [0-9a-zA-Z] 等同于\\w   [^0-9a-zA-Z] 等同于\\W"
   ]
  },
  {
   "cell_type": "code",
   "execution_count": 29,
   "metadata": {},
   "outputs": [
    {
     "data": {
      "text/plain": [
       "'b'"
      ]
     },
     "execution_count": 29,
     "metadata": {},
     "output_type": "execute_result"
    }
   ],
   "source": [
    "# [^]是字符类的第一个字符，表示匹配除了该字符以外的任意字符\n",
    "re.match(r\"[^aAeEiIouU]\",'bString').group()"
   ]
  },
  {
   "cell_type": "code",
   "execution_count": 35,
   "metadata": {},
   "outputs": [
    {
     "data": {
      "text/plain": [
       "'a'"
      ]
     },
     "execution_count": 35,
     "metadata": {},
     "output_type": "execute_result"
    }
   ],
   "source": [
    "# 匹配除连接符'-'以外的任意字符\n",
    "re.match(r\"[^-]\",'abString').group()"
   ]
  },
  {
   "cell_type": "code",
   "execution_count": 37,
   "metadata": {},
   "outputs": [
    {
     "data": {
      "text/plain": [
       "'aS'"
      ]
     },
     "execution_count": 37,
     "metadata": {},
     "output_type": "execute_result"
    }
   ],
   "source": [
    "# 匹配字符‘a’后面不是字符'b'的字符串\n",
    "re.match(r\"a[^b]\",'aString').group()"
   ]
  },
  {
   "cell_type": "code",
   "execution_count": 41,
   "metadata": {},
   "outputs": [
    {
     "data": {
      "text/plain": [
       "'aspt'"
      ]
     },
     "execution_count": 41,
     "metadata": {},
     "output_type": "execute_result"
    }
   ],
   "source": [
    "# 匹配asp开头， 第四个字符不是>的字符串\n",
    "re.match(r\"asp[^>]\",'asptring').group()"
   ]
  },
  {
   "cell_type": "markdown",
   "metadata": {},
   "source": [
    "# 限定符\n",
    "- \\* 相当于{0,}\n",
    "- \\+ 相当于{1,}\n",
    "- \\? 相当于{0,1}\n",
    "- *? 尽可能少的使用重复的第一个匹配\n",
    "- +? 尽可能少的使用重复匹配但至少使用一次\n",
    "- ?? 使用零次重复（如有可能）或者一次重复\n",
    "- {n}? 相当于{n}\n",
    "- {n,}? 尽可能少的使用重复匹配但至少使用n次\n",
    "- {n,m}? 尽可能少的使用重复匹配但至少使用n-m次之间"
   ]
  },
  {
   "cell_type": "code",
   "execution_count": 42,
   "metadata": {},
   "outputs": [
    {
     "data": {
      "text/plain": [
       "'name134342'"
      ]
     },
     "execution_count": 42,
     "metadata": {},
     "output_type": "execute_result"
    }
   ],
   "source": [
    "# 匹配以name开头数字结尾的字符串\n",
    "re.match(r\"\\bname\\d+\\b\",'name134342').group()"
   ]
  },
  {
   "cell_type": "code",
   "execution_count": 43,
   "metadata": {},
   "outputs": [
    {
     "data": {
      "text/plain": [
       "'asp:TextBox  f'"
      ]
     },
     "execution_count": 43,
     "metadata": {},
     "output_type": "execute_result"
    }
   ],
   "source": [
    "re.match(r\"asp:TextBox [^>]+\",'asp:TextBox  f').group()"
   ]
  },
  {
   "cell_type": "code",
   "execution_count": 45,
   "metadata": {},
   "outputs": [
    {
     "data": {
      "text/plain": [
       "'2342'"
      ]
     },
     "execution_count": 45,
     "metadata": {},
     "output_type": "execute_result"
    }
   ],
   "source": [
    "# 匹配3位以上的整数\n",
    "re.match(r\"\\d{3,}\",'2342').group()"
   ]
  },
  {
   "cell_type": "code",
   "execution_count": 49,
   "metadata": {},
   "outputs": [
    {
     "data": {
      "text/plain": [
       "'028-08080308'"
      ]
     },
     "execution_count": 49,
     "metadata": {},
     "output_type": "execute_result"
    }
   ],
   "source": [
    "# 匹配部分座机\n",
    "re.match(r\"0\\d{2}-\\d{8}\",'028-08080308').group()"
   ]
  },
  {
   "cell_type": "code",
   "execution_count": 50,
   "metadata": {},
   "outputs": [
    {
     "data": {
      "text/plain": [
       "'aabaab'"
      ]
     },
     "execution_count": 50,
     "metadata": {},
     "output_type": "execute_result"
    }
   ],
   "source": [
    "# 贪婪匹配--匹配以a开头,以b结尾的最长字符串\n",
    "re.match(r\"a.*b\",'aabaab').group()"
   ]
  },
  {
   "cell_type": "code",
   "execution_count": 51,
   "metadata": {},
   "outputs": [
    {
     "data": {
      "text/plain": [
       "'aab'"
      ]
     },
     "execution_count": 51,
     "metadata": {},
     "output_type": "execute_result"
    }
   ],
   "source": [
    "# 懒惰匹配--匹配以a开头,以b结尾的最短字符串\n",
    "re.match(r\"a.*?b\",'aabaab').group()"
   ]
  },
  {
   "cell_type": "code",
   "execution_count": 52,
   "metadata": {},
   "outputs": [
    {
     "data": {
      "text/plain": [
       "'avbab'"
      ]
     },
     "execution_count": 52,
     "metadata": {},
     "output_type": "execute_result"
    }
   ],
   "source": [
    "# 贪婪匹配--匹配以a开头,以b结尾长度至少为3的字符串\n",
    "re.match(r\"a.+b\",'avbab').group()"
   ]
  },
  {
   "cell_type": "code",
   "execution_count": 53,
   "metadata": {},
   "outputs": [
    {
     "data": {
      "text/plain": [
       "'avb'"
      ]
     },
     "execution_count": 53,
     "metadata": {},
     "output_type": "execute_result"
    }
   ],
   "source": [
    "# 懒惰匹配--匹配以a开头,以b结尾长度至少为3的字符串\n",
    "re.match(r\"a.+?b\",'avbab').group()"
   ]
  },
  {
   "cell_type": "code",
   "execution_count": 54,
   "metadata": {},
   "outputs": [
    {
     "data": {
      "text/plain": [
       "'avb'"
      ]
     },
     "execution_count": 54,
     "metadata": {},
     "output_type": "execute_result"
    }
   ],
   "source": [
    "# 贪婪匹配--匹配以a开头,以b结尾长度为2~3的字符串\n",
    "re.match(r\"a.?b\",'avbab').group()"
   ]
  },
  {
   "cell_type": "code",
   "execution_count": 55,
   "metadata": {},
   "outputs": [
    {
     "data": {
      "text/plain": [
       "'avb'"
      ]
     },
     "execution_count": 55,
     "metadata": {},
     "output_type": "execute_result"
    }
   ],
   "source": [
    "# 贪婪匹配--匹配以a开头,以b结尾长度为3的字符串 -- a和b之间的字符要么出现，要么出现最多一次\n",
    "re.match(r\"a.??b\",'avbab').group()"
   ]
  },
  {
   "cell_type": "code",
   "execution_count": 56,
   "metadata": {},
   "outputs": [
    {
     "data": {
      "text/plain": [
       "'avbab'"
      ]
     },
     "execution_count": 56,
     "metadata": {},
     "output_type": "execute_result"
    }
   ],
   "source": [
    "# 贪婪匹配--匹配以a开头,以b结尾长度至少为3的字符串\n",
    "re.match(r\"a.{1,}b\",'avbab').group()"
   ]
  },
  {
   "cell_type": "code",
   "execution_count": 58,
   "metadata": {},
   "outputs": [
    {
     "data": {
      "text/plain": [
       "'avb'"
      ]
     },
     "execution_count": 58,
     "metadata": {},
     "output_type": "execute_result"
    }
   ],
   "source": [
    "# 懒惰匹配--匹配以a开头,以b结尾长度至少为3的字符串\n",
    "re.match(r\"a.{1,}?b\",'avbab').group()"
   ]
  },
  {
   "cell_type": "markdown",
   "metadata": {},
   "source": [
    "# 字符的运算 -- 替换\n",
    "- | 优先匹配左边，左边的匹配不上就去匹配右边\n",
    "- (?(表达式)yes|no) 表达式 要么与‘yes’部分匹配，要么与‘no’部分匹配，其中‘no’部分可省略\n",
    "- (?(name)yes|no) 以name命名的字符串 要么与‘yes’部分匹配，要么与‘no’部分匹配，其中‘no’部分可省略"
   ]
  },
  {
   "cell_type": "code",
   "execution_count": 59,
   "metadata": {},
   "outputs": [
    {
     "data": {
      "text/plain": [
       "'028-08080308'"
      ]
     },
     "execution_count": 59,
     "metadata": {},
     "output_type": "execute_result"
    }
   ],
   "source": [
    "# 匹配部分座机\n",
    "re.match(r\"0\\d{2}-\\d{8}|0\\d{3}-\\d{7}|0\\d{3}-\\d{8}\",'028-08080308').group()"
   ]
  },
  {
   "cell_type": "code",
   "execution_count": 62,
   "metadata": {},
   "outputs": [
    {
     "data": {
      "text/plain": [
       "'Jack'"
      ]
     },
     "execution_count": 62,
     "metadata": {},
     "output_type": "execute_result"
    }
   ],
   "source": [
    "# 匹配部分座机[Jj]ack  (j|J)ack    Jack|jack等效\n",
    "re.match(r\"[Jj]ack\",'Jack').group()"
   ]
  },
  {
   "cell_type": "code",
   "execution_count": 63,
   "metadata": {},
   "outputs": [
    {
     "data": {
      "text/plain": [
       "'028-08080308'"
      ]
     },
     "execution_count": 63,
     "metadata": {},
     "output_type": "execute_result"
    }
   ],
   "source": [
    "# 优先匹配左边\n",
    "re.match(r\"0\\d{2}-\\d{8}|\\d{3}\",'028-08080308').group()"
   ]
  },
  {
   "cell_type": "code",
   "execution_count": 64,
   "metadata": {},
   "outputs": [
    {
     "data": {
      "text/plain": [
       "'028'"
      ]
     },
     "execution_count": 64,
     "metadata": {},
     "output_type": "execute_result"
    }
   ],
   "source": [
    "# 优先匹配左边\n",
    "re.match(r\"\\d{3}|0\\d{2}-\\d{7}\",'028-08080308').group()"
   ]
  },
  {
   "cell_type": "markdown",
   "metadata": {},
   "source": [
    "# 分组"
   ]
  },
  {
   "cell_type": "code",
   "execution_count": 65,
   "metadata": {},
   "outputs": [
    {
     "data": {
      "text/plain": [
       "'abc'"
      ]
     },
     "execution_count": 65,
     "metadata": {},
     "output_type": "execute_result"
    }
   ],
   "source": [
    "# 匹配'abc'出现一次或者两次的子串\n",
    "re.match(r\"(abc){1,2}\",'abcjfdabc').group()"
   ]
  },
  {
   "cell_type": "code",
   "execution_count": 66,
   "metadata": {},
   "outputs": [
    {
     "data": {
      "text/plain": [
       "'162.168.257.13'"
      ]
     },
     "execution_count": 66,
     "metadata": {},
     "output_type": "execute_result"
    }
   ],
   "source": [
    "# 匹配简单的ip地址\n",
    "re.match(r\"(\\d{1,3}\\.){3}\\d{1,3}\",'162.168.257.13').group()"
   ]
  },
  {
   "cell_type": "markdown",
   "metadata": {},
   "source": [
    "# 分组命名\n",
    "Python里面的正则?<name\\> 要写作?P<name\\>\n",
    "- (experssion) 将匹配的文本保存到自动命名的组里\n",
    "- (?<name\\>experssion) 捕获分组，将匹配的文本保存到名为name的组里，该名字不能包含标点符号和数字\n",
    "- (?:experssion) 非捕获分组，不保存匹配的文本 也不给出匹配的组号 https://zhidao.baidu.com/question/349534944.html\n",
    "- (?=experssion) 特殊构建不作为分组   匹配字符串experssion前面的位置,零宽度正预测先行断言，它断言自身位置的后面能够匹配表达式experssion\n",
    "- (?!experssion) 特殊构建不作为分组   匹配后面不是字符串experssion的位置\n",
    "- (?<=experssion) 特殊构建不作为分组   匹配字符串experssion后面的位置,零宽度正回顾后发断言，它断言自身位置的前面能够匹配表达式experssion\n",
    "- (?<!experssion) 特殊构建不作为分组   匹配前面不是字符串experssion的位置\n",
    "- (?>experssion) 只匹配字符串experssion一次"
   ]
  },
  {
   "cell_type": "code",
   "execution_count": 67,
   "metadata": {},
   "outputs": [
    {
     "data": {
      "text/plain": [
       "'\\n\\\\数字 使用数字命名的引用  \\n\\\\k<name> 使用指定命名的反向引用\\n'"
      ]
     },
     "execution_count": 67,
     "metadata": {},
     "output_type": "execute_result"
    }
   ],
   "source": [
    "\"\"\"\n",
    "\\数字 使用数字命名的引用  \n",
    "\\k<name> 使用指定命名的反向引用\n",
    "\"\"\""
   ]
  },
  {
   "cell_type": "code",
   "execution_count": 77,
   "metadata": {},
   "outputs": [
    {
     "data": {
      "text/plain": [
       "'aa'"
      ]
     },
     "execution_count": 77,
     "metadata": {},
     "output_type": "execute_result"
    }
   ],
   "source": [
    "# 匹配长度为2的字符串且2个字符都相同\n",
    "re.match(r\"\\b(\\w)\\1\\b\",'aa').group()"
   ]
  },
  {
   "cell_type": "code",
   "execution_count": 78,
   "metadata": {},
   "outputs": [
    {
     "data": {
      "text/plain": [
       "'ab'"
      ]
     },
     "execution_count": 78,
     "metadata": {},
     "output_type": "execute_result"
    }
   ],
   "source": [
    "# 匹配长度为2的字符串且2个字符可以不相同\n",
    "re.match(r\"\\b(\\w)\\w\\b\",'ab').group()"
   ]
  },
  {
   "cell_type": "code",
   "execution_count": 81,
   "metadata": {},
   "outputs": [
    {
     "data": {
      "text/plain": [
       "'a3a3'"
      ]
     },
     "execution_count": 81,
     "metadata": {},
     "output_type": "execute_result"
    }
   ],
   "source": [
    "# 同re.match(r\"\\b(\\w)\\1\\b\",'aa').group()\n",
    "re.match(r\"\\b(\\w)(\\d)\\1\\2\\b\",'a3a3').group()"
   ]
  },
  {
   "cell_type": "code",
   "execution_count": 83,
   "metadata": {},
   "outputs": [
    {
     "data": {
      "text/plain": [
       "'a3a3cc'"
      ]
     },
     "execution_count": 83,
     "metadata": {},
     "output_type": "execute_result"
    }
   ],
   "source": [
    "# 匹配两个重复字符结尾的单词\n",
    "re.match(r\"\\b\\w*(\\w+)\\1\\b\",'a3a3cc').group() "
   ]
  },
  {
   "cell_type": "code",
   "execution_count": 91,
   "metadata": {},
   "outputs": [
    {
     "data": {
      "text/plain": [
       "'grout grout'"
      ]
     },
     "execution_count": 91,
     "metadata": {},
     "output_type": "execute_result"
    }
   ],
   "source": [
    "# 匹配重复出现的单词   \\b(\\w+)\\b匹配长度至少为1的字符串\n",
    "re.match(r\"\\b(\\w+)\\b\\s+\\1\\b\",'grout grout').group()"
   ]
  },
  {
   "cell_type": "code",
   "execution_count": 95,
   "metadata": {},
   "outputs": [
    {
     "data": {
      "text/plain": [
       "'grout grout'"
      ]
     },
     "execution_count": 95,
     "metadata": {},
     "output_type": "execute_result"
    }
   ],
   "source": [
    "# 与上面等价 匹配重复出现的单词(?<word>\\w+) (?'word'\\w+)\n",
    "re.match(r\"\\b(?P<word>\\w+)\\b\\s+(?P=word)\\b\",'grout grout').group()"
   ]
  },
  {
   "cell_type": "code",
   "execution_count": 96,
   "metadata": {},
   "outputs": [
    {
     "data": {
      "text/plain": [
       "'a3a3cc'"
      ]
     },
     "execution_count": 96,
     "metadata": {},
     "output_type": "execute_result"
    }
   ],
   "source": [
    "# 匹配两个重复字符结尾的单词\n",
    "re.match(r\"\\b\\w*(?P<char>\\w+)(?P=char)\\b\",'a3a3cc').group()"
   ]
  },
  {
   "cell_type": "markdown",
   "metadata": {},
   "source": [
    "# 零宽度断言\n",
    "\n",
    "元字符^代表开头，$代表结尾，\\b代表单词边界,都匹配了一个位置，且这个位置满足了一定的条件，把满足的这个条件称为断言或者零宽度断言 \n",
    "\n",
    "- ^匹配行的开始位置\n",
    "- $匹配行的结束位置\n",
    "- \\A 匹配必须出现在字符串的开头\n",
    "- \\Z 匹配必须出现在字符串的结尾 或者  字符串结尾的\\换行符n之前\n",
    "- \\z 匹配必须出现在字符串的结尾\n",
    "- \\G 匹配必须出现在上一个匹配结束的地方\n",
    "- \\b 匹配字符开始或者结束的位置\n",
    "- \\B 匹配不是在字符开始或者结束的位置\n",
    "\n",
    "^代表开头，$代表结尾，\\b代表单词边界一样，先行断言和后行断言也有类似的作用，它们只匹配某些位置，在匹配过程中，不占用字符，所以被称为“零宽”。所谓位置，是指字符串中(每行)第一个字符的左边、最后一个字符的右边以及相邻字符的中间（假设文字方向是头左尾右）。"
   ]
  },
  {
   "cell_type": "code",
   "execution_count": 114,
   "metadata": {},
   "outputs": [
    {
     "data": {
      "text/plain": [
       "['sing', 'danc']"
      ]
     },
     "execution_count": 114,
     "metadata": {},
     "output_type": "execute_result"
    }
   ],
   "source": [
    "# 匹配以ed结尾的单词的前面部分\n",
    "re.findall(r\"\\b\\w+(?=ing\\b)\",\"I'm singing while you're dancing\")"
   ]
  },
  {
   "cell_type": "code",
   "execution_count": 115,
   "metadata": {},
   "outputs": [
    {
     "data": {
      "text/plain": [
       "['ading']"
      ]
     },
     "execution_count": 115,
     "metadata": {},
     "output_type": "execute_result"
    }
   ],
   "source": [
    "# 匹配以ed结尾的单词的前面部分\n",
    "re.findall(r\"(?<=\\bre)\\w+\\b\",'reading a book')"
   ]
  },
  {
   "cell_type": "markdown",
   "metadata": {},
   "source": [
    "# 负向零宽度断言 特殊构建不作为分组\n",
    "零宽度断言只能指定或者匹配一个位置，负向零宽度断言与此相反，能够指定或者匹配不止一个位置\n",
    "- 用于匹配字符串中不包含指定的字符"
   ]
  },
  {
   "cell_type": "code",
   "execution_count": 119,
   "metadata": {},
   "outputs": [
    {
     "data": {
      "text/plain": [
       "['while']"
      ]
     },
     "execution_count": 119,
     "metadata": {},
     "output_type": "execute_result"
    }
   ],
   "source": [
    "# 匹配字符串，断言i之后不能是字符ng\n",
    "re.findall(r\"\\b\\w*i(?!ng)\\w*\\b\",\"I'm singing while you're dancing\")"
   ]
  },
  {
   "cell_type": "code",
   "execution_count": 121,
   "metadata": {},
   "outputs": [
    {
     "data": {
      "text/plain": [
       "['dan']"
      ]
     },
     "execution_count": 121,
     "metadata": {},
     "output_type": "execute_result"
    }
   ],
   "source": [
    "# 匹配长度为3的字符串，且后面第个位置不能有数字\n",
    "re.findall(r\"\\b\\w{3}(?!\\d+)\",\"I'm sin33ging whi22le you11're dancing\")"
   ]
  },
  {
   "cell_type": "markdown",
   "metadata": {},
   "source": [
    "# 注释\n",
    "- (?#...)\t注释，忽略括号内的内容  特殊构建不作为分组"
   ]
  },
  {
   "cell_type": "code",
   "execution_count": 124,
   "metadata": {},
   "outputs": [
    {
     "data": {
      "text/plain": [
       "['m', 'singing', 'hile', 'ou', 're', 'dancing']"
      ]
     },
     "execution_count": 124,
     "metadata": {},
     "output_type": "execute_result"
    }
   ],
   "source": [
    "re.findall(r\"(?<!\\d(?#不能以数字开头))[a-z_A-Z]+\",\"32I'm singing 44while 56you're dancing\")"
   ]
  },
  {
   "cell_type": "markdown",
   "metadata": {},
   "source": [
    "# 正则表达式优先级\n",
    "正则表达式从左到右进行计算，并遵循优先级顺序，这与算术表达式非常类似。\n",
    "\n",
    "相同优先级的从左到右进行运算，不同优先级的运算先高后低。下表从最高到最低说明了各种正则表达式运算符的优先级顺序：\n",
    "\n",
    "- 运算符\t描述\n",
    "- \\\t转义符\n",
    "- (), (?:), (?=), []\t圆括号和方括号\n",
    "- *, +, ?, {n}, {n,}, {n,m}\t限定符\n",
    "- ^, $, \\任何元字符、任何字符\t定位点和序列（即：位置和顺序）\n",
    "- |\t替换，\"或\"操作  \n",
    "\n",
    "字符具有高于替换运算符的优先级，使得\"m|food\"匹配\"m\"或\"food\"。若要匹配\"mood\"或\"food\"，请使用括号创建子表达式，从而产生\"(m|f)ood\"。"
   ]
  },
  {
   "cell_type": "markdown",
   "metadata": {},
   "source": [
    "# 递归匹配\n",
    "匹配具有嵌套结构的字符串时特别有效"
   ]
  },
  {
   "cell_type": "code",
   "execution_count": 126,
   "metadata": {},
   "outputs": [
    {
     "data": {
      "text/plain": [
       "[1234567891,\n",
       " 2345678912,\n",
       " 3456789123,\n",
       " 4567891234,\n",
       " 5678912345,\n",
       " 6789123456,\n",
       " 7891234567,\n",
       " 8912345678,\n",
       " 9123456789]"
      ]
     },
     "execution_count": 126,
     "metadata": {},
     "output_type": "execute_result"
    }
   ],
   "source": [
    "s = \"123456789123456789\" #abc1abc2abc3abc匹配['abc1abc', 'abc2abc', 'abc3abc']\n",
    "matches = re.finditer(r'(?=(\\d{10}))',s)\n",
    "ret = [int(match.group(1)) for match in matches]\n",
    "ret"
   ]
  },
  {
   "cell_type": "markdown",
   "metadata": {},
   "source": [
    "# 匹配Windows操作系统的名称"
   ]
  },
  {
   "cell_type": "code",
   "execution_count": 129,
   "metadata": {},
   "outputs": [
    {
     "data": {
      "text/plain": [
       "'Windows 10'"
      ]
     },
     "execution_count": 129,
     "metadata": {},
     "output_type": "execute_result"
    }
   ],
   "source": [
    "# 匹配字符串，断言i之后不能是字符ng\n",
    "re.search(r\"Windows\\s*((95)|(98)|(2000)|(2003)|(ME)|(XP)|(7)|(8)|(10))\",\"I'm singing while you're dancing on Windows 10\").group()"
   ]
  },
  {
   "cell_type": "markdown",
   "metadata": {},
   "source": [
    "# 匹配HTML标记"
   ]
  },
  {
   "cell_type": "code",
   "execution_count": 135,
   "metadata": {},
   "outputs": [
    {
     "data": {
      "text/plain": [
       "'<html>'"
      ]
     },
     "execution_count": 135,
     "metadata": {},
     "output_type": "execute_result"
    }
   ],
   "source": [
    "# 匹配字符串，断言i之后不能是字符ng\n",
    "re.search(r\"<[a-zA-Z][^>]*>\",\"I'm singing <html>fjdksl<\\html> while you're dancing on Windows 10\").group()"
   ]
  },
  {
   "cell_type": "markdown",
   "metadata": {},
   "source": [
    "# 匹配HTML标记之间的内容\n",
    "- (?P<tag\\>\\w+)分组\n",
    "- <(?P<char\\>\\w+)> html开头的标记\n",
    "- (?<=<(?P<char\\>\\w)>) 零宽度正向回顾后发断言，它断言自身位置的前面能够匹配<(?P<char\\>\\w+)>所匹配到的内容。断言匹配的字符串开头是HTML的开头\n",
    "- (?=<\\/(?P=char)>) 零宽度正向预测先行断言，它断言被匹配的字符串的结尾部分是HTML标记的结尾标记"
   ]
  },
  {
   "cell_type": "code",
   "execution_count": 146,
   "metadata": {},
   "outputs": [
    {
     "data": {
      "text/plain": [
       "'fjdksl'"
      ]
     },
     "execution_count": 146,
     "metadata": {},
     "output_type": "execute_result"
    }
   ],
   "source": [
    "# \\b\\w*(?P<char>\\w+)(?P=char)\\b\n",
    "# re.search(r\"(?<=<(?P<char>\\w+)>).*(?=<\\/(?P=char)>)\",\"<html>fjdksl</html>\").group() python的re模块有bug，分组里面不能+\n",
    "re.search(r\"(?<=<(?P<char>\\w)>).*(?=<\\/(?P=char)>)\",\"<h>fjdksl</h>\").group()"
   ]
  },
  {
   "cell_type": "markdown",
   "metadata": {},
   "source": [
    "# 去除第一个括号里面的内容，不影响第二个括号"
   ]
  },
  {
   "cell_type": "code",
   "execution_count": 136,
   "metadata": {},
   "outputs": [
    {
     "data": {
      "text/plain": [
       "'2018年07月19日08时20分许，桃园边防派出所接谢春华报警称：在2018年7月19日7时40分到8时20分许期间，谢春华在荣成市桃园街道办事处下谭村赶集时，脖子上金项链被盗，具体被盗时间（不知道什么时间）、原因不详。'"
      ]
     },
     "execution_count": 136,
     "metadata": {},
     "output_type": "execute_result"
    }
   ],
   "source": [
    "str2='2018年07月19日08时20分许，桃园边防派出所接谢春华报警称：在2018年7月19日7时40分到8时20分许期间，谢春华在荣成市桃园街道办事处下谭村赶集时，脖子上金项链（2013年花费5300元购于老吉兴商城，样式为转运珠加平安扣）被盗，具体被盗时间（不知道什么时间）、原因不详。'\n",
    "pattern = re.compile(r'(项链|吊坠)（.*?）')\n",
    "result = re.sub(pattern, r'\\1', str2)\n",
    "result"
   ]
  },
  {
   "cell_type": "markdown",
   "metadata": {},
   "source": [
    "# 匹配CSV文件内容\n",
    "- ,作为分隔符\n",
    "- 单个数据长度不能为0\n",
    "- 如果某单个数据中包含逗号，那么该单个内容整体将被双引号包围将被\"aaa,bbb\"\n",
    "- 如果单个数据中包含双引号，那么用两个双引号表示一个双引号"
   ]
  },
  {
   "cell_type": "code",
   "execution_count": 153,
   "metadata": {},
   "outputs": [
    {
     "data": {
      "text/plain": [
       "'aaa'"
      ]
     },
     "execution_count": 153,
     "metadata": {},
     "output_type": "execute_result"
    }
   ],
   "source": [
    "# 匹配不包含逗号和双引号的单个数据\n",
    "re.search(r\"[^\\\",]+\",'aaa,bbb,ccc,ddd,\"ab,de\",eee,fff,ggg,\"this is \"\"a\",hhh').group()"
   ]
  },
  {
   "cell_type": "code",
   "execution_count": 169,
   "metadata": {},
   "outputs": [
    {
     "data": {
      "text/plain": [
       "'\"this is \"\"a\"'"
      ]
     },
     "execution_count": 169,
     "metadata": {},
     "output_type": "execute_result"
    }
   ],
   "source": [
    "# 由于包含逗号，或者双引号\"的数据会被双引号”“包围，以下正则能匹配包含逗号,或者双引号\"的单个数据\n",
    "re.search(r\"\\\"(?:([^\\\"]|\\\"\\\"))+\\\"\",'aaa,bbb,ccc,ddd,\"ab,de\",eee,fff,ggg,\"this is \"\"a\",hhh').group()"
   ]
  },
  {
   "cell_type": "code",
   "execution_count": 171,
   "metadata": {},
   "outputs": [
    {
     "data": {
      "text/plain": [
       "[('', ''),\n",
       " ('', ''),\n",
       " ('', ''),\n",
       " ('', ''),\n",
       " ('\"ab,de\"', 'e'),\n",
       " ('', ''),\n",
       " ('', ''),\n",
       " ('', ''),\n",
       " ('\"this is \"\"a\"', 'a'),\n",
       " ('', '')]"
      ]
     },
     "execution_count": 171,
     "metadata": {},
     "output_type": "execute_result"
    }
   ],
   "source": [
    "# 综上所述 匹配CSV单个数据\n",
    "re.search(r\"[^\\\",]+|(\\\"(?:([^\\\"]|\\\"\\\"))+\\\")\",'aaa,bbb,ccc,ddd,\"ab,de\",eee,fff,ggg,\"this is \"\"a\",hhh').group()"
   ]
  },
  {
   "cell_type": "code",
   "execution_count": 173,
   "metadata": {},
   "outputs": [
    {
     "data": {
      "text/plain": [
       "'aaa,bbb,ccc,ddd,\"ab,de\",eee,fff,ggg,\"this is \"\"a\",hhh'"
      ]
     },
     "execution_count": 173,
     "metadata": {},
     "output_type": "execute_result"
    }
   ],
   "source": [
    "# 匹配内容是否为CSV格式\n",
    "re.search(r\"([^\\\",]+|(\\\"(?:([^\\\"]|\\\"\\\"))+\\\"))(\\s*,\\s*([^\\\",]+|(\\\"(?:([^\\\"]|\\\"\\\"))+\\\")))*\",'aaa,bbb,ccc,ddd,\"ab,de\",eee,fff,ggg,\"this is \"\"a\",hhh').group()"
   ]
  },
  {
   "cell_type": "markdown",
   "metadata": {},
   "source": [
    "# 匹配数字"
   ]
  },
  {
   "cell_type": "code",
   "execution_count": 2,
   "metadata": {},
   "outputs": [
    {
     "data": {
      "text/plain": [
       "'153654'"
      ]
     },
     "execution_count": 2,
     "metadata": {},
     "output_type": "execute_result"
    }
   ],
   "source": [
    "# 匹配只包含数字的字符串\n",
    "re.match(r\"\\b\\d+\\b\",'153654').group()"
   ]
  },
  {
   "cell_type": "code",
   "execution_count": 3,
   "metadata": {},
   "outputs": [
    {
     "data": {
      "text/plain": [
       "'153654'"
      ]
     },
     "execution_count": 3,
     "metadata": {},
     "output_type": "execute_result"
    }
   ],
   "source": [
    "# 匹配任意整数\n",
    "re.match(r\"^(0|-?[1-9]\\d*)\\b\",'153654').group()"
   ]
  },
  {
   "cell_type": "code",
   "execution_count": 10,
   "metadata": {},
   "outputs": [
    {
     "data": {
      "text/plain": [
       "'5677'"
      ]
     },
     "execution_count": 10,
     "metadata": {},
     "output_type": "execute_result"
    }
   ],
   "source": [
    "# 匹配指定范围的正整数\n",
    "re.match(r\"\\b[1-9]\\d{0,2}\\b\",'65').group() #匹配1~999\n",
    "re.match(r\"\\b[1-4]\\d{3}\\b\",'3999').group() #匹配1000~4999\n",
    "re.match(r\"\\b5[0-5]\\d{2}\\b\",'5599').group() #匹配5000~5599\n",
    "re.match(r\"\\b56[0-6]\\d\\b\",'5629').group() #匹配5600~5669\n",
    "re.match(r\"\\b567[0-8]\\b\",'5677').group() #匹配5670~5678\n",
    "# 匹配1~5678\n",
    "re.match(r\"\\b(567[0-8])|(匹配5600~5669)|(匹配5000~5599)|(1000~4999)|(匹配1~999)\\b\",'5677').group() #匹配5670~5678"
   ]
  },
  {
   "cell_type": "code",
   "execution_count": null,
   "metadata": {},
   "outputs": [],
   "source": []
  }
 ],
 "metadata": {
  "kernelspec": {
   "display_name": "Python 3",
   "language": "python",
   "name": "python3"
  },
  "language_info": {
   "codemirror_mode": {
    "name": "ipython",
    "version": 3
   },
   "file_extension": ".py",
   "mimetype": "text/x-python",
   "name": "python",
   "nbconvert_exporter": "python",
   "pygments_lexer": "ipython3",
   "version": "3.6.8"
  },
  "toc": {
   "base_numbering": 1,
   "nav_menu": {},
   "number_sections": true,
   "sideBar": true,
   "skip_h1_title": false,
   "title_cell": "Table of Contents",
   "title_sidebar": "Contents",
   "toc_cell": false,
   "toc_position": {},
   "toc_section_display": true,
   "toc_window_display": true
  }
 },
 "nbformat": 4,
 "nbformat_minor": 2
}
