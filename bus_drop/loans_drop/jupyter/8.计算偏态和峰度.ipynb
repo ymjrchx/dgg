{
 "cells": [
  {
   "cell_type": "code",
   "execution_count": 1,
   "metadata": {},
   "outputs": [],
   "source": [
    "import numpy as np\n",
    "import math\n",
    "import matplotlib.pyplot as plt"
   ]
  },
  {
   "cell_type": "code",
   "execution_count": 2,
   "metadata": {},
   "outputs": [],
   "source": [
    "def calc(data):\n",
    "    \"\"\"计算期望和方差，niu为期望，sigma为方差，niu3为三次方的期望\"\"\"\n",
    "    n = len(data)\n",
    "    niu =0.0\n",
    "    niu2 = 0.0\n",
    "    niu3 = 0.0\n",
    "    for a in data:\n",
    "        niu += a\n",
    "        niu2 += a**2\n",
    "        niu3 += a**3\n",
    "    niu /= n\n",
    "    niu2 /= n\n",
    "    niu3 /= n\n",
    "    sigma = math.sqrt(niu2 - niu*niu)\n",
    "    return [niu,sigma,niu3]"
   ]
  },
  {
   "cell_type": "code",
   "execution_count": 3,
   "metadata": {},
   "outputs": [],
   "source": [
    "def calc_stat(data):\n",
    "    \"\"\"计算偏度和峰度\"\"\"\n",
    "    [niu,sigma,niu3] = calc(data)\n",
    "    n = len(data)\n",
    "    niu4 = 0.0 #niu4为峰度计算公式中的分子\n",
    "    for a in data:\n",
    "        a -= niu\n",
    "        niu4 += a**4\n",
    "    niu4 /=n\n",
    "    skew = (niu3 - 3*niu*sigma**2 - niu**3)/(sigma**3) #偏度计算公式\n",
    "    kurt = niu4 / (sigma**4) # 峰度计算公式：分母为标准差的四次方\n",
    "    return [niu,sigma,skew,kurt]"
   ]
  },
  {
   "cell_type": "code",
   "execution_count": null,
   "metadata": {},
   "outputs": [],
   "source": []
  }
 ],
 "metadata": {
  "kernelspec": {
   "display_name": "Python 3",
   "language": "python",
   "name": "python3"
  },
  "language_info": {
   "codemirror_mode": {
    "name": "ipython",
    "version": 3
   },
   "file_extension": ".py",
   "mimetype": "text/x-python",
   "name": "python",
   "nbconvert_exporter": "python",
   "pygments_lexer": "ipython3",
   "version": "3.6.5"
  },
  "toc": {
   "base_numbering": 1,
   "nav_menu": {},
   "number_sections": true,
   "sideBar": true,
   "skip_h1_title": false,
   "title_cell": "Table of Contents",
   "title_sidebar": "Contents",
   "toc_cell": false,
   "toc_position": {},
   "toc_section_display": true,
   "toc_window_display": false
  }
 },
 "nbformat": 4,
 "nbformat_minor": 2
}
