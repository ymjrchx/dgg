{
 "cells": [
  {
   "cell_type": "code",
   "execution_count": 1,
   "metadata": {},
   "outputs": [],
   "source": [
    "import os\n",
    "os.chdir(r'D:\\BaiduNetdiskDownload\\Python\\案例\\Python评分卡\\data')"
   ]
  },
  {
   "cell_type": "code",
   "execution_count": 21,
   "metadata": {},
   "outputs": [],
   "source": [
    "import pandas as pd\n",
    "import numpy as np "
   ]
  },
  {
   "cell_type": "code",
   "execution_count": 31,
   "metadata": {},
   "outputs": [],
   "source": [
    "#读取数据集，至少包含变量和target两列\n",
    "sample_set = pd.read_excel('cartdata.xlsx')"
   ]
  },
  {
   "cell_type": "code",
   "execution_count": 32,
   "metadata": {},
   "outputs": [
    {
     "data": {
      "text/html": [
       "<div>\n",
       "<style scoped>\n",
       "    .dataframe tbody tr th:only-of-type {\n",
       "        vertical-align: middle;\n",
       "    }\n",
       "\n",
       "    .dataframe tbody tr th {\n",
       "        vertical-align: top;\n",
       "    }\n",
       "\n",
       "    .dataframe thead th {\n",
       "        text-align: right;\n",
       "    }\n",
       "</style>\n",
       "<table border=\"1\" class=\"dataframe\">\n",
       "  <thead>\n",
       "    <tr style=\"text-align: right;\">\n",
       "      <th></th>\n",
       "      <th>Unnamed: 0</th>\n",
       "      <th>target</th>\n",
       "      <th>RevolvingUtilizationOfUnsecuredLines</th>\n",
       "      <th>age</th>\n",
       "      <th>NumberOfTime30-59DaysPastDueNotWorse</th>\n",
       "      <th>DebtRatio</th>\n",
       "      <th>MonthlyIncome</th>\n",
       "      <th>NumberOfOpenCreditLinesAndLoans</th>\n",
       "      <th>NumberOfTimes90DaysLate</th>\n",
       "      <th>NumberRealEstateLoansOrLines</th>\n",
       "      <th>NumberOfTime60-89DaysPastDueNotWorse</th>\n",
       "      <th>NumberOfDependents</th>\n",
       "    </tr>\n",
       "  </thead>\n",
       "  <tbody>\n",
       "    <tr>\n",
       "      <th>0</th>\n",
       "      <td>38828</td>\n",
       "      <td>0</td>\n",
       "      <td>0.081455</td>\n",
       "      <td>46</td>\n",
       "      <td>0</td>\n",
       "      <td>1738.000000</td>\n",
       "      <td>NaN</td>\n",
       "      <td>4</td>\n",
       "      <td>0</td>\n",
       "      <td>1</td>\n",
       "      <td>0</td>\n",
       "      <td>0.0</td>\n",
       "    </tr>\n",
       "    <tr>\n",
       "      <th>1</th>\n",
       "      <td>29723</td>\n",
       "      <td>0</td>\n",
       "      <td>0.401298</td>\n",
       "      <td>58</td>\n",
       "      <td>1</td>\n",
       "      <td>0.375000</td>\n",
       "      <td>8167.0</td>\n",
       "      <td>6</td>\n",
       "      <td>0</td>\n",
       "      <td>1</td>\n",
       "      <td>0</td>\n",
       "      <td>5.0</td>\n",
       "    </tr>\n",
       "    <tr>\n",
       "      <th>2</th>\n",
       "      <td>23178</td>\n",
       "      <td>0</td>\n",
       "      <td>0.214106</td>\n",
       "      <td>62</td>\n",
       "      <td>0</td>\n",
       "      <td>5404.000000</td>\n",
       "      <td>NaN</td>\n",
       "      <td>14</td>\n",
       "      <td>0</td>\n",
       "      <td>2</td>\n",
       "      <td>0</td>\n",
       "      <td>0.0</td>\n",
       "    </tr>\n",
       "    <tr>\n",
       "      <th>3</th>\n",
       "      <td>24824</td>\n",
       "      <td>0</td>\n",
       "      <td>0.322189</td>\n",
       "      <td>72</td>\n",
       "      <td>0</td>\n",
       "      <td>1.459318</td>\n",
       "      <td>2875.0</td>\n",
       "      <td>12</td>\n",
       "      <td>0</td>\n",
       "      <td>1</td>\n",
       "      <td>0</td>\n",
       "      <td>0.0</td>\n",
       "    </tr>\n",
       "    <tr>\n",
       "      <th>4</th>\n",
       "      <td>15677</td>\n",
       "      <td>0</td>\n",
       "      <td>1.268255</td>\n",
       "      <td>35</td>\n",
       "      <td>2</td>\n",
       "      <td>0.012240</td>\n",
       "      <td>37500.0</td>\n",
       "      <td>5</td>\n",
       "      <td>2</td>\n",
       "      <td>0</td>\n",
       "      <td>3</td>\n",
       "      <td>1.0</td>\n",
       "    </tr>\n",
       "  </tbody>\n",
       "</table>\n",
       "</div>"
      ],
      "text/plain": [
       "   Unnamed: 0  target  RevolvingUtilizationOfUnsecuredLines  age  \\\n",
       "0       38828       0                              0.081455   46   \n",
       "1       29723       0                              0.401298   58   \n",
       "2       23178       0                              0.214106   62   \n",
       "3       24824       0                              0.322189   72   \n",
       "4       15677       0                              1.268255   35   \n",
       "\n",
       "   NumberOfTime30-59DaysPastDueNotWorse    DebtRatio  MonthlyIncome  \\\n",
       "0                                     0  1738.000000            NaN   \n",
       "1                                     1     0.375000         8167.0   \n",
       "2                                     0  5404.000000            NaN   \n",
       "3                                     0     1.459318         2875.0   \n",
       "4                                     2     0.012240        37500.0   \n",
       "\n",
       "   NumberOfOpenCreditLinesAndLoans  NumberOfTimes90DaysLate  \\\n",
       "0                                4                        0   \n",
       "1                                6                        0   \n",
       "2                               14                        0   \n",
       "3                               12                        0   \n",
       "4                                5                        2   \n",
       "\n",
       "   NumberRealEstateLoansOrLines  NumberOfTime60-89DaysPastDueNotWorse  \\\n",
       "0                             1                                     0   \n",
       "1                             1                                     0   \n",
       "2                             2                                     0   \n",
       "3                             1                                     0   \n",
       "4                             0                                     3   \n",
       "\n",
       "   NumberOfDependents  \n",
       "0                 0.0  \n",
       "1                 5.0  \n",
       "2                 0.0  \n",
       "3                 0.0  \n",
       "4                 1.0  "
      ]
     },
     "execution_count": 32,
     "metadata": {},
     "output_type": "execute_result"
    }
   ],
   "source": [
    "sample_set.head()"
   ]
  },
  {
   "cell_type": "code",
   "execution_count": 56,
   "metadata": {},
   "outputs": [
    {
     "data": {
      "text/plain": [
       "count    104415.000000\n",
       "mean         52.363980\n",
       "std          14.718052\n",
       "min          21.000000\n",
       "25%          41.000000\n",
       "50%          52.000000\n",
       "75%          63.000000\n",
       "max         109.000000\n",
       "Name: age, dtype: float64"
      ]
     },
     "execution_count": 56,
     "metadata": {},
     "output_type": "execute_result"
    }
   ],
   "source": [
    "sample_set.age.describe()"
   ]
  },
  {
   "cell_type": "code",
   "execution_count": 33,
   "metadata": {},
   "outputs": [
    {
     "data": {
      "text/plain": [
       "(104415, 12)"
      ]
     },
     "execution_count": 33,
     "metadata": {},
     "output_type": "execute_result"
    }
   ],
   "source": [
    "sample_set.shape"
   ]
  },
  {
   "cell_type": "code",
   "execution_count": 34,
   "metadata": {},
   "outputs": [
    {
     "data": {
      "text/plain": [
       "5220.75"
      ]
     },
     "execution_count": 34,
     "metadata": {},
     "output_type": "execute_result"
    }
   ],
   "source": [
    "a = sample_set.shape[0] * 0.05\n",
    "a"
   ]
  },
  {
   "cell_type": "code",
   "execution_count": 35,
   "metadata": {},
   "outputs": [],
   "source": [
    "def calc_score_median(sample_set, var):   \n",
    "    ''' \n",
    "    计算相邻评分的中位数，以便进行决策树二元切分    \n",
    "    param sample_set: 待切分样本    \n",
    "    param var: 分割变量名称   \n",
    "    '''   \n",
    "    var_list = list(np.unique(sample_set[var]))   \n",
    "    var_median_list = []    \n",
    "    for i in range(len(var_list) -1):        \n",
    "        var_median = (var_list[i] + var_list[i+1]) / 2      \n",
    "        var_median_list.append(var_median)   \n",
    "    return var_median_list"
   ]
  },
  {
   "cell_type": "code",
   "execution_count": 36,
   "metadata": {
    "scrolled": true
   },
   "outputs": [
    {
     "data": {
      "text/plain": [
       "[21.5,\n",
       " 22.5,\n",
       " 23.5,\n",
       " 24.5,\n",
       " 25.5,\n",
       " 26.5,\n",
       " 27.5,\n",
       " 28.5,\n",
       " 29.5,\n",
       " 30.5,\n",
       " 31.5,\n",
       " 32.5,\n",
       " 33.5,\n",
       " 34.5,\n",
       " 35.5,\n",
       " 36.5,\n",
       " 37.5,\n",
       " 38.5,\n",
       " 39.5,\n",
       " 40.5,\n",
       " 41.5,\n",
       " 42.5,\n",
       " 43.5,\n",
       " 44.5,\n",
       " 45.5,\n",
       " 46.5,\n",
       " 47.5,\n",
       " 48.5,\n",
       " 49.5,\n",
       " 50.5,\n",
       " 51.5,\n",
       " 52.5,\n",
       " 53.5,\n",
       " 54.5,\n",
       " 55.5,\n",
       " 56.5,\n",
       " 57.5,\n",
       " 58.5,\n",
       " 59.5,\n",
       " 60.5,\n",
       " 61.5,\n",
       " 62.5,\n",
       " 63.5,\n",
       " 64.5,\n",
       " 65.5,\n",
       " 66.5,\n",
       " 67.5,\n",
       " 68.5,\n",
       " 69.5,\n",
       " 70.5,\n",
       " 71.5,\n",
       " 72.5,\n",
       " 73.5,\n",
       " 74.5,\n",
       " 75.5,\n",
       " 76.5,\n",
       " 77.5,\n",
       " 78.5,\n",
       " 79.5,\n",
       " 80.5,\n",
       " 81.5,\n",
       " 82.5,\n",
       " 83.5,\n",
       " 84.5,\n",
       " 85.5,\n",
       " 86.5,\n",
       " 87.5,\n",
       " 88.5,\n",
       " 89.5,\n",
       " 90.5,\n",
       " 91.5,\n",
       " 92.5,\n",
       " 93.5,\n",
       " 94.5,\n",
       " 95.5,\n",
       " 96.5,\n",
       " 97.5,\n",
       " 98.5,\n",
       " 100.0,\n",
       " 101.5,\n",
       " 102.5,\n",
       " 104.0,\n",
       " 107.0]"
      ]
     },
     "execution_count": 36,
     "metadata": {},
     "output_type": "execute_result"
    }
   ],
   "source": [
    "calc_score_median(sample_set, 'age')"
   ]
  },
  {
   "cell_type": "code",
   "execution_count": 37,
   "metadata": {},
   "outputs": [],
   "source": [
    "def choose_best_split(sample_set, var, min_sample):    \n",
    "    '''    \n",
    "    使用CART分类决策树选择最好的样本切分点    \n",
    "    返回切分点    param sample_set: 待切分样本  \n",
    "    param var: 分割变量名称    \n",
    "    param min_sample: 待切分样本的最小样本量(限制条件)   \n",
    "    '''    \n",
    "    # 根据样本评分计算相邻不同分数的中间值    \n",
    "    score_median_list = calc_score_median(sample_set, var)    \n",
    "    median_len = len(score_median_list)   \n",
    "    sample_cnt = sample_set.shape[0]    \n",
    "    sample1_cnt = sum(sample_set['target'])    \n",
    "    sample0_cnt =  sample_cnt- sample1_cnt    \n",
    "    Gini = 1 - np.square(sample1_cnt / sample_cnt) - np.square(sample0_cnt / sample_cnt)        \n",
    "    bestGini = 0.0; bestSplit_point = 0.0; bestSplit_position = 0.0   \n",
    "    for i in range(median_len):        \n",
    "        left = sample_set[sample_set[var] < score_median_list[i]]        \n",
    "        right = sample_set[sample_set[var] > score_median_list[i]]                \n",
    "        left_cnt = left.shape[0]; right_cnt = right.shape[0]       \n",
    "        left1_cnt = sum(left['target']); right1_cnt = sum(right['target'])       \n",
    "        left0_cnt =  left_cnt - left1_cnt; right0_cnt =  right_cnt - right1_cnt      \n",
    "        left_ratio = left_cnt / sample_cnt; right_ratio = right_cnt / sample_cnt              \n",
    "        if left_cnt < min_sample or right_cnt < min_sample:           \n",
    "            continue                \n",
    "        Gini_left = 1 - np.square(left1_cnt / left_cnt) - np.square(left0_cnt / left_cnt)       \n",
    "        Gini_right = 1 - np.square(right1_cnt / right_cnt) - np.square(right0_cnt / right_cnt)      \n",
    "        Gini_temp = Gini - (left_ratio * Gini_left + right_ratio * Gini_right)       \n",
    "        if Gini_temp > bestGini:            \n",
    "            bestGini = Gini_temp; bestSplit_point = score_median_list[i]          \n",
    "            if median_len > 1:             \n",
    "                bestSplit_position = i / (median_len - 1)          \n",
    "            else:               \n",
    "                bestSplit_position = i / median_len    \n",
    "        else:           \n",
    "            continue                \n",
    "    Gini = Gini - bestGini  \n",
    "    return bestSplit_point, bestSplit_position\n"
   ]
  },
  {
   "cell_type": "code",
   "execution_count": 38,
   "metadata": {},
   "outputs": [
    {
     "data": {
      "text/plain": [
       "(55.5, 0.4146341463414634)"
      ]
     },
     "execution_count": 38,
     "metadata": {},
     "output_type": "execute_result"
    }
   ],
   "source": [
    "choose_best_split(sample_set,'age', a)"
   ]
  },
  {
   "cell_type": "code",
   "execution_count": 54,
   "metadata": {},
   "outputs": [],
   "source": [
    "def bining_data_split(sample_set, var, min_sample , split_list):  \n",
    "    '''    \n",
    "    划分数据找到最优分割点list   \n",
    "    param sample_set: 待切分样本   \n",
    "    param var: 分割变量名称   \n",
    "    param min_sample: 待切分样本的最小样本量(限制条件)   \n",
    "    param split_list: 最优分割点list    \n",
    "    '''  \n",
    "    split, position = choose_best_split(sample_set, var, min_sample)   \n",
    "    if split != 0.0:        \n",
    "        split_list.append(split)   \n",
    "        # 根据分割点划分数据集，继续进行划分    \n",
    "    sample_set_left = sample_set[sample_set[var] < split]    \n",
    "    sample_set_right = sample_set[sample_set[var] > split]   \n",
    "    # 如果左子树样本量超过2倍最小样本量，且分割点不是第一个分割点，则切分左子树   \n",
    "    if len(sample_set_left) >= min_sample * 2 and position not in [0.0, 1.0]:     \n",
    "        bining_data_split(sample_set_left, var, min_sample, split_list)  \n",
    "    else:     \n",
    "        None   \n",
    "        # 如果右子树样本量超过2倍最小样本量，且分割点不是最后一个分割点，则切分右子树   \n",
    "    if len(sample_set_right) >= min_sample * 2 and position not in [0.0, 1.0]:     \n",
    "        bining_data_split(sample_set_right, var, min_sample, split_list)  \n",
    "    else:   \n",
    "        None\n"
   ]
  },
  {
   "cell_type": "code",
   "execution_count": 53,
   "metadata": {},
   "outputs": [],
   "source": [
    "def get_bestsplit_list(sample_set, var):  \n",
    "    '''    \n",
    "    根据分箱得到最优分割点list   \n",
    "    param sample_set: 待切分样本   \n",
    "    param var: 分割变量名称  \n",
    "    '''    \n",
    "    # 计算最小样本阈值（终止条件）    \n",
    "    min_df = sample_set.shape[0] * 0.05   \n",
    "    split_list = []   \n",
    "    # 计算第一个和最后一个分割点   \n",
    "    bining_data_split(sample_set, var, min_df, split_list) \n",
    "    return split_list\n"
   ]
  },
  {
   "cell_type": "code",
   "execution_count": 55,
   "metadata": {},
   "outputs": [
    {
     "data": {
      "text/plain": [
       "[55.5, 36.5, 29.5, 46.5, 43.5, 40.5, 52.5, 49.5, 62.5, 58.5, 67.5, 74.5]"
      ]
     },
     "execution_count": 55,
     "metadata": {},
     "output_type": "execute_result"
    }
   ],
   "source": [
    "get_bestsplit_list(sample_set, 'age')"
   ]
  },
  {
   "cell_type": "code",
   "execution_count": null,
   "metadata": {},
   "outputs": [],
   "source": []
  },
  {
   "cell_type": "code",
   "execution_count": null,
   "metadata": {},
   "outputs": [],
   "source": []
  },
  {
   "cell_type": "code",
   "execution_count": null,
   "metadata": {},
   "outputs": [],
   "source": []
  }
 ],
 "metadata": {
  "kernelspec": {
   "display_name": "Python 3",
   "language": "python",
   "name": "python3"
  },
  "language_info": {
   "codemirror_mode": {
    "name": "ipython",
    "version": 3
   },
   "file_extension": ".py",
   "mimetype": "text/x-python",
   "name": "python",
   "nbconvert_exporter": "python",
   "pygments_lexer": "ipython3",
   "version": "3.7.0"
  }
 },
 "nbformat": 4,
 "nbformat_minor": 2
}
