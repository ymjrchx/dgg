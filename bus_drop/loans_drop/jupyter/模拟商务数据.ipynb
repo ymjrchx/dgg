{
 "cells": [
  {
   "cell_type": "markdown",
   "metadata": {},
   "source": [
    "# 基本属性\n",
    "- 1、分子公司\n",
    "- 2、事业部\n",
    "- 3、部门\n",
    "- 4、名字\n",
    "- 5、工号\n",
    "- 6、入职日期\n",
    "- 7、通时\n",
    "- 8、电话量\n",
    "- 9、电话接通量\n",
    "- 10、电话时长（每日）\n",
    "- 11、09:00-10:00 ≥30S电话量、10:00-11:00 ≥30S电话量....... （和商机产生时间是否会产生关联？）"
   ]
  },
  {
   "cell_type": "code",
   "execution_count": null,
   "metadata": {},
   "outputs": [],
   "source": [
    "phone_num = pd.read_excel('当天实时电话量查询.xlsx',encoding = 'utf-8',header=2)\n",
    "phone_num.drop(index=0,axis=0,inplace=True)\n",
    "print(phone_num.shape)\n",
    "print(phone_num.info())\n",
    "print(phone_num.describe())\n",
    "phone_num.head()"
   ]
  },
  {
   "cell_type": "markdown",
   "metadata": {},
   "source": [
    "# 访客信息\n",
    "- 12、邀约频率、未到访、已到访（次/日）\n",
    "- 13、加微信次数"
   ]
  },
  {
   "cell_type": "code",
   "execution_count": null,
   "metadata": {},
   "outputs": [],
   "source": [
    "vister = pd.read_excel('访客记录2019-03-08 11_37_57.xls',encoding = 'utf-8')\n",
    "print(vister.shape)\n",
    "print(vister.info())\n",
    "print(vister.describe())\n",
    "vister.head()"
   ]
  },
  {
   "cell_type": "markdown",
   "metadata": {},
   "source": [
    "# 业绩\n",
    "- 14、业绩排名\n",
    "- 15、签单业绩\n",
    "- 16、协单业绩\n",
    "- 17、转介绍业绩\n",
    "- 18、其他业绩\n",
    "- 19、业绩合计"
   ]
  },
  {
   "cell_type": "code",
   "execution_count": null,
   "metadata": {},
   "outputs": [],
   "source": [
    "from tqdm import tqdm_notebook as tqdm\n",
    "import re\n",
    "performance = pd.read_excel('个人业绩统计.xlsx',encoding = 'utf-8',header=1)\n",
    "columns_name = []\n",
    "columns = performance.columns.tolist()\n",
    "for i in tqdm(range(len(columns))):\n",
    "    column = columns[i]\n",
    "    column2 = performance.iloc[0].values[i]\n",
    "    print(type(column2))\n",
    "    if isinstance(column2,float):\n",
    "        columns_name.append(column)\n",
    "    else:\n",
    "        columns_name.append(column2)\n",
    "\n",
    "performance.columns = columns_name\n",
    "performance.drop(axis=0,index=[0,1],inplace=True)\n",
    "print(performance.shape)\n",
    "print(performance.info())\n",
    "print(performance.describe())\n",
    "performance.head()"
   ]
  },
  {
   "cell_type": "markdown",
   "metadata": {},
   "source": [
    "# 订单详情\n",
    "- 20、成单详情（日成单次数、订单状态、合同编号、客户和商机编号、是否跨业态、订单金额）"
   ]
  },
  {
   "cell_type": "code",
   "execution_count": null,
   "metadata": {},
   "outputs": [],
   "source": [
    "order = pd.read_excel('全部订单.xlsx',encoding = 'utf-8')\n",
    "order.dropna(axis=0,how='all',inplace=True)\n",
    "print(order.shape)\n",
    "print(order.info())\n",
    "print(order.describe())\n",
    "order.head()"
   ]
  },
  {
   "cell_type": "markdown",
   "metadata": {},
   "source": [
    "# 商务行为报表  无数据 随机生成\n",
    "- 21、白名单拨打量、接通量、电话量（用来计算白名单接通量）"
   ]
  },
  {
   "cell_type": "markdown",
   "metadata": {},
   "source": [
    "# 转介绍\n",
    "- 23、转介绍（商机、转介绍人和时间、跟进商务、跟进状态）"
   ]
  },
  {
   "cell_type": "code",
   "execution_count": null,
   "metadata": {},
   "outputs": [],
   "source": [
    "introduction = pd.read_excel('所有转介绍.xlsx',encoding = 'utf-8')\n",
    "print(introduction.shape)\n",
    "print(introduction.info())\n",
    "print(introduction.describe())\n",
    "introduction.head()"
   ]
  },
  {
   "cell_type": "markdown",
   "metadata": {},
   "source": [
    "# 外出访问\n",
    "- 24、外出次数（时间段是否会与商机产生时间关联？）"
   ]
  },
  {
   "cell_type": "code",
   "execution_count": null,
   "metadata": {},
   "outputs": [],
   "source": [
    "out_door = pd.read_excel('外出记录2019-03-08 11_38_27.xls',encoding = 'utf-8')\n",
    "print(out_door.shape)\n",
    "print(out_door.info())\n",
    "print(out_door.describe())\n",
    "out_door.head()"
   ]
  },
  {
   "cell_type": "markdown",
   "metadata": {},
   "source": [
    "# 转介绍红黑榜\n",
    "- 25、转介绍红黑榜（工号、资源量、成单量、成单率）"
   ]
  },
  {
   "cell_type": "code",
   "execution_count": null,
   "metadata": {},
   "outputs": [],
   "source": [
    "introduction_ranking_list = pd.read_excel('转介绍红黑榜.xlsx',encoding = 'utf-8')\n",
    "print(introduction_ranking_list.shape)\n",
    "print(introduction_ranking_list.info())\n",
    "print(introduction_ranking_list.describe())\n",
    "introduction_ranking_list.head()"
   ]
  },
  {
   "cell_type": "code",
   "execution_count": null,
   "metadata": {},
   "outputs": [],
   "source": [
    "gonghao = np.random.randint(low = 101125,high=199987,size=5000)\n",
    "gonghao"
   ]
  },
  {
   "cell_type": "code",
   "execution_count": null,
   "metadata": {},
   "outputs": [],
   "source": [
    "# 入职日期\n",
    "nian = np.random.randint(low = 2013,high=2019,size=5000)\n",
    "yue = np.random.randint(low = 1,high=12,size=5000)\n",
    "ri = np.random.randint(low = 1,high=28,size = 5000)\n",
    "ri"
   ]
  },
  {
   "cell_type": "code",
   "execution_count": null,
   "metadata": {},
   "outputs": [],
   "source": [
    "columns_list = ['工号','入职日期','通时','电话量','电话接通量','30s通话量','60s通话量','09:00-10:00 ≥30S电话量','10:00-11:00 ≥30S电话量','11:00-12:00 ≥30S电话量',\n",
    "                '邀约次数','未到访','已到访','加微信次数','业绩排名','签单业绩','协单业绩','转介绍业绩','其他业绩', '违规记录',\n",
    "                '操行分','每月日均意向客户数','婚姻情况','有无子女','房产情况','车产情况','负债情况','芝麻信用分','有无子女','私人手机使用']\n",
    "data_dict = {}\n",
    "for column_name in columns_list:\n",
    "    data_dict['column_name'] = np.zeros(5000)\n",
    "    \n",
    "df = pd.DataFrame(data = data_dict, columns=columns_list)\n",
    "df"
   ]
  },
  {
   "cell_type": "code",
   "execution_count": null,
   "metadata": {},
   "outputs": [],
   "source": [
    "\n",
    "\n",
    "df_array = []\n",
    "for i in tqdm(range(5000)):\n",
    "    row_array = []\n",
    "    row_array.append(gonghao[i])\n",
    "    row_array.append('{nian2}-{yue2}-{ri2}'.format(nian2 = nian[i],yue2 = yue[i],ri2 = ri[i]))\n",
    "    row_array.append(np.random.randint(low=0,high=8,size=1)[0])#通时\n",
    "    dianhualiang = np.random.randint(low=10,high=250,size=1)[0]\n",
    "    row_array.append(dianhualiang)#电话量\n",
    "    jietongliang = np.random.randint(low=int(dianhualiang/2),high=dianhualiang,size=1)[0]\n",
    "    row_array.append(jietongliang)#电话接通量\n",
    "    tonghualiang = np.random.randint(low=0,high=int(jietongliang/2)+1,size=1)[0]\n",
    "    row_array.append(tonghualiang)#30秒通话量\n",
    "    row_array.append(np.random.randint(low=0,high=int(tonghualiang/2)+1,size=1)[0])#60S通话量\n",
    "    row_array.append(np.random.randint(low=0,high=int(dianhualiang/8)+1,size=1)[0])#09:00-10:00 ≥30S电话量\n",
    "    row_array.append(np.random.randint(low=0,high=int(dianhualiang/8)+1,size=1)[0])#10:00-11:00 ≥30S电话量\n",
    "    row_array.append(np.random.randint(low=0,high=int(dianhualiang/8)+1,size=1)[0])#11:00-12:00 ≥30S电话量\n",
    "    yaoyuecishu = np.random.randint(low=0,high=2,size=1)[0] + 1\n",
    "    row_array.append(yaoyuecishu)# 邀约次数\n",
    "    row_array.append(np.random.randint(low=0,high=yaoyuecishu+1,size=1)[0])# 未到访\n",
    "    row_array.append(np.random.randint(low=0,high=yaoyuecishu+1,size=1)[0])# 已到访\n",
    "    row_array.append(np.random.randint(low=0,high=int(tonghualiang/2)+1,size=1)[0])#加微信次数\n",
    "    row_array.append(i)#业绩排名\n",
    "    row_array.append(np.random.randint(low=0,high=yaoyuecishu,size=1)[0])# 签单业绩\n",
    "    row_array.append(np.random.randint(low=0,high=yaoyuecishu,size=1)[0])# 协单业绩\n",
    "    row_array.append(np.random.randint(low=0,high=yaoyuecishu,size=1)[0])# 转介绍业绩\n",
    "    row_array.append(np.random.randint(low=0,high=yaoyuecishu,size=1)[0])# 其他业绩\n",
    "    \n",
    "    \n",
    "    row_array.append(np.random.randint(low=0,high=2,size=1)[0])# 违规记录 0：没有记录 1：黄线 2：红线\n",
    "    row_array.append(np.random.randint(low=60,high=100,size=1)[0])# 操行分 每半年清零一次，每个月份的操行分不具有可比性\n",
    "    row_array.append(np.random.randint(low=0,high=10,size=1)[0])# 每月日均意向客户数\n",
    "    row_array.append(np.random.randint(low=0,high=2,size=1)[0])# 婚姻情况 0：未知 1：未婚 2：已婚\n",
    "    row_array.append(np.random.randint(low=0,high=2,size=1)[0])# 有无子女 0：未知 1：没有 2：有\n",
    "    row_array.append(np.random.randint(low=0,high=2,size=1)[0])# 房产情况 0：未知 1：没有 2：有\n",
    "    row_array.append(np.random.randint(low=0,high=2,size=1)[0])# 车 0：未知 1：没有 2：有\n",
    "    row_array.append(np.random.randint(low=0,high=2,size=1)[0])# 负债 0：未知 1：没有 2：有\n",
    "    row_array.append(np.random.randint(low=0,high=750,size=1)[0])# 芝麻信用分 0：未知 \n",
    "    row_array.append(np.random.randint(low=0,high=2,size=1)[0])# 有无子女 0：未知 1：有1个 2：大于1个\n",
    "    row_array.append(np.random.randint(low=0,high=2,size=1)[0])# 私人手机使用 0：未知 1：没有 2：有\n",
    "    \n",
    "\n",
    "    df.loc[i] = row_array\n",
    "    \n",
    "df.head()"
   ]
  },
  {
   "cell_type": "code",
   "execution_count": null,
   "metadata": {},
   "outputs": [],
   "source": []
  },
  {
   "cell_type": "code",
   "execution_count": null,
   "metadata": {},
   "outputs": [],
   "source": []
  },
  {
   "cell_type": "code",
   "execution_count": null,
   "metadata": {},
   "outputs": [],
   "source": []
  },
  {
   "cell_type": "code",
   "execution_count": null,
   "metadata": {},
   "outputs": [],
   "source": []
  },
  {
   "cell_type": "code",
   "execution_count": null,
   "metadata": {},
   "outputs": [],
   "source": []
  },
  {
   "cell_type": "markdown",
   "metadata": {},
   "source": []
  },
  {
   "cell_type": "code",
   "execution_count": null,
   "metadata": {},
   "outputs": [],
   "source": []
  },
  {
   "cell_type": "code",
   "execution_count": null,
   "metadata": {},
   "outputs": [],
   "source": [
    "\n",
    "x"
   ]
  },
  {
   "cell_type": "code",
   "execution_count": null,
   "metadata": {},
   "outputs": [],
   "source": [
    "\n",
    "sys_user_info['org_id'].value_counts()"
   ]
  },
  {
   "cell_type": "code",
   "execution_count": null,
   "metadata": {},
   "outputs": [],
   "source": [
    "sys_user_info.columns"
   ]
  },
  {
   "cell_type": "markdown",
   "metadata": {},
   "source": []
  },
  {
   "cell_type": "code",
   "execution_count": null,
   "metadata": {},
   "outputs": [],
   "source": []
  },
  {
   "cell_type": "code",
   "execution_count": null,
   "metadata": {},
   "outputs": [],
   "source": []
  },
  {
   "cell_type": "code",
   "execution_count": null,
   "metadata": {},
   "outputs": [],
   "source": []
  },
  {
   "cell_type": "code",
   "execution_count": null,
   "metadata": {},
   "outputs": [],
   "source": []
  },
  {
   "cell_type": "code",
   "execution_count": null,
   "metadata": {},
   "outputs": [],
   "source": []
  },
  {
   "cell_type": "code",
   "execution_count": null,
   "metadata": {},
   "outputs": [],
   "source": []
  },
  {
   "cell_type": "markdown",
   "metadata": {},
   "source": []
  },
  {
   "cell_type": "code",
   "execution_count": null,
   "metadata": {},
   "outputs": [],
   "source": []
  },
  {
   "cell_type": "code",
   "execution_count": null,
   "metadata": {},
   "outputs": [],
   "source": []
  },
  {
   "cell_type": "code",
   "execution_count": null,
   "metadata": {},
   "outputs": [],
   "source": []
  },
  {
   "cell_type": "code",
   "execution_count": null,
   "metadata": {},
   "outputs": [],
   "source": []
  },
  {
   "cell_type": "code",
   "execution_count": null,
   "metadata": {},
   "outputs": [],
   "source": []
  },
  {
   "cell_type": "markdown",
   "metadata": {},
   "source": []
  },
  {
   "cell_type": "code",
   "execution_count": null,
   "metadata": {},
   "outputs": [],
   "source": []
  },
  {
   "cell_type": "code",
   "execution_count": null,
   "metadata": {},
   "outputs": [],
   "source": []
  },
  {
   "cell_type": "code",
   "execution_count": null,
   "metadata": {},
   "outputs": [],
   "source": []
  },
  {
   "cell_type": "markdown",
   "metadata": {},
   "source": []
  },
  {
   "cell_type": "code",
   "execution_count": null,
   "metadata": {},
   "outputs": [],
   "source": []
  },
  {
   "cell_type": "code",
   "execution_count": null,
   "metadata": {},
   "outputs": [],
   "source": []
  },
  {
   "cell_type": "code",
   "execution_count": null,
   "metadata": {},
   "outputs": [],
   "source": []
  },
  {
   "cell_type": "markdown",
   "metadata": {},
   "source": []
  },
  {
   "cell_type": "code",
   "execution_count": null,
   "metadata": {},
   "outputs": [],
   "source": []
  },
  {
   "cell_type": "markdown",
   "metadata": {},
   "source": []
  },
  {
   "cell_type": "code",
   "execution_count": null,
   "metadata": {},
   "outputs": [],
   "source": []
  },
  {
   "cell_type": "markdown",
   "metadata": {},
   "source": []
  },
  {
   "cell_type": "code",
   "execution_count": null,
   "metadata": {},
   "outputs": [],
   "source": []
  },
  {
   "cell_type": "markdown",
   "metadata": {},
   "source": []
  },
  {
   "cell_type": "code",
   "execution_count": null,
   "metadata": {},
   "outputs": [],
   "source": []
  },
  {
   "cell_type": "code",
   "execution_count": null,
   "metadata": {},
   "outputs": [],
   "source": []
  },
  {
   "cell_type": "code",
   "execution_count": null,
   "metadata": {},
   "outputs": [],
   "source": []
  },
  {
   "cell_type": "code",
   "execution_count": null,
   "metadata": {},
   "outputs": [],
   "source": [
    "writer = pd.ExcelWriter('商务模拟数据.xlsx')\n",
    "df.to_excel(writer,'Sheet1')\n",
    "writer.save()"
   ]
  },
  {
   "cell_type": "code",
   "execution_count": null,
   "metadata": {},
   "outputs": [],
   "source": [
    "df = pd.DataFrame(np.random.randn(3, 8), index=['A', 'B', 'C'], columns=column_name)\n",
    "df"
   ]
  },
  {
   "cell_type": "code",
   "execution_count": null,
   "metadata": {},
   "outputs": [],
   "source": []
  }
 ],
 "metadata": {
  "kernelspec": {
   "display_name": "Python 3",
   "language": "python",
   "name": "python3"
  },
  "language_info": {
   "codemirror_mode": {
    "name": "ipython",
    "version": 3
   },
   "file_extension": ".py",
   "mimetype": "text/x-python",
   "name": "python",
   "nbconvert_exporter": "python",
   "pygments_lexer": "ipython3",
   "version": "3.6.6"
  }
 },
 "nbformat": 4,
 "nbformat_minor": 2
}
