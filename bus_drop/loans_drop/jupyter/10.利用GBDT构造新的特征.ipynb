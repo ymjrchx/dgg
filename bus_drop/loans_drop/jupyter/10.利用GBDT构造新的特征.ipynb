{
 "cells": [
  {
   "cell_type": "code",
   "execution_count": 2,
   "metadata": {
    "ExecuteTime": {
     "end_time": "2019-05-08T09:06:42.378987Z",
     "start_time": "2019-05-08T09:06:41.807710Z"
    }
   },
   "outputs": [],
   "source": [
    "import numpy as np # 快速操作结构数组的工具\n",
    "import matplotlib.pyplot as plt  # 可视化绘制\n",
    "from sklearn.linear_model import LinearRegression  # 线性回归\n",
    "from sklearn.datasets import make_classification\n",
    "from sklearn.model_selection import train_test_split\n",
    "from sklearn.ensemble import GradientBoostingClassifier,RandomForestClassifier\n",
    "from sklearn.linear_model import LogisticRegression\n",
    "from sklearn.metrics import roc_auc_score,roc_curve,auc\n",
    "from sklearn.preprocessing import OneHotEncoder"
   ]
  },
  {
   "cell_type": "markdown",
   "metadata": {},
   "source": [
    "# 1.构造数据集"
   ]
  },
  {
   "cell_type": "code",
   "execution_count": 3,
   "metadata": {
    "ExecuteTime": {
     "end_time": "2019-05-08T09:06:44.056155Z",
     "start_time": "2019-05-08T09:06:43.936835Z"
    }
   },
   "outputs": [],
   "source": [
    "X, y = make_classification(n_samples=80000,n_features=20,n_classes=2)"
   ]
  },
  {
   "cell_type": "markdown",
   "metadata": {},
   "source": [
    "# 2.数据集分割与estimator准备"
   ]
  },
  {
   "cell_type": "code",
   "execution_count": 4,
   "metadata": {
    "ExecuteTime": {
     "end_time": "2019-05-08T09:06:46.387706Z",
     "start_time": "2019-05-08T09:06:46.368799Z"
    }
   },
   "outputs": [],
   "source": [
    "# 切分为测试集和训练集，比例0.5\n",
    "X_train, X_test, y_train, y_test = train_test_split(X, y, test_size=0.5)\n",
    "# 将训练集切分为两部分，一部分用于训练GBDT模型，另一部分输入到训练好的GBDT模型生成GBDT特征，然后作为LR的特征。这样分成两部分是为了防止过拟合。\n",
    "X_train_gbdt, X_train_lr, y_train_gbdt, y_train_lr = train_test_split(X_train, y_train, test_size=0.5)\n",
    "# 调用GBDT分类模型。\n",
    "n_estimator = 10\n",
    "gbdt = GradientBoostingClassifier(n_estimators=n_estimator)\n",
    "# 调用one-hot编码。\n",
    "one_hot = OneHotEncoder()\n",
    "# 调用LR分类模型。\n",
    "lr = LogisticRegression()"
   ]
  },
  {
   "cell_type": "markdown",
   "metadata": {},
   "source": [
    "# 3. 使用X_train训练GBDT模型，后面用此模型构造特征\n",
    "1. 将数据集划分成两部分，一份训练GBDT，一份用GBDT生成特征\n",
    "2. 生成新特征的过程：\n",
    "> 1. x_leaf_index = gbdt.apply(X_train_gbdt)[:,:,0]----->得到每个样本在每个树中所属的叶子索引\n",
    "> 2. x_lr_leaf_index = gbdt.apply(X_train_lr)[:,:,0]\n",
    "> 3. one_hot.fit(X_leaf_index)\n",
    "> 4. one_hot.transform(X_lr_leaf_index)------->一个树上的一个叶子节点就为一个新特征，每个样本其上取值为1或0.这样就可以直接用了"
   ]
  },
  {
   "cell_type": "code",
   "execution_count": 5,
   "metadata": {
    "ExecuteTime": {
     "end_time": "2019-05-08T09:06:49.371437Z",
     "start_time": "2019-05-08T09:06:48.952735Z"
    }
   },
   "outputs": [
    {
     "name": "stdout",
     "output_type": "stream",
     "text": [
      "每个样本在每个树中所属的叶子索引\n",
      " [[ 7.  6.  7. ...  6.  7.  6.]\n",
      " [14. 14. 14. ... 14. 14. 14.]\n",
      " [14. 14. 14. ... 14. 14. 14.]\n",
      " ...\n",
      " [ 7.  6.  7. ...  6.  7.  6.]\n",
      " [14. 14. 14. ... 14. 14. 14.]\n",
      " [14. 14. 14. ... 14. 14. 14.]]\n"
     ]
    },
    {
     "data": {
      "text/plain": [
       "(20000, 10)"
      ]
     },
     "execution_count": 5,
     "metadata": {},
     "output_type": "execute_result"
    }
   ],
   "source": [
    "gbdt.fit(X_train_gbdt,y_train_gbdt)\n",
    "\n",
    "# apply返回每个样本在每颗树中所属的叶子节点索引。行数为样本数，列数为树数目。值为在每个树的叶子索引\n",
    "X_leaf_index = gbdt.apply(X_train_gbdt)[:,:,0]\n",
    "\n",
    "gbdt1 = gbdt\n",
    "X_lr_leaf_index = gbdt1.apply(X_train_lr)[:,:,0]\n",
    "print(\"每个样本在每个树中所属的叶子索引\\n\",X_leaf_index)\n",
    "X_leaf_index.shape"
   ]
  },
  {
   "cell_type": "code",
   "execution_count": 5,
   "metadata": {
    "ExecuteTime": {
     "end_time": "2019-05-08T09:05:48.246599Z",
     "start_time": "2019-05-08T09:05:48.214303Z"
    }
   },
   "outputs": [
    {
     "name": "stdout",
     "output_type": "stream",
     "text": [
      "(20000, 80)\n"
     ]
    },
    {
     "name": "stderr",
     "output_type": "stream",
     "text": [
      "/home/sundali/anaconda3/lib/python3.6/site-packages/sklearn/preprocessing/_encoders.py:371: FutureWarning: The handling of integer data will change in version 0.22. Currently, the categories are determined based on the range [0, max(values)], while in the future they will be determined based on the unique values.\n",
      "If you want the future behaviour and silence this warning, you can specify \"categories='auto'\".\n",
      "In case you used a LabelEncoder before this OneHotEncoder to convert the categories to integers, then you can now use the OneHotEncoder directly.\n",
      "  warnings.warn(msg, FutureWarning)\n"
     ]
    }
   ],
   "source": [
    "one_hot.fit(X_leaf_index)\n",
    "X_lr_one_hot = one_hot.transform(X_lr_leaf_index)\n",
    "# 将训练数据，通过gbdt树，形成的叶子节点（每个叶子代表了原始特征的一种组合）索引，编码成one0-hot特征。\n",
    "# 编码后的每个特征代表原来的一批特征的组合。\n",
    "print(X_lr_one_hot.shape)"
   ]
  },
  {
   "cell_type": "markdown",
   "metadata": {},
   "source": [
    "# 4.模型效果提升对比\n",
    "1. 得到每个样本的为1的预测proba:lr.predict(one_hot.transform(gbdt.apply(X_test)[:,:,0))[:,1]\n",
    "2. 得到fpr,tpr,以及阈值：fpr,tpr,thresholds = roc_curve(真实标签，预测概率）\n",
    "3. auc值：roc_auc = auc(fpr,tpr)"
   ]
  },
  {
   "cell_type": "code",
   "execution_count": 11,
   "metadata": {
    "ExecuteTime": {
     "end_time": "2019-05-08T06:53:30.826179Z",
     "start_time": "2019-05-08T06:53:30.617776Z"
    }
   },
   "outputs": [
    {
     "name": "stdout",
     "output_type": "stream",
     "text": [
      "使用逻辑回归只训练gbdt组合出来的特征的效果\n",
      "auc值为\n",
      " 0.9799659294192513\n"
     ]
    },
    {
     "name": "stderr",
     "output_type": "stream",
     "text": [
      "/home/sundali/anaconda3/lib/python3.6/site-packages/sklearn/linear_model/logistic.py:433: FutureWarning: Default solver will be changed to 'lbfgs' in 0.22. Specify a solver to silence this warning.\n",
      "  FutureWarning)\n"
     ]
    },
    {
     "data": {
      "image/png": "[encoded data removed]",
      "text/plain": [
       "<Figure size 432x288 with 1 Axes>"
      ]
     },
     "metadata": {
      "needs_background": "light"
     },
     "output_type": "display_data"
    }
   ],
   "source": [
    "print(\"使用逻辑回归只训练gbdt组合出来的特征的效果\")\n",
    "lr.fit(X_lr_one_hot,y_train_lr)\n",
    "# 训练出的lr预测X_test的效果\n",
    "y_pred_grd_lm = lr.predict_proba(one_hot.transform(gbdt.apply(X_test)[:,:,0]))[:,1]\n",
    "\n",
    "fpr, tpr, thresholds = roc_curve(y_test, y_pred_grd_lm)  # 获取真正率和假正率以及门限\n",
    "roc_auc = auc(fpr, tpr)\n",
    "print('auc值为\\n',roc_auc)\n",
    "#画图，只需要plt.plot(fpr,tpr),变量roc_auc只是记录auc的值，通过auc()函数能计算出来\n",
    "plt.plot(fpr, tpr, lw=1, label='area = %0.2f' %  roc_auc)\n",
    "plt.show()"
   ]
  },
  {
   "cell_type": "code",
   "execution_count": 16,
   "metadata": {
    "ExecuteTime": {
     "end_time": "2019-05-08T07:31:30.766594Z",
     "start_time": "2019-05-08T07:31:30.602762Z"
    }
   },
   "outputs": [
    {
     "name": "stdout",
     "output_type": "stream",
     "text": [
      "使用逻辑回归训练原始数据集的结果\n",
      "(20000, 20)\n",
      "auc值为\n",
      " 0.9142133575775552\n"
     ]
    },
    {
     "name": "stderr",
     "output_type": "stream",
     "text": [
      "/home/sundali/anaconda3/lib/python3.6/site-packages/sklearn/linear_model/logistic.py:433: FutureWarning: Default solver will be changed to 'lbfgs' in 0.22. Specify a solver to silence this warning.\n",
      "  FutureWarning)\n"
     ]
    },
    {
     "data": {
      "image/png": "[encoded data removed]",
      "text/plain": [
       "<Figure size 432x288 with 1 Axes>"
      ]
     },
     "metadata": {
      "needs_background": "light"
     },
     "output_type": "display_data"
    }
   ],
   "source": [
    "# 使用lr直接训练原始数据\n",
    "print('使用逻辑回归训练原始数据集的结果')\n",
    "lr.fit(X_train_lr, y_train_lr)\n",
    "print(X_train_lr.shape)\n",
    "# 用训练好的LR模型多X_test做预测\n",
    "y_pred_grd_lm = lr.predict_proba(X_test)[:, 1]  # 获取测试集正样本的概率\n",
    "# 根据预测结果输出\n",
    "fpr, tpr, thresholds = roc_curve(y_test, y_pred_grd_lm)  # 获取真正率和假正率以及门限\n",
    "roc_auc = auc(fpr, tpr)\n",
    "print('auc值为\\n',roc_auc)\n",
    "#画图，只需要plt.plot(fpr,tpr),变量roc_auc只是记录auc的值，通过auc()函数能计算出来\n",
    "plt.plot(fpr, tpr, lw=1, label='area = %0.2f' %  roc_auc)\n",
    "plt.show()"
   ]
  },
  {
   "cell_type": "code",
   "execution_count": 25,
   "metadata": {
    "ExecuteTime": {
     "end_time": "2019-05-08T07:47:43.212178Z",
     "start_time": "2019-05-08T07:47:43.209716Z"
    },
    "code_folding": [
     0
    ]
   },
   "outputs": [],
   "source": [
    "# # 使用lr训练原始数据+生成特征\n",
    "# import pandas as pd\n",
    "# print('使用逻辑回归训练原始数据集+生成特征的结果')\n",
    "# x_train_lr1 = (pd.concat([pd.DataFrame(X_train_lr),pd.DataFrame(X_lr_one_hot)],axis = 1)).values\n",
    "# x_test_lr1 = (pd.concat([pd.DataFrame(X_test),pd.DataFrame(one_hot.transform(gbdt.apply(X_test)[:,:,0]))],axis=1)).values\n",
    "# # x_test_lr1 = np.hstack((X_test,one_hot.transform(gbdt.apply(X_test)[:,:,0])))\n",
    "# lr.fit(x_train_lr1, y_train_lr)\n",
    "# # 用训练好的LR模型多X_test做预测\n",
    "# y_pred_grd_lm = lr.predict_proba(x_test_lr1)[:, 1]  # 获取测试集正样本的概率\n",
    "# # 根据预测结果输出\n",
    "# fpr, tpr, thresholds = roc_curve(y_test, y_pred_grd_lm)  # 获取真正率和假正率以及门限\n",
    "# roc_auc = auc(fpr, tpr)\n",
    "# print('auc值为\\n',roc_auc)\n",
    "# #画图，只需要plt.plot(fpr,tpr),变量roc_auc只是记录auc的值，通过auc()函数能计算出来\n",
    "# plt.plot(fpr, tpr, lw=1, label='area = %0.2f' %  roc_auc)\n",
    "# plt.show()"
   ]
  },
  {
   "cell_type": "markdown",
   "metadata": {},
   "source": [
    "# 5.GBDT生成特征函数"
   ]
  },
  {
   "cell_type": "code",
   "execution_count": null,
   "metadata": {},
   "outputs": [],
   "source": [
    "def gbdt_create_features(x_gbdt,y_gbdt,x_other_model,y_other_model,n_estimator = 10):\n",
    "    \"\"\"\n",
    "    利用GBDT训练一部分数据，然后利用另一部分数据用gbdt生成新特征，进行最终模型训练\n",
    "    A\n",
    "    \"\"\"\n",
    "    def gbdt_feature_combination(gbdt_model,x_other_model,x_gbdt):\n",
    "    \"\"\"\n",
    "    利用GBDT训练一部分数据，然后利用另一部分数据用gbdt生成新特征，进行最终模型训练\n",
    "    Args:\n",
    "        gbdt_model:已经训练好的gbdt模型\n",
    "        x_gbdt:训练gbdt的数据特征数据集\n",
    "        x_other_model: 将用gbdt生成新特征的数据集\n",
    "    Returns:\n",
    "        每个样本在新特征上的one-hot编码\n",
    "\n",
    "    \"\"\"\n",
    "\n",
    "    # apply返回每个样本在每颗树中所属的叶子节点索引。行数为样本数，列数为树数目。值为在每个树的叶子索引\n",
    "    x_leaf_index = gbdt_model.apply(x_gbdt)[:,:,0]\n",
    "    x_other_leaf_index = gbdt_model.apply(x_other_model)[:,:0]\n",
    "\n",
    "    # one-hot编码新生成特征\n",
    "    one_hot = OneHotEncoder()\n",
    "    one_hot.fit(x_leaf_index)\n",
    "    x_other_model_one_hot = one_hot.transform(x_other_leaf_index)\n",
    "\n",
    "    return x_other_model_one_hot\n"
   ]
  }
 ],
 "metadata": {
  "kernelspec": {
   "display_name": "Python 3",
   "language": "python",
   "name": "python3"
  },
  "language_info": {
   "codemirror_mode": {
    "name": "ipython",
    "version": 3
   },
   "file_extension": ".py",
   "mimetype": "text/x-python",
   "name": "python",
   "nbconvert_exporter": "python",
   "pygments_lexer": "ipython3",
   "version": "3.6.8"
  },
  "toc": {
   "base_numbering": 1,
   "nav_menu": {},
   "number_sections": true,
   "sideBar": true,
   "skip_h1_title": false,
   "title_cell": "Table of Contents",
   "title_sidebar": "Contents",
   "toc_cell": false,
   "toc_position": {},
   "toc_section_display": true,
   "toc_window_display": false
  }
 },
 "nbformat": 4,
 "nbformat_minor": 2
}
