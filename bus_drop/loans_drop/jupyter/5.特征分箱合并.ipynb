{
 "cells": [
  {
   "cell_type": "markdown",
   "metadata": {},
   "source": [
    "# 1.特征分箱的作用\n",
    "1. 优点\n",
    "> 1. 稳定性：避免特征中无意义的波动对评分带来的波动；\n",
    "> 2. 健壮性：避免了极端值的影响；\n",
    "> 3. 缺失值带入分箱：可将缺失值作为独立的一个箱带入模型中； \n",
    "> 4. 消除量纲影响：将所有变量变换到相似的尺度上\n",
    "2. 缺点\n",
    "> 1. 计算量大"
   ]
  },
  {
   "cell_type": "code",
   "execution_count": 38,
   "metadata": {
    "ExecuteTime": {
     "end_time": "2019-05-06T01:23:12.458387Z",
     "start_time": "2019-05-06T01:23:12.330223Z"
    }
   },
   "outputs": [
    {
     "data": {
      "text/html": [
       "<div>\n",
       "<style scoped>\n",
       "    .dataframe tbody tr th:only-of-type {\n",
       "        vertical-align: middle;\n",
       "    }\n",
       "\n",
       "    .dataframe tbody tr th {\n",
       "        vertical-align: top;\n",
       "    }\n",
       "\n",
       "    .dataframe thead th {\n",
       "        text-align: right;\n",
       "    }\n",
       "</style>\n",
       "<table border=\"1\" class=\"dataframe\">\n",
       "  <thead>\n",
       "    <tr style=\"text-align: right;\">\n",
       "      <th></th>\n",
       "      <th>年龄</th>\n",
       "      <th>收入</th>\n",
       "      <th>孩子数量</th>\n",
       "      <th>是否违约</th>\n",
       "    </tr>\n",
       "  </thead>\n",
       "  <tbody>\n",
       "    <tr>\n",
       "      <th>0</th>\n",
       "      <td>46</td>\n",
       "      <td>0</td>\n",
       "      <td>0</td>\n",
       "      <td>0</td>\n",
       "    </tr>\n",
       "    <tr>\n",
       "      <th>1</th>\n",
       "      <td>34</td>\n",
       "      <td>3200</td>\n",
       "      <td>4</td>\n",
       "      <td>1</td>\n",
       "    </tr>\n",
       "    <tr>\n",
       "      <th>2</th>\n",
       "      <td>31</td>\n",
       "      <td>3300</td>\n",
       "      <td>3</td>\n",
       "      <td>1</td>\n",
       "    </tr>\n",
       "    <tr>\n",
       "      <th>3</th>\n",
       "      <td>39</td>\n",
       "      <td>1500</td>\n",
       "      <td>0</td>\n",
       "      <td>1</td>\n",
       "    </tr>\n",
       "    <tr>\n",
       "      <th>4</th>\n",
       "      <td>32</td>\n",
       "      <td>0</td>\n",
       "      <td>3</td>\n",
       "      <td>0</td>\n",
       "    </tr>\n",
       "  </tbody>\n",
       "</table>\n",
       "</div>"
      ],
      "text/plain": [
       "   年龄    收入  孩子数量  是否违约\n",
       "0  46     0     0     0\n",
       "1  34  3200     4     1\n",
       "2  31  3300     3     1\n",
       "3  39  1500     0     1\n",
       "4  32     0     3     0"
      ]
     },
     "execution_count": 38,
     "metadata": {},
     "output_type": "execute_result"
    }
   ],
   "source": [
    "import pandas as pd\n",
    "import numpy as np\n",
    "data = pd.read_excel(\"./bin_data.xlsx\")\n",
    "data.head()"
   ]
  },
  {
   "cell_type": "code",
   "execution_count": null,
   "metadata": {},
   "outputs": [],
   "source": [
    "from sklearn."
   ]
  },
  {
   "cell_type": "code",
   "execution_count": null,
   "metadata": {},
   "outputs": [],
   "source": []
  },
  {
   "cell_type": "code",
   "execution_count": null,
   "metadata": {},
   "outputs": [],
   "source": []
  },
  {
   "cell_type": "markdown",
   "metadata": {},
   "source": [
    "# 2. 变量分箱封装"
   ]
  },
  {
   "cell_type": "code",
   "execution_count": null,
   "metadata": {},
   "outputs": [],
   "source": [
    "class AutoBin:\n",
    "    \n",
    "    def bin_features(self,data,cat_features,value_threshold):\n",
    "        \"\"\"函数作用：根据设定的离散变量的取值个数的阈值，判断需要再分箱的离散型变量。超过阈值的离散或类别型变量需要再分箱\"\"\"\n",
    "        total = list(data.columns)\n",
    "        for var in list(data.columns):\n",
    "            if var in cat_features:\n",
    "                total.remove(var)\n",
    "            else:\n",
    "                pass\n",
    "        num_features = total\n",
    "        more_value_features =[]\n",
    "        less_value_features = []\n",
    "        for var in cat_features:\n",
    "            value_counts = len(set(data[var]))\n",
    "            if value_counts > value_threshold:\n",
    "                more_value_features.append(var)\n",
    "\n",
    "            else:\n",
    "                less_value_features.append(var)\n",
    "        return more_value_features,less_value_features,num_features\n",
    "    \n",
    "    def cat_mapping(self,data,var,map_dic,value_type):\n",
    "        \"\"\"函数作用:相当于离散型变量自定义分箱\"\"\"\n",
    "        data[var] = data[var].map(dic).astype(value_type)\n",
    "        return data\n",
    "    \n",
    "    def customize_bin(self,df,variable,**kwargs):\n",
    "        \"\"\"自定义分箱的函数，可以针对离散变量和连续变量\n",
    "        输入：\n",
    "        1. df为待分箱的数据的数据框\n",
    "        2. variable为待分箱的变量名\n",
    "        3. **dic为关键字参数,给定形式为json格式。**json\n",
    "        **{\"dic1\":{key为新箱子的名字以字符串给出，value为原来的值，value均以原本值的类型给出},\n",
    "        \"dic2\":key为新箱子的名字以字符串给出，value为筛选条件，value均以pd.query()的条件给出}\n",
    "        4. 如：**{\"dic1\":{\"多胎\":\"孩子数量 >=3 & 孩子数量 < 5\",\"非人类\":\"孩子数量 >=5\"},\"dic2\":{\"无子女\":0,\"一胎\":1,\"两胎\":2}}\n",
    "        输出：\n",
    "        分箱完毕的数据框\"\"\"\n",
    "        conditions = len(kwargs.keys()) \n",
    "        if conditions ==1: # 判断是连续变量\n",
    "            dic1 = kwargs.get(\"dic1\")\n",
    "            dic = {}\n",
    "            for key1,value1 in dic1.items():\n",
    "                index = (df.query(expr = value1)).index\n",
    "                dic[key1] = index\n",
    "        elif conditions ==2: # 判断是离散变量\n",
    "            dic1 = kwargs.get(\"dic1\")\n",
    "            dic2 = kwargs.get(\"dic2\")\n",
    "            dic = {}\n",
    "            for key1,value1 in dic1.items():\n",
    "                index = (df.query(expr = value1)).index\n",
    "                dic[key1] = index\n",
    "            for key2,value2 in dic2.items():\n",
    "                index = df.loc[df[variable] == value2].index\n",
    "                dic[key2] = index\n",
    "            for key,value in dic.items():\n",
    "                df.loc[value,variable] = key\n",
    "            print(\"变量<%s>分箱完成,分箱结果为%s\" % (variable,df[variable].unique()))\n",
    "            return df\n",
    "        else:\n",
    "            print(\"请输入正确的关键字参数中key个数\")\n",
    "\n",
    "        import itertools\n",
    "        value_list = list(itertools.chain(*dic.values())) \n",
    "        if len(value_list) != len(df):  #判断分箱的样本行数是否等于数据框样本数\n",
    "            print(\"待分箱的数据与原始数据长度不符，请检查待分箱数据数量\")\n",
    "        else:\n",
    "            for key,value in dic.items():\n",
    "                df.loc[value,variable] = key\n",
    "            print(\"变量<%s>分箱完成,分箱结果为%s\" % (variable,df[variable].unique()))\n",
    "            return df"
   ]
  },
  {
   "cell_type": "code",
   "execution_count": 32,
   "metadata": {
    "ExecuteTime": {
     "end_time": "2019-05-05T07:54:23.455409Z",
     "start_time": "2019-05-05T07:54:23.451333Z"
    }
   },
   "outputs": [
    {
     "data": {
      "text/plain": [
       "(['孩子数量', '年龄'], [], ['收入', '是否违约'])"
      ]
     },
     "execution_count": 32,
     "metadata": {},
     "output_type": "execute_result"
    }
   ],
   "source": [
    "autobin = AutoBin()\n",
    "autobin.bin_features(data=data,cat_features=[\"孩子数量\",\"年龄\"],value_threshold=.5)"
   ]
  },
  {
   "cell_type": "code",
   "execution_count": null,
   "metadata": {},
   "outputs": [],
   "source": []
  },
  {
   "cell_type": "markdown",
   "metadata": {},
   "source": [
    "# 2.sklearn的KBinsDiscretizer分箱"
   ]
  },
  {
   "cell_type": "code",
   "execution_count": 33,
   "metadata": {
    "ExecuteTime": {
     "end_time": "2019-05-05T11:03:01.954158Z",
     "start_time": "2019-05-05T11:03:01.951842Z"
    }
   },
   "outputs": [],
   "source": [
    "from sklearn.preprocessing import KBinsDiscretizer"
   ]
  },
  {
   "cell_type": "code",
   "execution_count": 35,
   "metadata": {
    "ExecuteTime": {
     "end_time": "2019-05-05T11:04:32.039072Z",
     "start_time": "2019-05-05T11:04:32.035797Z"
    }
   },
   "outputs": [],
   "source": [
    "rnd = np.random.RandomState(42)\n",
    "X= rnd.uniform(-3,3,size=100)\n",
    "y = np.sin(X) + rnd.normal(size = len(X)) / 3\n",
    "X = X.reshape(-1,1)"
   ]
  },
  {
   "cell_type": "code",
   "execution_count": 36,
   "metadata": {
    "ExecuteTime": {
     "end_time": "2019-05-05T11:06:01.216653Z",
     "start_time": "2019-05-05T11:06:01.212527Z"
    }
   },
   "outputs": [],
   "source": [
    "enc = KBinsDiscretizer(n_bins=10, encode='onehot')\n",
    "X_binned = enc.fit_transform(X) "
   ]
  },
  {
   "cell_type": "code",
   "execution_count": 37,
   "metadata": {
    "ExecuteTime": {
     "end_time": "2019-05-05T11:06:41.505791Z",
     "start_time": "2019-05-05T11:06:41.502580Z"
    }
   },
   "outputs": [
    {
     "data": {
      "text/plain": [
       "<100x10 sparse matrix of type '<class 'numpy.float64'>'\n",
       "\twith 100 stored elements in Compressed Sparse Row format>"
      ]
     },
     "execution_count": 37,
     "metadata": {},
     "output_type": "execute_result"
    }
   ],
   "source": [
    "X_binned"
   ]
  },
  {
   "cell_type": "code",
   "execution_count": null,
   "metadata": {},
   "outputs": [],
   "source": []
  }
 ],
 "metadata": {
  "kernelspec": {
   "display_name": "Python 3",
   "language": "python",
   "name": "python3"
  },
  "language_info": {
   "codemirror_mode": {
    "name": "ipython",
    "version": 3
   },
   "file_extension": ".py",
   "mimetype": "text/x-python",
   "name": "python",
   "nbconvert_exporter": "python",
   "pygments_lexer": "ipython3",
   "version": "3.6.8"
  },
  "toc": {
   "base_numbering": 1,
   "nav_menu": {},
   "number_sections": true,
   "sideBar": true,
   "skip_h1_title": false,
   "title_cell": "Table of Contents",
   "title_sidebar": "Contents",
   "toc_cell": false,
   "toc_position": {},
   "toc_section_display": true,
   "toc_window_display": false
  }
 },
 "nbformat": 4,
 "nbformat_minor": 2
}
