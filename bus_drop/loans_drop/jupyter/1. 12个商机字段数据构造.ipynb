{
 "cells": [
  {
   "cell_type": "code",
   "execution_count": 28,
   "metadata": {},
   "outputs": [],
   "source": [
    "import pandas as pd\n",
    "import numpy as np\n",
    "import matplotlib.pyplot as plt\n",
    "%matplotlib inline\n",
    "import seaborn as sns\n",
    "from faker import Faker"
   ]
  },
  {
   "cell_type": "markdown",
   "metadata": {},
   "source": [
    "# 1. 需要构造的字段"
   ]
  },
  {
   "cell_type": "code",
   "execution_count": 29,
   "metadata": {},
   "outputs": [],
   "source": [
    "# 商机编号\n",
    "# 1. 历史订单总数量－－－个,表名bi_behavior.bi_order_detail,customer_no/id进行计数\n",
    "# 2. 历史订单总金额－－－元,表名bi_behavior.bi_order_detail,product_amount\n",
    "# 3. 是否办理过贷款－－－１为是，０为否．表名bi_behavior.bi_order_detail，表名bi_behavior.bi_order_detail\n",
    "# 4. 最近一次贷款距今时长－－－月,表名iboss2 db_iboss_rzsc.rzsc_product_order，取customer_no状态为status in(RZSCORDER_STATUS17,RZSCORDER_STATUS19)最新放款时间loan_time\n",
    "# 5. 历史咨询次数－－－次,外呼  mongo中zh201903,durationsec进行统计\n",
    "# 6. 历史平均通话时长－－－s/次,外呼mongo中zh201903,进行durationsec进行统计\n",
    "# 7. 客户是否添加商务微信－－－1为是，０为否．＿＿＿＿＞和李良沟通\n",
    "# 8. 商务会见次数---次，表名bi_behavior.bi_visit_detail，\"customer_name 计数  同时用status_name过滤出已到访\"\n",
    "# 9. 备注是否包含贷款或资金---1为是，０为否．表名：db_iboss2.uc_customer_record，content\n",
    "# 10. １０字备注以上备注个数－－－个.名：db_iboss2.uc_customer_record，content\n",
    "# 11. 客户掉库总次数／被剔除总数（１８０天）---次,db_iboss2.uc_customer_record,\"remark_type 值为BUS_701 代表被剔除，进行统计\"\n",
    "# 12. 客户投诉公司次数（１８０天）---次，不好处理，线下的都是客户名称，也不好匹配．很难拿到"
   ]
  },
  {
   "cell_type": "markdown",
   "metadata": {},
   "source": [
    "# ２.构造函数"
   ]
  },
  {
   "cell_type": "code",
   "execution_count": 30,
   "metadata": {},
   "outputs": [],
   "source": [
    "def create_chisquare(freedom,num,column):\n",
    "    \"\"\"1.构造卡方分布的特征的函数\"\"\"\n",
    "    import numpy as np\n",
    "    import pandas as pd\n",
    "    np.random.seed(22)\n",
    "    data = np.ceil(np.random.chisquare(df=freedom,size=num))\n",
    "    df = pd.DataFrame(data,columns=[column])\n",
    "    plt.figure()\n",
    "    sns.distplot(df)\n",
    "    plt.show()\n",
    "    return df\n",
    "# create_chisquare(freedom=38,num=2000,column=\"age\").head(3) #构造年龄\n",
    "def create__double_chisquare(freedom1,num1,freedom2,num2,column):\n",
    "    \"\"\"2.构造卡方分布的双峰的特征函数，freedom为自由度，num为个数，column为特征名字\"\"\"\n",
    "    import numpy as np\n",
    "    import pandas as pd\n",
    "    np.random.seed(22)\n",
    "    data1 = np.ceil(np.random.chisquare(df=freedom1,size=num1))\n",
    "    data2 = np.ceil(np.random.chisquare(df=freedom2,size=num2))\n",
    "    df = pd.DataFrame(np.hstack((data1,data2)),columns=[column])\n",
    "    plt.figure()\n",
    "    sns.distplot(df)\n",
    "    plt.show()\n",
    "    return df\n",
    "def create_normal(num,mean,stddev,column,seed=0,):\n",
    "    \"\"\"3.构造服从正态分布的整数,返回数据框\"\"\"\n",
    "    data = np.random.normal(loc=mean,scale=stddev,size=num,seed=seed)\n",
    "    df = pd.DataFrame(np.ceil(data)).T\n",
    "    df.columns =[column]\n",
    "    return df\n",
    "def create_possion(num,mean,column):\n",
    "    \"\"\"4.生成服从泊松分布的特征的函数，mean为均值\"\"\"\n",
    "    import numpy as np\n",
    "    np.random.seed(22)\n",
    "    data = np.random.poisson(lam=mean,size = num)\n",
    "    df = pd.DataFrame(data,columns=[column])\n",
    "    plt.figure()\n",
    "    plt.hist(list(data))\n",
    "    plt.show()\n",
    "    return df\n",
    "# create_possion(mean=5.0,num=1000,column=\"notetimes\").head() #生成备注条数，平均5条\n",
    "# create_possion(mean=5.0,num=1000,column=\"call_times\").head() #生成电话跟进次数\n",
    "def create_gamma(shape,scale,num,column):\n",
    "    \"\"\"构造服从Gamma分布的特征的函数，\"\"\"\n",
    "    import numpy as np\n",
    "    import pandas as pd\n",
    "    np.random.seed(22)\n",
    "    data =np.ceil(np.random.gamma(shape=shape,scale=scale,size=num))\n",
    "    plt.figure()\n",
    "    sns.distplot(data)\n",
    "    plt.show()\n",
    "    df = pd.DataFrame(data,columns=[column])\n",
    "    return df\n",
    "# create_gamma(shape=500.0,scale=8,num=1000,column=\"call_seconds\").head(3) #通话时长\n",
    "def create_str(num,list_like,weights,column):\n",
    "    \"\"\"用于构造一个类别型/离散型特征的函数，num：样本个数,list_like：一个列表或者一维数组，weights为有回抽样的权重列表\"\"\"\n",
    "    import numpy as np\n",
    "    np.random.seed(22)\n",
    "    weights_sum = np.array(weights).sum()\n",
    "    if weights_sum != 1.0:\n",
    "        print(\"请确保输入的权重之和为1\")\n",
    "        return None\n",
    "    else:\n",
    "        Str = np.random.choice(list_like,size=num,replace=True,p=weights)\n",
    "        df = pd.DataFrame(Str,columns=[column])\n",
    "        return df\n",
    "# 利用faker生成数据\n",
    "fake = Faker(locale=\"zh_CN\")\n",
    "def create_name(num):\n",
    "    \"\"\"构造人名的函数，num为需要构造的数量，返回一个列表\"\"\"\n",
    "    random.seed(0)\n",
    "    name = []\n",
    "    for i in range(num):\n",
    "        name.append(fake.name())\n",
    "    userid = pd.DataFrame(name,columns=[\"客户名称\"])\n",
    "    return userid\n",
    "# create_name(10)\n",
    "def create_nan(num,column):\n",
    "    \"\"\"创建全是nan的数据框的函数\"\"\"\n",
    "    data = [np.NaN for i in range(num)]\n",
    "    df = pd.DataFrame(data=data,columns=[column])\n",
    "    return df\n",
    "def create_zeros(num,column):\n",
    "    \"\"\"创建全是０的数据框的函数\"\"\"\n",
    "    data = np.zeros((num,1))\n",
    "    df = pd.DataFrame(data = data,columns = [column])\n",
    "    return df"
   ]
  },
  {
   "cell_type": "markdown",
   "metadata": {},
   "source": [
    "# 3.构造数据"
   ]
  },
  {
   "cell_type": "code",
   "execution_count": 31,
   "metadata": {},
   "outputs": [],
   "source": [
    "num = 371527 #构造的商机个数"
   ]
  },
  {
   "cell_type": "code",
   "execution_count": 32,
   "metadata": {},
   "outputs": [],
   "source": [
    "business_id = pd.read_excel(\"二分类数据.xlsx\")\n",
    "business_id.head()\n",
    "business_id = business_id.reset_index()"
   ]
  },
  {
   "cell_type": "code",
   "execution_count": 56,
   "metadata": {},
   "outputs": [
    {
     "name": "stdout",
     "output_type": "stream",
     "text": [
      "371516\n"
     ]
    },
    {
     "data": {
      "text/plain": [
       "str"
      ]
     },
     "execution_count": 56,
     "metadata": {},
     "output_type": "execute_result"
    }
   ],
   "source": [
    "bus_id = [str(i) for i in business_id[\"table_id\"]]\n",
    "bus_id = list(set(bus_id))\n",
    "print(len(bus_id))\n",
    "type(bus_id[0])"
   ]
  },
  {
   "cell_type": "code",
   "execution_count": 57,
   "metadata": {},
   "outputs": [
    {
     "data": {
      "text/html": [
       "<div>\n",
       "<style scoped>\n",
       "    .dataframe tbody tr th:only-of-type {\n",
       "        vertical-align: middle;\n",
       "    }\n",
       "\n",
       "    .dataframe tbody tr th {\n",
       "        vertical-align: top;\n",
       "    }\n",
       "\n",
       "    .dataframe thead th {\n",
       "        text-align: right;\n",
       "    }\n",
       "</style>\n",
       "<table border=\"1\" class=\"dataframe\">\n",
       "  <thead>\n",
       "    <tr style=\"text-align: right;\">\n",
       "      <th></th>\n",
       "      <th>商机编号</th>\n",
       "    </tr>\n",
       "  </thead>\n",
       "  <tbody>\n",
       "    <tr>\n",
       "      <th>0</th>\n",
       "      <td>7773087564327821312</td>\n",
       "    </tr>\n",
       "    <tr>\n",
       "      <th>1</th>\n",
       "      <td>2509235</td>\n",
       "    </tr>\n",
       "    <tr>\n",
       "      <th>2</th>\n",
       "      <td>7761459146481999872</td>\n",
       "    </tr>\n",
       "    <tr>\n",
       "      <th>3</th>\n",
       "      <td>7688345355146375168</td>\n",
       "    </tr>\n",
       "    <tr>\n",
       "      <th>4</th>\n",
       "      <td>7724724297696288768</td>\n",
       "    </tr>\n",
       "  </tbody>\n",
       "</table>\n",
       "</div>"
      ],
      "text/plain": [
       "                  商机编号\n",
       "0  7773087564327821312\n",
       "1              2509235\n",
       "2  7761459146481999872\n",
       "3  7688345355146375168\n",
       "4  7724724297696288768"
      ]
     },
     "execution_count": 57,
     "metadata": {},
     "output_type": "execute_result"
    }
   ],
   "source": [
    "# 1.商机编号\n",
    "bus_id = pd.DataFrame(bus_id,columns = [\"商机编号\"])\n",
    "bus_id.head()"
   ]
  },
  {
   "cell_type": "code",
   "execution_count": 36,
   "metadata": {},
   "outputs": [
    {
     "data": {
      "image/png": "[encoded data removed]",
      "text/plain": [
       "<Figure size 432x288 with 1 Axes>"
      ]
     },
     "metadata": {},
     "output_type": "display_data"
    },
    {
     "name": "stdout",
     "output_type": "stream",
     "text": [
      "32036\n"
     ]
    },
    {
     "data": {
      "text/html": [
       "<div>\n",
       "<style scoped>\n",
       "    .dataframe tbody tr th:only-of-type {\n",
       "        vertical-align: middle;\n",
       "    }\n",
       "\n",
       "    .dataframe tbody tr th {\n",
       "        vertical-align: top;\n",
       "    }\n",
       "\n",
       "    .dataframe thead th {\n",
       "        text-align: right;\n",
       "    }\n",
       "</style>\n",
       "<table border=\"1\" class=\"dataframe\">\n",
       "  <thead>\n",
       "    <tr style=\"text-align: right;\">\n",
       "      <th></th>\n",
       "      <th>历史融资订单数量</th>\n",
       "    </tr>\n",
       "  </thead>\n",
       "  <tbody>\n",
       "    <tr>\n",
       "      <th>0</th>\n",
       "      <td>0</td>\n",
       "    </tr>\n",
       "    <tr>\n",
       "      <th>1</th>\n",
       "      <td>0</td>\n",
       "    </tr>\n",
       "    <tr>\n",
       "      <th>2</th>\n",
       "      <td>0</td>\n",
       "    </tr>\n",
       "    <tr>\n",
       "      <th>3</th>\n",
       "      <td>0</td>\n",
       "    </tr>\n",
       "    <tr>\n",
       "      <th>4</th>\n",
       "      <td>0</td>\n",
       "    </tr>\n",
       "  </tbody>\n",
       "</table>\n",
       "</div>"
      ],
      "text/plain": [
       "   历史融资订单数量\n",
       "0         0\n",
       "1         0\n",
       "2         0\n",
       "3         0\n",
       "4         0"
      ]
     },
     "execution_count": 36,
     "metadata": {},
     "output_type": "execute_result"
    }
   ],
   "source": [
    "# 2. 历史订单总数量\n",
    "order_quantity = create_possion(column=\"历史融资订单数量\",mean=0.09,num = num)\n",
    "print((order_quantity[\"历史融资订单数量\"] > 0).sum())\n",
    "order_quantity.head()"
   ]
  },
  {
   "cell_type": "code",
   "execution_count": 37,
   "metadata": {},
   "outputs": [
    {
     "data": {
      "image/png": "[encoded data removed]",
      "text/plain": [
       "<Figure size 432x288 with 1 Axes>"
      ]
     },
     "metadata": {},
     "output_type": "display_data"
    },
    {
     "data": {
      "text/html": [
       "<div>\n",
       "<style scoped>\n",
       "    .dataframe tbody tr th:only-of-type {\n",
       "        vertical-align: middle;\n",
       "    }\n",
       "\n",
       "    .dataframe tbody tr th {\n",
       "        vertical-align: top;\n",
       "    }\n",
       "\n",
       "    .dataframe thead th {\n",
       "        text-align: right;\n",
       "    }\n",
       "</style>\n",
       "<table border=\"1\" class=\"dataframe\">\n",
       "  <thead>\n",
       "    <tr style=\"text-align: right;\">\n",
       "      <th></th>\n",
       "      <th>历史融资订单数量</th>\n",
       "      <th>融资订单总金额</th>\n",
       "    </tr>\n",
       "  </thead>\n",
       "  <tbody>\n",
       "    <tr>\n",
       "      <th>0</th>\n",
       "      <td>0</td>\n",
       "      <td>0.0</td>\n",
       "    </tr>\n",
       "    <tr>\n",
       "      <th>1</th>\n",
       "      <td>0</td>\n",
       "      <td>0.0</td>\n",
       "    </tr>\n",
       "    <tr>\n",
       "      <th>2</th>\n",
       "      <td>0</td>\n",
       "      <td>0.0</td>\n",
       "    </tr>\n",
       "    <tr>\n",
       "      <th>3</th>\n",
       "      <td>0</td>\n",
       "      <td>0.0</td>\n",
       "    </tr>\n",
       "    <tr>\n",
       "      <th>4</th>\n",
       "      <td>0</td>\n",
       "      <td>0.0</td>\n",
       "    </tr>\n",
       "  </tbody>\n",
       "</table>\n",
       "</div>"
      ],
      "text/plain": [
       "   历史融资订单数量  融资订单总金额\n",
       "0         0      0.0\n",
       "1         0      0.0\n",
       "2         0      0.0\n",
       "3         0      0.0\n",
       "4         0      0.0"
      ]
     },
     "execution_count": 37,
     "metadata": {},
     "output_type": "execute_result"
    }
   ],
   "source": [
    "# 3. 订单总金额\n",
    "df1 = pd.concat([order_quantity,create_zeros(column=\"融资订单总金额\",num=50000)],axis = 1)\n",
    "num1 = len(df1.loc[df1[\"历史融资订单数量\"] > 0,:])\n",
    "df1.loc[df1[\"历史融资订单数量\"] > 0,\"融资订单总金额\"]  = create_possion(column=\"融资订单总金额\",mean=10,num=num1)\n",
    "df1.head()"
   ]
  },
  {
   "cell_type": "code",
   "execution_count": 38,
   "metadata": {},
   "outputs": [
    {
     "data": {
      "text/html": [
       "<div>\n",
       "<style scoped>\n",
       "    .dataframe tbody tr th:only-of-type {\n",
       "        vertical-align: middle;\n",
       "    }\n",
       "\n",
       "    .dataframe tbody tr th {\n",
       "        vertical-align: top;\n",
       "    }\n",
       "\n",
       "    .dataframe thead th {\n",
       "        text-align: right;\n",
       "    }\n",
       "</style>\n",
       "<table border=\"1\" class=\"dataframe\">\n",
       "  <thead>\n",
       "    <tr style=\"text-align: right;\">\n",
       "      <th></th>\n",
       "      <th>历史融资订单数量</th>\n",
       "      <th>是否办理过贷款</th>\n",
       "    </tr>\n",
       "  </thead>\n",
       "  <tbody>\n",
       "    <tr>\n",
       "      <th>0</th>\n",
       "      <td>0</td>\n",
       "      <td>否</td>\n",
       "    </tr>\n",
       "    <tr>\n",
       "      <th>1</th>\n",
       "      <td>0</td>\n",
       "      <td>否</td>\n",
       "    </tr>\n",
       "    <tr>\n",
       "      <th>2</th>\n",
       "      <td>0</td>\n",
       "      <td>否</td>\n",
       "    </tr>\n",
       "    <tr>\n",
       "      <th>3</th>\n",
       "      <td>0</td>\n",
       "      <td>否</td>\n",
       "    </tr>\n",
       "    <tr>\n",
       "      <th>4</th>\n",
       "      <td>0</td>\n",
       "      <td>否</td>\n",
       "    </tr>\n",
       "  </tbody>\n",
       "</table>\n",
       "</div>"
      ],
      "text/plain": [
       "   历史融资订单数量 是否办理过贷款\n",
       "0         0       否\n",
       "1         0       否\n",
       "2         0       否\n",
       "3         0       否\n",
       "4         0       否"
      ]
     },
     "execution_count": 38,
     "metadata": {},
     "output_type": "execute_result"
    }
   ],
   "source": [
    "# 4. 是否办理过贷款\n",
    "df2 = pd.concat([order_quantity,create_zeros(column=\"是否办理过贷款\",num=num)],axis = 1)\n",
    "num1 = len(df1.loc[df1[\"历史融资订单数量\"] > 0,:])\n",
    "df2.loc[df1[\"历史融资订单数量\"] > 0,\"是否办理过贷款\"]  = \"是\"\n",
    "df2.loc[df1[\"历史融资订单数量\"] == 0,\"是否办理过贷款\"]  = \"否\"\n",
    "df2.head()"
   ]
  },
  {
   "cell_type": "code",
   "execution_count": 39,
   "metadata": {},
   "outputs": [
    {
     "data": {
      "image/png": "[encoded data removed]",
      "text/plain": [
       "<Figure size 432x288 with 1 Axes>"
      ]
     },
     "metadata": {},
     "output_type": "display_data"
    },
    {
     "data": {
      "text/html": [
       "<div>\n",
       "<style scoped>\n",
       "    .dataframe tbody tr th:only-of-type {\n",
       "        vertical-align: middle;\n",
       "    }\n",
       "\n",
       "    .dataframe tbody tr th {\n",
       "        vertical-align: top;\n",
       "    }\n",
       "\n",
       "    .dataframe thead th {\n",
       "        text-align: right;\n",
       "    }\n",
       "</style>\n",
       "<table border=\"1\" class=\"dataframe\">\n",
       "  <thead>\n",
       "    <tr style=\"text-align: right;\">\n",
       "      <th></th>\n",
       "      <th>历史融资订单数量</th>\n",
       "      <th>最近一次贷款最今时长</th>\n",
       "    </tr>\n",
       "  </thead>\n",
       "  <tbody>\n",
       "    <tr>\n",
       "      <th>0</th>\n",
       "      <td>0</td>\n",
       "      <td>NaN</td>\n",
       "    </tr>\n",
       "    <tr>\n",
       "      <th>1</th>\n",
       "      <td>0</td>\n",
       "      <td>NaN</td>\n",
       "    </tr>\n",
       "    <tr>\n",
       "      <th>2</th>\n",
       "      <td>0</td>\n",
       "      <td>NaN</td>\n",
       "    </tr>\n",
       "    <tr>\n",
       "      <th>3</th>\n",
       "      <td>0</td>\n",
       "      <td>NaN</td>\n",
       "    </tr>\n",
       "    <tr>\n",
       "      <th>4</th>\n",
       "      <td>0</td>\n",
       "      <td>NaN</td>\n",
       "    </tr>\n",
       "  </tbody>\n",
       "</table>\n",
       "</div>"
      ],
      "text/plain": [
       "   历史融资订单数量  最近一次贷款最今时长\n",
       "0         0         NaN\n",
       "1         0         NaN\n",
       "2         0         NaN\n",
       "3         0         NaN\n",
       "4         0         NaN"
      ]
     },
     "execution_count": 39,
     "metadata": {},
     "output_type": "execute_result"
    }
   ],
   "source": [
    "# 5. 最近一次贷款距今时长\n",
    "df3 = pd.concat([order_quantity,create_nan(column=\"最近一次贷款最今时长\",num=num)],axis = 1)\n",
    "num1 = len(df1.loc[df1[\"历史融资订单数量\"] > 0,:])\n",
    "df3.loc[df1[\"历史融资订单数量\"] > 0,\"最近一次贷款最今时长\"]  = create_possion(column=\"最近一次贷款最今时长\",mean=6,num=num1)\n",
    "df3.head()"
   ]
  },
  {
   "cell_type": "code",
   "execution_count": 40,
   "metadata": {},
   "outputs": [
    {
     "data": {
      "image/png": "[encoded data removed]",
      "text/plain": [
       "<Figure size 432x288 with 1 Axes>"
      ]
     },
     "metadata": {},
     "output_type": "display_data"
    }
   ],
   "source": [
    "# 6. 历史咨询次数\n",
    "consult_frequency = create_possion(column=\"商机历史咨询次数\",mean=3,num=num)"
   ]
  },
  {
   "cell_type": "code",
   "execution_count": 41,
   "metadata": {},
   "outputs": [
    {
     "name": "stderr",
     "output_type": "stream",
     "text": [
      "/home/sundali/anaconda3/lib/python3.6/site-packages/matplotlib/axes/_axes.py:6462: UserWarning: The 'normed' kwarg is deprecated, and has been replaced by the 'density' kwarg.\n",
      "  warnings.warn(\"The 'normed' kwarg is deprecated, and has been \"\n"
     ]
    },
    {
     "data": {
      "image/png": "[encoded data removed]",
      "text/plain": [
       "<Figure size 432x288 with 1 Axes>"
      ]
     },
     "metadata": {},
     "output_type": "display_data"
    }
   ],
   "source": [
    "# 7. 商机历史平均通话时长\n",
    "avg_length_call = create_chisquare(column=\"商机历史平均通话时长\",freedom=90,num=num)"
   ]
  },
  {
   "cell_type": "code",
   "execution_count": 42,
   "metadata": {},
   "outputs": [
    {
     "data": {
      "text/plain": [
       "{1, 4, 5}"
      ]
     },
     "execution_count": 42,
     "metadata": {},
     "output_type": "execute_result"
    }
   ],
   "source": [
    "l1 = [1,2,3,4,5]\n",
    "l2 = [2,3]\n",
    "set(l1).difference(set(l2))"
   ]
  },
  {
   "cell_type": "code",
   "execution_count": 44,
   "metadata": {},
   "outputs": [
    {
     "name": "stderr",
     "output_type": "stream",
     "text": [
      "/home/sundali/anaconda3/lib/python3.6/site-packages/ipykernel_launcher.py:6: DeprecationWarning: \n",
      ".ix is deprecated. Please use\n",
      ".loc for label based indexing or\n",
      ".iloc for positional indexing\n",
      "\n",
      "See the documentation here:\n",
      "http://pandas.pydata.org/pandas-docs/stable/indexing.html#ix-indexer-is-deprecated\n",
      "  \n",
      "/home/sundali/anaconda3/lib/python3.6/site-packages/ipykernel_launcher.py:7: DeprecationWarning: \n",
      ".ix is deprecated. Please use\n",
      ".loc for label based indexing or\n",
      ".iloc for positional indexing\n",
      "\n",
      "See the documentation here:\n",
      "http://pandas.pydata.org/pandas-docs/stable/indexing.html#ix-indexer-is-deprecated\n",
      "  import sys\n"
     ]
    },
    {
     "data": {
      "text/html": [
       "<div>\n",
       "<style scoped>\n",
       "    .dataframe tbody tr th:only-of-type {\n",
       "        vertical-align: middle;\n",
       "    }\n",
       "\n",
       "    .dataframe tbody tr th {\n",
       "        vertical-align: top;\n",
       "    }\n",
       "\n",
       "    .dataframe thead th {\n",
       "        text-align: right;\n",
       "    }\n",
       "</style>\n",
       "<table border=\"1\" class=\"dataframe\">\n",
       "  <thead>\n",
       "    <tr style=\"text-align: right;\">\n",
       "      <th></th>\n",
       "      <th>是否添加商务微信</th>\n",
       "    </tr>\n",
       "  </thead>\n",
       "  <tbody>\n",
       "    <tr>\n",
       "      <th>0</th>\n",
       "      <td>NaN</td>\n",
       "    </tr>\n",
       "    <tr>\n",
       "      <th>1</th>\n",
       "      <td>是</td>\n",
       "    </tr>\n",
       "    <tr>\n",
       "      <th>2</th>\n",
       "      <td>NaN</td>\n",
       "    </tr>\n",
       "    <tr>\n",
       "      <th>3</th>\n",
       "      <td>是</td>\n",
       "    </tr>\n",
       "    <tr>\n",
       "      <th>4</th>\n",
       "      <td>否</td>\n",
       "    </tr>\n",
       "  </tbody>\n",
       "</table>\n",
       "</div>"
      ],
      "text/plain": [
       "  是否添加商务微信\n",
       "0      NaN\n",
       "1        是\n",
       "2      NaN\n",
       "3        是\n",
       "4        否"
      ]
     },
     "execution_count": 44,
     "metadata": {},
     "output_type": "execute_result"
    }
   ],
   "source": [
    "# 8. 是否添加商务微信\n",
    "import random\n",
    "add_wechat = create_nan(column=\"是否添加商务微信\",num=num)\n",
    "index1 = random.sample(population = list(add_wechat.index),k = int(num*0.4))\n",
    "index2 = random.sample(population = set(add_wechat.index).difference(set(index1)),k = int(num*0.4))\n",
    "add_wechat.ix[index1,\"是否添加商务微信\"] = \"是\"\n",
    "add_wechat.ix[index2,\"是否添加商务微信\"] = \"否\"\n",
    "add_wechat.head()"
   ]
  },
  {
   "cell_type": "code",
   "execution_count": 45,
   "metadata": {},
   "outputs": [
    {
     "data": {
      "image/png": "[encoded data removed]",
      "text/plain": [
       "<Figure size 432x288 with 1 Axes>"
      ]
     },
     "metadata": {},
     "output_type": "display_data"
    }
   ],
   "source": [
    "# 9. 商机与商务会面次数\n",
    "meeting_quantity = create_possion(column=\"商机与商务会面次数\",mean=1,num=num)"
   ]
  },
  {
   "cell_type": "code",
   "execution_count": 46,
   "metadata": {},
   "outputs": [
    {
     "name": "stderr",
     "output_type": "stream",
     "text": [
      "/home/sundali/anaconda3/lib/python3.6/site-packages/ipykernel_launcher.py:5: DeprecationWarning: \n",
      ".ix is deprecated. Please use\n",
      ".loc for label based indexing or\n",
      ".iloc for positional indexing\n",
      "\n",
      "See the documentation here:\n",
      "http://pandas.pydata.org/pandas-docs/stable/indexing.html#ix-indexer-is-deprecated\n",
      "  \"\"\"\n",
      "/home/sundali/anaconda3/lib/python3.6/site-packages/ipykernel_launcher.py:6: DeprecationWarning: \n",
      ".ix is deprecated. Please use\n",
      ".loc for label based indexing or\n",
      ".iloc for positional indexing\n",
      "\n",
      "See the documentation here:\n",
      "http://pandas.pydata.org/pandas-docs/stable/indexing.html#ix-indexer-is-deprecated\n",
      "  \n"
     ]
    },
    {
     "data": {
      "text/html": [
       "<div>\n",
       "<style scoped>\n",
       "    .dataframe tbody tr th:only-of-type {\n",
       "        vertical-align: middle;\n",
       "    }\n",
       "\n",
       "    .dataframe tbody tr th {\n",
       "        vertical-align: top;\n",
       "    }\n",
       "\n",
       "    .dataframe thead th {\n",
       "        text-align: right;\n",
       "    }\n",
       "</style>\n",
       "<table border=\"1\" class=\"dataframe\">\n",
       "  <thead>\n",
       "    <tr style=\"text-align: right;\">\n",
       "      <th></th>\n",
       "      <th>备注是否包含关键字</th>\n",
       "    </tr>\n",
       "  </thead>\n",
       "  <tbody>\n",
       "    <tr>\n",
       "      <th>0</th>\n",
       "      <td>否</td>\n",
       "    </tr>\n",
       "    <tr>\n",
       "      <th>1</th>\n",
       "      <td>否</td>\n",
       "    </tr>\n",
       "    <tr>\n",
       "      <th>2</th>\n",
       "      <td>NaN</td>\n",
       "    </tr>\n",
       "    <tr>\n",
       "      <th>3</th>\n",
       "      <td>否</td>\n",
       "    </tr>\n",
       "    <tr>\n",
       "      <th>4</th>\n",
       "      <td>否</td>\n",
       "    </tr>\n",
       "  </tbody>\n",
       "</table>\n",
       "</div>"
      ],
      "text/plain": [
       "  备注是否包含关键字\n",
       "0         否\n",
       "1         否\n",
       "2       NaN\n",
       "3         否\n",
       "4         否"
      ]
     },
     "execution_count": 46,
     "metadata": {},
     "output_type": "execute_result"
    }
   ],
   "source": [
    "# 10. 备注是否包含贷款或资金\n",
    "conclude_words = create_nan(column =\"备注是否包含关键字\",num=num)\n",
    "index3 = random.sample(population = list(conclude_words.index),k = int(num*0.4))\n",
    "index4 = random.sample(population = set(conclude_words.index).difference(set(index3)),k = int(num*0.58))\n",
    "conclude_words.ix[index３,\"备注是否包含关键字\"] = \"是\"\n",
    "conclude_words.ix[index４,\"备注是否包含关键字\"] = \"否\"\n",
    "conclude_words.head()"
   ]
  },
  {
   "cell_type": "code",
   "execution_count": 47,
   "metadata": {},
   "outputs": [
    {
     "data": {
      "image/png": "[encoded data removed]",
      "text/plain": [
       "<Figure size 432x288 with 1 Axes>"
      ]
     },
     "metadata": {},
     "output_type": "display_data"
    },
    {
     "data": {
      "text/html": [
       "<div>\n",
       "<style scoped>\n",
       "    .dataframe tbody tr th:only-of-type {\n",
       "        vertical-align: middle;\n",
       "    }\n",
       "\n",
       "    .dataframe tbody tr th {\n",
       "        vertical-align: top;\n",
       "    }\n",
       "\n",
       "    .dataframe thead th {\n",
       "        text-align: right;\n",
       "    }\n",
       "</style>\n",
       "<table border=\"1\" class=\"dataframe\">\n",
       "  <thead>\n",
       "    <tr style=\"text-align: right;\">\n",
       "      <th></th>\n",
       "      <th>10字以上备注条数</th>\n",
       "    </tr>\n",
       "  </thead>\n",
       "  <tbody>\n",
       "    <tr>\n",
       "      <th>0</th>\n",
       "      <td>0</td>\n",
       "    </tr>\n",
       "    <tr>\n",
       "      <th>1</th>\n",
       "      <td>1</td>\n",
       "    </tr>\n",
       "    <tr>\n",
       "      <th>2</th>\n",
       "      <td>1</td>\n",
       "    </tr>\n",
       "    <tr>\n",
       "      <th>3</th>\n",
       "      <td>0</td>\n",
       "    </tr>\n",
       "    <tr>\n",
       "      <th>4</th>\n",
       "      <td>0</td>\n",
       "    </tr>\n",
       "  </tbody>\n",
       "</table>\n",
       "</div>"
      ],
      "text/plain": [
       "   10字以上备注条数\n",
       "0          0\n",
       "1          1\n",
       "2          1\n",
       "3          0\n",
       "4          0"
      ]
     },
     "execution_count": 47,
     "metadata": {},
     "output_type": "execute_result"
    }
   ],
   "source": [
    "# 11. 商机10字以上备注条数\n",
    "ten_words = create_possion(column=\"10字以上备注条数\",mean=0.8,num=num)\n",
    "ten_words.head()"
   ]
  },
  {
   "cell_type": "code",
   "execution_count": 48,
   "metadata": {},
   "outputs": [
    {
     "data": {
      "image/png": "[encoded data removed]",
      "text/plain": [
       "<Figure size 432x288 with 1 Axes>"
      ]
     },
     "metadata": {},
     "output_type": "display_data"
    },
    {
     "data": {
      "text/html": [
       "<div>\n",
       "<style scoped>\n",
       "    .dataframe tbody tr th:only-of-type {\n",
       "        vertical-align: middle;\n",
       "    }\n",
       "\n",
       "    .dataframe tbody tr th {\n",
       "        vertical-align: top;\n",
       "    }\n",
       "\n",
       "    .dataframe thead th {\n",
       "        text-align: right;\n",
       "    }\n",
       "</style>\n",
       "<table border=\"1\" class=\"dataframe\">\n",
       "  <thead>\n",
       "    <tr style=\"text-align: right;\">\n",
       "      <th></th>\n",
       "      <th>商机被客户剔除次数</th>\n",
       "    </tr>\n",
       "  </thead>\n",
       "  <tbody>\n",
       "    <tr>\n",
       "      <th>0</th>\n",
       "      <td>0</td>\n",
       "    </tr>\n",
       "    <tr>\n",
       "      <th>1</th>\n",
       "      <td>0</td>\n",
       "    </tr>\n",
       "    <tr>\n",
       "      <th>2</th>\n",
       "      <td>0</td>\n",
       "    </tr>\n",
       "    <tr>\n",
       "      <th>3</th>\n",
       "      <td>1</td>\n",
       "    </tr>\n",
       "    <tr>\n",
       "      <th>4</th>\n",
       "      <td>0</td>\n",
       "    </tr>\n",
       "  </tbody>\n",
       "</table>\n",
       "</div>"
      ],
      "text/plain": [
       "   商机被客户剔除次数\n",
       "0          0\n",
       "1          0\n",
       "2          0\n",
       "3          1\n",
       "4          0"
      ]
     },
     "execution_count": 48,
     "metadata": {},
     "output_type": "execute_result"
    }
   ],
   "source": [
    "# 12. 商机被客户剔除次数\n",
    "eliminated_quantity = create_possion(column=\"商机被客户剔除次数\",mean=0.4,num=num)\n",
    "eliminated_quantity.head()"
   ]
  },
  {
   "cell_type": "code",
   "execution_count": 49,
   "metadata": {},
   "outputs": [
    {
     "data": {
      "image/png": "[encoded data removed]",
      "text/plain": [
       "<Figure size 432x288 with 1 Axes>"
      ]
     },
     "metadata": {},
     "output_type": "display_data"
    },
    {
     "name": "stderr",
     "output_type": "stream",
     "text": [
      "/home/sundali/anaconda3/lib/python3.6/site-packages/ipykernel_launcher.py:4: DeprecationWarning: \n",
      ".ix is deprecated. Please use\n",
      ".loc for label based indexing or\n",
      ".iloc for positional indexing\n",
      "\n",
      "See the documentation here:\n",
      "http://pandas.pydata.org/pandas-docs/stable/indexing.html#ix-indexer-is-deprecated\n",
      "  after removing the cwd from sys.path.\n"
     ]
    },
    {
     "data": {
      "text/html": [
       "<div>\n",
       "<style scoped>\n",
       "    .dataframe tbody tr th:only-of-type {\n",
       "        vertical-align: middle;\n",
       "    }\n",
       "\n",
       "    .dataframe tbody tr th {\n",
       "        vertical-align: top;\n",
       "    }\n",
       "\n",
       "    .dataframe thead th {\n",
       "        text-align: right;\n",
       "    }\n",
       "</style>\n",
       "<table border=\"1\" class=\"dataframe\">\n",
       "  <thead>\n",
       "    <tr style=\"text-align: right;\">\n",
       "      <th></th>\n",
       "      <th>客户投诉公司次数</th>\n",
       "    </tr>\n",
       "  </thead>\n",
       "  <tbody>\n",
       "    <tr>\n",
       "      <th>0</th>\n",
       "      <td>0.0</td>\n",
       "    </tr>\n",
       "    <tr>\n",
       "      <th>1</th>\n",
       "      <td>NaN</td>\n",
       "    </tr>\n",
       "    <tr>\n",
       "      <th>2</th>\n",
       "      <td>NaN</td>\n",
       "    </tr>\n",
       "    <tr>\n",
       "      <th>3</th>\n",
       "      <td>NaN</td>\n",
       "    </tr>\n",
       "    <tr>\n",
       "      <th>4</th>\n",
       "      <td>0.0</td>\n",
       "    </tr>\n",
       "  </tbody>\n",
       "</table>\n",
       "</div>"
      ],
      "text/plain": [
       "   客户投诉公司次数\n",
       "0       0.0\n",
       "1       NaN\n",
       "2       NaN\n",
       "3       NaN\n",
       "4       0.0"
      ]
     },
     "execution_count": 49,
     "metadata": {},
     "output_type": "execute_result"
    }
   ],
   "source": [
    "# 1３.　客户投诉公司次数\n",
    "complaint_times = create_nan(column =\"客户投诉公司次数\",num=num)\n",
    "index5 = random.sample(population = list(complaint_times.index),k = int(num*0.6))\n",
    "complaint_times.ix[index5,:] = create_possion(column=\"客户投诉公司次数\",mean=0.1,num = len(index5))\n",
    "complaint_times.head()"
   ]
  },
  {
   "cell_type": "code",
   "execution_count": 58,
   "metadata": {},
   "outputs": [
    {
     "data": {
      "text/html": [
       "<div>\n",
       "<style scoped>\n",
       "    .dataframe tbody tr th:only-of-type {\n",
       "        vertical-align: middle;\n",
       "    }\n",
       "\n",
       "    .dataframe tbody tr th {\n",
       "        vertical-align: top;\n",
       "    }\n",
       "\n",
       "    .dataframe thead th {\n",
       "        text-align: right;\n",
       "    }\n",
       "</style>\n",
       "<table border=\"1\" class=\"dataframe\">\n",
       "  <thead>\n",
       "    <tr style=\"text-align: right;\">\n",
       "      <th></th>\n",
       "      <th>商机编号</th>\n",
       "      <th>历史融资订单数量</th>\n",
       "      <th>融资订单总金额</th>\n",
       "      <th>是否办理过贷款</th>\n",
       "      <th>最近一次贷款最今时长</th>\n",
       "      <th>商机历史咨询次数</th>\n",
       "      <th>商机历史平均通话时长</th>\n",
       "      <th>是否添加商务微信</th>\n",
       "      <th>商机与商务会面次数</th>\n",
       "      <th>备注是否包含关键字</th>\n",
       "      <th>10字以上备注条数</th>\n",
       "      <th>商机被客户剔除次数</th>\n",
       "      <th>客户投诉公司次数</th>\n",
       "    </tr>\n",
       "  </thead>\n",
       "  <tbody>\n",
       "    <tr>\n",
       "      <th>0</th>\n",
       "      <td>7773087564327821312</td>\n",
       "      <td>0</td>\n",
       "      <td>0.0</td>\n",
       "      <td>否</td>\n",
       "      <td>NaN</td>\n",
       "      <td>2</td>\n",
       "      <td>89.0</td>\n",
       "      <td>NaN</td>\n",
       "      <td>0</td>\n",
       "      <td>否</td>\n",
       "      <td>0</td>\n",
       "      <td>0</td>\n",
       "      <td>0.0</td>\n",
       "    </tr>\n",
       "    <tr>\n",
       "      <th>1</th>\n",
       "      <td>2509235</td>\n",
       "      <td>0</td>\n",
       "      <td>0.0</td>\n",
       "      <td>否</td>\n",
       "      <td>NaN</td>\n",
       "      <td>3</td>\n",
       "      <td>72.0</td>\n",
       "      <td>是</td>\n",
       "      <td>1</td>\n",
       "      <td>否</td>\n",
       "      <td>1</td>\n",
       "      <td>0</td>\n",
       "      <td>NaN</td>\n",
       "    </tr>\n",
       "    <tr>\n",
       "      <th>2</th>\n",
       "      <td>7761459146481999872</td>\n",
       "      <td>0</td>\n",
       "      <td>0.0</td>\n",
       "      <td>否</td>\n",
       "      <td>NaN</td>\n",
       "      <td>3</td>\n",
       "      <td>83.0</td>\n",
       "      <td>NaN</td>\n",
       "      <td>1</td>\n",
       "      <td>NaN</td>\n",
       "      <td>1</td>\n",
       "      <td>0</td>\n",
       "      <td>NaN</td>\n",
       "    </tr>\n",
       "    <tr>\n",
       "      <th>3</th>\n",
       "      <td>7688345355146375168</td>\n",
       "      <td>0</td>\n",
       "      <td>0.0</td>\n",
       "      <td>否</td>\n",
       "      <td>NaN</td>\n",
       "      <td>4</td>\n",
       "      <td>77.0</td>\n",
       "      <td>是</td>\n",
       "      <td>0</td>\n",
       "      <td>否</td>\n",
       "      <td>0</td>\n",
       "      <td>1</td>\n",
       "      <td>NaN</td>\n",
       "    </tr>\n",
       "    <tr>\n",
       "      <th>4</th>\n",
       "      <td>7724724297696288768</td>\n",
       "      <td>0</td>\n",
       "      <td>0.0</td>\n",
       "      <td>否</td>\n",
       "      <td>NaN</td>\n",
       "      <td>6</td>\n",
       "      <td>98.0</td>\n",
       "      <td>否</td>\n",
       "      <td>0</td>\n",
       "      <td>否</td>\n",
       "      <td>0</td>\n",
       "      <td>0</td>\n",
       "      <td>0.0</td>\n",
       "    </tr>\n",
       "  </tbody>\n",
       "</table>\n",
       "</div>"
      ],
      "text/plain": [
       "                  商机编号  历史融资订单数量  融资订单总金额 是否办理过贷款  最近一次贷款最今时长  商机历史咨询次数  \\\n",
       "0  7773087564327821312         0      0.0       否         NaN         2   \n",
       "1              2509235         0      0.0       否         NaN         3   \n",
       "2  7761459146481999872         0      0.0       否         NaN         3   \n",
       "3  7688345355146375168         0      0.0       否         NaN         4   \n",
       "4  7724724297696288768         0      0.0       否         NaN         6   \n",
       "\n",
       "   商机历史平均通话时长 是否添加商务微信  商机与商务会面次数 备注是否包含关键字  10字以上备注条数  商机被客户剔除次数  客户投诉公司次数  \n",
       "0        89.0      NaN          0         否          0          0       0.0  \n",
       "1        72.0        是          1         否          1          0       NaN  \n",
       "2        83.0      NaN          1       NaN          1          0       NaN  \n",
       "3        77.0        是          0         否          0          1       NaN  \n",
       "4        98.0        否          0         否          0          0       0.0  "
      ]
     },
     "execution_count": 58,
     "metadata": {},
     "output_type": "execute_result"
    }
   ],
   "source": [
    "data = pd.concat([bus_id,order_quantity,df1[\"融资订单总金额\"],df2[\"是否办理过贷款\"],\n",
    "                 df3[\"最近一次贷款最今时长\"],consult_frequency,avg_length_call,add_wechat,\n",
    "                 meeting_quantity,conclude_words,ten_words,eliminated_quantity,complaint_times],axis = 1)\n",
    "data.head()"
   ]
  },
  {
   "cell_type": "code",
   "execution_count": 59,
   "metadata": {},
   "outputs": [],
   "source": [
    "data.to_csv(\"business_12.csv\",index=False,encoding=\"utf_8_sig\",sep=\",\")"
   ]
  },
  {
   "cell_type": "code",
   "execution_count": null,
   "metadata": {},
   "outputs": [],
   "source": []
  },
  {
   "cell_type": "code",
   "execution_count": null,
   "metadata": {},
   "outputs": [],
   "source": []
  },
  {
   "cell_type": "code",
   "execution_count": null,
   "metadata": {},
   "outputs": [],
   "source": []
  }
 ],
 "metadata": {
  "kernelspec": {
   "display_name": "Python 3",
   "language": "python",
   "name": "python3"
  },
  "language_info": {
   "codemirror_mode": {
    "name": "ipython",
    "version": 3
   },
   "file_extension": ".py",
   "mimetype": "text/x-python",
   "name": "python",
   "nbconvert_exporter": "python",
   "pygments_lexer": "ipython3",
   "version": "3.6.5"
  },
  "toc": {
   "base_numbering": 1,
   "nav_menu": {},
   "number_sections": true,
   "sideBar": true,
   "skip_h1_title": false,
   "title_cell": "Table of Contents",
   "title_sidebar": "Contents",
   "toc_cell": false,
   "toc_position": {},
   "toc_section_display": true,
   "toc_window_display": false
  }
 },
 "nbformat": 4,
 "nbformat_minor": 2
}
