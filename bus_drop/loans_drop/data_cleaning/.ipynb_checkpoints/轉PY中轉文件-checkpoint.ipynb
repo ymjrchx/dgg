{
 "cells": [
  {
   "cell_type": "code",
   "execution_count": 2,
   "metadata": {},
   "outputs": [],
   "source": []
  },
  {
   "cell_type": "code",
   "execution_count": 3,
   "metadata": {},
   "outputs": [
    {
     "name": "stderr",
     "output_type": "stream",
     "text": [
      "/Users/sundali/anaconda3/lib/python3.7/site-packages/IPython/core/interactiveshell.py:3049: DtypeWarning: Columns (8,10,12,13,14,15,16,19,21,22,23,24,25,29) have mixed types. Specify dtype option on import or set low_memory=False.\n",
      "  interactivity=interactivity, compiler=compiler, result=result)\n"
     ]
    }
   ],
   "source": [
    "bus_data = pd.read_csv('business_df.csv')\n",
    "total_data = pd.read_csv(\"total_data20190704.csv\")\n",
    "user_data = pd.read_csv(\"employee_df.csv\")"
   ]
  },
  {
   "cell_type": "markdown",
   "metadata": {},
   "source": [
    "# 1. 初步数据清洗"
   ]
  },
  {
   "cell_type": "markdown",
   "metadata": {},
   "source": [
    "## 1.1 替换成中文值"
   ]
  },
  {
   "cell_type": "markdown",
   "metadata": {},
   "source": [
    "### 1.1.1. 提取数据字典"
   ]
  },
  {
   "cell_type": "code",
   "execution_count": null,
   "metadata": {},
   "outputs": [],
   "source": [
    "import numpy as np\n",
    "import pandas as pd\n",
    "import json\n",
    "import re\n",
    "import matplotlib.pyplot as plt\n",
    "%matplotlib inline\n",
    "import seaborn as sns\n",
    "import missingno as msn\n",
    "from datetime import *\n",
    "today = date.today().strftime('%Y%m%d')\n",
    "import os\n",
    "\n",
    "doc_path = os.environ['PUSHPATH'] + '/doc/'\n",
    "#显示所有列 \n",
    "pd.set_option('display.max_columns', None) \n",
    "#显示所有行 \n",
    "pd.set_option('display.max_rows', None) \n",
    "#设置value的显示长度为100，默认为50 \n",
    "pd.set_option('max_colwidth',100) "
   ]
  },
  {
   "cell_type": "code",
   "execution_count": 4,
   "metadata": {},
   "outputs": [],
   "source": [
    "data_dict = pd.read_excel(\"/Users/sundali/Desktop/数据字典.xlsx\")"
   ]
  },
  {
   "cell_type": "code",
   "execution_count": 5,
   "metadata": {},
   "outputs": [],
   "source": [
    "def cat_replace(data,var,data_dict):\n",
    "    \"\"\"根据数据字典data_dict将字段中的字母编码的值替换成中文解释\n",
    "    :param data:df\n",
    "    :param var:变量名\n",
    "    :param data_dict:所有的数据字典的df，包含所有值得解释\n",
    "    :return 返回一个dict\n",
    "    \"\"\"\n",
    "    unique_values = data.loc[data[var].notnull(),var].unique()\n",
    "    dic = {}\n",
    "    for value in unique_values:\n",
    "        try:\n",
    "            dic[value] = data_dict.loc[data_dict[\"code\"] == value,\"name\"].to_list()[0]\n",
    "        except:\n",
    "            dic[value] = \"未知\"\n",
    "    return dic"
   ]
  },
  {
   "cell_type": "code",
   "execution_count": 6,
   "metadata": {},
   "outputs": [
    {
     "data": {
      "text/plain": [
       "{'BUS_901': '返无效', 'BUS_902': '防骚扰', 'BUS_903': '驳回返无效'}"
      ]
     },
     "execution_count": 6,
     "metadata": {},
     "output_type": "execute_result"
    }
   ],
   "source": [
    "cat_replace(total_data,\"remarkType\",data_dict)"
   ]
  },
  {
   "cell_type": "markdown",
   "metadata": {},
   "source": [
    "### 1.1.2. 提取离散型特征"
   ]
  },
  {
   "cell_type": "code",
   "execution_count": 7,
   "metadata": {},
   "outputs": [
    {
     "data": {
      "text/html": [
       "<div>\n",
       "<style scoped>\n",
       "    .dataframe tbody tr th:only-of-type {\n",
       "        vertical-align: middle;\n",
       "    }\n",
       "\n",
       "    .dataframe tbody tr th {\n",
       "        vertical-align: top;\n",
       "    }\n",
       "\n",
       "    .dataframe thead th {\n",
       "        text-align: right;\n",
       "    }\n",
       "</style>\n",
       "<table border=\"1\" class=\"dataframe\">\n",
       "  <thead>\n",
       "    <tr style=\"text-align: right;\">\n",
       "      <th></th>\n",
       "      <th>对象</th>\n",
       "      <th>数据表</th>\n",
       "      <th>字段名称</th>\n",
       "      <th>数据类型</th>\n",
       "      <th>字段解释</th>\n",
       "      <th>字段说明</th>\n",
       "      <th>列1</th>\n",
       "      <th>null_rate</th>\n",
       "    </tr>\n",
       "  </thead>\n",
       "  <tbody>\n",
       "    <tr>\n",
       "      <th>0</th>\n",
       "      <td>商务</td>\n",
       "      <td>commerce_interfix</td>\n",
       "      <td>behaviorScore</td>\n",
       "      <td>连续型</td>\n",
       "      <td>绩效分</td>\n",
       "      <td>NaN</td>\n",
       "      <td>NaN</td>\n",
       "      <td>0.0</td>\n",
       "    </tr>\n",
       "  </tbody>\n",
       "</table>\n",
       "</div>"
      ],
      "text/plain": [
       "   对象                数据表           字段名称 数据类型 字段解释 字段说明   列1  null_rate\n",
       "0  商务  commerce_interfix  behaviorScore  连续型  绩效分  NaN  NaN        0.0"
      ]
     },
     "execution_count": 7,
     "metadata": {},
     "output_type": "execute_result"
    }
   ],
   "source": [
    "types = pd.read_excel(\"/Users/sundali/Desktop/数据类型.xlsx\")\n",
    "types.head(1)"
   ]
  },
  {
   "cell_type": "code",
   "execution_count": 8,
   "metadata": {},
   "outputs": [
    {
     "data": {
      "text/plain": [
       "['customer_id',\n",
       " 'login_name',\n",
       " 'locked',\n",
       " 'rank',\n",
       " 'sex',\n",
       " 'businessStatus',\n",
       " 'businessOperate',\n",
       " 'businessLocation',\n",
       " 'opportunitytypeCode',\n",
       " 'addTypeCode',\n",
       " 'originCode',\n",
       " 'wayCode',\n",
       " 'originType',\n",
       " 'placeCode',\n",
       " 'vip',\n",
       " 'uploadType',\n",
       " 'isMind',\n",
       " 'referral',\n",
       " 'widelyType',\n",
       " 'isCost',\n",
       " 'lastLoseType',\n",
       " 'refundOrderSign',\n",
       " 'businessStage',\n",
       " 'remarkType',\n",
       " 'extensionCode']"
      ]
     },
     "execution_count": 8,
     "metadata": {},
     "output_type": "execute_result"
    }
   ],
   "source": [
    "data_cat_cols = types.loc[types.数据类型 ==\"离散型\",\"字段名称\"].to_list()\n",
    "data_cat_cols"
   ]
  },
  {
   "cell_type": "markdown",
   "metadata": {},
   "source": [
    "### 1.1.3 进行值替换"
   ]
  },
  {
   "cell_type": "code",
   "execution_count": 9,
   "metadata": {},
   "outputs": [
    {
     "data": {
      "text/plain": [
       "0    0.0\n",
       "1    0.0\n",
       "2    0.0\n",
       "3    1.0\n",
       "4    0.0\n",
       "Name: refundOrderSign, dtype: float64"
      ]
     },
     "execution_count": 9,
     "metadata": {},
     "output_type": "execute_result"
    }
   ],
   "source": [
    "total_data['refundOrderSign'].head()"
   ]
  },
  {
   "cell_type": "code",
   "execution_count": 10,
   "metadata": {},
   "outputs": [
    {
     "name": "stdout",
     "output_type": "stream",
     "text": [
      "变量businessStatus值替换完成\n",
      "变量businessOperate值替换完成\n",
      "变量businessLocation值替换完成\n",
      "变量opportunitytypeCode值替换完成\n",
      "变量addTypeCode值替换完成\n",
      "变量originCode值替换完成\n",
      "变量wayCode值替换完成\n",
      "变量originType值替换完成\n",
      "变量placeCode值替换完成\n",
      "变量isCost值替换完成\n",
      "变量lastLoseType值替换完成\n",
      "变量businessStage值替换完成\n",
      "变量remarkType值替换完成\n",
      "变量extensionCode值替换完成\n",
      "第0个数据框的变量值替换完成\n",
      "**********\n",
      "变量businessStatus值替换完成\n",
      "变量businessOperate值替换完成\n",
      "变量businessLocation值替换完成\n",
      "变量opportunitytypeCode值替换完成\n",
      "变量addTypeCode值替换完成\n",
      "变量originCode值替换完成\n",
      "变量wayCode值替换完成\n",
      "变量originType值替换完成\n",
      "变量placeCode值替换完成\n",
      "变量isCost值替换完成\n",
      "变量lastLoseType值替换完成\n",
      "变量businessStage值替换完成\n",
      "变量remarkType值替换完成\n",
      "变量extensionCode值替换完成\n",
      "第1个数据框的变量值替换完成\n",
      "**********\n"
     ]
    }
   ],
   "source": [
    "combine = [total_data,bus_data]\n",
    "i = 0\n",
    "for dataset in combine:\n",
    "    cols = ['businessStatus','businessOperate','businessLocation','opportunitytypeCode',\n",
    "          'addTypeCode','originCode','wayCode','originType','placeCode','isCost','lastLoseType',\n",
    "            'businessStage','remarkType','extensionCode']\n",
    "    for col in cols:\n",
    "        dic = cat_replace(dataset,col,data_dict)\n",
    "        dataset[col] = dataset[col].replace(dic)\n",
    "        print(\"变量%s值替换完成\"%col)\n",
    "    print(\"第%s个数据框的变量值替换完成\"%i)\n",
    "    print(\"*\"*10)\n",
    "    i += 1"
   ]
  },
  {
   "cell_type": "markdown",
   "metadata": {},
   "source": [
    "## 1.2 构造label"
   ]
  },
  {
   "cell_type": "code",
   "execution_count": 11,
   "metadata": {},
   "outputs": [],
   "source": [
    "total_data['label'] = total_data['product_amount'].notnull()*1"
   ]
  },
  {
   "cell_type": "markdown",
   "metadata": {},
   "source": [
    "# 2. 描述性分析"
   ]
  },
  {
   "cell_type": "markdown",
   "metadata": {},
   "source": [
    "## 2.1 有哪些特征"
   ]
  },
  {
   "cell_type": "markdown",
   "metadata": {},
   "source": [
    "1. 提取变量类型"
   ]
  },
  {
   "cell_type": "code",
   "execution_count": 12,
   "metadata": {},
   "outputs": [
    {
     "data": {
      "text/html": [
       "<div>\n",
       "<style scoped>\n",
       "    .dataframe tbody tr th:only-of-type {\n",
       "        vertical-align: middle;\n",
       "    }\n",
       "\n",
       "    .dataframe tbody tr th {\n",
       "        vertical-align: top;\n",
       "    }\n",
       "\n",
       "    .dataframe thead th {\n",
       "        text-align: right;\n",
       "    }\n",
       "</style>\n",
       "<table border=\"1\" class=\"dataframe\">\n",
       "  <thead>\n",
       "    <tr style=\"text-align: right;\">\n",
       "      <th></th>\n",
       "      <th>对象</th>\n",
       "      <th>数据表</th>\n",
       "      <th>字段名称</th>\n",
       "      <th>数据类型</th>\n",
       "      <th>字段解释</th>\n",
       "      <th>字段说明</th>\n",
       "      <th>列1</th>\n",
       "      <th>null_rate</th>\n",
       "    </tr>\n",
       "  </thead>\n",
       "  <tbody>\n",
       "    <tr>\n",
       "      <th>0</th>\n",
       "      <td>商务</td>\n",
       "      <td>commerce_interfix</td>\n",
       "      <td>behaviorScore</td>\n",
       "      <td>连续型</td>\n",
       "      <td>绩效分</td>\n",
       "      <td>NaN</td>\n",
       "      <td>NaN</td>\n",
       "      <td>0.0</td>\n",
       "    </tr>\n",
       "  </tbody>\n",
       "</table>\n",
       "</div>"
      ],
      "text/plain": [
       "   对象                数据表           字段名称 数据类型 字段解释 字段说明   列1  null_rate\n",
       "0  商务  commerce_interfix  behaviorScore  连续型  绩效分  NaN  NaN        0.0"
      ]
     },
     "execution_count": 12,
     "metadata": {},
     "output_type": "execute_result"
    }
   ],
   "source": [
    "# types = pd.read_excel(\"/Users/sundali/Desktop/数据类型-新增缺失率.xlsx\")\n",
    "types.head(1)"
   ]
  },
  {
   "cell_type": "code",
   "execution_count": 13,
   "metadata": {},
   "outputs": [
    {
     "data": {
      "text/plain": [
       "连续型    51\n",
       "离散型    25\n",
       "Name: 数据类型, dtype: int64"
      ]
     },
     "execution_count": 13,
     "metadata": {},
     "output_type": "execute_result"
    }
   ],
   "source": [
    "types[\"数据类型\"].value_counts()"
   ]
  },
  {
   "cell_type": "markdown",
   "metadata": {},
   "source": [
    "2. 所有特征"
   ]
  },
  {
   "cell_type": "code",
   "execution_count": 14,
   "metadata": {},
   "outputs": [
    {
     "name": "stdout",
     "output_type": "stream",
     "text": [
      "(255629, 78)\n"
     ]
    },
    {
     "data": {
      "text/plain": [
       "Index(['call_duration', 'customer_id', 'follow_days', 'login_name',\n",
       "       'product_amount', 'salary_score', 'avgAddWechatFriendCount',\n",
       "       'avgCallCount', 'avgIntentCustomerCount', 'avgRemarkWords',\n",
       "       'avgSignBillDays', 'avgToDoorCount', 'avgWorkHour', 'behaviorScore',\n",
       "       'loanRate', 'performanceRank', 'signBillCount', 'signBillRate',\n",
       "       'toDoorRate', 'age', 'locked', 'post', 'rank', 'sex', 'work_age',\n",
       "       'average_performance_amount', 'average_profit_amount',\n",
       "       'average_internal_cost', 'average_external_cost',\n",
       "       'average_payment_amount', 'average_business_amount',\n",
       "       'average_cost_price', 'average_CALL_0940_1040',\n",
       "       'average_CALL_1100_1200', 'average_CALL_1400_1500',\n",
       "       'average_CALL_1520_1620', 'average_achievement', 'average_profit',\n",
       "       'average_internal_cost_orf', 'average_external_cost_orf',\n",
       "       'average_assist_achievement', 'average_assist_profit', 'orderAmount',\n",
       "       'meetingCount', 'orderCount', 'tccs', 'flagContent', 'flagRemark',\n",
       "       'mon', 'remarkType', 'times', 'addTypeCode', 'allotNumber',\n",
       "       'businessLocation', 'businessOperate', 'businessStage',\n",
       "       'businessStatus', 'extensionCode', 'followTimes', 'invalidNumber',\n",
       "       'isCost', 'isMind', 'lastLoseType', 'opportunitytypeCode', 'originCode',\n",
       "       'originType', 'placeCode', 'referral', 'uploadType', 'vip', 'wayCode',\n",
       "       'widelyType', 'coverCharge', 'refundOrderSign', 'signOderNum',\n",
       "       'callTimes', 'avgCallDuration', 'label'],\n",
       "      dtype='object')"
      ]
     },
     "execution_count": 14,
     "metadata": {},
     "output_type": "execute_result"
    }
   ],
   "source": [
    "print(total_data.shape)\n",
    "total_data.columns"
   ]
  },
  {
   "cell_type": "markdown",
   "metadata": {},
   "source": [
    "## 2.2 提取离散型特征"
   ]
  },
  {
   "cell_type": "code",
   "execution_count": 15,
   "metadata": {},
   "outputs": [
    {
     "name": "stdout",
     "output_type": "stream",
     "text": [
      "25\n"
     ]
    },
    {
     "data": {
      "text/plain": [
       "['customer_id',\n",
       " 'login_name',\n",
       " 'locked',\n",
       " 'rank',\n",
       " 'sex',\n",
       " 'businessStatus',\n",
       " 'businessOperate',\n",
       " 'businessLocation',\n",
       " 'opportunitytypeCode',\n",
       " 'addTypeCode',\n",
       " 'originCode',\n",
       " 'wayCode',\n",
       " 'originType',\n",
       " 'placeCode',\n",
       " 'vip',\n",
       " 'uploadType',\n",
       " 'isMind',\n",
       " 'referral',\n",
       " 'widelyType',\n",
       " 'isCost',\n",
       " 'lastLoseType',\n",
       " 'refundOrderSign',\n",
       " 'businessStage',\n",
       " 'remarkType',\n",
       " 'extensionCode']"
      ]
     },
     "execution_count": 15,
     "metadata": {},
     "output_type": "execute_result"
    }
   ],
   "source": [
    "# data_cat_cols = types.loc[types.数据类型 ==\"离散型\",\"字段名称\"].to_list()\n",
    "print(len(data_cat_cols))\n",
    "data_cat_cols"
   ]
  },
  {
   "cell_type": "markdown",
   "metadata": {},
   "source": [
    "## 2.3 提取连续型特征"
   ]
  },
  {
   "cell_type": "code",
   "execution_count": 16,
   "metadata": {},
   "outputs": [
    {
     "name": "stdout",
     "output_type": "stream",
     "text": [
      "连续型特征有51个\n"
     ]
    }
   ],
   "source": [
    "data_con_cols = types.loc[types.数据类型 ==\"连续型\",\"字段名称\"].to_list()\n",
    "print(\"连续型特征有%s个\"%len(data_con_cols))\n",
    "# data_con_cols"
   ]
  },
  {
   "cell_type": "markdown",
   "metadata": {},
   "source": [
    "## 2.4 提取混合类型特征---可能含有不同类型的字段,也可能含缺失值"
   ]
  },
  {
   "cell_type": "code",
   "execution_count": 17,
   "metadata": {},
   "outputs": [
    {
     "name": "stdout",
     "output_type": "stream",
     "text": [
      "混合类型的特征有16个\n"
     ]
    },
    {
     "data": {
      "text/plain": [
       "['post',\n",
       " 'rank',\n",
       " 'remarkType',\n",
       " 'addTypeCode',\n",
       " 'businessLocation',\n",
       " 'businessOperate',\n",
       " 'businessStage',\n",
       " 'businessStatus',\n",
       " 'extensionCode',\n",
       " 'isCost',\n",
       " 'lastLoseType',\n",
       " 'opportunitytypeCode',\n",
       " 'originCode',\n",
       " 'originType',\n",
       " 'placeCode',\n",
       " 'wayCode']"
      ]
     },
     "execution_count": 17,
     "metadata": {},
     "output_type": "execute_result"
    }
   ],
   "source": [
    "dtypes = total_data.dtypes.reset_index()\n",
    "dtypes.columns =[\"feature\",\"dtype\"]\n",
    "object_cols = dtypes.loc[dtypes.dtype == \"object\",\"feature\"].to_list()\n",
    "print(\"混合类型的特征有%s个\"%len(object_cols))\n",
    "object_cols"
   ]
  },
  {
   "cell_type": "markdown",
   "metadata": {},
   "source": [
    "## 2.5 提取含缺失值的特征"
   ]
  },
  {
   "cell_type": "code",
   "execution_count": 18,
   "metadata": {},
   "outputs": [],
   "source": [
    "def null_statistic(data,threshold=0):\n",
    "    \"\"\"得到每列缺失值比例的数据框，并得到缺失率大于阈值的特征\"\"\"\n",
    "    \n",
    "    # 1. 得到缺失值数据框   \n",
    "#     null_rate = pd.DataFrame(1-data.count()/data.shape[0]).reset_index()\n",
    "    null_rate = pd.DataFrame(data.isnull().mean()).reset_index()\n",
    "    null_rate.columns = [\"feature_name\",\"null_rate\"]\n",
    "    null_rate = null_rate.sort_values(by=\"null_rate\",ascending=False)\n",
    "    \n",
    "    # 2. 过滤缺失率大于阈值的特征\n",
    "    feature_list = null_rate.loc[null_rate[\"null_rate\"] > threshold,\"feature_name\"].to_list()    \n",
    "    print(\"１．含有缺失值的变量的个数为\",(null_rate[\"null_rate\"] > 0).sum())\n",
    "    print(\"2. 完全缺失的变量个数为\",(null_rate[\"null_rate\"] == 1).sum())\n",
    "    print(\"3. 缺失率大于%s的特征有%s个\"%(threshold,len(feature_list)))\n",
    "    return null_rate,feature_list"
   ]
  },
  {
   "cell_type": "code",
   "execution_count": 19,
   "metadata": {},
   "outputs": [
    {
     "name": "stdout",
     "output_type": "stream",
     "text": [
      "１．含有缺失值的变量的个数为 75\n",
      "2. 完全缺失的变量个数为 0\n",
      "3. 缺失率大于0的特征有75个\n"
     ]
    }
   ],
   "source": [
    "null_rate,feature_list = null_statistic(total_data)\n",
    "# feature_list"
   ]
  },
  {
   "cell_type": "code",
   "execution_count": 20,
   "metadata": {},
   "outputs": [
    {
     "data": {
      "text/html": [
       "<div>\n",
       "<style scoped>\n",
       "    .dataframe tbody tr th:only-of-type {\n",
       "        vertical-align: middle;\n",
       "    }\n",
       "\n",
       "    .dataframe tbody tr th {\n",
       "        vertical-align: top;\n",
       "    }\n",
       "\n",
       "    .dataframe thead th {\n",
       "        text-align: right;\n",
       "    }\n",
       "</style>\n",
       "<table border=\"1\" class=\"dataframe\">\n",
       "  <thead>\n",
       "    <tr style=\"text-align: right;\">\n",
       "      <th></th>\n",
       "      <th>feature_name</th>\n",
       "      <th>null_rate</th>\n",
       "    </tr>\n",
       "  </thead>\n",
       "  <tbody>\n",
       "    <tr>\n",
       "      <th>57</th>\n",
       "      <td>extensionCode</td>\n",
       "      <td>0.988859</td>\n",
       "    </tr>\n",
       "    <tr>\n",
       "      <th>55</th>\n",
       "      <td>businessStage</td>\n",
       "      <td>0.973595</td>\n",
       "    </tr>\n",
       "    <tr>\n",
       "      <th>48</th>\n",
       "      <td>mon</td>\n",
       "      <td>0.965243</td>\n",
       "    </tr>\n",
       "    <tr>\n",
       "      <th>72</th>\n",
       "      <td>coverCharge</td>\n",
       "      <td>0.961515</td>\n",
       "    </tr>\n",
       "    <tr>\n",
       "      <th>4</th>\n",
       "      <td>product_amount</td>\n",
       "      <td>0.961221</td>\n",
       "    </tr>\n",
       "    <tr>\n",
       "      <th>50</th>\n",
       "      <td>times</td>\n",
       "      <td>0.951840</td>\n",
       "    </tr>\n",
       "    <tr>\n",
       "      <th>49</th>\n",
       "      <td>remarkType</td>\n",
       "      <td>0.951840</td>\n",
       "    </tr>\n",
       "    <tr>\n",
       "      <th>74</th>\n",
       "      <td>signOderNum</td>\n",
       "      <td>0.897598</td>\n",
       "    </tr>\n",
       "    <tr>\n",
       "      <th>44</th>\n",
       "      <td>orderCount</td>\n",
       "      <td>0.895470</td>\n",
       "    </tr>\n",
       "    <tr>\n",
       "      <th>43</th>\n",
       "      <td>meetingCount</td>\n",
       "      <td>0.895470</td>\n",
       "    </tr>\n",
       "    <tr>\n",
       "      <th>42</th>\n",
       "      <td>orderAmount</td>\n",
       "      <td>0.895470</td>\n",
       "    </tr>\n",
       "    <tr>\n",
       "      <th>45</th>\n",
       "      <td>tccs</td>\n",
       "      <td>0.846641</td>\n",
       "    </tr>\n",
       "    <tr>\n",
       "      <th>73</th>\n",
       "      <td>refundOrderSign</td>\n",
       "      <td>0.804686</td>\n",
       "    </tr>\n",
       "    <tr>\n",
       "      <th>2</th>\n",
       "      <td>follow_days</td>\n",
       "      <td>0.715588</td>\n",
       "    </tr>\n",
       "    <tr>\n",
       "      <th>62</th>\n",
       "      <td>lastLoseType</td>\n",
       "      <td>0.579922</td>\n",
       "    </tr>\n",
       "    <tr>\n",
       "      <th>10</th>\n",
       "      <td>avgSignBillDays</td>\n",
       "      <td>0.482551</td>\n",
       "    </tr>\n",
       "    <tr>\n",
       "      <th>40</th>\n",
       "      <td>average_assist_achievement</td>\n",
       "      <td>0.478412</td>\n",
       "    </tr>\n",
       "    <tr>\n",
       "      <th>41</th>\n",
       "      <td>average_assist_profit</td>\n",
       "      <td>0.478412</td>\n",
       "    </tr>\n",
       "    <tr>\n",
       "      <th>60</th>\n",
       "      <td>isCost</td>\n",
       "      <td>0.364192</td>\n",
       "    </tr>\n",
       "    <tr>\n",
       "      <th>71</th>\n",
       "      <td>widelyType</td>\n",
       "      <td>0.343846</td>\n",
       "    </tr>\n",
       "    <tr>\n",
       "      <th>52</th>\n",
       "      <td>allotNumber</td>\n",
       "      <td>0.340756</td>\n",
       "    </tr>\n",
       "    <tr>\n",
       "      <th>59</th>\n",
       "      <td>invalidNumber</td>\n",
       "      <td>0.340709</td>\n",
       "    </tr>\n",
       "    <tr>\n",
       "      <th>67</th>\n",
       "      <td>referral</td>\n",
       "      <td>0.338584</td>\n",
       "    </tr>\n",
       "    <tr>\n",
       "      <th>61</th>\n",
       "      <td>isMind</td>\n",
       "      <td>0.338584</td>\n",
       "    </tr>\n",
       "    <tr>\n",
       "      <th>69</th>\n",
       "      <td>vip</td>\n",
       "      <td>0.338491</td>\n",
       "    </tr>\n",
       "    <tr>\n",
       "      <th>68</th>\n",
       "      <td>uploadType</td>\n",
       "      <td>0.338311</td>\n",
       "    </tr>\n",
       "    <tr>\n",
       "      <th>64</th>\n",
       "      <td>originCode</td>\n",
       "      <td>0.338256</td>\n",
       "    </tr>\n",
       "    <tr>\n",
       "      <th>65</th>\n",
       "      <td>originType</td>\n",
       "      <td>0.338240</td>\n",
       "    </tr>\n",
       "    <tr>\n",
       "      <th>51</th>\n",
       "      <td>addTypeCode</td>\n",
       "      <td>0.338236</td>\n",
       "    </tr>\n",
       "    <tr>\n",
       "      <th>53</th>\n",
       "      <td>businessLocation</td>\n",
       "      <td>0.338236</td>\n",
       "    </tr>\n",
       "    <tr>\n",
       "      <th>54</th>\n",
       "      <td>businessOperate</td>\n",
       "      <td>0.338236</td>\n",
       "    </tr>\n",
       "    <tr>\n",
       "      <th>56</th>\n",
       "      <td>businessStatus</td>\n",
       "      <td>0.338236</td>\n",
       "    </tr>\n",
       "    <tr>\n",
       "      <th>58</th>\n",
       "      <td>followTimes</td>\n",
       "      <td>0.338236</td>\n",
       "    </tr>\n",
       "    <tr>\n",
       "      <th>63</th>\n",
       "      <td>opportunitytypeCode</td>\n",
       "      <td>0.338236</td>\n",
       "    </tr>\n",
       "    <tr>\n",
       "      <th>66</th>\n",
       "      <td>placeCode</td>\n",
       "      <td>0.338236</td>\n",
       "    </tr>\n",
       "    <tr>\n",
       "      <th>70</th>\n",
       "      <td>wayCode</td>\n",
       "      <td>0.338236</td>\n",
       "    </tr>\n",
       "    <tr>\n",
       "      <th>0</th>\n",
       "      <td>call_duration</td>\n",
       "      <td>0.201554</td>\n",
       "    </tr>\n",
       "    <tr>\n",
       "      <th>8</th>\n",
       "      <td>avgIntentCustomerCount</td>\n",
       "      <td>0.151599</td>\n",
       "    </tr>\n",
       "    <tr>\n",
       "      <th>15</th>\n",
       "      <td>performanceRank</td>\n",
       "      <td>0.099249</td>\n",
       "    </tr>\n",
       "    <tr>\n",
       "      <th>46</th>\n",
       "      <td>flagContent</td>\n",
       "      <td>0.082068</td>\n",
       "    </tr>\n",
       "    <tr>\n",
       "      <th>47</th>\n",
       "      <td>flagRemark</td>\n",
       "      <td>0.082068</td>\n",
       "    </tr>\n",
       "    <tr>\n",
       "      <th>11</th>\n",
       "      <td>avgToDoorCount</td>\n",
       "      <td>0.074103</td>\n",
       "    </tr>\n",
       "    <tr>\n",
       "      <th>31</th>\n",
       "      <td>average_cost_price</td>\n",
       "      <td>0.072609</td>\n",
       "    </tr>\n",
       "    <tr>\n",
       "      <th>30</th>\n",
       "      <td>average_business_amount</td>\n",
       "      <td>0.072609</td>\n",
       "    </tr>\n",
       "    <tr>\n",
       "      <th>29</th>\n",
       "      <td>average_payment_amount</td>\n",
       "      <td>0.072609</td>\n",
       "    </tr>\n",
       "    <tr>\n",
       "      <th>28</th>\n",
       "      <td>average_external_cost</td>\n",
       "      <td>0.072609</td>\n",
       "    </tr>\n",
       "    <tr>\n",
       "      <th>27</th>\n",
       "      <td>average_internal_cost</td>\n",
       "      <td>0.072609</td>\n",
       "    </tr>\n",
       "    <tr>\n",
       "      <th>26</th>\n",
       "      <td>average_profit_amount</td>\n",
       "      <td>0.072609</td>\n",
       "    </tr>\n",
       "    <tr>\n",
       "      <th>25</th>\n",
       "      <td>average_performance_amount</td>\n",
       "      <td>0.072609</td>\n",
       "    </tr>\n",
       "    <tr>\n",
       "      <th>39</th>\n",
       "      <td>average_external_cost_orf</td>\n",
       "      <td>0.051230</td>\n",
       "    </tr>\n",
       "    <tr>\n",
       "      <th>37</th>\n",
       "      <td>average_profit</td>\n",
       "      <td>0.051230</td>\n",
       "    </tr>\n",
       "    <tr>\n",
       "      <th>36</th>\n",
       "      <td>average_achievement</td>\n",
       "      <td>0.051230</td>\n",
       "    </tr>\n",
       "    <tr>\n",
       "      <th>38</th>\n",
       "      <td>average_internal_cost_orf</td>\n",
       "      <td>0.051230</td>\n",
       "    </tr>\n",
       "    <tr>\n",
       "      <th>35</th>\n",
       "      <td>average_CALL_1520_1620</td>\n",
       "      <td>0.050691</td>\n",
       "    </tr>\n",
       "    <tr>\n",
       "      <th>34</th>\n",
       "      <td>average_CALL_1400_1500</td>\n",
       "      <td>0.050691</td>\n",
       "    </tr>\n",
       "    <tr>\n",
       "      <th>33</th>\n",
       "      <td>average_CALL_1100_1200</td>\n",
       "      <td>0.050691</td>\n",
       "    </tr>\n",
       "    <tr>\n",
       "      <th>32</th>\n",
       "      <td>average_CALL_0940_1040</td>\n",
       "      <td>0.050691</td>\n",
       "    </tr>\n",
       "    <tr>\n",
       "      <th>20</th>\n",
       "      <td>locked</td>\n",
       "      <td>0.050671</td>\n",
       "    </tr>\n",
       "    <tr>\n",
       "      <th>24</th>\n",
       "      <td>work_age</td>\n",
       "      <td>0.050671</td>\n",
       "    </tr>\n",
       "    <tr>\n",
       "      <th>23</th>\n",
       "      <td>sex</td>\n",
       "      <td>0.050671</td>\n",
       "    </tr>\n",
       "    <tr>\n",
       "      <th>22</th>\n",
       "      <td>rank</td>\n",
       "      <td>0.050671</td>\n",
       "    </tr>\n",
       "    <tr>\n",
       "      <th>21</th>\n",
       "      <td>post</td>\n",
       "      <td>0.050671</td>\n",
       "    </tr>\n",
       "    <tr>\n",
       "      <th>19</th>\n",
       "      <td>age</td>\n",
       "      <td>0.050671</td>\n",
       "    </tr>\n",
       "    <tr>\n",
       "      <th>5</th>\n",
       "      <td>salary_score</td>\n",
       "      <td>0.038779</td>\n",
       "    </tr>\n",
       "    <tr>\n",
       "      <th>14</th>\n",
       "      <td>loanRate</td>\n",
       "      <td>0.038681</td>\n",
       "    </tr>\n",
       "    <tr>\n",
       "      <th>76</th>\n",
       "      <td>avgCallDuration</td>\n",
       "      <td>0.031385</td>\n",
       "    </tr>\n",
       "    <tr>\n",
       "      <th>75</th>\n",
       "      <td>callTimes</td>\n",
       "      <td>0.031385</td>\n",
       "    </tr>\n",
       "    <tr>\n",
       "      <th>18</th>\n",
       "      <td>toDoorRate</td>\n",
       "      <td>0.009788</td>\n",
       "    </tr>\n",
       "    <tr>\n",
       "      <th>16</th>\n",
       "      <td>signBillCount</td>\n",
       "      <td>0.008223</td>\n",
       "    </tr>\n",
       "    <tr>\n",
       "      <th>9</th>\n",
       "      <td>avgRemarkWords</td>\n",
       "      <td>0.001921</td>\n",
       "    </tr>\n",
       "    <tr>\n",
       "      <th>6</th>\n",
       "      <td>avgAddWechatFriendCount</td>\n",
       "      <td>0.001768</td>\n",
       "    </tr>\n",
       "    <tr>\n",
       "      <th>17</th>\n",
       "      <td>signBillRate</td>\n",
       "      <td>0.001580</td>\n",
       "    </tr>\n",
       "    <tr>\n",
       "      <th>7</th>\n",
       "      <td>avgCallCount</td>\n",
       "      <td>0.000775</td>\n",
       "    </tr>\n",
       "    <tr>\n",
       "      <th>12</th>\n",
       "      <td>avgWorkHour</td>\n",
       "      <td>0.000121</td>\n",
       "    </tr>\n",
       "    <tr>\n",
       "      <th>13</th>\n",
       "      <td>behaviorScore</td>\n",
       "      <td>0.000067</td>\n",
       "    </tr>\n",
       "    <tr>\n",
       "      <th>1</th>\n",
       "      <td>customer_id</td>\n",
       "      <td>0.000000</td>\n",
       "    </tr>\n",
       "    <tr>\n",
       "      <th>3</th>\n",
       "      <td>login_name</td>\n",
       "      <td>0.000000</td>\n",
       "    </tr>\n",
       "    <tr>\n",
       "      <th>77</th>\n",
       "      <td>label</td>\n",
       "      <td>0.000000</td>\n",
       "    </tr>\n",
       "  </tbody>\n",
       "</table>\n",
       "</div>"
      ],
      "text/plain": [
       "                  feature_name  null_rate\n",
       "57               extensionCode   0.988859\n",
       "55               businessStage   0.973595\n",
       "48                         mon   0.965243\n",
       "72                 coverCharge   0.961515\n",
       "4               product_amount   0.961221\n",
       "50                       times   0.951840\n",
       "49                  remarkType   0.951840\n",
       "74                 signOderNum   0.897598\n",
       "44                  orderCount   0.895470\n",
       "43                meetingCount   0.895470\n",
       "42                 orderAmount   0.895470\n",
       "45                        tccs   0.846641\n",
       "73             refundOrderSign   0.804686\n",
       "2                  follow_days   0.715588\n",
       "62                lastLoseType   0.579922\n",
       "10             avgSignBillDays   0.482551\n",
       "40  average_assist_achievement   0.478412\n",
       "41       average_assist_profit   0.478412\n",
       "60                      isCost   0.364192\n",
       "71                  widelyType   0.343846\n",
       "52                 allotNumber   0.340756\n",
       "59               invalidNumber   0.340709\n",
       "67                    referral   0.338584\n",
       "61                      isMind   0.338584\n",
       "69                         vip   0.338491\n",
       "68                  uploadType   0.338311\n",
       "64                  originCode   0.338256\n",
       "65                  originType   0.338240\n",
       "51                 addTypeCode   0.338236\n",
       "53            businessLocation   0.338236\n",
       "54             businessOperate   0.338236\n",
       "56              businessStatus   0.338236\n",
       "58                 followTimes   0.338236\n",
       "63         opportunitytypeCode   0.338236\n",
       "66                   placeCode   0.338236\n",
       "70                     wayCode   0.338236\n",
       "0                call_duration   0.201554\n",
       "8       avgIntentCustomerCount   0.151599\n",
       "15             performanceRank   0.099249\n",
       "46                 flagContent   0.082068\n",
       "47                  flagRemark   0.082068\n",
       "11              avgToDoorCount   0.074103\n",
       "31          average_cost_price   0.072609\n",
       "30     average_business_amount   0.072609\n",
       "29      average_payment_amount   0.072609\n",
       "28       average_external_cost   0.072609\n",
       "27       average_internal_cost   0.072609\n",
       "26       average_profit_amount   0.072609\n",
       "25  average_performance_amount   0.072609\n",
       "39   average_external_cost_orf   0.051230\n",
       "37              average_profit   0.051230\n",
       "36         average_achievement   0.051230\n",
       "38   average_internal_cost_orf   0.051230\n",
       "35      average_CALL_1520_1620   0.050691\n",
       "34      average_CALL_1400_1500   0.050691\n",
       "33      average_CALL_1100_1200   0.050691\n",
       "32      average_CALL_0940_1040   0.050691\n",
       "20                      locked   0.050671\n",
       "24                    work_age   0.050671\n",
       "23                         sex   0.050671\n",
       "22                        rank   0.050671\n",
       "21                        post   0.050671\n",
       "19                         age   0.050671\n",
       "5                 salary_score   0.038779\n",
       "14                    loanRate   0.038681\n",
       "76             avgCallDuration   0.031385\n",
       "75                   callTimes   0.031385\n",
       "18                  toDoorRate   0.009788\n",
       "16               signBillCount   0.008223\n",
       "9               avgRemarkWords   0.001921\n",
       "6      avgAddWechatFriendCount   0.001768\n",
       "17                signBillRate   0.001580\n",
       "7                 avgCallCount   0.000775\n",
       "12                 avgWorkHour   0.000121\n",
       "13               behaviorScore   0.000067\n",
       "1                  customer_id   0.000000\n",
       "3                   login_name   0.000000\n",
       "77                       label   0.000000"
      ]
     },
     "execution_count": 20,
     "metadata": {},
     "output_type": "execute_result"
    }
   ],
   "source": [
    "null_rate"
   ]
  },
  {
   "cell_type": "markdown",
   "metadata": {},
   "source": [
    "## 2.6 离散型特征的分布是怎样的"
   ]
  },
  {
   "cell_type": "markdown",
   "metadata": {},
   "source": [
    "### 2.6.1 描述分析"
   ]
  },
  {
   "cell_type": "code",
   "execution_count": 21,
   "metadata": {},
   "outputs": [
    {
     "data": {
      "text/html": [
       "<div>\n",
       "<style scoped>\n",
       "    .dataframe tbody tr th:only-of-type {\n",
       "        vertical-align: middle;\n",
       "    }\n",
       "\n",
       "    .dataframe tbody tr th {\n",
       "        vertical-align: top;\n",
       "    }\n",
       "\n",
       "    .dataframe thead th {\n",
       "        text-align: right;\n",
       "    }\n",
       "</style>\n",
       "<table border=\"1\" class=\"dataframe\">\n",
       "  <thead>\n",
       "    <tr style=\"text-align: right;\">\n",
       "      <th></th>\n",
       "      <th>post</th>\n",
       "      <th>rank</th>\n",
       "      <th>remarkType</th>\n",
       "      <th>addTypeCode</th>\n",
       "      <th>businessLocation</th>\n",
       "      <th>businessOperate</th>\n",
       "      <th>businessStage</th>\n",
       "      <th>businessStatus</th>\n",
       "      <th>extensionCode</th>\n",
       "      <th>isCost</th>\n",
       "      <th>lastLoseType</th>\n",
       "      <th>opportunitytypeCode</th>\n",
       "      <th>originCode</th>\n",
       "      <th>originType</th>\n",
       "      <th>placeCode</th>\n",
       "      <th>wayCode</th>\n",
       "    </tr>\n",
       "  </thead>\n",
       "  <tbody>\n",
       "    <tr>\n",
       "      <th>count</th>\n",
       "      <td>242676</td>\n",
       "      <td>242676</td>\n",
       "      <td>12311</td>\n",
       "      <td>169166</td>\n",
       "      <td>169166</td>\n",
       "      <td>169166</td>\n",
       "      <td>6750</td>\n",
       "      <td>169166</td>\n",
       "      <td>2848</td>\n",
       "      <td>162531</td>\n",
       "      <td>107384</td>\n",
       "      <td>169166</td>\n",
       "      <td>169161</td>\n",
       "      <td>169165</td>\n",
       "      <td>169166</td>\n",
       "      <td>169166</td>\n",
       "    </tr>\n",
       "    <tr>\n",
       "      <th>unique</th>\n",
       "      <td>1</td>\n",
       "      <td>3</td>\n",
       "      <td>3</td>\n",
       "      <td>8</td>\n",
       "      <td>10</td>\n",
       "      <td>32</td>\n",
       "      <td>5</td>\n",
       "      <td>6</td>\n",
       "      <td>6</td>\n",
       "      <td>3</td>\n",
       "      <td>13</td>\n",
       "      <td>6</td>\n",
       "      <td>175</td>\n",
       "      <td>17</td>\n",
       "      <td>13</td>\n",
       "      <td>7</td>\n",
       "    </tr>\n",
       "    <tr>\n",
       "      <th>top</th>\n",
       "      <td>商务顾问</td>\n",
       "      <td>P</td>\n",
       "      <td>返无效</td>\n",
       "      <td>新媒体</td>\n",
       "      <td>个人库</td>\n",
       "      <td>剔除审核超时掉库</td>\n",
       "      <td>首电</td>\n",
       "      <td>剔除待审核</td>\n",
       "      <td>一星</td>\n",
       "      <td>不计算</td>\n",
       "      <td>事业部库</td>\n",
       "      <td>拾回</td>\n",
       "      <td>新媒体</td>\n",
       "      <td>2类</td>\n",
       "      <td>成都</td>\n",
       "      <td>移交</td>\n",
       "    </tr>\n",
       "    <tr>\n",
       "      <th>freq</th>\n",
       "      <td>242676</td>\n",
       "      <td>235318</td>\n",
       "      <td>8977</td>\n",
       "      <td>78677</td>\n",
       "      <td>51423</td>\n",
       "      <td>43197</td>\n",
       "      <td>5402</td>\n",
       "      <td>86512</td>\n",
       "      <td>712</td>\n",
       "      <td>124574</td>\n",
       "      <td>83840</td>\n",
       "      <td>112122</td>\n",
       "      <td>56349</td>\n",
       "      <td>57859</td>\n",
       "      <td>92810</td>\n",
       "      <td>76425</td>\n",
       "    </tr>\n",
       "  </tbody>\n",
       "</table>\n",
       "</div>"
      ],
      "text/plain": [
       "          post    rank remarkType addTypeCode businessLocation  \\\n",
       "count   242676  242676      12311      169166           169166   \n",
       "unique       1       3          3           8               10   \n",
       "top       商务顾问       P        返无效         新媒体              个人库   \n",
       "freq    242676  235318       8977       78677            51423   \n",
       "\n",
       "       businessOperate businessStage businessStatus extensionCode  isCost  \\\n",
       "count           169166          6750         169166          2848  162531   \n",
       "unique              32             5              6             6       3   \n",
       "top           剔除审核超时掉库            首电          剔除待审核            一星     不计算   \n",
       "freq             43197          5402          86512           712  124574   \n",
       "\n",
       "       lastLoseType opportunitytypeCode originCode originType placeCode  \\\n",
       "count        107384              169166     169161     169165    169166   \n",
       "unique           13                   6        175         17        13   \n",
       "top            事业部库                  拾回        新媒体         2类        成都   \n",
       "freq          83840              112122      56349      57859     92810   \n",
       "\n",
       "       wayCode  \n",
       "count   169166  \n",
       "unique       7  \n",
       "top         移交  \n",
       "freq     76425  "
      ]
     },
     "execution_count": 21,
     "metadata": {},
     "output_type": "execute_result"
    }
   ],
   "source": [
    "describe = total_data.describe(include=\"O\")\n",
    "cat_cols = describe.columns\n",
    "describe"
   ]
  },
  {
   "cell_type": "markdown",
   "metadata": {},
   "source": [
    "### 2.6.2 贡献度分析"
   ]
  },
  {
   "cell_type": "code",
   "execution_count": 22,
   "metadata": {},
   "outputs": [],
   "source": [
    "def pivoting_f2target(data,var,target):\n",
    "    \"\"\"查看类别型特征跟分类任务的目标列之间的透视表\"\"\"\n",
    "    pivoting1 = data[[var,target]].groupby([var],as_index = False).mean().sort_values(by = target,ascending = False)\n",
    "    pivoting1[target] = pivoting1[target]*100\n",
    "    \n",
    "    pivoting2 = data[[var,target]].groupby([var],as_index = False).count()\n",
    "    pivoting2.columns =[var,\"总量\"]\n",
    "    \n",
    "    pivoting = pivoting1.merge(pivoting2)\n",
    "    return pivoting"
   ]
  },
  {
   "cell_type": "code",
   "execution_count": 23,
   "metadata": {},
   "outputs": [],
   "source": [
    "# dataset[\"originCode\"] = dataset[\"originCode\"].replace({\"dt01\":\"成都电台9.25\",\"\"})"
   ]
  },
  {
   "cell_type": "code",
   "execution_count": 26,
   "metadata": {},
   "outputs": [
    {
     "name": "stdout",
     "output_type": "stream",
     "text": [
      "26\n",
      "{'extensionCode', 'post', 'opportunitytypeCode', 'remarkType', 'isMind', 'wayCode', 'customer_id', 'originType', 'businessOperate', 'rank', 'sex', 'refundOrderSign', 'isCost', 'vip', 'placeCode', 'lastLoseType', 'businessLocation', 'locked', 'businessStatus', 'login_name', 'addTypeCode', 'businessStage', 'originCode', 'referral', 'widelyType', 'uploadType'}\n",
      "  extensionCode      label   总量\n",
      "0            未知  19.924812  532\n",
      "1            五星   8.641975  486\n",
      "2            一星   7.303371  712\n",
      "3            三星   7.262570  358\n",
      "4            二星   6.976744  516\n",
      "5            四星   4.098361  244\n",
      "   post     label      总量\n",
      "0  商务顾问  3.896966  242676\n",
      "  opportunitytypeCode      label      总量\n",
      "0                二次开发  18.518519      54\n",
      "1                 转介绍  17.348203     807\n",
      "2                 自开发  17.269362    7024\n",
      "3                公司商机  12.407994   43883\n",
      "4                  拾回   1.435936  112122\n",
      "5                智能推送   1.231994    5276\n",
      "  remarkType     label    总量\n",
      "0        防骚扰  2.777778   396\n",
      "1      驳回返无效  1.872022  2938\n",
      "2        返无效  1.470424  8977\n",
      "   isMind     label      总量\n",
      "0     0.0  5.015053  169071\n",
      "1     1.0  0.000000       6\n",
      "  wayCode      label     总量\n",
      "0    自主开发  23.319775   5163\n",
      "1   资源端分配  16.769584  19595\n",
      "2      抢单  11.420455  12320\n",
      "3      移交   2.087013  76425\n",
      "4      拾回   1.903721  47591\n",
      "5    智能推送   1.053284   8070\n",
      "6      未知   0.000000      2\n",
      "   originType      label     总量\n",
      "0          顶峰  10.067114    149\n",
      "1         转介绍   8.337787   1871\n",
      "2          4类   7.920608   5391\n",
      "3         自开发   6.301918  22993\n",
      "4       平台和营运   6.110823   3862\n",
      "5          3类   5.513747  26842\n",
      "6          5类   5.504038   3343\n",
      "7          2类   5.288719  57859\n",
      "8        网推3类   3.860512  11786\n",
      "9        网推4类   3.650680   1397\n",
      "10       网推2类   3.408538  26727\n",
      "11       网推5类   2.149682   1256\n",
      "12       小顶金融   1.020408     98\n",
      "13         未知   0.591949   5068\n",
      "14         拾回   0.432900    231\n",
      "15        知易声   0.000000      2\n",
      "16         1类   0.000000    290\n",
      "   businessOperate      label     总量\n",
      "0               签单  57.834953   7307\n",
      "1             移交商务  14.117647    340\n",
      "2               跟进   9.002386  36046\n",
      "3             拾回重分   5.555556     18\n",
      "4        电销客户共享库拾回   4.901961    102\n",
      "5             同意剔除   1.345291   1115\n",
      "6           剔除审核通过   1.089952  31928\n",
      "7            剔除待审核   0.977748   2966\n",
      "8            拾回自跟进   0.922409   1843\n",
      "9               剔除   0.897666   6127\n",
      "10        剔除审核超时掉库   0.733847  43197\n",
      "11            智能推送   0.708104   3813\n",
      "12         超期未跟进掉库   0.645521  12548\n",
      "13        移交超时跟进掉库   0.576037    868\n",
      "14            拨打隐藏   0.428012  10981\n",
      "15       指定天数未签单掉库   0.374883   1067\n",
      "16           未连跟掉库   0.305954   4249\n",
      "17              隐藏   0.000000     94\n",
      "18             返无效   0.000000      2\n",
      "19     返无效驳回超期跟进掉库   0.000000    512\n",
      "20           资源端剔除   0.000000     18\n",
      "21            隐藏到期   0.000000    532\n",
      "22            超期拾回   0.000000      4\n",
      "23        电销超时分配掉库   0.000000     33\n",
      "24           自开发新增   0.000000     26\n",
      "25         空号错号返无效   0.000000     15\n",
      "26        离职移交超时掉库   0.000000     81\n",
      "27            电销分配   0.000000      3\n",
      "28           未首电掉库   0.000000      2\n",
      "29              未知   0.000000      2\n",
      "30           同意返无效   0.000000   3324\n",
      "31           驳回返无效   0.000000      3\n",
      "  rank     label      总量\n",
      "0    L  7.570423     568\n",
      "1    P  3.891330  235318\n",
      "2   P0  3.784978    6790\n",
      "   sex     label      总量\n",
      "0  1.0  3.988933  145653\n",
      "1  0.0  3.758903   97023\n",
      "   refundOrderSign      label     总量\n",
      "0              0.0  29.655074  27948\n",
      "1              1.0   3.894449  21980\n",
      "  isCost      label      总量\n",
      "0   计算成本  13.238445   37799\n",
      "1     未知   8.227848     158\n",
      "2    不计算   2.671504  124574\n",
      "   vip      label      总量\n",
      "0  1.0  14.191853    1522\n",
      "1  0.0   4.930809  167579\n",
      "   placeCode      label     总量\n",
      "0         朝阳  15.538911   7877\n",
      "1         杭州   9.131534  17007\n",
      "2         重庆   7.974516  18835\n",
      "3         佛山   4.878049   2583\n",
      "4         武汉   4.581576  10193\n",
      "5         海淀   4.370180   2334\n",
      "6         上海   4.164743  10829\n",
      "7         成都   3.078332  92810\n",
      "8         广州   3.026197   6642\n",
      "9         东莞   0.000000     35\n",
      "10       石家庄   0.000000      9\n",
      "11        郑州   0.000000      3\n",
      "12        长沙   0.000000      9\n",
      "   lastLoseType      label     总量\n",
      "0           经理库  23.733333    750\n",
      "1           隐藏库  11.540715   1707\n",
      "2           剔除库  10.526316     19\n",
      "3           电销库   3.869969    646\n",
      "4           部门库   3.448276     87\n",
      "5           公海库   2.391171   1631\n",
      "6          事业部库   1.620945  83840\n",
      "7           个人库   0.956720  13170\n",
      "8           无效库   0.654545   5500\n",
      "9           业态库   0.000000     11\n",
      "10        同意返无效   0.000000     18\n",
      "11      空号错号返无效   0.000000      3\n",
      "12        资源端剔除   0.000000      2\n",
      "  businessLocation      label     总量\n",
      "0              资源库  16.666667     12\n",
      "1              个人库  14.476013  51423\n",
      "2              经理库   4.545455     66\n",
      "3              废弃库   1.312620  40682\n",
      "4              隐藏库   1.117541  35077\n",
      "5             事业部库   0.321212  33000\n",
      "6              公海库   0.031939   6262\n",
      "7              业态库   0.000000      4\n",
      "8              无效库   0.000000   2516\n",
      "9              部门库   0.000000    124\n",
      "   locked     label      总量\n",
      "0     0.0  3.896966  242676\n",
      "  businessStatus      label     总量\n",
      "0            已签单  39.953362  18011\n",
      "1          部门待分配   4.687500     64\n",
      "2            待分配   3.225806     62\n",
      "3          剔除待审核   0.921259  86512\n",
      "4            跟进中   0.755888  60591\n",
      "5          首电待跟进   0.687723   3926\n",
      "  addTypeCode      label     总量\n",
      "0          网推  11.882243   7507\n",
      "1         自开发  10.802230  12914\n",
      "2         转介绍   9.203540   1695\n",
      "3          网运   7.093687  32395\n",
      "4          营运   7.054525   3558\n",
      "5         新媒体   3.914740  78677\n",
      "6         小顶网   1.269341  32379\n",
      "7        小顶金融   0.000000     41\n",
      "  businessStage      label    总量\n",
      "0         上门未签单  25.000000    20\n",
      "1            咨询  17.146974   694\n",
      "2            意向   7.223476   443\n",
      "3            犹豫   4.188482   191\n",
      "4            首电   1.888190  5402\n",
      "                originCode      label     总量\n",
      "0                 成都电台9.25  60.000000      5\n",
      "1                     成都电梯  30.000000     10\n",
      "2                 WiFi万能钥匙  22.222222      9\n",
      "3                    360移动  22.222222     45\n",
      "4                    360pc  20.634921     63\n",
      "5                      自开发  19.427908   6887\n",
      "6                  商务二次自开发  18.055556     72\n",
      "7                      朋友圈  16.666667      6\n",
      "8                      广点通  12.917492  15150\n",
      "9                     百度移动  12.342784   4691\n",
      "10                    今日头条  12.255687   6242\n",
      "11                    电话推广  11.885099   2785\n",
      "12                  营运电话咨询  10.916179    513\n",
      "13                     CPA  10.416667    144\n",
      "14                    搜狗pc  10.344828     29\n",
      "15                    百度pc  10.000000    150\n",
      "16                    搜狗移动   9.574468    470\n",
      "17                      神马   9.553159   1298\n",
      "18                    小顶金融   9.137056    197\n",
      "19                   营运自开发   8.987161    701\n",
      "20                   营运自媒体   8.333333     12\n",
      "21                     转介绍   8.315565   1876\n",
      "22         【重庆】电台95.5（已禁用）   7.692308     13\n",
      "23                  营运在线咨询   7.393715   1082\n",
      "24               地铁广告（已禁用）   7.142857     14\n",
      "25                   营运360   6.325301    332\n",
      "26                    其他渠道   4.901961    102\n",
      "27                    营运其他   4.545455     22\n",
      "28                     新媒体   3.591900  56349\n",
      "29              无法确定渠道(禁用)   2.941176     34\n",
      "30                 营运第三方渠道   2.941176     34\n",
      "31               集团微信（已禁用）   2.666667     75\n",
      "32                    营运表单   2.439024    164\n",
      "33                重庆电台95.5   2.325581     43\n",
      "34                  网推融资电话   2.231668    941\n",
      "35               电梯视频（已禁用）   2.222222     45\n",
      "36               电话咨询（已禁用）   2.173913     92\n",
      "37                 表单导入（禁）   2.083333     48\n",
      "38                   商务自开发   1.920768    833\n",
      "39                      网推   1.784525  22527\n",
      "40              SEM推广（已禁用）   1.704545    176\n",
      "41                 SEM竞价推广   1.671891   5742\n",
      "42             广泛资源开发（已禁用）   1.612903    124\n",
      "43                    成都地铁   1.298701     77\n",
      "44                  自开发（禁）   1.246106    321\n",
      "45                重庆电台88.1   1.149425     87\n",
      "46            小顶网网络咨询（已禁用）   1.120448    357\n",
      "47               电台其他（已禁用）   1.063830    188\n",
      "48        【成都】电台101.7（已禁用）   1.041667    192\n",
      "49             新媒体事业部(已禁用)   0.978126  16869\n",
      "50                自开发（已禁用）   0.847458    118\n",
      "51            资源推广事业部(已禁用)   0.839092   4052\n",
      "52         【成都】电台90.0（已禁用）   0.735294    136\n",
      "53                    线索转化   0.686752   4514\n",
      "54               百度移动（已禁用）   0.623701   1443\n",
      "55                    百度PC   0.609756    328\n",
      "56                 电话咨询（禁）   0.485437    206\n",
      "57                      未知   0.478469    418\n",
      "58                 其它（已禁用）   0.475059   1684\n",
      "59                   电话推广1   0.448682   1783\n",
      "60                   电话推广2   0.362976    551\n",
      "61               无法确定（已禁用）   0.305810   1962\n",
      "62               百度PC（已禁用）   0.285714    350\n",
      "63             自主开发资源（已禁用）   0.166667    600\n",
      "64                     第三方   0.000000      1\n",
      "65                   电话推广3   0.000000      4\n",
      "66              第三方推广（已禁用）   0.000000      3\n",
      "67                 神马（已禁用）   0.000000    105\n",
      "68              电话推广2（已禁用）   0.000000      1\n",
      "69                     知易声   0.000000      1\n",
      "70              电话推广1（已禁用）   0.000000      2\n",
      "71              第三方平台（已禁用）   0.000000      3\n",
      "72                   360PC   0.000000    127\n",
      "73            第三方渠道资源（已禁用）   0.000000     34\n",
      "74                 网推互联网电话   0.000000      1\n",
      "75                非竞价推广（禁）   0.000000    127\n",
      "76             非SEM推广（已禁用）   0.000000     13\n",
      "77             集团资源开发（已禁用）   0.000000     17\n",
      "78              集团微信端（已禁用）   0.000000      1\n",
      "79            集团内部转介绍（已禁用）   0.000000      3\n",
      "80             重庆轻轨视频（已禁用）   0.000000      2\n",
      "81                    重庆轻轨   0.000000     12\n",
      "82                    重庆电梯   0.000000     23\n",
      "83                重庆电台96.8   0.000000     11\n",
      "84           重庆电台95.5（已禁用）   0.000000      3\n",
      "85                重庆电台93.8   0.000000     29\n",
      "86               重庆电台101.5   0.000000     10\n",
      "87                转介绍（已禁用）   0.000000      1\n",
      "88             购买导入资源（已禁用）   0.000000     27\n",
      "89              营运自开发（已禁用）   0.000000      3\n",
      "90                    营运神马   0.000000      2\n",
      "91                    营运搜狗   0.000000      5\n",
      "92                      营运   0.000000      4\n",
      "93               电梯广告（已禁用）   0.000000      3\n",
      "94               自主推广（已禁用）   0.000000     15\n",
      "95             自主开发其它（已禁用）   0.000000    216\n",
      "96                老客户（已禁用）   0.000000     19\n",
      "97                     老客户   0.000000      3\n",
      "98               网络推广（已禁用）   0.000000     78\n",
      "99                    网易新闻   0.000000      1\n",
      "100                 网推资质电话   0.000000      3\n",
      "101                 网推工商电话   0.000000      3\n",
      "102              电梯框架（已禁用）   0.000000      5\n",
      "103              朋友介绍（已禁用）   0.000000     25\n",
      "104          电台访谈94.0（已禁用）   0.000000      1\n",
      "105                  其他（禁）   0.000000     58\n",
      "106        【重庆】电台93.8（已禁用）   0.000000      4\n",
      "107          【重庆】轻轨视频（已禁用）   0.000000      1\n",
      "108              今日头条（已禁用）   0.000000     63\n",
      "109                公交广告（禁）   0.000000      1\n",
      "110                公交（已禁用）   0.000000     11\n",
      "111                     其他   0.000000    132\n",
      "112            其它导入资源（已禁用）   0.000000     30\n",
      "113        【武汉】电台89.6（已禁用）   0.000000      2\n",
      "114            品牌传播推广（已禁用）   0.000000     20\n",
      "115               品牌词（已禁用）   0.000000      2\n",
      "116                在线咨询（禁）   0.000000    257\n",
      "117       地铁2号线视频（成都）（已禁用）   0.000000      1\n",
      "118       地铁4号线视频（成都）（已禁用）   0.000000      1\n",
      "119            地铁导流挡板（已禁用）   0.000000      2\n",
      "120        【重庆】电台88.1（已禁用）   0.000000      6\n",
      "121        【成都】电台97.0（已禁用）   0.000000      5\n",
      "122              外部资源（已禁用）   0.000000      7\n",
      "123       【广州】电台103.6（已禁用）   0.000000      2\n",
      "124             360移动（已禁用）   0.000000     11\n",
      "125              58同城（已禁用）   0.000000    162\n",
      "126                UC（已禁用）   0.000000      1\n",
      "127               sem360pc   0.000000      1\n",
      "128               seo网站（禁）   0.000000      4\n",
      "129        【北京】电台96.9（已禁用）   0.000000      6\n",
      "130       【广州】电台106.1（已禁用）   0.000000      1\n",
      "131        【成都】电台95.5（已禁用）   0.000000      1\n",
      "132        【广州】电台88.0（已禁用）   0.000000      8\n",
      "133        【广州】电台97.4（已禁用）   0.000000      1\n",
      "134  【成都】地铁视频1/2/3/4号（已禁用）   0.000000     45\n",
      "135       【成都】电台102.6（已禁用）   0.000000      2\n",
      "136       【成都】电台106.1（已禁用）   0.000000      3\n",
      "137        【成都】电台94.0（已禁用）   0.000000      3\n",
      "138            地铁视频其它（已禁用）   0.000000      6\n",
      "139               小顶网(已禁用)   0.000000      3\n",
      "140          电台访谈90.0（已禁用）   0.000000     36\n",
      "141                  武汉（禁）   0.000000      7\n",
      "142              搜狗移动（已禁用）   0.000000     41\n",
      "143               新媒体（已禁用）   0.000000      3\n",
      "144                   朋友介绍   0.000000      7\n",
      "145             360PC（已禁用）   0.000000     65\n",
      "146             朋友圈推广（已禁用）   0.000000      3\n",
      "147              武汉电台101.8   0.000000      5\n",
      "148             流转库拾回（已禁用）   0.000000     22\n",
      "149                   搜狗PC   0.000000     40\n",
      "150           流转库资源开发（已禁用）   0.000000     48\n",
      "151       电台105.2（广州）（已禁用）   0.000000      4\n",
      "152            电台89.8（已禁用）   0.000000      1\n",
      "153            电台94.2（已禁用）   0.000000      1\n",
      "154              电台硬广（已禁用）   0.000000     14\n",
      "155         电台访谈101.7（已禁用）   0.000000    100\n",
      "156              搜狗PC（已禁用）   0.000000     43\n",
      "157                  成都（禁）   0.000000      4\n",
      "158           小顶网电话咨询（已禁用）   0.000000     34\n",
      "159            成都地铁视频（已禁用）   0.000000      4\n",
      "160               小顶网（已禁用）   0.000000      2\n",
      "161                平台推广（禁）   0.000000      3\n",
      "162             平台网资源（已禁用）   0.000000      2\n",
      "163         广州电台106.1（已禁用）   0.000000      1\n",
      "164          广泛资源再次开发（已禁用）   0.000000      4\n",
      "165              广泛资源（已禁用）   0.000000    429\n",
      "166              成都电台101.7   0.000000      1\n",
      "167          成都电台访谈92.5（禁）   0.000000      2\n",
      "168               成都电台90.0   0.000000      4\n",
      "169          成都电台90.0（已禁用）   0.000000      7\n",
      "170            成都电台92.5（禁）   0.000000     25\n",
      "171               成都电台94.6   0.000000      1\n",
      "172            成都电台94.6（禁）   0.000000      1\n",
      "173          成都电台95.5（已禁用）   0.000000      1\n",
      "174                     顶峰   0.000000      3\n",
      "   referral     label      总量\n",
      "0       1.0  9.236234    1689\n",
      "1       0.0  4.972280  167388\n",
      "   widelyType     label      总量\n",
      "0         0.0  5.196707  159120\n",
      "1         3.0  3.767123    3212\n",
      "2         2.0  3.009259     432\n",
      "3         1.0  0.664251    4968\n",
      "   uploadType      label      总量\n",
      "0         2.0  14.076772   54082\n",
      "1         1.0   0.755225  115065\n"
     ]
    }
   ],
   "source": [
    "cat_columns = set(cat_cols)|set(data_cat_cols)\n",
    "print(len(cat_columns))\n",
    "print(cat_columns)\n",
    "for col in [\"customer_id\",\"login_name\"]:\n",
    "    cat_columns.remove(col)\n",
    "for col in cat_columns:\n",
    "    print(pivoting_f2target(total_data,col,\"label\"))"
   ]
  },
  {
   "cell_type": "markdown",
   "metadata": {},
   "source": [
    "1. post均为商务顾问，所以该字段可以删除\n",
    "2. 商机所在位置businessLocation中，业态库、无效库、部门库的成单率过低，可以对这几个值进行再合并\n",
    "3. 商务是否离职：locked大部分为0，所以该字段可以删除\n",
    "4. 最新掉库类型---最新一次从哪里掉库，可以看到除了隐藏库的数量不少，而且成单率挺高的。而个人库、事业部库、公共库、无效库的商机数量很多，但是成单率过低。可以对其他值进行再合并\n",
    "5. 看起来跟目标列相关的字段有：vip、lastLoseType,addTypeCode、"
   ]
  },
  {
   "cell_type": "markdown",
   "metadata": {},
   "source": [
    "# 3. 假设"
   ]
  },
  {
   "cell_type": "markdown",
   "metadata": {},
   "source": [
    "## 3.1 相关性假设"
   ]
  },
  {
   "cell_type": "code",
   "execution_count": null,
   "metadata": {},
   "outputs": [],
   "source": [
    "category_columns = ['post','rank','sex','remarkType','addTypeCode','businessLocation',\n",
    "                   'businessOperate','businessStage','businessStatus','extensionCode',\n",
    "                    'lastLoseType','opportunitytypeCode','originCode','originType',\n",
    "                    'placeCode','uploadType','wayCode','widelyType']\n",
    "len(category_columns)"
   ]
  },
  {
   "cell_type": "code",
   "execution_count": null,
   "metadata": {},
   "outputs": [],
   "source": []
  },
  {
   "cell_type": "code",
   "execution_count": null,
   "metadata": {},
   "outputs": [],
   "source": []
  },
  {
   "cell_type": "code",
   "execution_count": null,
   "metadata": {},
   "outputs": [],
   "source": []
  },
  {
   "cell_type": "code",
   "execution_count": null,
   "metadata": {},
   "outputs": [],
   "source": []
  },
  {
   "cell_type": "code",
   "execution_count": null,
   "metadata": {},
   "outputs": [],
   "source": []
  },
  {
   "cell_type": "markdown",
   "metadata": {},
   "source": [
    "## 生成训练label，去掉无用字段"
   ]
  },
  {
   "cell_type": "code",
   "execution_count": null,
   "metadata": {},
   "outputs": [],
   "source": [
    "\n",
    "total_data.drop(['call_duration','customer_id','follow_days',\n",
    "                 'login_name','product_amount','salary_score'],axis =1,inplace=True)"
   ]
  },
  {
   "cell_type": "markdown",
   "metadata": {},
   "source": [
    "## 提取商务工号，商机id，作为查询索引，同时在数据中删除该列"
   ]
  },
  {
   "cell_type": "code",
   "execution_count": null,
   "metadata": {},
   "outputs": [],
   "source": [
    "user_list = list(user_data['login_name'])\n",
    "bus_list = list(bus_data['customer_id'])\n",
    "user_data.drop('login_name',axis = 1, inplace = True)\n",
    "bus_data.drop('customer_id',axis=1,inplace=True)"
   ]
  },
  {
   "cell_type": "markdown",
   "metadata": {},
   "source": [
    "## 统计正负样本数量，对负样本进行采样"
   ]
  },
  {
   "cell_type": "code",
   "execution_count": null,
   "metadata": {},
   "outputs": [],
   "source": [
    "total_data_po = total_data.loc[total_data['label']==1]\n",
    "total_data_ne = total_data.loc[total_data['label']==0]"
   ]
  },
  {
   "cell_type": "code",
   "execution_count": null,
   "metadata": {},
   "outputs": [],
   "source": [
    "#控制负样本与正样本的比例为10:1\n",
    "samples = total_data_po.shape[0]*9\n",
    "total_data_ne_sample = total_data_ne.sample(samples)"
   ]
  },
  {
   "cell_type": "code",
   "execution_count": null,
   "metadata": {},
   "outputs": [],
   "source": [
    "total_data_sample = pd.concat((total_data_ne_sample,total_data_po),axis=0)\n",
    "total_data_sample = total_data_sample.sample(frac=1)"
   ]
  },
  {
   "cell_type": "code",
   "execution_count": null,
   "metadata": {},
   "outputs": [],
   "source": [
    "total_data_sample.head(10)"
   ]
  },
  {
   "cell_type": "markdown",
   "metadata": {},
   "source": [
    "## 对特征进行归类，分为连续型，类别型和布尔型"
   ]
  },
  {
   "cell_type": "code",
   "execution_count": null,
   "metadata": {},
   "outputs": [],
   "source": [
    "continues_ccolumns = ['avgAddWechatFriendCount','avgCallCount','avgIntentCustomerCount','avgRemarkWords',\n",
    "                     'avgSignBillDays','avgToDoorCount','avgWorkHour','behaviorScore','loanRate','performanceRank',\n",
    "                     'signBillCount','signBillRate','toDoorRate','age','work_age','average_performance_amount',\n",
    "                     'average_profit_amount','average_internal_cost','average_external_cost','average_payment_amount',\n",
    "                     'average_business_amount','average_cost_price','average_CALL_0940_1040','average_CALL_1100_1200',\n",
    "                     'average_CALL_1400_1500','average_CALL_1520_1620','average_achievement','average_profit',\n",
    "                     'average_internal_cost_orf','average_external_cost_orf','average_assist_achievement',\n",
    "                     'average_assist_profit','orderAmount','meetingCount','orderCount','tccs','flagContent',\n",
    "                     'flagRemark','mon','times','allotNumber','followTimes','invalidNumber','signOderNum',\n",
    "                     'coverCharge','callTimes','avgCallDuration']"
   ]
  },
  {
   "cell_type": "code",
   "execution_count": null,
   "metadata": {},
   "outputs": [],
   "source": [
    "category_columns = ['post','rank','sex','remarkType','addTypeCode','businessLocation',\n",
    "                   'businessOperate','businessStage','businessStatus','extensionCode',\n",
    "                    'lastLoseType','opportunitytypeCode','originCode','originType',\n",
    "                    'placeCode','uploadType','wayCode','widelyType']"
   ]
  },
  {
   "cell_type": "code",
   "execution_count": null,
   "metadata": {},
   "outputs": [],
   "source": [
    "bool_columns = ['locked','isCost','isMind','referral','vip','refundOrderSign']"
   ]
  },
  {
   "cell_type": "code",
   "execution_count": null,
   "metadata": {},
   "outputs": [],
   "source": [
    "len(continues_ccolumns)"
   ]
  },
  {
   "cell_type": "markdown",
   "metadata": {},
   "source": [
    "## 初步筛选无用特征"
   ]
  },
  {
   "cell_type": "code",
   "execution_count": null,
   "metadata": {
    "scrolled": false
   },
   "outputs": [],
   "source": [
    "# 离散型变量,如果某一取值的数量超过了95%，则舍弃该变量\n",
    "remove = set()\n",
    "print('处理类别型变量')\n",
    "for k in category_columns+bool_columns:\n",
    "    counts = total_data_sample[k].value_counts()\n",
    "    total_num = sum(counts)\n",
    "    for v in counts:\n",
    "        if v/total_num>=0.95:\n",
    "            print(k)\n",
    "            print(counts)\n",
    "            remove.add(k)\n",
    "# 连续型变量,如果其下四分位数=中位数=上四分位数，则舍弃该变量\n",
    "print('处理连续型变量')\n",
    "for k in continues_ccolumns:\n",
    "    describe = total_data_sample[k].describe()\n",
    "    if describe[4]==describe[6]:\n",
    "        remove.add(k)\n",
    "        print(k,describe[4],describe[6])\n",
    "# 去掉缺失率大于80%的变量\n",
    "print('处理缺失率较大的变量')\n",
    "for k in total_data_sample.keys():\n",
    "    miss = total_data[k].isna().sum()/total_data.shape[0]\n",
    "    if miss>0.8:\n",
    "        remove.add(k)\n",
    "        print(k,':',miss)\n",
    "# 去掉商机地区信息\n",
    "remove.add('placeCode')"
   ]
  },
  {
   "cell_type": "code",
   "execution_count": null,
   "metadata": {},
   "outputs": [],
   "source": [
    "user_remove = []\n",
    "bus_remove = []\n",
    "for k in remove:\n",
    "    if k in user_data.keys():\n",
    "        user_remove.append(k)\n",
    "    else:\n",
    "        bus_remove.append(k)\n",
    "total_data_sample.drop(list(remove),axis=1,inplace=True)\n",
    "user_data.drop(user_remove,axis=1,inplace=True)\n",
    "bus_data.drop(bus_remove,axis=1,inplace=True)"
   ]
  },
  {
   "cell_type": "code",
   "execution_count": null,
   "metadata": {},
   "outputs": [],
   "source": [
    "remove"
   ]
  },
  {
   "cell_type": "markdown",
   "metadata": {},
   "source": [
    "检查历史数据，商务数据，商机数据标签正确性"
   ]
  },
  {
   "cell_type": "code",
   "execution_count": null,
   "metadata": {},
   "outputs": [],
   "source": [
    "list(total_data_sample.keys()[:-1]) == list(user_data.keys())+list(bus_data.keys())"
   ]
  },
  {
   "cell_type": "code",
   "execution_count": null,
   "metadata": {},
   "outputs": [],
   "source": [
    "print(user_data.shape)\n",
    "print(bus_data.shape)"
   ]
  },
  {
   "cell_type": "markdown",
   "metadata": {},
   "source": [
    "## 简单处理缺失值"
   ]
  },
  {
   "cell_type": "code",
   "execution_count": null,
   "metadata": {},
   "outputs": [],
   "source": [
    "import sklearn\n",
    "import pickle\n",
    "from sklearn.linear_model import LogisticRegression\n",
    "from sklearn import metrics"
   ]
  },
  {
   "cell_type": "code",
   "execution_count": null,
   "metadata": {},
   "outputs": [],
   "source": [
    "#连续变量用0填充,类别型变量全部用‘None’填充\n",
    "def fillna(df):\n",
    "    for k in df.keys():\n",
    "        if k in continues_ccolumns:\n",
    "            df[k] = df[k].fillna(0)\n",
    "        else:\n",
    "            df[k] = df[k].fillna('None')"
   ]
  },
  {
   "cell_type": "code",
   "execution_count": null,
   "metadata": {},
   "outputs": [],
   "source": [
    "fillna(total_data_sample)\n",
    "fillna(user_data)\n",
    "fillna(bus_data)"
   ]
  },
  {
   "cell_type": "markdown",
   "metadata": {},
   "source": [
    "## 数据预处理，连续变量采用minmax，类别型变量采用onehot"
   ]
  },
  {
   "cell_type": "code",
   "execution_count": null,
   "metadata": {},
   "outputs": [],
   "source": [
    "# 对连续变量进行区间缩放并存放中间值,对类别型变量进行独热编码并存放中间值\n",
    "continues_dict = {}\n",
    "category_dict = {}\n",
    "for k in total_data_sample.keys():\n",
    "    if k in continues_ccolumns:\n",
    "        button = min(total_data_sample[k])\n",
    "        top = max(total_data_sample[k])\n",
    "        total_data_sample[k] = total_data_sample[k].apply(lambda x:(x-button)/(top-button))\n",
    "        continues_dict[k] = (button,top)\n",
    "    elif k in category_columns or k in bool_columns:\n",
    "        category_dict[k] = list(total_data_sample[k].unique())\n",
    "        for v in category_dict[k]:\n",
    "            total_data_sample[k+'_'+str(v)] = total_data_sample[k].apply(lambda x:1 if x ==v else 0)\n",
    "        total_data_sample.drop(k,axis=1,inplace=True)"
   ]
  },
  {
   "cell_type": "code",
   "execution_count": null,
   "metadata": {},
   "outputs": [],
   "source": [
    "model = LogisticRegression(C=0.1,penalty='l1',multi_class='ovr',tol=1e-5,n_jobs=4)"
   ]
  },
  {
   "cell_type": "code",
   "execution_count": null,
   "metadata": {},
   "outputs": [],
   "source": [
    "label = total_data_sample['label']\n",
    "total_data_sample.drop('label',axis = 1,inplace=True)\n",
    "lenth = total_data_sample.shape[0]"
   ]
  },
  {
   "cell_type": "code",
   "execution_count": null,
   "metadata": {},
   "outputs": [],
   "source": [
    "train_data = total_data_sample[:int(0.8*lenth)]\n",
    "train_label = label[:int(0.8*lenth)]\n",
    "test_data = total_data_sample[int(0.8*lenth):]\n",
    "test_label = label[int(0.8*lenth):]"
   ]
  },
  {
   "cell_type": "code",
   "execution_count": null,
   "metadata": {},
   "outputs": [],
   "source": [
    "model.fit(train_data,train_label)"
   ]
  },
  {
   "cell_type": "code",
   "execution_count": null,
   "metadata": {},
   "outputs": [],
   "source": [
    "y_pre = model.predict(test_data)"
   ]
  },
  {
   "cell_type": "code",
   "execution_count": null,
   "metadata": {},
   "outputs": [],
   "source": [
    "metrics.recall_score(test_label,y_pre)"
   ]
  },
  {
   "cell_type": "code",
   "execution_count": null,
   "metadata": {},
   "outputs": [],
   "source": [
    "y_train = model.predict(train_data)"
   ]
  },
  {
   "cell_type": "code",
   "execution_count": null,
   "metadata": {},
   "outputs": [],
   "source": [
    "metrics.recall_score(train_label,y_train)"
   ]
  },
  {
   "cell_type": "code",
   "execution_count": null,
   "metadata": {},
   "outputs": [],
   "source": [
    "test_data_bus = "
   ]
  },
  {
   "cell_type": "code",
   "execution_count": null,
   "metadata": {},
   "outputs": [],
   "source": []
  },
  {
   "cell_type": "code",
   "execution_count": null,
   "metadata": {},
   "outputs": [],
   "source": []
  },
  {
   "cell_type": "markdown",
   "metadata": {},
   "source": [
    "分别提取正负样本，并对副样本进行抽样"
   ]
  },
  {
   "cell_type": "code",
   "execution_count": null,
   "metadata": {},
   "outputs": [],
   "source": [
    "total_data_po = total_data.loc[total_data['label']==1]\n",
    "total_data_ne = total_data.loc[total_data['label']==0]"
   ]
  },
  {
   "cell_type": "code",
   "execution_count": null,
   "metadata": {},
   "outputs": [],
   "source": [
    "total_data_po.shape[0]/total_data_ne.shape[0]"
   ]
  },
  {
   "cell_type": "code",
   "execution_count": null,
   "metadata": {},
   "outputs": [],
   "source": []
  },
  {
   "cell_type": "code",
   "execution_count": null,
   "metadata": {},
   "outputs": [],
   "source": []
  },
  {
   "cell_type": "code",
   "execution_count": null,
   "metadata": {},
   "outputs": [],
   "source": []
  },
  {
   "cell_type": "code",
   "execution_count": null,
   "metadata": {},
   "outputs": [],
   "source": []
  },
  {
   "cell_type": "code",
   "execution_count": null,
   "metadata": {},
   "outputs": [],
   "source": []
  },
  {
   "cell_type": "code",
   "execution_count": null,
   "metadata": {},
   "outputs": [],
   "source": []
  },
  {
   "cell_type": "code",
   "execution_count": null,
   "metadata": {},
   "outputs": [],
   "source": []
  },
  {
   "cell_type": "code",
   "execution_count": null,
   "metadata": {},
   "outputs": [],
   "source": []
  },
  {
   "cell_type": "code",
   "execution_count": null,
   "metadata": {
    "scrolled": true
   },
   "outputs": [],
   "source": [
    "sc = schdule_load()\n",
    "sc.main(run, 5)"
   ]
  },
  {
   "cell_type": "code",
   "execution_count": null,
   "metadata": {},
   "outputs": [],
   "source": []
  },
  {
   "cell_type": "code",
   "execution_count": null,
   "metadata": {},
   "outputs": [],
   "source": []
  }
 ],
 "metadata": {
  "kernelspec": {
   "display_name": "Python 3",
   "language": "python",
   "name": "python3"
  },
  "language_info": {
   "codemirror_mode": {
    "name": "ipython",
    "version": 3
   },
   "file_extension": ".py",
   "mimetype": "text/x-python",
   "name": "python",
   "nbconvert_exporter": "python",
   "pygments_lexer": "ipython3",
   "version": "3.6.8"
  },
  "toc": {
   "base_numbering": 1.0,
   "nav_menu": {},
   "number_sections": true,
   "sideBar": true,
   "skip_h1_title": false,
   "title_cell": "Table of Contents",
   "title_sidebar": "Contents",
   "toc_cell": false,
   "toc_position": {},
   "toc_section_display": true,
   "toc_window_display": false
  }
 },
 "nbformat": 4,
 "nbformat_minor": 2
}
