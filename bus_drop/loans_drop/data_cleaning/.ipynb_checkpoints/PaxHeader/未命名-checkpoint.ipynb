79 path=loans_drop/data_cleaning/.ipynb_checkpoints/未命名-checkpoint.ipynb
20 ctime=1564113253
20 atime=1564113322
23 SCHILY.dev=16777221
23 SCHILY.ino=11854226
18 SCHILY.nlink=1
